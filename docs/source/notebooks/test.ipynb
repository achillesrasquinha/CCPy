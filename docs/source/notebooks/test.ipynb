{
 "cells": [
  {
   "cell_type": "code",
   "execution_count": 1,
   "metadata": {},
   "outputs": [],
   "source": [
    "import ccapi"
   ]
  },
  {
   "cell_type": "code",
   "execution_count": 2,
   "metadata": {},
   "outputs": [],
   "source": [
    "client = ccapi.Client()"
   ]
  },
  {
   "cell_type": "code",
   "execution_count": 3,
   "metadata": {},
   "outputs": [
    {
     "data": {
      "text/plain": [
       "'https://cellcollective.org'"
      ]
     },
     "execution_count": 3,
     "metadata": {},
     "output_type": "execute_result"
    }
   ],
   "source": [
    "client.base_url"
   ]
  },
  {
   "cell_type": "code",
   "execution_count": 4,
   "metadata": {},
   "outputs": [],
   "source": [
    "client.auth(email = \"achillesrasquinha@gmail.com\", password = \"foobar@123\")"
   ]
  },
  {
   "cell_type": "code",
   "execution_count": 5,
   "metadata": {},
   "outputs": [
    {
     "data": {
      "text/plain": [
       "True"
      ]
     },
     "execution_count": 5,
     "metadata": {},
     "output_type": "execute_result"
    }
   ],
   "source": [
    "client.authenticated"
   ]
  },
  {
   "cell_type": "code",
   "execution_count": 11,
   "metadata": {},
   "outputs": [],
   "source": [
    "models = client.get(\"model\", filters = { \"domain\": \"learning\" })"
   ]
  },
  {
   "cell_type": "code",
   "execution_count": 12,
   "metadata": {},
   "outputs": [
    {
     "data": {
      "text/html": [
       "\n",
       "            <table>\n",
       "                <thead>\n",
       "                    <tr>\n",
       "                        <th>ID</th><th>Name</th><th>Description</th><th>Tags</th><th>Author</th><th>Created</th><th>Updated (Biologic)</th><th>Updated (Knowledge Base)</th>\n",
       "                    </tr>\n",
       "                </thead>\n",
       "                <tbody>\n",
       "                    <tr><td>10248</td><td>Bacteriophages in Cheese Production - Single Vat 2 (I...</td><td></td><td></td><td>Audrey Crowther</td><td>2017-10-13 18:22:29</td><td>2018-11-15 02:20:09</td><td>2017-10-13 18:22:29</td></tr><tr><td>16659</td><td>Modeling Light Reactions and Dark Reactions in Photos...</td><td></td><td></td><td></td><td>2018-09-04 15:50:18</td><td>2018-10-18 20:09:36</td><td>2018-09-13 16:41:51</td></tr><tr><td>17433</td><td>Simulating the Behavior of Cellular Respiration</td><td>The purpose of this learning module is to explore the...</td><td></td><td></td><td>2018-09-14 21:16:12</td><td>2018-09-24 14:54:28</td><td>2018-09-14 21:16:12</td></tr><tr><td>36647</td><td>Cell Cycle Regulation - Investigation 1</td><td>This is a model of a cell and then (if that cell divi...</td><td></td><td></td><td>2019-02-14 15:24:56</td><td>2019-02-18 18:37:31</td><td>2019-02-14 15:24:56</td></tr><tr><td>36652</td><td>Cell Cycle Tumorigenesis - Investigation 2</td><td>This is a model of a cell and then (if that cell divi...</td><td></td><td></td><td>2019-02-14 17:51:42</td><td>2019-02-18 19:46:20</td><td>2019-02-14 17:51:42</td></tr>\n",
       "                </tbody>\n",
       "            </table>\n",
       "        "
      ],
      "text/plain": [
       "[<Model 10248 at 0x07fc374cb2f98 name='Bacteriophages in Cheese Producti...'>,\n",
       " <Model 16659 at 0x07fc37544e208 name='Modeling Light Reactions and Dark...'>,\n",
       " <Model 17433 at 0x07fc375087ef0 name='Simulating the Behavior of Cellul...'>,\n",
       " <Model 36647 at 0x07fc375d9f320 name='Cell Cycle Regulation - Investiga...'>,\n",
       " <Model 36652 at 0x07fc384149d68 name='Cell Cycle Tumorigenesis - Invest...'>]"
      ]
     },
     "execution_count": 12,
     "metadata": {},
     "output_type": "execute_result"
    }
   ],
   "source": [
    "models"
   ]
  },
  {
   "cell_type": "code",
   "execution_count": 21,
   "metadata": {},
   "outputs": [],
   "source": [
    "model   = models.get_by_id(36652)"
   ]
  },
  {
   "cell_type": "code",
   "execution_count": 22,
   "metadata": {},
   "outputs": [],
   "source": [
    "boolean = model.versions.get_by_id(-2592)"
   ]
  },
  {
   "cell_type": "code",
   "execution_count": 25,
   "metadata": {},
   "outputs": [
    {
     "data": {
      "text/html": [
       "\n",
       "            <table>\n",
       "                <thead>\n",
       "                    <tr>\n",
       "                        <th>ID</th><th>Name</th>\n",
       "                    </tr>\n",
       "                </thead>\n",
       "                <tbody>\n",
       "                    <tr><td>958020</td><td>growth factor </td></tr><tr><td>958018</td><td>cdkG2</td></tr><tr><td>958040</td><td>cdkG1</td></tr><tr><td>958034</td><td>cdkS</td></tr><tr><td>958035</td><td>cdkM</td></tr>\n",
       "                </tbody>\n",
       "            </table>\n",
       "        "
      ],
      "text/plain": [
       "[<ExternalComponent 958020 at 0x07fc374ca56d8 name='growth factor '>,\n",
       " <ExternalComponent 958018 at 0x07fc374ca5278 name='cdkG2'>,\n",
       " <ExternalComponent 958040 at 0x07fc374ca5c18 name='cdkG1'>,\n",
       " <ExternalComponent 958034 at 0x07fc374ca56a0 name='cdkS'>,\n",
       " <ExternalComponent 958035 at 0x07fc374ca5f28 name='cdkM'>]"
      ]
     },
     "execution_count": 25,
     "metadata": {},
     "output_type": "execute_result"
    }
   ],
   "source": [
    "boolean.external_components"
   ]
  },
  {
   "cell_type": "code",
   "execution_count": null,
   "metadata": {},
   "outputs": [],
   "source": []
  }
 ],
 "metadata": {
  "kernelspec": {
   "display_name": "Python 3",
   "language": "python",
   "name": "python3"
  },
  "language_info": {
   "codemirror_mode": {
    "name": "ipython",
    "version": 3
   },
   "file_extension": ".py",
   "mimetype": "text/x-python",
   "name": "python",
   "nbconvert_exporter": "python",
   "pygments_lexer": "ipython3",
   "version": "3.7.3"
  }
 },
 "nbformat": 4,
 "nbformat_minor": 2
}
