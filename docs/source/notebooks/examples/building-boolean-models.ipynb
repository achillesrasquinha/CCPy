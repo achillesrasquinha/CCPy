{
 "cells": [
  {
   "cell_type": "code",
   "execution_count": 1,
   "metadata": {},
   "outputs": [],
   "source": [
    "import ccapi\n",
    "\n",
    "config         = ccapi.Configuration()\n",
    "config.url     = \"http://localhost:5000\"\n",
    "config.verbose = True"
   ]
  },
  {
   "cell_type": "markdown",
   "metadata": {},
   "source": [
    "### Building a Boolean-Based Model"
   ]
  },
  {
   "cell_type": "markdown",
   "metadata": {},
   "source": [
    "This simple example demonstrates how to create a boolean-based model, its components, regulators, conditions and sub-conditions into [Cell Collective](https://cellcollective.org).\n",
    "\n",
    "We'll attempt to reconstruct the [Cortical Area Development](https://research.cellcollective.org/?dashboard=true#2035:1/cortical-area-development/1) authored by CE Giacomantonio.\n",
    "\n",
    "![](../data/images/cortical-area-development.png)\n",
    "\n",
    "Begin by importing the ccapi module into your workspace."
   ]
  },
  {
   "cell_type": "code",
   "execution_count": 2,
   "metadata": {},
   "outputs": [],
   "source": [
    "import ccapi"
   ]
  },
  {
   "cell_type": "markdown",
   "metadata": {},
   "source": [
    "Now, let’s try creating a client object in order to interact with services provided by [Cell Collective](https://cellcollective.org)."
   ]
  },
  {
   "cell_type": "code",
   "execution_count": 3,
   "metadata": {},
   "outputs": [
    {
     "name": "stderr",
     "output_type": "stream",
     "text": [
      "2020-01-27 17:06:07,531 | INFO | Dispatching a GET request to URL: http://localhost:5000/api/ping with Arguments - {}\n"
     ]
    }
   ],
   "source": [
    "client = ccapi.Client()"
   ]
  },
  {
   "cell_type": "markdown",
   "metadata": {},
   "source": [
    "Authenticate your client using a ***password flow type authentication*** scheme.\n",
    "\n",
    "**NOTE**: *Before you can authenticate using ccapi, you must first register an application of the appropriate type on [Cell Collective](https://cellcollective.org). If you do not require a user context, it is read only.*"
   ]
  },
  {
   "cell_type": "code",
   "execution_count": 4,
   "metadata": {},
   "outputs": [
    {
     "name": "stderr",
     "output_type": "stream",
     "text": [
      "2020-01-27 17:06:07,862 | INFO | Dispatching a POST request to URL: http://localhost:5000/_api/login with Arguments - {'data': {'username': 'test@cellcollective.org', 'password': 'test'}}\n"
     ]
    }
   ],
   "source": [
    "def authenticate():\n",
    "    client.auth(email = \"test@cellcollective.org\", password = \"test\")\n",
    "\n",
    "try:\n",
    "    authenticate()\n",
    "except ccapi.exception.AuthenticationError:\n",
    "    client.sign_up(\n",
    "        email       = \"test@cellcollective.org\",\n",
    "        password    = \"test\",\n",
    "        first_name  = \"Test\",\n",
    "        last_name   = \"Test\",\n",
    "        institution = \"Test\"\n",
    "    )\n",
    "    \n",
    "    authenticate()"
   ]
  },
  {
   "cell_type": "markdown",
   "metadata": {},
   "source": [
    "#### Creating a Base Model"
   ]
  },
  {
   "cell_type": "markdown",
   "metadata": {},
   "source": [
    "Create a Base Model using ccapi and instantize it with an authenticated client."
   ]
  },
  {
   "cell_type": "code",
   "execution_count": 5,
   "metadata": {},
   "outputs": [
    {
     "name": "stderr",
     "output_type": "stream",
     "text": [
      "2020-01-27 17:06:08,447 | INFO | Dispatching a GET request to URL: http://localhost:5000/_api/user/getProfile with Arguments - {}\n",
      "2020-01-27 17:06:08,492 | INFO | Dispatching a POST request to URL: http://localhost:5000/_api/model/save with Arguments - {'json': {'-43792/-27709': {'name': 'Cortical Area Development', 'type': 'research', 'userId': 10887, 'modelVersionMap': {-27709: {'name': ''}}, 'speciesMap': {}, 'regulatorMap': {}, 'conditionMap': {}, 'conditionSpeciesMap': {}, 'subConditionMap': {}, 'subConditionSpeciesMap': {}}}}\n",
      "2020-01-27 17:06:08,539 | INFO | Searching for templates within directories: ['/home/achilles/dev/ccapi/src/ccapi/data/templates']\n"
     ]
    },
    {
     "data": {
      "text/html": [
       "<table>\n",
       "    <tr>\n",
       "        <td>\n",
       "            <strong>\n",
       "                ID\n",
       "            </strong>\n",
       "        </td>\n",
       "        <td>\n",
       "            90943\n",
       "        </td>\n",
       "    </tr>\n",
       "    <tr>\n",
       "        <td>\n",
       "            <strong>\n",
       "                Name\n",
       "            </strong>\n",
       "        </td>\n",
       "        <td>\n",
       "            Cortical Area Development\n",
       "        </td>\n",
       "    </tr>\n",
       "    <tr>\n",
       "        <td>\n",
       "            <strong>\n",
       "                Memory Address\n",
       "            </strong>\n",
       "        </td>\n",
       "        <td>\n",
       "            0x07fc6c1732b70\n",
       "        </td>\n",
       "    </tr>\n",
       "    <tr>\n",
       "        <td>\n",
       "            <strong>\n",
       "                Number of Versions\n",
       "            </strong>\n",
       "        </td>\n",
       "        <td>\n",
       "            1\n",
       "        </td>\n",
       "    </tr>\n",
       "    <tr>\n",
       "        <td>\n",
       "            <strong>\n",
       "                Versions\n",
       "            </strong>\n",
       "        </td>\n",
       "        <td>\n",
       "            [&lt;BooleanModel 90943 version 1 at 0x07fc6c1732d68&gt;]\n",
       "        </td>\n",
       "    </tr>\n",
       "</table>"
      ],
      "text/plain": [
       "<Model 90943 at 0x07fc6c1732b70 name='Cortical Area Development'>"
      ]
     },
     "execution_count": 5,
     "metadata": {},
     "output_type": "execute_result"
    }
   ],
   "source": [
    "model = ccapi.Model(\"Cortical Area Development\", client = client)\n",
    "model.save()"
   ]
  },
  {
   "cell_type": "markdown",
   "metadata": {},
   "source": [
    "A `ccapi.Model` consists of various `ccapi.ModelVersion` objects that help you build various versions to a model. By default, a `ccapi.Model` provides you a default model version of a boolean type. "
   ]
  },
  {
   "cell_type": "code",
   "execution_count": 6,
   "metadata": {},
   "outputs": [
    {
     "name": "stderr",
     "output_type": "stream",
     "text": [
      "2020-01-27 17:06:08,916 | INFO | Searching for templates within directories: ['/home/achilles/dev/ccapi/src/ccapi/data/templates']\n"
     ]
    },
    {
     "data": {
      "text/html": [
       "<table>\n",
       "    <tr>\n",
       "        <td>\n",
       "            <strong>\n",
       "                ID\n",
       "            </strong>\n",
       "        </td>\n",
       "        <td>\n",
       "            90943\n",
       "        </td>\n",
       "    </tr>\n",
       "    <tr>\n",
       "        <td>\n",
       "            <strong>\n",
       "                Version\n",
       "            </strong>\n",
       "        </td>\n",
       "        <td>\n",
       "            1\n",
       "        </td>\n",
       "    </tr>\n",
       "    <tr>\n",
       "        <td>\n",
       "            <strong>\n",
       "                Name\n",
       "            </strong>\n",
       "        </td>\n",
       "        <td>\n",
       "            Version 1\n",
       "        </td>\n",
       "    </tr>\n",
       "    <tr>\n",
       "        <td>\n",
       "            <strong>\n",
       "                Memory Address\n",
       "            </strong>\n",
       "        </td>\n",
       "        <td>\n",
       "            0x07fc6c1732d68\n",
       "        </td>\n",
       "    </tr>\n",
       "    <tr>\n",
       "        <td>\n",
       "            <strong>\n",
       "                Number of Components\n",
       "            </strong>\n",
       "        </td>\n",
       "        <td>\n",
       "            0\n",
       "        </td>\n",
       "    </tr>\n",
       "    <tr>\n",
       "        <td>\n",
       "            <strong>\n",
       "                Components\n",
       "            </strong>\n",
       "        </td>\n",
       "        <td>\n",
       "            \n",
       "        </td>\n",
       "    </tr>\n",
       "</table>"
      ],
      "text/plain": [
       "<BooleanModel 90943 version 1 at 0x07fc6c1732d68 name='Version 1'>"
      ]
     },
     "execution_count": 6,
     "metadata": {},
     "output_type": "execute_result"
    }
   ],
   "source": [
    "# get the default model version\n",
    "boolean      = model.versions[0]\n",
    "boolean.name = \"Version 1\"\n",
    "boolean"
   ]
  },
  {
   "cell_type": "markdown",
   "metadata": {},
   "source": [
    "#### Adding Components to a Boolean-Based Model"
   ]
  },
  {
   "cell_type": "markdown",
   "metadata": {},
   "source": [
    "First, we need to create a list of component objects for this model."
   ]
  },
  {
   "cell_type": "code",
   "execution_count": 7,
   "metadata": {},
   "outputs": [],
   "source": [
    "# create components\n",
    "COUP_TFI = ccapi.InternalComponent(\"COUP-TFI\")\n",
    "EMX2     = ccapi.InternalComponent(\"EMX2\")\n",
    "FGF8     = ccapi.InternalComponent(\"FGF8\")\n",
    "PAX6     = ccapi.InternalComponent(\"PAX6\")\n",
    "Sp8      = ccapi.InternalComponent(\"Sp8\")"
   ]
  },
  {
   "cell_type": "markdown",
   "metadata": {},
   "source": [
    "Now let us add a list of components to our Boolean Model."
   ]
  },
  {
   "cell_type": "code",
   "execution_count": 8,
   "metadata": {},
   "outputs": [],
   "source": [
    "# add components to model\n",
    "boolean.add_components(COUP_TFI, EMX2, FGF8, PAX6, Sp8)"
   ]
  },
  {
   "cell_type": "markdown",
   "metadata": {},
   "source": [
    "#### Saving a Model"
   ]
  },
  {
   "cell_type": "markdown",
   "metadata": {},
   "source": [
    "Ensure you save your model in order to commit your work."
   ]
  },
  {
   "cell_type": "code",
   "execution_count": 9,
   "metadata": {},
   "outputs": [
    {
     "name": "stderr",
     "output_type": "stream",
     "text": [
      "2020-01-27 17:06:11,240 | INFO | Dispatching a GET request to URL: http://localhost:5000/_api/user/getProfile with Arguments - {}\n",
      "2020-01-27 17:06:11,270 | INFO | Dispatching a POST request to URL: http://localhost:5000/_api/model/save with Arguments - {'json': {'90943/1': {'name': 'Cortical Area Development', 'type': 'research', 'userId': 10887, 'modelVersionMap': {1: {'name': 'Version 1'}}, 'speciesMap': {-56220: {'name': 'COUP-TFI', 'external': False}, -2178: {'name': 'EMX2', 'external': False}, -39396: {'name': 'FGF8', 'external': False}, -56252: {'name': 'PAX6', 'external': False}, -2019: {'name': 'Sp8', 'external': False}}, 'regulatorMap': {}, 'conditionMap': {}, 'conditionSpeciesMap': {}, 'subConditionMap': {}, 'subConditionSpeciesMap': {}}}}\n",
      "2020-01-27 17:06:11,348 | INFO | Searching for templates within directories: ['/home/achilles/dev/ccapi/src/ccapi/data/templates']\n"
     ]
    },
    {
     "data": {
      "text/html": [
       "<table>\n",
       "    <tr>\n",
       "        <td>\n",
       "            <strong>\n",
       "                ID\n",
       "            </strong>\n",
       "        </td>\n",
       "        <td>\n",
       "            90943\n",
       "        </td>\n",
       "    </tr>\n",
       "    <tr>\n",
       "        <td>\n",
       "            <strong>\n",
       "                Name\n",
       "            </strong>\n",
       "        </td>\n",
       "        <td>\n",
       "            Cortical Area Development\n",
       "        </td>\n",
       "    </tr>\n",
       "    <tr>\n",
       "        <td>\n",
       "            <strong>\n",
       "                Memory Address\n",
       "            </strong>\n",
       "        </td>\n",
       "        <td>\n",
       "            0x07fc6c1732b70\n",
       "        </td>\n",
       "    </tr>\n",
       "    <tr>\n",
       "        <td>\n",
       "            <strong>\n",
       "                Number of Versions\n",
       "            </strong>\n",
       "        </td>\n",
       "        <td>\n",
       "            1\n",
       "        </td>\n",
       "    </tr>\n",
       "    <tr>\n",
       "        <td>\n",
       "            <strong>\n",
       "                Versions\n",
       "            </strong>\n",
       "        </td>\n",
       "        <td>\n",
       "            [&lt;BooleanModel 90943 version 1 at 0x07fc6c1732d68 name='Version 1'&gt;]\n",
       "        </td>\n",
       "    </tr>\n",
       "</table>"
      ],
      "text/plain": [
       "<Model 90943 at 0x07fc6c1732b70 name='Cortical Area Development'>"
      ]
     },
     "execution_count": 9,
     "metadata": {},
     "output_type": "execute_result"
    }
   ],
   "source": [
    "model.save()"
   ]
  },
  {
   "cell_type": "markdown",
   "metadata": {},
   "source": [
    "#### Adding Regulators, Conditions and Sub-Conditions"
   ]
  },
  {
   "cell_type": "markdown",
   "metadata": {},
   "source": [
    "Let's add a list of regulators and conditions to our components. A list of regulators and conditions as well as sub-conditions can all be added at once to a component."
   ]
  },
  {
   "cell_type": "code",
   "execution_count": 10,
   "metadata": {},
   "outputs": [],
   "source": [
    "# add regulators to components\n",
    "COUP_TFI.add_regulators(\n",
    "    ccapi.NegativeRegulator(Sp8),\n",
    "    ccapi.NegativeRegulator(FGF8)\n",
    ")\n",
    "EMX2.add_regulators(\n",
    "    ccapi.PositiveRegulator(COUP_TFI),\n",
    "    ccapi.NegativeRegulator(FGF8),\n",
    "    ccapi.NegativeRegulator(PAX6),\n",
    "    ccapi.NegativeRegulator(Sp8)\n",
    ")\n",
    "Sp8.add_regulators(\n",
    "    ccapi.PositiveRegulator(FGF8),\n",
    "    ccapi.NegativeRegulator(EMX2)\n",
    ")\n",
    "FGF8.add_regulators(\n",
    "    # add conditions to regulators\n",
    "    ccapi.PositiveRegulator(FGF8, conditions = [\n",
    "        ccapi.Condition(components = Sp8)\n",
    "    ])\n",
    ")\n",
    "PAX6.add_regulators(\n",
    "    ccapi.PositiveRegulator(Sp8),\n",
    "    ccapi.NegativeRegulator(COUP_TFI)\n",
    ")"
   ]
  },
  {
   "cell_type": "code",
   "execution_count": 11,
   "metadata": {},
   "outputs": [
    {
     "name": "stderr",
     "output_type": "stream",
     "text": [
      "2020-01-27 17:06:12,617 | INFO | Dispatching a GET request to URL: http://localhost:5000/_api/user/getProfile with Arguments - {}\n",
      "2020-01-27 17:06:12,648 | INFO | Dispatching a POST request to URL: http://localhost:5000/_api/model/save with Arguments - {'json': {'90943/1': {'name': 'Cortical Area Development', 'type': 'research', 'userId': 10887, 'modelVersionMap': {1: {'name': 'Version 1'}}, 'speciesMap': {1859453: {'name': 'COUP-TFI', 'external': False}, 1859450: {'name': 'EMX2', 'external': False}, 1859452: {'name': 'FGF8', 'external': False}, 1859454: {'name': 'PAX6', 'external': False}, 1859451: {'name': 'Sp8', 'external': False}}, 'regulatorMap': {-18117: {'regulationType': 'NEGATIVE', 'regulatorSpeciesId': 1859451, 'speciesId': 1859453}, -32510: {'regulationType': 'NEGATIVE', 'regulatorSpeciesId': 1859452, 'speciesId': 1859453}, -28063: {'regulationType': 'POSITIVE', 'regulatorSpeciesId': 1859453, 'speciesId': 1859450}, -55985: {'regulationType': 'NEGATIVE', 'regulatorSpeciesId': 1859452, 'speciesId': 1859450}, -13824: {'regulationType': 'NEGATIVE', 'regulatorSpeciesId': 1859454, 'speciesId': 1859450}, -60998: {'regulationType': 'NEGATIVE', 'regulatorSpeciesId': 1859451, 'speciesId': 1859450}, -32354: {'regulationType': 'POSITIVE', 'regulatorSpeciesId': 1859452, 'speciesId': 1859452}, -39782: {'regulationType': 'POSITIVE', 'regulatorSpeciesId': 1859451, 'speciesId': 1859454}, -53647: {'regulationType': 'NEGATIVE', 'regulatorSpeciesId': 1859453, 'speciesId': 1859454}, -27203: {'regulationType': 'POSITIVE', 'regulatorSpeciesId': 1859452, 'speciesId': 1859451}, -20247: {'regulationType': 'NEGATIVE', 'regulatorSpeciesId': 1859450, 'speciesId': 1859451}}, 'conditionMap': {-8843: {'regulatorId': -32354, 'state': 'ON', 'type': 'IF_WHEN', 'speciesRelation': 'OR'}}, 'conditionSpeciesMap': {-37700: {'conditionId': -8843, 'speciesId': 1859451}}, 'subConditionMap': {}, 'subConditionSpeciesMap': {}}}}\n",
      "2020-01-27 17:06:12,804 | INFO | Searching for templates within directories: ['/home/achilles/dev/ccapi/src/ccapi/data/templates']\n"
     ]
    },
    {
     "data": {
      "text/html": [
       "<table>\n",
       "    <tr>\n",
       "        <td>\n",
       "            <strong>\n",
       "                ID\n",
       "            </strong>\n",
       "        </td>\n",
       "        <td>\n",
       "            90943\n",
       "        </td>\n",
       "    </tr>\n",
       "    <tr>\n",
       "        <td>\n",
       "            <strong>\n",
       "                Name\n",
       "            </strong>\n",
       "        </td>\n",
       "        <td>\n",
       "            Cortical Area Development\n",
       "        </td>\n",
       "    </tr>\n",
       "    <tr>\n",
       "        <td>\n",
       "            <strong>\n",
       "                Memory Address\n",
       "            </strong>\n",
       "        </td>\n",
       "        <td>\n",
       "            0x07fc6c1732b70\n",
       "        </td>\n",
       "    </tr>\n",
       "    <tr>\n",
       "        <td>\n",
       "            <strong>\n",
       "                Number of Versions\n",
       "            </strong>\n",
       "        </td>\n",
       "        <td>\n",
       "            1\n",
       "        </td>\n",
       "    </tr>\n",
       "    <tr>\n",
       "        <td>\n",
       "            <strong>\n",
       "                Versions\n",
       "            </strong>\n",
       "        </td>\n",
       "        <td>\n",
       "            [&lt;BooleanModel 90943 version 1 at 0x07fc6c1732d68 name='Version 1'&gt;]\n",
       "        </td>\n",
       "    </tr>\n",
       "</table>"
      ],
      "text/plain": [
       "<Model 90943 at 0x07fc6c1732b70 name='Cortical Area Development'>"
      ]
     },
     "execution_count": 11,
     "metadata": {},
     "output_type": "execute_result"
    }
   ],
   "source": [
    "model.save()"
   ]
  },
  {
   "cell_type": "markdown",
   "metadata": {},
   "source": [
    "We've now got things within our Boolean Model."
   ]
  },
  {
   "cell_type": "code",
   "execution_count": 12,
   "metadata": {
    "scrolled": false
   },
   "outputs": [
    {
     "data": {
      "text/html": [
       "\n",
       "                <table>\n",
       "                    <thead>\n",
       "                        <tr>\n",
       "                            <th>ID</th><th>Name</th><th>Number of Positive Regulators</th><th>Number of Negative Regulators</th>\n",
       "                        </tr>\n",
       "                    </thead>\n",
       "                    <tbody>\n",
       "                        <tr><td>1859453</td><td>COUP-TFI</td><td>0</td><td>2</td></tr><tr><td>1859450</td><td>EMX2</td><td>1</td><td>3</td></tr><tr><td>1859452</td><td>FGF8</td><td>1</td><td>0</td></tr><tr><td>1859454</td><td>PAX6</td><td>1</td><td>1</td></tr><tr><td>1859451</td><td>Sp8</td><td>1</td><td>1</td></tr>\n",
       "                    </tbody>\n",
       "                </table>\n",
       "            "
      ],
      "text/plain": [
       "[<InternalComponent 1859453 at 0x07fc6c17482e8 name='COUP-TFI'>,\n",
       " <InternalComponent 1859450 at 0x07fc6c1748320 name='EMX2'>,\n",
       " <InternalComponent 1859452 at 0x07fc6c1748128 name='FGF8'>,\n",
       " <InternalComponent 1859454 at 0x07fc6c1748630 name='PAX6'>,\n",
       " <InternalComponent 1859451 at 0x07fc6c17486a0 name='Sp8'>]"
      ]
     },
     "execution_count": 12,
     "metadata": {},
     "output_type": "execute_result"
    }
   ],
   "source": [
    "boolean.components"
   ]
  },
  {
   "cell_type": "code",
   "execution_count": 13,
   "metadata": {},
   "outputs": [
    {
     "data": {
      "text/html": [
       "\n",
       "                <table>\n",
       "                    <thead>\n",
       "                        <tr>\n",
       "                            <th>ID</th><th>Name</th><th>Number of Conditions</th>\n",
       "                        </tr>\n",
       "                    </thead>\n",
       "                    <tbody>\n",
       "                        <tr><td>2552170</td><td></td><td>1</td></tr>\n",
       "                    </tbody>\n",
       "                </table>\n",
       "            "
      ],
      "text/plain": [
       "[<PositiveRegulator 2552170 at 0x07fc6c17aa278>]"
      ]
     },
     "execution_count": 13,
     "metadata": {},
     "output_type": "execute_result"
    }
   ],
   "source": [
    "FGF8.positive_regulators"
   ]
  },
  {
   "cell_type": "markdown",
   "metadata": {},
   "source": [
    "#### Model Summary"
   ]
  },
  {
   "cell_type": "markdown",
   "metadata": {},
   "source": [
    "You can view detailed summary of your model using the `summary` function provided."
   ]
  },
  {
   "cell_type": "code",
   "execution_count": 14,
   "metadata": {},
   "outputs": [
    {
     "name": "stdout",
     "output_type": "stream",
     "text": [
      "Internal Components (+, -) External Components\n",
      "-------------------------- -------------------\n",
      "COUP-TFI (0,2)             \n",
      "EMX2 (1,3)                 \n",
      "FGF8 (1,0)                 \n",
      "PAX6 (1,1)                 \n",
      "Sp8 (1,1)                  \n"
     ]
    }
   ],
   "source": [
    "boolean.summary()"
   ]
  },
  {
   "cell_type": "markdown",
   "metadata": {},
   "source": [
    "...or view detailed information within your jupyter notebook."
   ]
  },
  {
   "cell_type": "code",
   "execution_count": 15,
   "metadata": {},
   "outputs": [
    {
     "name": "stderr",
     "output_type": "stream",
     "text": [
      "2020-01-27 17:06:16,393 | INFO | Searching for templates within directories: ['/home/achilles/dev/ccapi/src/ccapi/data/templates']\n"
     ]
    },
    {
     "data": {
      "text/html": [
       "<table>\n",
       "    <tr>\n",
       "        <td>\n",
       "            <strong>\n",
       "                ID\n",
       "            </strong>\n",
       "        </td>\n",
       "        <td>\n",
       "            90943\n",
       "        </td>\n",
       "    </tr>\n",
       "    <tr>\n",
       "        <td>\n",
       "            <strong>\n",
       "                Version\n",
       "            </strong>\n",
       "        </td>\n",
       "        <td>\n",
       "            1\n",
       "        </td>\n",
       "    </tr>\n",
       "    <tr>\n",
       "        <td>\n",
       "            <strong>\n",
       "                Name\n",
       "            </strong>\n",
       "        </td>\n",
       "        <td>\n",
       "            Version 1\n",
       "        </td>\n",
       "    </tr>\n",
       "    <tr>\n",
       "        <td>\n",
       "            <strong>\n",
       "                Memory Address\n",
       "            </strong>\n",
       "        </td>\n",
       "        <td>\n",
       "            0x07fc6c1732d68\n",
       "        </td>\n",
       "    </tr>\n",
       "    <tr>\n",
       "        <td>\n",
       "            <strong>\n",
       "                Number of Components\n",
       "            </strong>\n",
       "        </td>\n",
       "        <td>\n",
       "            5\n",
       "        </td>\n",
       "    </tr>\n",
       "    <tr>\n",
       "        <td>\n",
       "            <strong>\n",
       "                Components\n",
       "            </strong>\n",
       "        </td>\n",
       "        <td>\n",
       "            COUP-TFI, EMX2, FGF8, PAX6, Sp8\n",
       "        </td>\n",
       "    </tr>\n",
       "</table>"
      ],
      "text/plain": [
       "<BooleanModel 90943 version 1 at 0x07fc6c1732d68 name='Version 1'>"
      ]
     },
     "execution_count": 15,
     "metadata": {},
     "output_type": "execute_result"
    }
   ],
   "source": [
    "boolean"
   ]
  },
  {
   "cell_type": "markdown",
   "metadata": {},
   "source": [
    "#### Model Rendering"
   ]
  },
  {
   "cell_type": "markdown",
   "metadata": {},
   "source": [
    "You can also attempt to visualize a Boolean Model using the `draw` function provided."
   ]
  },
  {
   "cell_type": "code",
   "execution_count": null,
   "metadata": {},
   "outputs": [],
   "source": [
    "# boolean.draw()"
   ]
  }
 ],
 "metadata": {
  "kernelspec": {
   "display_name": "Python 3",
   "language": "python",
   "name": "python3"
  },
  "language_info": {
   "codemirror_mode": {
    "name": "ipython",
    "version": 3
   },
   "file_extension": ".py",
   "mimetype": "text/x-python",
   "name": "python",
   "nbconvert_exporter": "python",
   "pygments_lexer": "ipython3",
   "version": "3.6.9"
  }
 },
 "nbformat": 4,
 "nbformat_minor": 2
}
