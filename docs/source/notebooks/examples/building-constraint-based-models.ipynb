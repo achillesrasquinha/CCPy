{
 "cells": [
  {
   "cell_type": "code",
   "execution_count": 26,
   "metadata": {},
   "outputs": [],
   "source": [
    "import ccapi\n",
    "\n",
    "config         = ccapi.Configuration()\n",
    "config.url     = \"http://localhost:5000\"\n",
    "config.verbose = True"
   ]
  },
  {
   "cell_type": "markdown",
   "metadata": {},
   "source": [
    "### Building a Constraint-Based Model"
   ]
  },
  {
   "cell_type": "markdown",
   "metadata": {},
   "source": [
    "This simple example demonstrates how to create a constraint-based model, its metabolites, reactions, genes, etc. into [Cell Collective](https://cellcollective.org).\n",
    "\n",
    "We’ll use the `3OAS140` reaction from the `STM_1.0 model`:\n",
    "\n",
    "```\n",
    "1.0 malACP[c] + 1.0 h[c] + 1.0 ddcaACP[c] → 1.0 co2[c] + 1.0 ACP[c] + 1.0 3omrsACP[c]\n",
    "```\n",
    "\n",
    "Begin by importing the ccapi module into your workspace."
   ]
  },
  {
   "cell_type": "code",
   "execution_count": 27,
   "metadata": {},
   "outputs": [],
   "source": [
    "import ccapi"
   ]
  },
  {
   "cell_type": "markdown",
   "metadata": {},
   "source": [
    "Now, let’s try creating a client object in order to interact with services provided by [Cell Collective](https://cellcollective.org)."
   ]
  },
  {
   "cell_type": "code",
   "execution_count": 28,
   "metadata": {},
   "outputs": [
    {
     "name": "stderr",
     "output_type": "stream",
     "text": [
      "2020-01-27 18:12:24,736 | INFO | Dispatching a GET request to URL: http://localhost:5000/api/ping with Arguments - {}\n"
     ]
    }
   ],
   "source": [
    "client = ccapi.Client()"
   ]
  },
  {
   "cell_type": "markdown",
   "metadata": {},
   "source": [
    "Authenticate your client using a ***password flow type authentication*** scheme.\n",
    "\n",
    "**NOTE**: *Before you can authenticate using ccapi, you must first register an application of the appropriate type on [Cell Collective](https://cellcollective.org). If you do not require a user context, it is read only.*"
   ]
  },
  {
   "cell_type": "code",
   "execution_count": 29,
   "metadata": {},
   "outputs": [
    {
     "name": "stderr",
     "output_type": "stream",
     "text": [
      "2020-01-27 18:12:25,127 | INFO | Dispatching a POST request to URL: http://localhost:5000/_api/login with Arguments - {'data': {'username': 'test@cellcollective.org', 'password': 'test'}}\n"
     ]
    }
   ],
   "source": [
    "def authenticate():\n",
    "    client.auth(email = \"test@cellcollective.org\", password = \"test\")\n",
    "\n",
    "try:\n",
    "    authenticate()\n",
    "except ccapi.exception.AuthenticationError:\n",
    "    client.sign_up(\n",
    "        email       = \"test@cellcollective.org\",\n",
    "        password    = \"test\",\n",
    "        first_name  = \"Test\",\n",
    "        last_name   = \"Test\",\n",
    "        institution = \"Test\"\n",
    "    )\n",
    "    \n",
    "    authenticate()"
   ]
  },
  {
   "cell_type": "markdown",
   "metadata": {},
   "source": [
    "#### Creating a Base Model"
   ]
  },
  {
   "cell_type": "markdown",
   "metadata": {},
   "source": [
    "Create a Base Model using ccapi and instantize it with an authenticated client."
   ]
  },
  {
   "cell_type": "code",
   "execution_count": 30,
   "metadata": {
    "scrolled": true
   },
   "outputs": [
    {
     "name": "stderr",
     "output_type": "stream",
     "text": [
      "2020-01-27 18:12:25,872 | INFO | Dispatching a GET request to URL: http://localhost:5000/_api/user/getProfile with Arguments - {}\n",
      "2020-01-27 18:12:25,905 | INFO | Dispatching a POST request to URL: http://localhost:5000/_api/model/save with Arguments - {'json': {'-33237/-24868': {'name': 'Sample Constraint-Based Model', 'type': 'research', 'userId': 10887, 'modelVersionMap': {-24868: {'name': ''}}}}}\n",
      "2020-01-27 18:12:25,973 | INFO | Searching for templates within directories: ['/home/achilles/dev/ccapi/src/ccapi/data/templates']\n"
     ]
    },
    {
     "data": {
      "text/html": [
       "<table>\n",
       "    <tr>\n",
       "        <td>\n",
       "            <strong>\n",
       "                ID\n",
       "            </strong>\n",
       "        </td>\n",
       "        <td>\n",
       "            90945\n",
       "        </td>\n",
       "    </tr>\n",
       "    <tr>\n",
       "        <td>\n",
       "            <strong>\n",
       "                Name\n",
       "            </strong>\n",
       "        </td>\n",
       "        <td>\n",
       "            Sample Constraint-Based Model\n",
       "        </td>\n",
       "    </tr>\n",
       "    <tr>\n",
       "        <td>\n",
       "            <strong>\n",
       "                Memory Address\n",
       "            </strong>\n",
       "        </td>\n",
       "        <td>\n",
       "            0x07f3c5916f3c8\n",
       "        </td>\n",
       "    </tr>\n",
       "    <tr>\n",
       "        <td>\n",
       "            <strong>\n",
       "                Number of Versions\n",
       "            </strong>\n",
       "        </td>\n",
       "        <td>\n",
       "            1\n",
       "        </td>\n",
       "    </tr>\n",
       "    <tr>\n",
       "        <td>\n",
       "            <strong>\n",
       "                Versions\n",
       "            </strong>\n",
       "        </td>\n",
       "        <td>\n",
       "            [&lt;ConstraintBasedModel 90945 version 1 at 0x07f3c5916fcf8&gt;]\n",
       "        </td>\n",
       "    </tr>\n",
       "</table>"
      ],
      "text/plain": [
       "<Model 90945 at 0x07f3c5916f3c8 name='Sample Constraint-Based Model'>"
      ]
     },
     "execution_count": 30,
     "metadata": {},
     "output_type": "execute_result"
    }
   ],
   "source": [
    "model = ccapi.Model(\"Sample Constraint-Based Model\", default_type = \"metabolic\", client = client)\n",
    "model.save3()"
   ]
  },
  {
   "cell_type": "markdown",
   "metadata": {},
   "source": [
    "A `ccapi.Model` consists of various `ccapi.ModelVersion` objects that help you build various versions to a model. By default, a `ccapi.Model` provides you a default model version of a boolean type. You can override the same by passing the `default_type`."
   ]
  },
  {
   "cell_type": "code",
   "execution_count": 31,
   "metadata": {},
   "outputs": [
    {
     "name": "stderr",
     "output_type": "stream",
     "text": [
      "2020-01-27 18:12:26,205 | INFO | Searching for templates within directories: ['/home/achilles/dev/ccapi/src/ccapi/data/templates']\n"
     ]
    },
    {
     "data": {
      "text/html": [
       "<table>\n",
       "    <tr>\n",
       "        <td>\n",
       "            <strong>\n",
       "                ID\n",
       "            </strong>\n",
       "        </td>\n",
       "        <td>\n",
       "            90945\n",
       "        </td>\n",
       "    </tr>\n",
       "    <tr>\n",
       "        <td>\n",
       "            <strong>\n",
       "                Version\n",
       "            </strong>\n",
       "        </td>\n",
       "        <td>\n",
       "            1\n",
       "        </td>\n",
       "    </tr>\n",
       "    <tr>\n",
       "        <td>\n",
       "            <strong>\n",
       "                Name\n",
       "            </strong>\n",
       "        </td>\n",
       "        <td>\n",
       "            Version 1\n",
       "        </td>\n",
       "    </tr>\n",
       "    <tr>\n",
       "        <td>\n",
       "            <strong>\n",
       "                Memory Address\n",
       "            </strong>\n",
       "        </td>\n",
       "        <td>\n",
       "            0x07f3c5916fcf8\n",
       "        </td>\n",
       "    </tr>\n",
       "    <tr>\n",
       "        <td>\n",
       "            <strong>\n",
       "                Number of Metabolites\n",
       "            </strong>\n",
       "        </td>\n",
       "        <td>\n",
       "            0\n",
       "        </td>\n",
       "    </tr>\n",
       "    <tr>\n",
       "        <td>\n",
       "            <strong>\n",
       "                Metabolites\n",
       "            </strong>\n",
       "        </td>\n",
       "        <td>\n",
       "            \n",
       "        </td>\n",
       "    </tr>\n",
       "    <tr>\n",
       "        <td>\n",
       "            <strong>\n",
       "                Number of Reactions\n",
       "            </strong>\n",
       "        </td>\n",
       "        <td>\n",
       "            0\n",
       "        </td>\n",
       "    </tr>\n",
       "    <tr>\n",
       "        <td>\n",
       "            <strong>\n",
       "                Reactions\n",
       "            </strong>\n",
       "        </td>\n",
       "        <td>\n",
       "            \n",
       "        </td>\n",
       "    </tr>\n",
       "</table>"
      ],
      "text/plain": [
       "<ConstraintBasedModel 90945 version 1 at 0x07f3c5916fcf8 name='Version 1'>"
      ]
     },
     "execution_count": 31,
     "metadata": {},
     "output_type": "execute_result"
    }
   ],
   "source": [
    "# get the default model version\n",
    "metabolic      = model.versions[0]\n",
    "metabolic.name = \"Version 1\"\n",
    "metabolic"
   ]
  },
  {
   "cell_type": "markdown",
   "metadata": {},
   "source": [
    "#### Adding Metabolites to a Constraint-Based Model"
   ]
  },
  {
   "cell_type": "markdown",
   "metadata": {},
   "source": [
    "First, we need to create a list of metabolite objects for this model."
   ]
  },
  {
   "cell_type": "code",
   "execution_count": 32,
   "metadata": {},
   "outputs": [],
   "source": [
    "# create metabolites\n",
    "malACP_c      = ccapi.Metabolite(\"Malonyl-acyl-carrier-protein\",\n",
    "                                 formula     = \"C14H22N2O10PRS\",\n",
    "                                 compartment = \"c\")\n",
    "ACP_c         = ccapi.Metabolite(\"acyl-carrier-protein\",\n",
    "                                 formula     = \"C11H21N2O7PRS\",\n",
    "                                 compartment = \"c\")\n",
    "h_c           = ccapi.Metabolite(\"H\",\n",
    "                                 formula     = \"H\",\n",
    "                                 compartment = \"c\")\n",
    "ddcaACP_c     = ccapi.Metabolite(\"Dodecanoyl-ACP-n-C120ACP\",\n",
    "                                 formula     = \"C23H43N2O8PRS\",\n",
    "                                 compartment = \"c\")\n",
    "co2_c         = ccapi.Metabolite(\"CO2\",\n",
    "                                 formula     = \"CO2\",\n",
    "                                 compartment = \"c\")\n",
    "omrsACP_c     = ccapi.Metabolite(\"3-Oxotetradecanoyl-acyl-carrier-protein\",\n",
    "                                 formula     = \"C25H45N2O9PRS\",\n",
    "                                 compartment = \"c\")"
   ]
  },
  {
   "cell_type": "markdown",
   "metadata": {},
   "source": [
    "Now let us add a list of components to our Constraint-Based Model."
   ]
  },
  {
   "cell_type": "code",
   "execution_count": 33,
   "metadata": {},
   "outputs": [
    {
     "name": "stderr",
     "output_type": "stream",
     "text": [
      "2020-01-27 18:12:27,602 | INFO | Searching for templates within directories: ['/home/achilles/dev/ccapi/src/ccapi/data/templates']\n"
     ]
    },
    {
     "data": {
      "text/html": [
       "<table>\n",
       "    <tr>\n",
       "        <td>\n",
       "            <strong>\n",
       "                ID\n",
       "            </strong>\n",
       "        </td>\n",
       "        <td>\n",
       "            90945\n",
       "        </td>\n",
       "    </tr>\n",
       "    <tr>\n",
       "        <td>\n",
       "            <strong>\n",
       "                Version\n",
       "            </strong>\n",
       "        </td>\n",
       "        <td>\n",
       "            1\n",
       "        </td>\n",
       "    </tr>\n",
       "    <tr>\n",
       "        <td>\n",
       "            <strong>\n",
       "                Name\n",
       "            </strong>\n",
       "        </td>\n",
       "        <td>\n",
       "            Version 1\n",
       "        </td>\n",
       "    </tr>\n",
       "    <tr>\n",
       "        <td>\n",
       "            <strong>\n",
       "                Memory Address\n",
       "            </strong>\n",
       "        </td>\n",
       "        <td>\n",
       "            0x07f3c5916fcf8\n",
       "        </td>\n",
       "    </tr>\n",
       "    <tr>\n",
       "        <td>\n",
       "            <strong>\n",
       "                Number of Metabolites\n",
       "            </strong>\n",
       "        </td>\n",
       "        <td>\n",
       "            6\n",
       "        </td>\n",
       "    </tr>\n",
       "    <tr>\n",
       "        <td>\n",
       "            <strong>\n",
       "                Metabolites\n",
       "            </strong>\n",
       "        </td>\n",
       "        <td>\n",
       "            Malonyl-acyl-carrier-protein, acyl-carrier-protein, H, Dodecanoyl-ACP-n-C120ACP, CO2, 3-Oxotetradecanoyl-acyl-carrier-protein\n",
       "        </td>\n",
       "    </tr>\n",
       "    <tr>\n",
       "        <td>\n",
       "            <strong>\n",
       "                Number of Reactions\n",
       "            </strong>\n",
       "        </td>\n",
       "        <td>\n",
       "            0\n",
       "        </td>\n",
       "    </tr>\n",
       "    <tr>\n",
       "        <td>\n",
       "            <strong>\n",
       "                Reactions\n",
       "            </strong>\n",
       "        </td>\n",
       "        <td>\n",
       "            \n",
       "        </td>\n",
       "    </tr>\n",
       "</table>"
      ],
      "text/plain": [
       "<ConstraintBasedModel 90945 version 1 at 0x07f3c5916fcf8 name='Version 1'>"
      ]
     },
     "execution_count": 33,
     "metadata": {},
     "output_type": "execute_result"
    }
   ],
   "source": [
    "metabolic.add_metabolites(malACP_c, ACP_c, h_c, ddcaACP_c, co2_c, omrsACP_c)\n",
    "metabolic"
   ]
  },
  {
   "cell_type": "code",
   "execution_count": 34,
   "metadata": {},
   "outputs": [
    {
     "data": {
      "text/html": [
       "\n",
       "                <table>\n",
       "                    <thead>\n",
       "                        <tr>\n",
       "                            <th>ID</th><th>Name</th><th>Compartment</th><th>Charge</th>\n",
       "                        </tr>\n",
       "                    </thead>\n",
       "                    <tbody>\n",
       "                        <tr><td>-10359</td><td>Malonyl-acyl-carrier-protein</td><td>c</td><td></td></tr><tr><td>-7487</td><td>acyl-carrier-protein</td><td>c</td><td></td></tr><tr><td>-55504</td><td>H</td><td>c</td><td></td></tr><tr><td>-37885</td><td>Dodecanoyl-ACP-n-C120ACP</td><td>c</td><td></td></tr><tr><td>-37505</td><td>CO2</td><td>c</td><td></td></tr><tr><td>-28967</td><td>3-Oxotetradecanoyl-acyl-carrier-protein</td><td>c</td><td></td></tr>\n",
       "                    </tbody>\n",
       "                </table>\n",
       "            "
      ],
      "text/plain": [
       "[<Metabolite -10359 at 0x07f3c5918cb38 name='Malonyl-acyl-carrier-protein'>,\n",
       " <Metabolite -7487 at 0x07f3c5918ca90 name='acyl-carrier-protein'>,\n",
       " <Metabolite -55504 at 0x07f3c5918cdd8 name='H'>,\n",
       " <Metabolite -37885 at 0x07f3c5918ce48 name='Dodecanoyl-ACP-n-C120ACP'>,\n",
       " <Metabolite -37505 at 0x07f3c5918ce10 name='CO2'>,\n",
       " <Metabolite -28967 at 0x07f3c5918ceb8 name='3-Oxotetradecanoyl-acyl-carrier-p...'>]"
      ]
     },
     "execution_count": 34,
     "metadata": {},
     "output_type": "execute_result"
    }
   ],
   "source": [
    "metabolic.metabolites"
   ]
  },
  {
   "cell_type": "markdown",
   "metadata": {},
   "source": [
    "#### Saving a Model"
   ]
  },
  {
   "cell_type": "markdown",
   "metadata": {},
   "source": [
    "Ensure you save your model in order to commit your work."
   ]
  },
  {
   "cell_type": "code",
   "execution_count": null,
   "metadata": {},
   "outputs": [
    {
     "name": "stderr",
     "output_type": "stream",
     "text": [
      "2020-01-27 18:12:29,210 | INFO | Dispatching a PUT request to URL: http://localhost:5000/api/model with Arguments - {'json': {'id': '90945', 'name': 'Sample Constraint-Based Model', 'versions': [{'id': '1', 'name': 'Version 1', 'metabolites': [{'id': '-10359', 'name': 'Malonyl-acyl-carrier-protein', 'compartment': 'c', 'formula': 'C14H22N2O10PRS', 'charge': None}, {'id': '-7487', 'name': 'acyl-carrier-protein', 'compartment': 'c', 'formula': 'C11H21N2O7PRS', 'charge': None}, {'id': '-55504', 'name': 'H', 'compartment': 'c', 'formula': 'H', 'charge': None}, {'id': '-37885', 'name': 'Dodecanoyl-ACP-n-C120ACP', 'compartment': 'c', 'formula': 'C23H43N2O8PRS', 'charge': None}, {'id': '-37505', 'name': 'CO2', 'compartment': 'c', 'formula': 'CO2', 'charge': None}, {'id': '-28967', 'name': '3-Oxotetradecanoyl-acyl-carrier-protein', 'compartment': 'c', 'formula': 'C25H45N2O9PRS', 'charge': None}], 'reactions': [], 'genes': [], 'type': 'metabolic'}]}}\n"
     ]
    }
   ],
   "source": [
    "model.save3()"
   ]
  },
  {
   "cell_type": "code",
   "execution_count": null,
   "metadata": {},
   "outputs": [],
   "source": [
    "metabolic.metabolites"
   ]
  },
  {
   "cell_type": "markdown",
   "metadata": {},
   "source": [
    "#### Adding Reactions to a Model"
   ]
  },
  {
   "cell_type": "markdown",
   "metadata": {},
   "source": [
    "First, we create a `ccapi.Reaction` object."
   ]
  },
  {
   "cell_type": "code",
   "execution_count": null,
   "metadata": {},
   "outputs": [],
   "source": [
    "reaction = ccapi.Reaction(\"3 oxoacyl acyl carrier protein synthase n C140\",\n",
    "                         subsystem   = \"Cell Envelope Biosynthesis\",\n",
    "                         lower_bound = 0,\n",
    "                         upper_bound = 1000)"
   ]
  },
  {
   "cell_type": "markdown",
   "metadata": {},
   "source": [
    "Adding metabolites to a reaction requires using a dictionary of the metabolites and their stoichiometric coefficients. A group of metabolites can be added all at once, or they can be added one at a time."
   ]
  },
  {
   "cell_type": "code",
   "execution_count": null,
   "metadata": {},
   "outputs": [],
   "source": [
    "reaction.add_metabolites({\n",
    "    malACP_c:  -1,\n",
    "    h_c:       -1,\n",
    "    ddcaACP_c: -1,\n",
    "    co2_c:      1,\n",
    "    ACP_c:      1,\n",
    "    omrsACP_c:  1\n",
    "})"
   ]
  },
  {
   "cell_type": "markdown",
   "metadata": {},
   "source": [
    "We will now add a reaction to the model"
   ]
  },
  {
   "cell_type": "code",
   "execution_count": null,
   "metadata": {},
   "outputs": [],
   "source": [
    "metabolic.add_reaction(reaction)"
   ]
  },
  {
   "cell_type": "code",
   "execution_count": null,
   "metadata": {},
   "outputs": [],
   "source": [
    "model.save3()"
   ]
  },
  {
   "cell_type": "code",
   "execution_count": null,
   "metadata": {},
   "outputs": [],
   "source": [
    "metabolic.reactions"
   ]
  },
  {
   "cell_type": "markdown",
   "metadata": {},
   "source": [
    "#### Adding a Gene Reaction Rule to a Reaction"
   ]
  },
  {
   "cell_type": "markdown",
   "metadata": {},
   "source": [
    "In order to add a Gene Reaction Rule to a Reaction, create genes as follows."
   ]
  },
  {
   "cell_type": "code",
   "execution_count": null,
   "metadata": {},
   "outputs": [],
   "source": [
    "STM2378 = ccapi.Gene(\"STM2378\")\n",
    "STM1197 = ccapi.Gene(\"STM1197\")"
   ]
  },
  {
   "cell_type": "markdown",
   "metadata": {},
   "source": [
    "Let's consider a Gene Reaction Rule as follows\n",
    "\n",
    "```\n",
    "STM2378 or STM1197\n",
    "```\n",
    "\n",
    "You can add the same using the Regulatory Mechanism provided for Boolean Models as follows:"
   ]
  },
  {
   "cell_type": "code",
   "execution_count": null,
   "metadata": {},
   "outputs": [],
   "source": [
    "reaction.add_regulators(\n",
    "    ccapi.PositiveRegulator(STM2378),\n",
    "    ccapi.PositiveRegulator(STM1197)\n",
    ")"
   ]
  }
 ],
 "metadata": {
  "kernelspec": {
   "display_name": "Python 3",
   "language": "python",
   "name": "python3"
  },
  "language_info": {
   "codemirror_mode": {
    "name": "ipython",
    "version": 3
   },
   "file_extension": ".py",
   "mimetype": "text/x-python",
   "name": "python",
   "nbconvert_exporter": "python",
   "pygments_lexer": "ipython3",
   "version": "3.6.9"
  }
 },
 "nbformat": 4,
 "nbformat_minor": 2
}
