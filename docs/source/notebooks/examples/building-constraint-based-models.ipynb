{
 "cells": [
  {
   "cell_type": "code",
   "execution_count": 1,
   "metadata": {},
   "outputs": [],
   "source": [
    "import ccapi\n",
    "\n",
    "config         = ccapi.Configuration()\n",
    "config.url     = \"http://localhost:5000\"\n",
    "# config.verbose = True"
   ]
  },
  {
   "cell_type": "markdown",
   "metadata": {},
   "source": [
    "### Building a Constraint-Based Model"
   ]
  },
  {
   "cell_type": "markdown",
   "metadata": {},
   "source": [
    "This simple example demonstrates how to create a constraint-based model, its metabolites, reactions, genes, etc. into [Cell Collective](https://cellcollective.org).\n",
    "\n",
    "We’ll use the `3OAS140` reaction from the `STM_1.0 model`:\n",
    "\n",
    "```\n",
    "1.0 malACP[c] + 1.0 h[c] + 1.0 ddcaACP[c] → 1.0 co2[c] + 1.0 ACP[c] + 1.0 3omrsACP[c]\n",
    "```\n",
    "\n",
    "Begin by importing the ccapi module into your workspace."
   ]
  },
  {
   "cell_type": "code",
   "execution_count": 2,
   "metadata": {},
   "outputs": [],
   "source": [
    "import ccapi"
   ]
  },
  {
   "cell_type": "markdown",
   "metadata": {},
   "source": [
    "Now, let’s try creating a client object in order to interact with services provided by [Cell Collective](https://cellcollective.org)."
   ]
  },
  {
   "cell_type": "code",
   "execution_count": 3,
   "metadata": {},
   "outputs": [],
   "source": [
    "client = ccapi.Client()"
   ]
  },
  {
   "cell_type": "markdown",
   "metadata": {},
   "source": [
    "Authenticate your client using a ***password flow type authentication*** scheme.\n",
    "\n",
    "**NOTE**: *Before you can authenticate using ccapi, you must first register an application of the appropriate type on [Cell Collective](https://cellcollective.org). If you do not require a user context, it is read only.*"
   ]
  },
  {
   "cell_type": "code",
   "execution_count": 4,
   "metadata": {},
   "outputs": [],
   "source": [
    "def authenticate():\n",
    "    client.auth(email = \"test@cellcollective.org\", password = \"test\")\n",
    "\n",
    "try:\n",
    "    authenticate()\n",
    "except ccapi.exception.AuthenticationError:\n",
    "    client.sign_up(\n",
    "        email       = \"test@cellcollective.org\",\n",
    "        password    = \"test\",\n",
    "        first_name  = \"Test\",\n",
    "        last_name   = \"Test\",\n",
    "        institution = \"Test\"\n",
    "    )\n",
    "    \n",
    "    authenticate()"
   ]
  },
  {
   "cell_type": "code",
   "execution_count": 5,
   "metadata": {},
   "outputs": [
    {
     "data": {
      "text/html": [
       "<table>\n",
       "    <tr>\n",
       "        <td>\n",
       "            <strong>\n",
       "                ID\n",
       "            </strong>\n",
       "        </td>\n",
       "        <td>\n",
       "            1\n",
       "        </td>\n",
       "    </tr>\n",
       "    <tr>\n",
       "        <td>\n",
       "            <strong>\n",
       "                Name\n",
       "            </strong>\n",
       "        </td>\n",
       "        <td>\n",
       "            Test Test\n",
       "        </td>\n",
       "    </tr>\n",
       "    <tr>\n",
       "        <td>\n",
       "            <strong>\n",
       "                Memory Address\n",
       "            </strong>\n",
       "        </td>\n",
       "        <td>\n",
       "            0x07f1548034f28\n",
       "        </td>\n",
       "    </tr>\n",
       "    <tr>\n",
       "        <td>\n",
       "            <strong>\n",
       "                First Name\n",
       "            </strong>\n",
       "        </td>\n",
       "        <td>\n",
       "            Test\n",
       "        </td>\n",
       "    </tr>\n",
       "    <tr>\n",
       "        <td>\n",
       "            <strong>\n",
       "                Last Name\n",
       "            </strong>\n",
       "        </td>\n",
       "        <td>\n",
       "            Test\n",
       "        </td>\n",
       "    </tr>\n",
       "    <tr>\n",
       "        <td>\n",
       "            <strong>\n",
       "                Email Address\n",
       "            </strong>\n",
       "        </td>\n",
       "        <td>\n",
       "            test@cellcollective.org\n",
       "        </td>\n",
       "    </tr>\n",
       "    <tr>\n",
       "        <td>\n",
       "            <strong>\n",
       "                Institution\n",
       "            </strong>\n",
       "        </td>\n",
       "        <td>\n",
       "            Test\n",
       "        </td>\n",
       "    </tr>\n",
       "</table>"
      ],
      "text/plain": [
       "<User 1 at 0x07f1548034f28 name='Test Test'>"
      ]
     },
     "execution_count": 5,
     "metadata": {},
     "output_type": "execute_result"
    }
   ],
   "source": [
    "user = client.me()\n",
    "user"
   ]
  },
  {
   "cell_type": "markdown",
   "metadata": {},
   "source": [
    "#### Creating a Base Model"
   ]
  },
  {
   "cell_type": "markdown",
   "metadata": {},
   "source": [
    "Create a Base Model using ccapi and instantize it with an authenticated client."
   ]
  },
  {
   "cell_type": "code",
   "execution_count": 6,
   "metadata": {
    "scrolled": false
   },
   "outputs": [],
   "source": [
    "model = ccapi.Model(\"Sample Constraint-Based Model\", type_ = \"metabolic\", client = client)\n",
    "# model.save3()"
   ]
  },
  {
   "cell_type": "markdown",
   "metadata": {},
   "source": [
    "A `ccapi.Model` consists of various `ccapi.ModelVersion` objects that help you build various versions to a model. By default, a `ccapi.Model` provides you a default model version of a boolean type. You can override the same by passing the `type_`."
   ]
  },
  {
   "cell_type": "code",
   "execution_count": 7,
   "metadata": {},
   "outputs": [
    {
     "data": {
      "text/html": [
       "<table>\n",
       "    <tr>\n",
       "        <td>\n",
       "            <strong>\n",
       "                ID\n",
       "            </strong>\n",
       "        </td>\n",
       "        <td>\n",
       "            -14721\n",
       "        </td>\n",
       "    </tr>\n",
       "    <tr>\n",
       "        <td>\n",
       "            <strong>\n",
       "                Version\n",
       "            </strong>\n",
       "        </td>\n",
       "        <td>\n",
       "            -38038\n",
       "        </td>\n",
       "    </tr>\n",
       "    <tr>\n",
       "        <td>\n",
       "            <strong>\n",
       "                Name\n",
       "            </strong>\n",
       "        </td>\n",
       "        <td>\n",
       "            Version 1\n",
       "        </td>\n",
       "    </tr>\n",
       "    <tr>\n",
       "        <td>\n",
       "            <strong>\n",
       "                Memory Address\n",
       "            </strong>\n",
       "        </td>\n",
       "        <td>\n",
       "            0x07f1548034eb8\n",
       "        </td>\n",
       "    </tr>\n",
       "    <tr>\n",
       "        <td>\n",
       "            <strong>\n",
       "                Number of Metabolites\n",
       "            </strong>\n",
       "        </td>\n",
       "        <td>\n",
       "            0\n",
       "        </td>\n",
       "    </tr>\n",
       "    <tr>\n",
       "        <td>\n",
       "            <strong>\n",
       "                Metabolites\n",
       "            </strong>\n",
       "        </td>\n",
       "        <td>\n",
       "            \n",
       "        </td>\n",
       "    </tr>\n",
       "    <tr>\n",
       "        <td>\n",
       "            <strong>\n",
       "                Number of Reactions\n",
       "            </strong>\n",
       "        </td>\n",
       "        <td>\n",
       "            0\n",
       "        </td>\n",
       "    </tr>\n",
       "    <tr>\n",
       "        <td>\n",
       "            <strong>\n",
       "                Reactions\n",
       "            </strong>\n",
       "        </td>\n",
       "        <td>\n",
       "            \n",
       "        </td>\n",
       "    </tr>\n",
       "</table>"
      ],
      "text/plain": [
       "<ConstraintBasedModel -14721 version -38038 at 0x07f1548034eb8 name='Version 1'>"
      ]
     },
     "execution_count": 7,
     "metadata": {},
     "output_type": "execute_result"
    }
   ],
   "source": [
    "# get the default model version\n",
    "metabolic      = model.versions[0]\n",
    "metabolic.name = \"Version 1\"\n",
    "metabolic"
   ]
  },
  {
   "cell_type": "markdown",
   "metadata": {},
   "source": [
    "#### Adding Metabolites to a Constraint-Based Model"
   ]
  },
  {
   "cell_type": "markdown",
   "metadata": {},
   "source": [
    "First, we need to create a list of metabolite objects for this model."
   ]
  },
  {
   "cell_type": "code",
   "execution_count": 8,
   "metadata": {},
   "outputs": [],
   "source": [
    "# create compartment\n",
    "compartment   = ccapi.Compartment(\"Cytosol\")\n",
    "\n",
    "# create metabolites\n",
    "\n",
    "malACP_c      = ccapi.Metabolite(\"Malonyl-acyl-carrier-protein\",\n",
    "                                 formula     = \"C14H22N2O10PRS\",\n",
    "                                 compartment = compartment)\n",
    "ACP_c         = ccapi.Metabolite(\"acyl-carrier-protein\",\n",
    "                                 formula     = \"C11H21N2O7PRS\",\n",
    "                                 compartment = compartment)\n",
    "h_c           = ccapi.Metabolite(\"H\",\n",
    "                                 formula     = \"H\",\n",
    "                                 compartment = compartment)\n",
    "ddcaACP_c     = ccapi.Metabolite(\"Dodecanoyl-ACP-n-C120ACP\",\n",
    "                                 formula     = \"C23H43N2O8PRS\",\n",
    "                                 compartment = compartment)\n",
    "co2_c         = ccapi.Metabolite(\"CO2\",\n",
    "                                 formula     = \"CO2\",\n",
    "                                 compartment = compartment)\n",
    "omrsACP_c     = ccapi.Metabolite(\"3-Oxotetradecanoyl-acyl-carrier-protein\",\n",
    "                                 formula     = \"C25H45N2O9PRS\",\n",
    "                                 compartment = compartment)"
   ]
  },
  {
   "cell_type": "markdown",
   "metadata": {},
   "source": [
    "Now let us add a list of components to our Constraint-Based Model."
   ]
  },
  {
   "cell_type": "code",
   "execution_count": 9,
   "metadata": {},
   "outputs": [
    {
     "data": {
      "text/html": [
       "<table>\n",
       "    <tr>\n",
       "        <td>\n",
       "            <strong>\n",
       "                ID\n",
       "            </strong>\n",
       "        </td>\n",
       "        <td>\n",
       "            -14721\n",
       "        </td>\n",
       "    </tr>\n",
       "    <tr>\n",
       "        <td>\n",
       "            <strong>\n",
       "                Version\n",
       "            </strong>\n",
       "        </td>\n",
       "        <td>\n",
       "            -38038\n",
       "        </td>\n",
       "    </tr>\n",
       "    <tr>\n",
       "        <td>\n",
       "            <strong>\n",
       "                Name\n",
       "            </strong>\n",
       "        </td>\n",
       "        <td>\n",
       "            Version 1\n",
       "        </td>\n",
       "    </tr>\n",
       "    <tr>\n",
       "        <td>\n",
       "            <strong>\n",
       "                Memory Address\n",
       "            </strong>\n",
       "        </td>\n",
       "        <td>\n",
       "            0x07f1548034eb8\n",
       "        </td>\n",
       "    </tr>\n",
       "    <tr>\n",
       "        <td>\n",
       "            <strong>\n",
       "                Number of Metabolites\n",
       "            </strong>\n",
       "        </td>\n",
       "        <td>\n",
       "            6\n",
       "        </td>\n",
       "    </tr>\n",
       "    <tr>\n",
       "        <td>\n",
       "            <strong>\n",
       "                Metabolites\n",
       "            </strong>\n",
       "        </td>\n",
       "        <td>\n",
       "            Malonyl-acyl-carrier-protein, acyl-carrier-protein, H, Dodecanoyl-ACP-n-C120ACP, CO2, 3-Oxotetradecanoyl-acyl-carrier-protein\n",
       "        </td>\n",
       "    </tr>\n",
       "    <tr>\n",
       "        <td>\n",
       "            <strong>\n",
       "                Number of Reactions\n",
       "            </strong>\n",
       "        </td>\n",
       "        <td>\n",
       "            0\n",
       "        </td>\n",
       "    </tr>\n",
       "    <tr>\n",
       "        <td>\n",
       "            <strong>\n",
       "                Reactions\n",
       "            </strong>\n",
       "        </td>\n",
       "        <td>\n",
       "            \n",
       "        </td>\n",
       "    </tr>\n",
       "</table>"
      ],
      "text/plain": [
       "<ConstraintBasedModel -14721 version -38038 at 0x07f1548034eb8 name='Version 1'>"
      ]
     },
     "execution_count": 9,
     "metadata": {},
     "output_type": "execute_result"
    }
   ],
   "source": [
    "metabolic.add_metabolites(malACP_c, ACP_c, h_c, ddcaACP_c, co2_c, omrsACP_c)\n",
    "metabolic"
   ]
  },
  {
   "cell_type": "code",
   "execution_count": 10,
   "metadata": {},
   "outputs": [
    {
     "data": {
      "text/html": [
       "\n",
       "                <table>\n",
       "                    <thead>\n",
       "                        <tr>\n",
       "                            <th>ID</th><th>Name</th>\n",
       "                        </tr>\n",
       "                    </thead>\n",
       "                    <tbody>\n",
       "                        <tr><td>-23107</td><td>Cytosol</td></tr>\n",
       "                    </tbody>\n",
       "                </table>\n",
       "            "
      ],
      "text/plain": [
       "[<Compartment -23107 at 0x07f153f3a3048 name='Cytosol'>]"
      ]
     },
     "execution_count": 10,
     "metadata": {},
     "output_type": "execute_result"
    }
   ],
   "source": [
    "metabolic.compartments"
   ]
  },
  {
   "cell_type": "code",
   "execution_count": 11,
   "metadata": {},
   "outputs": [
    {
     "data": {
      "text/html": [
       "\n",
       "                <table>\n",
       "                    <thead>\n",
       "                        <tr>\n",
       "                            <th>ID</th><th>Name</th><th>Compartment</th><th>Formula</th><th>Charge</th>\n",
       "                        </tr>\n",
       "                    </thead>\n",
       "                    <tbody>\n",
       "                        <tr><td>-63265</td><td>Malonyl-acyl-carrier-protein</td><td>Cytosol</td><td>C14H22N2O10PRS</td><td></td></tr><tr><td>-6276</td><td>acyl-carrier-protein</td><td>Cytosol</td><td>C11H21N2O7PRS</td><td></td></tr><tr><td>-43564</td><td>H</td><td>Cytosol</td><td>H</td><td></td></tr><tr><td>-31239</td><td>Dodecanoyl-ACP-n-C120ACP</td><td>Cytosol</td><td>C23H43N2O8PRS</td><td></td></tr><tr><td>-41007</td><td>CO2</td><td>Cytosol</td><td>CO2</td><td></td></tr><tr><td>-8271</td><td>3-Oxotetradecanoyl-acyl-carrier-protein</td><td>Cytosol</td><td>C25H45N2O9PRS</td><td></td></tr>\n",
       "                    </tbody>\n",
       "                </table>\n",
       "            "
      ],
      "text/plain": [
       "[<Metabolite -63265 at 0x07f1548043fd0 name='Malonyl-acyl-carrier-protein'>,\n",
       " <Metabolite -6276 at 0x07f153f3a30f0 name='acyl-carrier-protein'>,\n",
       " <Metabolite -43564 at 0x07f153f3a3160 name='H'>,\n",
       " <Metabolite -31239 at 0x07f153f3a3128 name='Dodecanoyl-ACP-n-C120ACP'>,\n",
       " <Metabolite -41007 at 0x07f153f3a31d0 name='CO2'>,\n",
       " <Metabolite -8271 at 0x07f153f3a3198 name='3-Oxotetradecanoyl-acyl-carrier-p...'>]"
      ]
     },
     "execution_count": 11,
     "metadata": {},
     "output_type": "execute_result"
    }
   ],
   "source": [
    "metabolic.metabolites"
   ]
  },
  {
   "cell_type": "markdown",
   "metadata": {},
   "source": [
    "#### Saving a Model"
   ]
  },
  {
   "cell_type": "markdown",
   "metadata": {},
   "source": [
    "Ensure you save your model in order to commit your work."
   ]
  },
  {
   "cell_type": "code",
   "execution_count": 12,
   "metadata": {},
   "outputs": [],
   "source": [
    "# model.save3()"
   ]
  },
  {
   "cell_type": "code",
   "execution_count": 13,
   "metadata": {},
   "outputs": [
    {
     "data": {
      "text/html": [
       "\n",
       "                <table>\n",
       "                    <thead>\n",
       "                        <tr>\n",
       "                            <th>ID</th><th>Name</th><th>Compartment</th><th>Formula</th><th>Charge</th>\n",
       "                        </tr>\n",
       "                    </thead>\n",
       "                    <tbody>\n",
       "                        <tr><td>-63265</td><td>Malonyl-acyl-carrier-protein</td><td>Cytosol</td><td>C14H22N2O10PRS</td><td></td></tr><tr><td>-6276</td><td>acyl-carrier-protein</td><td>Cytosol</td><td>C11H21N2O7PRS</td><td></td></tr><tr><td>-43564</td><td>H</td><td>Cytosol</td><td>H</td><td></td></tr><tr><td>-31239</td><td>Dodecanoyl-ACP-n-C120ACP</td><td>Cytosol</td><td>C23H43N2O8PRS</td><td></td></tr><tr><td>-41007</td><td>CO2</td><td>Cytosol</td><td>CO2</td><td></td></tr><tr><td>-8271</td><td>3-Oxotetradecanoyl-acyl-carrier-protein</td><td>Cytosol</td><td>C25H45N2O9PRS</td><td></td></tr>\n",
       "                    </tbody>\n",
       "                </table>\n",
       "            "
      ],
      "text/plain": [
       "[<Metabolite -63265 at 0x07f1548043fd0 name='Malonyl-acyl-carrier-protein'>,\n",
       " <Metabolite -6276 at 0x07f153f3a30f0 name='acyl-carrier-protein'>,\n",
       " <Metabolite -43564 at 0x07f153f3a3160 name='H'>,\n",
       " <Metabolite -31239 at 0x07f153f3a3128 name='Dodecanoyl-ACP-n-C120ACP'>,\n",
       " <Metabolite -41007 at 0x07f153f3a31d0 name='CO2'>,\n",
       " <Metabolite -8271 at 0x07f153f3a3198 name='3-Oxotetradecanoyl-acyl-carrier-p...'>]"
      ]
     },
     "execution_count": 13,
     "metadata": {},
     "output_type": "execute_result"
    }
   ],
   "source": [
    "metabolic.metabolites"
   ]
  },
  {
   "cell_type": "markdown",
   "metadata": {},
   "source": [
    "#### Adding Reactions to a Model"
   ]
  },
  {
   "cell_type": "markdown",
   "metadata": {},
   "source": [
    "First, we create a `ccapi.Reaction` object."
   ]
  },
  {
   "cell_type": "code",
   "execution_count": 14,
   "metadata": {},
   "outputs": [],
   "source": [
    "reaction = ccapi.Reaction(\"3 oxoacyl acyl carrier protein synthase n C140\",\n",
    "                         subsystem   = \"Cell Envelope Biosynthesis\",\n",
    "                         lower_bound = 0,\n",
    "                         upper_bound = 1000)"
   ]
  },
  {
   "cell_type": "markdown",
   "metadata": {},
   "source": [
    "Adding metabolites to a reaction requires using a dictionary of the metabolites and their stoichiometric coefficients. A group of metabolites can be added all at once, or they can be added one at a time."
   ]
  },
  {
   "cell_type": "code",
   "execution_count": 15,
   "metadata": {},
   "outputs": [],
   "source": [
    "reaction.add_metabolites({\n",
    "    malACP_c:  -1,\n",
    "    h_c:       -1,\n",
    "    ddcaACP_c: -1,\n",
    "    co2_c:      1,\n",
    "    ACP_c:      1,\n",
    "    omrsACP_c:  1\n",
    "})"
   ]
  },
  {
   "cell_type": "markdown",
   "metadata": {},
   "source": [
    "We will now add a reaction to the model"
   ]
  },
  {
   "cell_type": "code",
   "execution_count": 16,
   "metadata": {},
   "outputs": [],
   "source": [
    "metabolic.add_reaction(reaction)"
   ]
  },
  {
   "cell_type": "code",
   "execution_count": 17,
   "metadata": {},
   "outputs": [],
   "source": [
    "# model.save3()"
   ]
  },
  {
   "cell_type": "code",
   "execution_count": 18,
   "metadata": {},
   "outputs": [
    {
     "data": {
      "text/html": [
       "\n",
       "                <table>\n",
       "                    <thead>\n",
       "                        <tr>\n",
       "                            <th>ID</th><th>Name</th><th>Number of Positive Regulators</th><th>Number of Negative Regulators</th><th>Subsystem</th><th>Lower Bound</th><th>Upper Bound</th>\n",
       "                        </tr>\n",
       "                    </thead>\n",
       "                    <tbody>\n",
       "                        <tr><td>-63591</td><td>3 oxoacyl acyl carrier protein synthase n C140</td><td>0</td><td>0</td><td>Cell Envelope Biosynthesis</td><td>0</td><td>1000</td></tr>\n",
       "                    </tbody>\n",
       "                </table>\n",
       "            "
      ],
      "text/plain": [
       "[<Reaction -63591 at 0x07f15480436d8 name='3 oxoacyl acyl carrier protein sy...'>]"
      ]
     },
     "execution_count": 18,
     "metadata": {},
     "output_type": "execute_result"
    }
   ],
   "source": [
    "metabolic.reactions"
   ]
  },
  {
   "cell_type": "markdown",
   "metadata": {},
   "source": [
    "#### Adding a Gene Reaction Rule to a Reaction"
   ]
  },
  {
   "cell_type": "markdown",
   "metadata": {},
   "source": [
    "In order to add a Gene Reaction Rule to a Reaction, create genes as follows."
   ]
  },
  {
   "cell_type": "code",
   "execution_count": 19,
   "metadata": {},
   "outputs": [],
   "source": [
    "STM2378 = ccapi.Gene(\"STM2378\")\n",
    "STM1197 = ccapi.Gene(\"STM1197\")"
   ]
  },
  {
   "cell_type": "markdown",
   "metadata": {},
   "source": [
    "Let's consider a Gene Reaction Rule as follows\n",
    "\n",
    "```\n",
    "STM2378 or STM1197\n",
    "```\n",
    "\n",
    "You can add the same using the Regulatory Mechanism provided for Boolean Models as follows:"
   ]
  },
  {
   "cell_type": "code",
   "execution_count": 20,
   "metadata": {},
   "outputs": [],
   "source": [
    "reaction.add_regulators(\n",
    "    ccapi.PositiveRegulator(STM2378),\n",
    "    ccapi.PositiveRegulator(STM1197)\n",
    ")"
   ]
  },
  {
   "cell_type": "code",
   "execution_count": 21,
   "metadata": {},
   "outputs": [],
   "source": [
    "# model.save3()"
   ]
  },
  {
   "cell_type": "markdown",
   "metadata": {},
   "source": [
    "#### Creating a Version"
   ]
  },
  {
   "cell_type": "markdown",
   "metadata": {},
   "source": [
    "Let's first create a copy of our Model Version object."
   ]
  },
  {
   "cell_type": "code",
   "execution_count": 22,
   "metadata": {},
   "outputs": [
    {
     "data": {
      "text/html": [
       "<table>\n",
       "    <tr>\n",
       "        <td>\n",
       "            <strong>\n",
       "                ID\n",
       "            </strong>\n",
       "        </td>\n",
       "        <td>\n",
       "            -55322\n",
       "        </td>\n",
       "    </tr>\n",
       "    <tr>\n",
       "        <td>\n",
       "            <strong>\n",
       "                Version\n",
       "            </strong>\n",
       "        </td>\n",
       "        <td>\n",
       "            -38038\n",
       "        </td>\n",
       "    </tr>\n",
       "    <tr>\n",
       "        <td>\n",
       "            <strong>\n",
       "                Name\n",
       "            </strong>\n",
       "        </td>\n",
       "        <td>\n",
       "            Version 1\n",
       "        </td>\n",
       "    </tr>\n",
       "    <tr>\n",
       "        <td>\n",
       "            <strong>\n",
       "                Memory Address\n",
       "            </strong>\n",
       "        </td>\n",
       "        <td>\n",
       "            0x07f15480438d0\n",
       "        </td>\n",
       "    </tr>\n",
       "    <tr>\n",
       "        <td>\n",
       "            <strong>\n",
       "                Number of Metabolites\n",
       "            </strong>\n",
       "        </td>\n",
       "        <td>\n",
       "            6\n",
       "        </td>\n",
       "    </tr>\n",
       "    <tr>\n",
       "        <td>\n",
       "            <strong>\n",
       "                Metabolites\n",
       "            </strong>\n",
       "        </td>\n",
       "        <td>\n",
       "            Malonyl-acyl-carrier-protein, acyl-carrier-protein, H, Dodecanoyl-ACP-n-C120ACP, CO2, 3-Oxotetradecanoyl-acyl-carrier-protein\n",
       "        </td>\n",
       "    </tr>\n",
       "    <tr>\n",
       "        <td>\n",
       "            <strong>\n",
       "                Number of Reactions\n",
       "            </strong>\n",
       "        </td>\n",
       "        <td>\n",
       "            1\n",
       "        </td>\n",
       "    </tr>\n",
       "    <tr>\n",
       "        <td>\n",
       "            <strong>\n",
       "                Reactions\n",
       "            </strong>\n",
       "        </td>\n",
       "        <td>\n",
       "            3 oxoacyl acyl carrier protein synthase n C140\n",
       "        </td>\n",
       "    </tr>\n",
       "</table>"
      ],
      "text/plain": [
       "<ConstraintBasedModel -55322 version -38038 at 0x07f15480438d0 name='Version 1'>"
      ]
     },
     "execution_count": 22,
     "metadata": {},
     "output_type": "execute_result"
    }
   ],
   "source": [
    "copy = metabolic.copy()\n",
    "copy"
   ]
  },
  {
   "cell_type": "markdown",
   "metadata": {},
   "source": [
    "Let's change any one of the metabolite names."
   ]
  },
  {
   "cell_type": "code",
   "execution_count": 23,
   "metadata": {},
   "outputs": [
    {
     "data": {
      "text/html": [
       "\n",
       "                <table>\n",
       "                    <thead>\n",
       "                        <tr>\n",
       "                            <th>ID</th><th>Name</th><th>Compartment</th><th>Formula</th><th>Charge</th>\n",
       "                        </tr>\n",
       "                    </thead>\n",
       "                    <tbody>\n",
       "                        <tr><td>-12389</td><td>foobar</td><td>Cytosol</td><td>C14H22N2O10PRS</td><td></td></tr><tr><td>-48999</td><td>acyl-carrier-protein</td><td>Cytosol</td><td>C11H21N2O7PRS</td><td></td></tr><tr><td>-39294</td><td>H</td><td>Cytosol</td><td>H</td><td></td></tr><tr><td>-52464</td><td>Dodecanoyl-ACP-n-C120ACP</td><td>Cytosol</td><td>C23H43N2O8PRS</td><td></td></tr><tr><td>-34898</td><td>CO2</td><td>Cytosol</td><td>CO2</td><td></td></tr><tr><td>-64494</td><td>3-Oxotetradecanoyl-acyl-carrier-protein</td><td>Cytosol</td><td>C25H45N2O9PRS</td><td></td></tr>\n",
       "                    </tbody>\n",
       "                </table>\n",
       "            "
      ],
      "text/plain": [
       "[<Metabolite -12389 at 0x07f153f3a3438 name='foobar'>,\n",
       " <Metabolite -48999 at 0x07f153f3a35f8 name='acyl-carrier-protein'>,\n",
       " <Metabolite -39294 at 0x07f153f3a36d8 name='H'>,\n",
       " <Metabolite -52464 at 0x07f153f3a37b8 name='Dodecanoyl-ACP-n-C120ACP'>,\n",
       " <Metabolite -34898 at 0x07f153f3a3898 name='CO2'>,\n",
       " <Metabolite -64494 at 0x07f153f3a3978 name='3-Oxotetradecanoyl-acyl-carrier-p...'>]"
      ]
     },
     "execution_count": 23,
     "metadata": {},
     "output_type": "execute_result"
    }
   ],
   "source": [
    "metabolite      = copy.metabolites[0]\n",
    "metabolite.name = \"foobar\"\n",
    "\n",
    "copy.metabolites"
   ]
  },
  {
   "cell_type": "markdown",
   "metadata": {},
   "source": [
    "Add this new version to your model."
   ]
  },
  {
   "cell_type": "code",
   "execution_count": 24,
   "metadata": {},
   "outputs": [],
   "source": [
    "model.add_version(copy)"
   ]
  },
  {
   "cell_type": "code",
   "execution_count": 25,
   "metadata": {
    "scrolled": true
   },
   "outputs": [
    {
     "data": {
      "text/html": [
       "<table>\n",
       "    <tr>\n",
       "        <td>\n",
       "            <strong>\n",
       "                ID\n",
       "            </strong>\n",
       "        </td>\n",
       "        <td>\n",
       "            1\n",
       "        </td>\n",
       "    </tr>\n",
       "    <tr>\n",
       "        <td>\n",
       "            <strong>\n",
       "                Name\n",
       "            </strong>\n",
       "        </td>\n",
       "        <td>\n",
       "            Sample Constraint-Based Model\n",
       "        </td>\n",
       "    </tr>\n",
       "    <tr>\n",
       "        <td>\n",
       "            <strong>\n",
       "                Memory Address\n",
       "            </strong>\n",
       "        </td>\n",
       "        <td>\n",
       "            0x07f1548034da0\n",
       "        </td>\n",
       "    </tr>\n",
       "    <tr>\n",
       "        <td>\n",
       "            <strong>\n",
       "                Number of Versions\n",
       "            </strong>\n",
       "        </td>\n",
       "        <td>\n",
       "            2\n",
       "        </td>\n",
       "    </tr>\n",
       "    <tr>\n",
       "        <td>\n",
       "            <strong>\n",
       "                Versions\n",
       "            </strong>\n",
       "        </td>\n",
       "        <td>\n",
       "            [&lt;ConstraintBasedModel 1 version 2 at 0x07f1548034eb8 name='Version 1'&gt;, &lt;ConstraintBasedModel 1 version 2 at 0x07f15480438d0 name='Version 1'&gt;]\n",
       "        </td>\n",
       "    </tr>\n",
       "</table>"
      ],
      "text/plain": [
       "<Model 1 at 0x07f1548034da0 name='Sample Constraint-Based Model'>"
      ]
     },
     "execution_count": 25,
     "metadata": {},
     "output_type": "execute_result"
    }
   ],
   "source": [
    "model.save3()"
   ]
  },
  {
   "cell_type": "markdown",
   "metadata": {},
   "source": [
    "#### Dynamic Linking [Experimental]"
   ]
  },
  {
   "cell_type": "markdown",
   "metadata": {},
   "source": [
    "Let's assume that you'd like to reuse certain components within a model."
   ]
  },
  {
   "cell_type": "code",
   "execution_count": 26,
   "metadata": {},
   "outputs": [],
   "source": [
    "model     = ccapi.Model(\"Test\", type_ = \"metabolic\", client = client)\n",
    "# model.save3()"
   ]
  },
  {
   "cell_type": "code",
   "execution_count": 27,
   "metadata": {},
   "outputs": [
    {
     "data": {
      "text/html": [
       "<table>\n",
       "    <tr>\n",
       "        <td>\n",
       "            <strong>\n",
       "                ID\n",
       "            </strong>\n",
       "        </td>\n",
       "        <td>\n",
       "            -47299\n",
       "        </td>\n",
       "    </tr>\n",
       "    <tr>\n",
       "        <td>\n",
       "            <strong>\n",
       "                Version\n",
       "            </strong>\n",
       "        </td>\n",
       "        <td>\n",
       "            -2636\n",
       "        </td>\n",
       "    </tr>\n",
       "    <tr>\n",
       "        <td>\n",
       "            <strong>\n",
       "                Name\n",
       "            </strong>\n",
       "        </td>\n",
       "        <td>\n",
       "            \n",
       "        </td>\n",
       "    </tr>\n",
       "    <tr>\n",
       "        <td>\n",
       "            <strong>\n",
       "                Memory Address\n",
       "            </strong>\n",
       "        </td>\n",
       "        <td>\n",
       "            0x07f153f3b4be0\n",
       "        </td>\n",
       "    </tr>\n",
       "    <tr>\n",
       "        <td>\n",
       "            <strong>\n",
       "                Number of Metabolites\n",
       "            </strong>\n",
       "        </td>\n",
       "        <td>\n",
       "            0\n",
       "        </td>\n",
       "    </tr>\n",
       "    <tr>\n",
       "        <td>\n",
       "            <strong>\n",
       "                Metabolites\n",
       "            </strong>\n",
       "        </td>\n",
       "        <td>\n",
       "            \n",
       "        </td>\n",
       "    </tr>\n",
       "    <tr>\n",
       "        <td>\n",
       "            <strong>\n",
       "                Number of Reactions\n",
       "            </strong>\n",
       "        </td>\n",
       "        <td>\n",
       "            0\n",
       "        </td>\n",
       "    </tr>\n",
       "    <tr>\n",
       "        <td>\n",
       "            <strong>\n",
       "                Reactions\n",
       "            </strong>\n",
       "        </td>\n",
       "        <td>\n",
       "            \n",
       "        </td>\n",
       "    </tr>\n",
       "</table>"
      ],
      "text/plain": [
       "<ConstraintBasedModel -47299 version -2636 at 0x07f153f3b4be0>"
      ]
     },
     "execution_count": 27,
     "metadata": {},
     "output_type": "execute_result"
    }
   ],
   "source": [
    "metabolic = model.versions[0]\n",
    "metabolic"
   ]
  },
  {
   "cell_type": "code",
   "execution_count": 28,
   "metadata": {},
   "outputs": [],
   "source": [
    "compartment = ccapi.Compartment(compartment_id = 1) # Linking to an existing Compartment\n",
    "metabolite  = ccapi.Metabolite(\"test\", compartment = compartment)\n",
    "\n",
    "metabolic.add_metabolite(metabolite)"
   ]
  },
  {
   "cell_type": "code",
   "execution_count": 29,
   "metadata": {},
   "outputs": [
    {
     "data": {
      "text/html": [
       "<table>\n",
       "    <tr>\n",
       "        <td>\n",
       "            <strong>\n",
       "                ID\n",
       "            </strong>\n",
       "        </td>\n",
       "        <td>\n",
       "            2\n",
       "        </td>\n",
       "    </tr>\n",
       "    <tr>\n",
       "        <td>\n",
       "            <strong>\n",
       "                Name\n",
       "            </strong>\n",
       "        </td>\n",
       "        <td>\n",
       "            Test\n",
       "        </td>\n",
       "    </tr>\n",
       "    <tr>\n",
       "        <td>\n",
       "            <strong>\n",
       "                Memory Address\n",
       "            </strong>\n",
       "        </td>\n",
       "        <td>\n",
       "            0x07f153f3b4ac8\n",
       "        </td>\n",
       "    </tr>\n",
       "    <tr>\n",
       "        <td>\n",
       "            <strong>\n",
       "                Number of Versions\n",
       "            </strong>\n",
       "        </td>\n",
       "        <td>\n",
       "            1\n",
       "        </td>\n",
       "    </tr>\n",
       "    <tr>\n",
       "        <td>\n",
       "            <strong>\n",
       "                Versions\n",
       "            </strong>\n",
       "        </td>\n",
       "        <td>\n",
       "            [&lt;ConstraintBasedModel 2 version 3 at 0x07f153f3b4be0&gt;]\n",
       "        </td>\n",
       "    </tr>\n",
       "</table>"
      ],
      "text/plain": [
       "<Model 2 at 0x07f153f3b4ac8 name='Test'>"
      ]
     },
     "execution_count": 29,
     "metadata": {},
     "output_type": "execute_result"
    }
   ],
   "source": [
    "model.save3()"
   ]
  }
 ],
 "metadata": {
  "kernelspec": {
   "display_name": "Python 3",
   "language": "python",
   "name": "python3"
  },
  "language_info": {
   "codemirror_mode": {
    "name": "ipython",
    "version": 3
   },
   "file_extension": ".py",
   "mimetype": "text/x-python",
   "name": "python",
   "nbconvert_exporter": "python",
   "pygments_lexer": "ipython3",
   "version": "3.6.9"
  }
 },
 "nbformat": 4,
 "nbformat_minor": 2
}
