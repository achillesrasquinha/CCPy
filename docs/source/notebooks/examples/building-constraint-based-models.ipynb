{
 "cells": [
  {
   "cell_type": "code",
   "execution_count": 1,
   "metadata": {},
   "outputs": [],
   "source": [
    "import ccapi\n",
    "\n",
    "config         = ccapi.Configuration()\n",
    "config.url     = \"http://localhost:5000\"\n",
    "# config.verbose = True"
   ]
  },
  {
   "cell_type": "markdown",
   "metadata": {},
   "source": [
    "### Building a Constraint-Based Model"
   ]
  },
  {
   "cell_type": "markdown",
   "metadata": {},
   "source": [
    "This simple example demonstrates how to create a constraint-based model, its metabolites, reactions, genes, etc. into [Cell Collective](https://cellcollective.org).\n",
    "\n",
    "We’ll use the `3OAS140` reaction from the `STM_1.0 model`:\n",
    "\n",
    "```\n",
    "1.0 malACP[c] + 1.0 h[c] + 1.0 ddcaACP[c] → 1.0 co2[c] + 1.0 ACP[c] + 1.0 3omrsACP[c]\n",
    "```\n",
    "\n",
    "Begin by importing the ccapi module into your workspace."
   ]
  },
  {
   "cell_type": "code",
   "execution_count": 30,
   "metadata": {},
   "outputs": [],
   "source": [
    "import ccapi"
   ]
  },
  {
   "cell_type": "markdown",
   "metadata": {},
   "source": [
    "Now, let’s try creating a client object in order to interact with services provided by [Cell Collective](https://cellcollective.org)."
   ]
  },
  {
   "cell_type": "code",
   "execution_count": 31,
   "metadata": {},
   "outputs": [],
   "source": [
    "client = ccapi.Client()"
   ]
  },
  {
   "cell_type": "markdown",
   "metadata": {},
   "source": [
    "Authenticate your client using a ***password flow type authentication*** scheme.\n",
    "\n",
    "**NOTE**: *Before you can authenticate using ccapi, you must first register an application of the appropriate type on [Cell Collective](https://cellcollective.org). If you do not require a user context, it is read only.*"
   ]
  },
  {
   "cell_type": "code",
   "execution_count": 32,
   "metadata": {},
   "outputs": [],
   "source": [
    "def authenticate():\n",
    "    client.auth(email = \"test@cellcollective.org\", password = \"test\")\n",
    "\n",
    "try:\n",
    "    authenticate()\n",
    "except ccapi.exception.AuthenticationError:\n",
    "    client.sign_up(\n",
    "        email       = \"test@cellcollective.org\",\n",
    "        password    = \"test\",\n",
    "        first_name  = \"Test\",\n",
    "        last_name   = \"Test\",\n",
    "        institution = \"Test\"\n",
    "    )\n",
    "    \n",
    "    authenticate()"
   ]
  },
  {
   "cell_type": "code",
   "execution_count": 33,
   "metadata": {},
   "outputs": [
    {
     "data": {
      "text/html": [
       "<table>\n",
       "    <tr>\n",
       "        <td>\n",
       "            <strong>\n",
       "                ID\n",
       "            </strong>\n",
       "        </td>\n",
       "        <td>\n",
       "            1\n",
       "        </td>\n",
       "    </tr>\n",
       "    <tr>\n",
       "        <td>\n",
       "            <strong>\n",
       "                Name\n",
       "            </strong>\n",
       "        </td>\n",
       "        <td>\n",
       "            Test Test\n",
       "        </td>\n",
       "    </tr>\n",
       "    <tr>\n",
       "        <td>\n",
       "            <strong>\n",
       "                Memory Address\n",
       "            </strong>\n",
       "        </td>\n",
       "        <td>\n",
       "            0x07f153f3b4f98\n",
       "        </td>\n",
       "    </tr>\n",
       "    <tr>\n",
       "        <td>\n",
       "            <strong>\n",
       "                First Name\n",
       "            </strong>\n",
       "        </td>\n",
       "        <td>\n",
       "            Test\n",
       "        </td>\n",
       "    </tr>\n",
       "    <tr>\n",
       "        <td>\n",
       "            <strong>\n",
       "                Last Name\n",
       "            </strong>\n",
       "        </td>\n",
       "        <td>\n",
       "            Test\n",
       "        </td>\n",
       "    </tr>\n",
       "    <tr>\n",
       "        <td>\n",
       "            <strong>\n",
       "                Email Address\n",
       "            </strong>\n",
       "        </td>\n",
       "        <td>\n",
       "            test@cellcollective.org\n",
       "        </td>\n",
       "    </tr>\n",
       "    <tr>\n",
       "        <td>\n",
       "            <strong>\n",
       "                Institution\n",
       "            </strong>\n",
       "        </td>\n",
       "        <td>\n",
       "            Test\n",
       "        </td>\n",
       "    </tr>\n",
       "</table>"
      ],
      "text/plain": [
       "<User 1 at 0x07f153f3b4f98 name='Test Test'>"
      ]
     },
     "execution_count": 33,
     "metadata": {},
     "output_type": "execute_result"
    }
   ],
   "source": [
    "user = client.me()\n",
    "user"
   ]
  },
  {
   "cell_type": "markdown",
   "metadata": {},
   "source": [
    "#### Creating a Base Model"
   ]
  },
  {
   "cell_type": "markdown",
   "metadata": {},
   "source": [
    "Create a Base Model using ccapi and instantize it with an authenticated client."
   ]
  },
  {
   "cell_type": "code",
   "execution_count": 35,
   "metadata": {
    "scrolled": false
   },
   "outputs": [
    {
     "data": {
      "text/html": [
       "<table>\n",
       "    <tr>\n",
       "        <td>\n",
       "            <strong>\n",
       "                ID\n",
       "            </strong>\n",
       "        </td>\n",
       "        <td>\n",
       "            -5319\n",
       "        </td>\n",
       "    </tr>\n",
       "    <tr>\n",
       "        <td>\n",
       "            <strong>\n",
       "                Name\n",
       "            </strong>\n",
       "        </td>\n",
       "        <td>\n",
       "            Sample Constraint-Based Model\n",
       "        </td>\n",
       "    </tr>\n",
       "    <tr>\n",
       "        <td>\n",
       "            <strong>\n",
       "                Memory Address\n",
       "            </strong>\n",
       "        </td>\n",
       "        <td>\n",
       "            0x07f153f3b4898\n",
       "        </td>\n",
       "    </tr>\n",
       "    <tr>\n",
       "        <td>\n",
       "            <strong>\n",
       "                Number of Versions\n",
       "            </strong>\n",
       "        </td>\n",
       "        <td>\n",
       "            1\n",
       "        </td>\n",
       "    </tr>\n",
       "    <tr>\n",
       "        <td>\n",
       "            <strong>\n",
       "                Versions\n",
       "            </strong>\n",
       "        </td>\n",
       "        <td>\n",
       "            [&lt;ConstraintBasedModel -42555 version -12223 at 0x07f153f3b4320&gt;]\n",
       "        </td>\n",
       "    </tr>\n",
       "</table>"
      ],
      "text/plain": [
       "<Model -5319 at 0x07f153f3b4898 name='Sample Constraint-Based Model'>"
      ]
     },
     "execution_count": 35,
     "metadata": {},
     "output_type": "execute_result"
    }
   ],
   "source": [
    "model = ccapi.Model(\"Sample Constraint-Based Model\", type_ = \"metabolic\", client = client)\n",
    "# model.save3()\n",
    "model"
   ]
  },
  {
   "cell_type": "markdown",
   "metadata": {},
   "source": [
    "A `ccapi.Model` consists of various `ccapi.ModelVersion` objects that help you build various versions to a model. By default, a `ccapi.Model` provides you a default model version of a boolean type. You can override the same by passing the `type_`."
   ]
  },
  {
   "cell_type": "code",
   "execution_count": 36,
   "metadata": {},
   "outputs": [
    {
     "data": {
      "text/html": [
       "<table>\n",
       "    <tr>\n",
       "        <td>\n",
       "            <strong>\n",
       "                ID\n",
       "            </strong>\n",
       "        </td>\n",
       "        <td>\n",
       "            -42555\n",
       "        </td>\n",
       "    </tr>\n",
       "    <tr>\n",
       "        <td>\n",
       "            <strong>\n",
       "                Version\n",
       "            </strong>\n",
       "        </td>\n",
       "        <td>\n",
       "            -12223\n",
       "        </td>\n",
       "    </tr>\n",
       "    <tr>\n",
       "        <td>\n",
       "            <strong>\n",
       "                Name\n",
       "            </strong>\n",
       "        </td>\n",
       "        <td>\n",
       "            Version 1\n",
       "        </td>\n",
       "    </tr>\n",
       "    <tr>\n",
       "        <td>\n",
       "            <strong>\n",
       "                Memory Address\n",
       "            </strong>\n",
       "        </td>\n",
       "        <td>\n",
       "            0x07f153f3b4320\n",
       "        </td>\n",
       "    </tr>\n",
       "    <tr>\n",
       "        <td>\n",
       "            <strong>\n",
       "                Number of Metabolites\n",
       "            </strong>\n",
       "        </td>\n",
       "        <td>\n",
       "            0\n",
       "        </td>\n",
       "    </tr>\n",
       "    <tr>\n",
       "        <td>\n",
       "            <strong>\n",
       "                Metabolites\n",
       "            </strong>\n",
       "        </td>\n",
       "        <td>\n",
       "            \n",
       "        </td>\n",
       "    </tr>\n",
       "    <tr>\n",
       "        <td>\n",
       "            <strong>\n",
       "                Number of Reactions\n",
       "            </strong>\n",
       "        </td>\n",
       "        <td>\n",
       "            0\n",
       "        </td>\n",
       "    </tr>\n",
       "    <tr>\n",
       "        <td>\n",
       "            <strong>\n",
       "                Reactions\n",
       "            </strong>\n",
       "        </td>\n",
       "        <td>\n",
       "            \n",
       "        </td>\n",
       "    </tr>\n",
       "</table>"
      ],
      "text/plain": [
       "<ConstraintBasedModel -42555 version -12223 at 0x07f153f3b4320 name='Version 1'>"
      ]
     },
     "execution_count": 36,
     "metadata": {},
     "output_type": "execute_result"
    }
   ],
   "source": [
    "# get the default model version\n",
    "metabolic      = model.versions[0]\n",
    "metabolic.name = \"Version 1\"\n",
    "metabolic"
   ]
  },
  {
   "cell_type": "markdown",
   "metadata": {},
   "source": [
    "#### Adding Metabolites to a Constraint-Based Model"
   ]
  },
  {
   "cell_type": "markdown",
   "metadata": {},
   "source": [
    "First, we need to create a list of metabolite objects for this model."
   ]
  },
  {
   "cell_type": "code",
   "execution_count": 37,
   "metadata": {},
   "outputs": [],
   "source": [
    "# create compartment\n",
    "compartment   = ccapi.Compartment(\"Cytosol\")\n",
    "\n",
    "# create metabolites\n",
    "\n",
    "malACP_c      = ccapi.Metabolite(\"Malonyl-acyl-carrier-protein\",\n",
    "                                 formula     = \"C14H22N2O10PRS\",\n",
    "                                 compartment = compartment)\n",
    "ACP_c         = ccapi.Metabolite(\"acyl-carrier-protein\",\n",
    "                                 formula     = \"C11H21N2O7PRS\",\n",
    "                                 compartment = compartment)\n",
    "h_c           = ccapi.Metabolite(\"H\",\n",
    "                                 formula     = \"H\",\n",
    "                                 compartment = compartment)\n",
    "ddcaACP_c     = ccapi.Metabolite(\"Dodecanoyl-ACP-n-C120ACP\",\n",
    "                                 formula     = \"C23H43N2O8PRS\",\n",
    "                                 compartment = compartment)\n",
    "co2_c         = ccapi.Metabolite(\"CO2\",\n",
    "                                 formula     = \"CO2\",\n",
    "                                 compartment = compartment)\n",
    "omrsACP_c     = ccapi.Metabolite(\"3-Oxotetradecanoyl-acyl-carrier-protein\",\n",
    "                                 formula     = \"C25H45N2O9PRS\",\n",
    "                                 compartment = compartment)"
   ]
  },
  {
   "cell_type": "markdown",
   "metadata": {},
   "source": [
    "Now let us add a list of components to our Constraint-Based Model."
   ]
  },
  {
   "cell_type": "code",
   "execution_count": 38,
   "metadata": {},
   "outputs": [
    {
     "data": {
      "text/html": [
       "<table>\n",
       "    <tr>\n",
       "        <td>\n",
       "            <strong>\n",
       "                ID\n",
       "            </strong>\n",
       "        </td>\n",
       "        <td>\n",
       "            -42555\n",
       "        </td>\n",
       "    </tr>\n",
       "    <tr>\n",
       "        <td>\n",
       "            <strong>\n",
       "                Version\n",
       "            </strong>\n",
       "        </td>\n",
       "        <td>\n",
       "            -12223\n",
       "        </td>\n",
       "    </tr>\n",
       "    <tr>\n",
       "        <td>\n",
       "            <strong>\n",
       "                Name\n",
       "            </strong>\n",
       "        </td>\n",
       "        <td>\n",
       "            Version 1\n",
       "        </td>\n",
       "    </tr>\n",
       "    <tr>\n",
       "        <td>\n",
       "            <strong>\n",
       "                Memory Address\n",
       "            </strong>\n",
       "        </td>\n",
       "        <td>\n",
       "            0x07f153f3b4320\n",
       "        </td>\n",
       "    </tr>\n",
       "    <tr>\n",
       "        <td>\n",
       "            <strong>\n",
       "                Number of Metabolites\n",
       "            </strong>\n",
       "        </td>\n",
       "        <td>\n",
       "            6\n",
       "        </td>\n",
       "    </tr>\n",
       "    <tr>\n",
       "        <td>\n",
       "            <strong>\n",
       "                Metabolites\n",
       "            </strong>\n",
       "        </td>\n",
       "        <td>\n",
       "            Malonyl-acyl-carrier-protein, acyl-carrier-protein, H, Dodecanoyl-ACP-n-C120ACP, CO2, 3-Oxotetradecanoyl-acyl-carrier-protein\n",
       "        </td>\n",
       "    </tr>\n",
       "    <tr>\n",
       "        <td>\n",
       "            <strong>\n",
       "                Number of Reactions\n",
       "            </strong>\n",
       "        </td>\n",
       "        <td>\n",
       "            0\n",
       "        </td>\n",
       "    </tr>\n",
       "    <tr>\n",
       "        <td>\n",
       "            <strong>\n",
       "                Reactions\n",
       "            </strong>\n",
       "        </td>\n",
       "        <td>\n",
       "            \n",
       "        </td>\n",
       "    </tr>\n",
       "</table>"
      ],
      "text/plain": [
       "<ConstraintBasedModel -42555 version -12223 at 0x07f153f3b4320 name='Version 1'>"
      ]
     },
     "execution_count": 38,
     "metadata": {},
     "output_type": "execute_result"
    }
   ],
   "source": [
    "metabolic.add_metabolites(malACP_c, ACP_c, h_c, ddcaACP_c, co2_c, omrsACP_c)\n",
    "metabolic"
   ]
  },
  {
   "cell_type": "code",
   "execution_count": 39,
   "metadata": {},
   "outputs": [
    {
     "data": {
      "text/html": [
       "\n",
       "                <table>\n",
       "                    <thead>\n",
       "                        <tr>\n",
       "                            <th>ID</th><th>Name</th>\n",
       "                        </tr>\n",
       "                    </thead>\n",
       "                    <tbody>\n",
       "                        <tr><td>-3313</td><td>Cytosol</td></tr>\n",
       "                    </tbody>\n",
       "                </table>\n",
       "            "
      ],
      "text/plain": [
       "[<Compartment -3313 at 0x07f153f3b8cc0 name='Cytosol'>]"
      ]
     },
     "execution_count": 39,
     "metadata": {},
     "output_type": "execute_result"
    }
   ],
   "source": [
    "metabolic.compartments"
   ]
  },
  {
   "cell_type": "code",
   "execution_count": 40,
   "metadata": {},
   "outputs": [
    {
     "data": {
      "text/html": [
       "\n",
       "                <table>\n",
       "                    <thead>\n",
       "                        <tr>\n",
       "                            <th>ID</th><th>Name</th><th>Compartment</th><th>Formula</th><th>Charge</th>\n",
       "                        </tr>\n",
       "                    </thead>\n",
       "                    <tbody>\n",
       "                        <tr><td>-64710</td><td>Malonyl-acyl-carrier-protein</td><td>Cytosol</td><td>C14H22N2O10PRS</td><td></td></tr><tr><td>-25285</td><td>acyl-carrier-protein</td><td>Cytosol</td><td>C11H21N2O7PRS</td><td></td></tr><tr><td>-52385</td><td>H</td><td>Cytosol</td><td>H</td><td></td></tr><tr><td>-33480</td><td>Dodecanoyl-ACP-n-C120ACP</td><td>Cytosol</td><td>C23H43N2O8PRS</td><td></td></tr><tr><td>-64851</td><td>CO2</td><td>Cytosol</td><td>CO2</td><td></td></tr><tr><td>-49613</td><td>3-Oxotetradecanoyl-acyl-carrier-protein</td><td>Cytosol</td><td>C25H45N2O9PRS</td><td></td></tr>\n",
       "                    </tbody>\n",
       "                </table>\n",
       "            "
      ],
      "text/plain": [
       "[<Metabolite -64710 at 0x07f153f3b8c88 name='Malonyl-acyl-carrier-protein'>,\n",
       " <Metabolite -25285 at 0x07f153f3b8d68 name='acyl-carrier-protein'>,\n",
       " <Metabolite -52385 at 0x07f153f3b8dd8 name='H'>,\n",
       " <Metabolite -33480 at 0x07f153f3b8da0 name='Dodecanoyl-ACP-n-C120ACP'>,\n",
       " <Metabolite -64851 at 0x07f153f3b8e48 name='CO2'>,\n",
       " <Metabolite -49613 at 0x07f153f3b8e10 name='3-Oxotetradecanoyl-acyl-carrier-p...'>]"
      ]
     },
     "execution_count": 40,
     "metadata": {},
     "output_type": "execute_result"
    }
   ],
   "source": [
    "metabolic.metabolites"
   ]
  },
  {
   "cell_type": "markdown",
   "metadata": {},
   "source": [
    "#### Saving a Model"
   ]
  },
  {
   "cell_type": "markdown",
   "metadata": {},
   "source": [
    "Ensure you save your model in order to commit your work."
   ]
  },
  {
   "cell_type": "code",
   "execution_count": 41,
   "metadata": {},
   "outputs": [],
   "source": [
    "# model.save3()"
   ]
  },
  {
   "cell_type": "code",
   "execution_count": 42,
   "metadata": {},
   "outputs": [
    {
     "data": {
      "text/html": [
       "\n",
       "                <table>\n",
       "                    <thead>\n",
       "                        <tr>\n",
       "                            <th>ID</th><th>Name</th><th>Compartment</th><th>Formula</th><th>Charge</th>\n",
       "                        </tr>\n",
       "                    </thead>\n",
       "                    <tbody>\n",
       "                        <tr><td>-64710</td><td>Malonyl-acyl-carrier-protein</td><td>Cytosol</td><td>C14H22N2O10PRS</td><td></td></tr><tr><td>-25285</td><td>acyl-carrier-protein</td><td>Cytosol</td><td>C11H21N2O7PRS</td><td></td></tr><tr><td>-52385</td><td>H</td><td>Cytosol</td><td>H</td><td></td></tr><tr><td>-33480</td><td>Dodecanoyl-ACP-n-C120ACP</td><td>Cytosol</td><td>C23H43N2O8PRS</td><td></td></tr><tr><td>-64851</td><td>CO2</td><td>Cytosol</td><td>CO2</td><td></td></tr><tr><td>-49613</td><td>3-Oxotetradecanoyl-acyl-carrier-protein</td><td>Cytosol</td><td>C25H45N2O9PRS</td><td></td></tr>\n",
       "                    </tbody>\n",
       "                </table>\n",
       "            "
      ],
      "text/plain": [
       "[<Metabolite -64710 at 0x07f153f3b8c88 name='Malonyl-acyl-carrier-protein'>,\n",
       " <Metabolite -25285 at 0x07f153f3b8d68 name='acyl-carrier-protein'>,\n",
       " <Metabolite -52385 at 0x07f153f3b8dd8 name='H'>,\n",
       " <Metabolite -33480 at 0x07f153f3b8da0 name='Dodecanoyl-ACP-n-C120ACP'>,\n",
       " <Metabolite -64851 at 0x07f153f3b8e48 name='CO2'>,\n",
       " <Metabolite -49613 at 0x07f153f3b8e10 name='3-Oxotetradecanoyl-acyl-carrier-p...'>]"
      ]
     },
     "execution_count": 42,
     "metadata": {},
     "output_type": "execute_result"
    }
   ],
   "source": [
    "metabolic.metabolites"
   ]
  },
  {
   "cell_type": "markdown",
   "metadata": {},
   "source": [
    "#### Adding Reactions to a Model"
   ]
  },
  {
   "cell_type": "markdown",
   "metadata": {},
   "source": [
    "First, we create a `ccapi.Reaction` object."
   ]
  },
  {
   "cell_type": "code",
   "execution_count": 43,
   "metadata": {},
   "outputs": [],
   "source": [
    "reaction = ccapi.Reaction(\"3 oxoacyl acyl carrier protein synthase n C140\",\n",
    "                         subsystem   = \"Cell Envelope Biosynthesis\",\n",
    "                         lower_bound = 0,\n",
    "                         upper_bound = 1000)"
   ]
  },
  {
   "cell_type": "markdown",
   "metadata": {},
   "source": [
    "Adding metabolites to a reaction requires using a dictionary of the metabolites and their stoichiometric coefficients. A group of metabolites can be added all at once, or they can be added one at a time."
   ]
  },
  {
   "cell_type": "code",
   "execution_count": 44,
   "metadata": {},
   "outputs": [],
   "source": [
    "reaction.add_metabolites({\n",
    "    malACP_c:  -1,\n",
    "    h_c:       -1,\n",
    "    ddcaACP_c: -1,\n",
    "    co2_c:      1,\n",
    "    ACP_c:      1,\n",
    "    omrsACP_c:  1\n",
    "})"
   ]
  },
  {
   "cell_type": "markdown",
   "metadata": {},
   "source": [
    "We will now add a reaction to the model"
   ]
  },
  {
   "cell_type": "code",
   "execution_count": 45,
   "metadata": {},
   "outputs": [],
   "source": [
    "metabolic.add_reaction(reaction)"
   ]
  },
  {
   "cell_type": "code",
   "execution_count": 46,
   "metadata": {},
   "outputs": [],
   "source": [
    "# model.save3()"
   ]
  },
  {
   "cell_type": "code",
   "execution_count": 47,
   "metadata": {},
   "outputs": [
    {
     "data": {
      "text/html": [
       "\n",
       "                <table>\n",
       "                    <thead>\n",
       "                        <tr>\n",
       "                            <th>ID</th><th>Name</th><th>Number of Positive Regulators</th><th>Number of Negative Regulators</th><th>Subsystem</th><th>Lower Bound</th><th>Upper Bound</th>\n",
       "                        </tr>\n",
       "                    </thead>\n",
       "                    <tbody>\n",
       "                        <tr><td>-62861</td><td>3 oxoacyl acyl carrier protein synthase n C140</td><td>0</td><td>0</td><td>Cell Envelope Biosynthesis</td><td>0</td><td>1000</td></tr>\n",
       "                    </tbody>\n",
       "                </table>\n",
       "            "
      ],
      "text/plain": [
       "[<Reaction -62861 at 0x07f153f3b8278 name='3 oxoacyl acyl carrier protein sy...'>]"
      ]
     },
     "execution_count": 47,
     "metadata": {},
     "output_type": "execute_result"
    }
   ],
   "source": [
    "metabolic.reactions"
   ]
  },
  {
   "cell_type": "markdown",
   "metadata": {},
   "source": [
    "#### Adding a Gene Reaction Rule to a Reaction"
   ]
  },
  {
   "cell_type": "markdown",
   "metadata": {},
   "source": [
    "In order to add a Gene Reaction Rule to a Reaction, create genes as follows."
   ]
  },
  {
   "cell_type": "code",
   "execution_count": 48,
   "metadata": {},
   "outputs": [],
   "source": [
    "STM2378 = ccapi.Gene(\"STM2378\")\n",
    "STM1197 = ccapi.Gene(\"STM1197\")"
   ]
  },
  {
   "cell_type": "markdown",
   "metadata": {},
   "source": [
    "Let's consider a Gene Reaction Rule as follows\n",
    "\n",
    "```\n",
    "STM2378 or STM1197\n",
    "```\n",
    "\n",
    "You can add the same using the Regulatory Mechanism provided for Boolean Models as follows:"
   ]
  },
  {
   "cell_type": "code",
   "execution_count": 49,
   "metadata": {},
   "outputs": [],
   "source": [
    "reaction.add_regulators(\n",
    "    ccapi.PositiveRegulator(STM2378),\n",
    "    ccapi.PositiveRegulator(STM1197)\n",
    ")"
   ]
  },
  {
   "cell_type": "code",
   "execution_count": 51,
   "metadata": {},
   "outputs": [
    {
     "data": {
      "text/html": [
       "<table>\n",
       "    <tr>\n",
       "        <td>\n",
       "            <strong>\n",
       "                ID\n",
       "            </strong>\n",
       "        </td>\n",
       "        <td>\n",
       "            8\n",
       "        </td>\n",
       "    </tr>\n",
       "    <tr>\n",
       "        <td>\n",
       "            <strong>\n",
       "                Name\n",
       "            </strong>\n",
       "        </td>\n",
       "        <td>\n",
       "            Sample Constraint-Based Model\n",
       "        </td>\n",
       "    </tr>\n",
       "    <tr>\n",
       "        <td>\n",
       "            <strong>\n",
       "                Memory Address\n",
       "            </strong>\n",
       "        </td>\n",
       "        <td>\n",
       "            0x07f153f3b4898\n",
       "        </td>\n",
       "    </tr>\n",
       "    <tr>\n",
       "        <td>\n",
       "            <strong>\n",
       "                Number of Versions\n",
       "            </strong>\n",
       "        </td>\n",
       "        <td>\n",
       "            1\n",
       "        </td>\n",
       "    </tr>\n",
       "    <tr>\n",
       "        <td>\n",
       "            <strong>\n",
       "                Versions\n",
       "            </strong>\n",
       "        </td>\n",
       "        <td>\n",
       "            [&lt;ConstraintBasedModel 8 version 9 at 0x07f153f3b4320 name='Version 1'&gt;]\n",
       "        </td>\n",
       "    </tr>\n",
       "</table>"
      ],
      "text/plain": [
       "<Model 8 at 0x07f153f3b4898 name='Sample Constraint-Based Model'>"
      ]
     },
     "execution_count": 51,
     "metadata": {},
     "output_type": "execute_result"
    }
   ],
   "source": [
    "model.save3()"
   ]
  },
  {
   "cell_type": "code",
   "execution_count": 52,
   "metadata": {},
   "outputs": [
    {
     "data": {
      "text/plain": [
       "{'version': '2.7.0',\n",
       " 'id': 'dcbe6cb9e50647b89bb66ae866856f59',\n",
       " 'status': 'success',\n",
       " 'code': 200,\n",
       " 'data': {'id': 8,\n",
       "  'name': 'Sample Constraint-Based Model',\n",
       "  'type': 'metabolic',\n",
       "  'versions': [{'id': 9,\n",
       "    'metabolites': [{'compartment': 12,\n",
       "      'id': 1853,\n",
       "      'name': 'Malonyl-acyl-carrier-protein',\n",
       "      'speciesId': 1853,\n",
       "      'formula': 'C14H22N2O10PRS',\n",
       "      'charge': None},\n",
       "     {'compartment': 12,\n",
       "      'id': 1854,\n",
       "      'name': 'acyl-carrier-protein',\n",
       "      'speciesId': 1854,\n",
       "      'formula': 'C11H21N2O7PRS',\n",
       "      'charge': None},\n",
       "     {'compartment': 12,\n",
       "      'id': 1855,\n",
       "      'name': 'H',\n",
       "      'speciesId': 1855,\n",
       "      'formula': 'H',\n",
       "      'charge': None},\n",
       "     {'compartment': 12,\n",
       "      'id': 1856,\n",
       "      'name': 'Dodecanoyl-ACP-n-C120ACP',\n",
       "      'speciesId': 1856,\n",
       "      'formula': 'C23H43N2O8PRS',\n",
       "      'charge': None},\n",
       "     {'compartment': 12,\n",
       "      'id': 1857,\n",
       "      'name': 'CO2',\n",
       "      'speciesId': 1857,\n",
       "      'formula': 'CO2',\n",
       "      'charge': None},\n",
       "     {'compartment': 12,\n",
       "      'id': 1858,\n",
       "      'name': '3-Oxotetradecanoyl-acyl-carrier-protein',\n",
       "      'speciesId': 1858,\n",
       "      'formula': 'C25H45N2O9PRS',\n",
       "      'charge': None}],\n",
       "    'compartments': [{'id': 12, 'name': 'Cytosol'}],\n",
       "    'reactions': [{'id': 1869,\n",
       "      'name': '3 oxoacyl acyl carrier protein synthase n C140',\n",
       "      'subsystem': 'Cell Envelope Biosynthesis',\n",
       "      'lowerBound': 0,\n",
       "      'upperBound': 1000,\n",
       "      'metabolites': {'1853': -1,\n",
       "       '1854': 1,\n",
       "       '1855': -1,\n",
       "       '1856': -1,\n",
       "       '1857': 1,\n",
       "       '1858': 1},\n",
       "      'annotations': []}]}]}}"
      ]
     },
     "execution_count": 52,
     "metadata": {},
     "output_type": "execute_result"
    }
   ],
   "source": [
    "client.request('GET', 'api/model/8').json()"
   ]
  },
  {
   "cell_type": "markdown",
   "metadata": {},
   "source": [
    "#### Creating a Version"
   ]
  },
  {
   "cell_type": "markdown",
   "metadata": {},
   "source": [
    "Let's first create a copy of our Model Version object."
   ]
  },
  {
   "cell_type": "code",
   "execution_count": 53,
   "metadata": {},
   "outputs": [
    {
     "data": {
      "text/html": [
       "<table>\n",
       "    <tr>\n",
       "        <td>\n",
       "            <strong>\n",
       "                ID\n",
       "            </strong>\n",
       "        </td>\n",
       "        <td>\n",
       "            -39030\n",
       "        </td>\n",
       "    </tr>\n",
       "    <tr>\n",
       "        <td>\n",
       "            <strong>\n",
       "                Version\n",
       "            </strong>\n",
       "        </td>\n",
       "        <td>\n",
       "            9\n",
       "        </td>\n",
       "    </tr>\n",
       "    <tr>\n",
       "        <td>\n",
       "            <strong>\n",
       "                Name\n",
       "            </strong>\n",
       "        </td>\n",
       "        <td>\n",
       "            Version 1\n",
       "        </td>\n",
       "    </tr>\n",
       "    <tr>\n",
       "        <td>\n",
       "            <strong>\n",
       "                Memory Address\n",
       "            </strong>\n",
       "        </td>\n",
       "        <td>\n",
       "            0x07f153f3b81d0\n",
       "        </td>\n",
       "    </tr>\n",
       "    <tr>\n",
       "        <td>\n",
       "            <strong>\n",
       "                Number of Metabolites\n",
       "            </strong>\n",
       "        </td>\n",
       "        <td>\n",
       "            6\n",
       "        </td>\n",
       "    </tr>\n",
       "    <tr>\n",
       "        <td>\n",
       "            <strong>\n",
       "                Metabolites\n",
       "            </strong>\n",
       "        </td>\n",
       "        <td>\n",
       "            Malonyl-acyl-carrier-protein, acyl-carrier-protein, H, Dodecanoyl-ACP-n-C120ACP, CO2, 3-Oxotetradecanoyl-acyl-carrier-protein\n",
       "        </td>\n",
       "    </tr>\n",
       "    <tr>\n",
       "        <td>\n",
       "            <strong>\n",
       "                Number of Reactions\n",
       "            </strong>\n",
       "        </td>\n",
       "        <td>\n",
       "            1\n",
       "        </td>\n",
       "    </tr>\n",
       "    <tr>\n",
       "        <td>\n",
       "            <strong>\n",
       "                Reactions\n",
       "            </strong>\n",
       "        </td>\n",
       "        <td>\n",
       "            3 oxoacyl acyl carrier protein synthase n C140\n",
       "        </td>\n",
       "    </tr>\n",
       "</table>"
      ],
      "text/plain": [
       "<ConstraintBasedModel -39030 version 9 at 0x07f153f3b81d0 name='Version 1'>"
      ]
     },
     "execution_count": 53,
     "metadata": {},
     "output_type": "execute_result"
    }
   ],
   "source": [
    "copy = metabolic.copy()\n",
    "copy"
   ]
  },
  {
   "cell_type": "markdown",
   "metadata": {},
   "source": [
    "Let's change any one of the metabolite names."
   ]
  },
  {
   "cell_type": "code",
   "execution_count": 54,
   "metadata": {},
   "outputs": [
    {
     "data": {
      "text/html": [
       "\n",
       "                <table>\n",
       "                    <thead>\n",
       "                        <tr>\n",
       "                            <th>ID</th><th>Name</th><th>Compartment</th><th>Formula</th><th>Charge</th>\n",
       "                        </tr>\n",
       "                    </thead>\n",
       "                    <tbody>\n",
       "                        <tr><td>-33412</td><td>foobar</td><td>Cytosol</td><td>C14H22N2O10PRS</td><td></td></tr><tr><td>-1681</td><td>acyl-carrier-protein</td><td>Cytosol</td><td>C11H21N2O7PRS</td><td></td></tr><tr><td>-23963</td><td>H</td><td>Cytosol</td><td>H</td><td></td></tr><tr><td>-38847</td><td>Dodecanoyl-ACP-n-C120ACP</td><td>Cytosol</td><td>C23H43N2O8PRS</td><td></td></tr><tr><td>-27716</td><td>CO2</td><td>Cytosol</td><td>CO2</td><td></td></tr><tr><td>-31037</td><td>3-Oxotetradecanoyl-acyl-carrier-protein</td><td>Cytosol</td><td>C25H45N2O9PRS</td><td></td></tr>\n",
       "                    </tbody>\n",
       "                </table>\n",
       "            "
      ],
      "text/plain": [
       "[<Metabolite -33412 at 0x07f153f3c9b70 name='foobar'>,\n",
       " <Metabolite -1681 at 0x07f153f3c9cc0 name='acyl-carrier-protein'>,\n",
       " <Metabolite -23963 at 0x07f153f3c9dd8 name='H'>,\n",
       " <Metabolite -38847 at 0x07f153f3c9f28 name='Dodecanoyl-ACP-n-C120ACP'>,\n",
       " <Metabolite -27716 at 0x07f153f3c9f98 name='CO2'>,\n",
       " <Metabolite -31037 at 0x07f153f3c9f60 name='3-Oxotetradecanoyl-acyl-carrier-p...'>]"
      ]
     },
     "execution_count": 54,
     "metadata": {},
     "output_type": "execute_result"
    }
   ],
   "source": [
    "metabolite      = copy.metabolites[0]\n",
    "metabolite.name = \"foobar\"\n",
    "\n",
    "copy.metabolites"
   ]
  },
  {
   "cell_type": "markdown",
   "metadata": {},
   "source": [
    "Add this new version to your model."
   ]
  },
  {
   "cell_type": "code",
   "execution_count": 55,
   "metadata": {},
   "outputs": [],
   "source": [
    "model.add_version(copy)"
   ]
  },
  {
   "cell_type": "code",
   "execution_count": 56,
   "metadata": {
    "scrolled": true
   },
   "outputs": [
    {
     "name": "stderr",
     "output_type": "stream",
     "text": [
      "2020-01-29 10:53:14,337 | ERROR | Error recieved from the server: <!DOCTYPE html>\n",
      "<html lang=\"en\">\n",
      "<head>\n",
      "<meta charset=\"utf-8\">\n",
      "<title>Error</title>\n",
      "</head>\n",
      "<body>\n",
      "<pre>Cannot PUT /api/model/8</pre>\n",
      "</body>\n",
      "</html>\n",
      "\n"
     ]
    },
    {
     "ename": "HTTPError",
     "evalue": "404 Client Error: Not Found for url: http://localhost:5000/api/model/8",
     "output_type": "error",
     "traceback": [
      "\u001b[0;31m---------------------------------------------------------------------------\u001b[0m",
      "\u001b[0;31mHTTPError\u001b[0m                                 Traceback (most recent call last)",
      "\u001b[0;32m<ipython-input-56-6b1719015396>\u001b[0m in \u001b[0;36m<module>\u001b[0;34m\u001b[0m\n\u001b[0;32m----> 1\u001b[0;31m \u001b[0mmodel\u001b[0m\u001b[0;34m.\u001b[0m\u001b[0msave3\u001b[0m\u001b[0;34m(\u001b[0m\u001b[0;34m)\u001b[0m\u001b[0;34m\u001b[0m\u001b[0;34m\u001b[0m\u001b[0m\n\u001b[0m",
      "\u001b[0;32m~/dev/ccapi/src/ccapi/model/model/base.py\u001b[0m in \u001b[0;36msave3\u001b[0;34m(self)\u001b[0m\n\u001b[1;32m    401\u001b[0m             \u001b[0mmethod\u001b[0m\u001b[0;34m,\u001b[0m \u001b[0murl\u001b[0m \u001b[0;34m=\u001b[0m \u001b[0;34m(\u001b[0m\u001b[0;34m\"PUT\"\u001b[0m\u001b[0;34m,\u001b[0m  \u001b[0;34m\"api/model/%s\"\u001b[0m \u001b[0;34m%\u001b[0m \u001b[0mself\u001b[0m\u001b[0;34m.\u001b[0m\u001b[0mid\u001b[0m\u001b[0;34m)\u001b[0m\u001b[0;34m\u001b[0m\u001b[0;34m\u001b[0m\u001b[0m\n\u001b[1;32m    402\u001b[0m \u001b[0;34m\u001b[0m\u001b[0m\n\u001b[0;32m--> 403\u001b[0;31m         \u001b[0mresponse\u001b[0m    \u001b[0;34m=\u001b[0m \u001b[0mself\u001b[0m\u001b[0;34m.\u001b[0m\u001b[0mclient\u001b[0m\u001b[0;34m.\u001b[0m\u001b[0mrequest\u001b[0m\u001b[0;34m(\u001b[0m\u001b[0mmethod\u001b[0m\u001b[0;34m,\u001b[0m \u001b[0murl\u001b[0m\u001b[0;34m,\u001b[0m \u001b[0mjson\u001b[0m \u001b[0;34m=\u001b[0m \u001b[0mdata\u001b[0m\u001b[0;34m)\u001b[0m\u001b[0;34m\u001b[0m\u001b[0;34m\u001b[0m\u001b[0m\n\u001b[0m\u001b[1;32m    404\u001b[0m         \u001b[0mcontent\u001b[0m     \u001b[0;34m=\u001b[0m \u001b[0mresponse\u001b[0m\u001b[0;34m.\u001b[0m\u001b[0mjson\u001b[0m\u001b[0;34m(\u001b[0m\u001b[0;34m)\u001b[0m\u001b[0;34m\u001b[0m\u001b[0;34m\u001b[0m\u001b[0m\n\u001b[1;32m    405\u001b[0m \u001b[0;34m\u001b[0m\u001b[0m\n",
      "\u001b[0;32m~/dev/ccapi/src/ccapi/api/client.py\u001b[0m in \u001b[0;36mrequest\u001b[0;34m(self, method, url, *args, **kwargs)\u001b[0m\n\u001b[1;32m    192\u001b[0m                     \u001b[0mlogger\u001b[0m\u001b[0;34m.\u001b[0m\u001b[0merror\u001b[0m\u001b[0;34m(\u001b[0m\u001b[0;34m\"Error recieved from the server: %s\"\u001b[0m \u001b[0;34m%\u001b[0m \u001b[0mresponse\u001b[0m\u001b[0;34m.\u001b[0m\u001b[0mtext\u001b[0m\u001b[0;34m)\u001b[0m\u001b[0;34m\u001b[0m\u001b[0;34m\u001b[0m\u001b[0m\n\u001b[1;32m    193\u001b[0m \u001b[0;34m\u001b[0m\u001b[0m\n\u001b[0;32m--> 194\u001b[0;31m                 \u001b[0mresponse\u001b[0m\u001b[0;34m.\u001b[0m\u001b[0mraise_for_status\u001b[0m\u001b[0;34m(\u001b[0m\u001b[0;34m)\u001b[0m\u001b[0;34m\u001b[0m\u001b[0;34m\u001b[0m\u001b[0m\n\u001b[0m\u001b[1;32m    195\u001b[0m \u001b[0;34m\u001b[0m\u001b[0m\n\u001b[1;32m    196\u001b[0m         \u001b[0;32mreturn\u001b[0m \u001b[0mresponse\u001b[0m\u001b[0;34m\u001b[0m\u001b[0;34m\u001b[0m\u001b[0m\n",
      "\u001b[0;32m~/.venv/lib/python3.6/site-packages/requests/models.py\u001b[0m in \u001b[0;36mraise_for_status\u001b[0;34m(self)\u001b[0m\n\u001b[1;32m    938\u001b[0m \u001b[0;34m\u001b[0m\u001b[0m\n\u001b[1;32m    939\u001b[0m         \u001b[0;32mif\u001b[0m \u001b[0mhttp_error_msg\u001b[0m\u001b[0;34m:\u001b[0m\u001b[0;34m\u001b[0m\u001b[0;34m\u001b[0m\u001b[0m\n\u001b[0;32m--> 940\u001b[0;31m             \u001b[0;32mraise\u001b[0m \u001b[0mHTTPError\u001b[0m\u001b[0;34m(\u001b[0m\u001b[0mhttp_error_msg\u001b[0m\u001b[0;34m,\u001b[0m \u001b[0mresponse\u001b[0m\u001b[0;34m=\u001b[0m\u001b[0mself\u001b[0m\u001b[0;34m)\u001b[0m\u001b[0;34m\u001b[0m\u001b[0;34m\u001b[0m\u001b[0m\n\u001b[0m\u001b[1;32m    941\u001b[0m \u001b[0;34m\u001b[0m\u001b[0m\n\u001b[1;32m    942\u001b[0m     \u001b[0;32mdef\u001b[0m \u001b[0mclose\u001b[0m\u001b[0;34m(\u001b[0m\u001b[0mself\u001b[0m\u001b[0;34m)\u001b[0m\u001b[0;34m:\u001b[0m\u001b[0;34m\u001b[0m\u001b[0;34m\u001b[0m\u001b[0m\n",
      "\u001b[0;31mHTTPError\u001b[0m: 404 Client Error: Not Found for url: http://localhost:5000/api/model/8"
     ]
    }
   ],
   "source": [
    "model.save3()"
   ]
  },
  {
   "cell_type": "markdown",
   "metadata": {},
   "source": [
    "#### Dynamic Linking [Experimental]"
   ]
  },
  {
   "cell_type": "markdown",
   "metadata": {},
   "source": [
    "Let's assume that you'd like to reuse certain components within a model."
   ]
  },
  {
   "cell_type": "code",
   "execution_count": 57,
   "metadata": {},
   "outputs": [],
   "source": [
    "model     = ccapi.Model(\"Test\", type_ = \"metabolic\", client = client)\n",
    "# model.save3()"
   ]
  },
  {
   "cell_type": "code",
   "execution_count": 58,
   "metadata": {},
   "outputs": [
    {
     "data": {
      "text/html": [
       "<table>\n",
       "    <tr>\n",
       "        <td>\n",
       "            <strong>\n",
       "                ID\n",
       "            </strong>\n",
       "        </td>\n",
       "        <td>\n",
       "            -31689\n",
       "        </td>\n",
       "    </tr>\n",
       "    <tr>\n",
       "        <td>\n",
       "            <strong>\n",
       "                Version\n",
       "            </strong>\n",
       "        </td>\n",
       "        <td>\n",
       "            -30692\n",
       "        </td>\n",
       "    </tr>\n",
       "    <tr>\n",
       "        <td>\n",
       "            <strong>\n",
       "                Name\n",
       "            </strong>\n",
       "        </td>\n",
       "        <td>\n",
       "            \n",
       "        </td>\n",
       "    </tr>\n",
       "    <tr>\n",
       "        <td>\n",
       "            <strong>\n",
       "                Memory Address\n",
       "            </strong>\n",
       "        </td>\n",
       "        <td>\n",
       "            0x07f153f2e0278\n",
       "        </td>\n",
       "    </tr>\n",
       "    <tr>\n",
       "        <td>\n",
       "            <strong>\n",
       "                Number of Metabolites\n",
       "            </strong>\n",
       "        </td>\n",
       "        <td>\n",
       "            0\n",
       "        </td>\n",
       "    </tr>\n",
       "    <tr>\n",
       "        <td>\n",
       "            <strong>\n",
       "                Metabolites\n",
       "            </strong>\n",
       "        </td>\n",
       "        <td>\n",
       "            \n",
       "        </td>\n",
       "    </tr>\n",
       "    <tr>\n",
       "        <td>\n",
       "            <strong>\n",
       "                Number of Reactions\n",
       "            </strong>\n",
       "        </td>\n",
       "        <td>\n",
       "            0\n",
       "        </td>\n",
       "    </tr>\n",
       "    <tr>\n",
       "        <td>\n",
       "            <strong>\n",
       "                Reactions\n",
       "            </strong>\n",
       "        </td>\n",
       "        <td>\n",
       "            \n",
       "        </td>\n",
       "    </tr>\n",
       "</table>"
      ],
      "text/plain": [
       "<ConstraintBasedModel -31689 version -30692 at 0x07f153f2e0278>"
      ]
     },
     "execution_count": 58,
     "metadata": {},
     "output_type": "execute_result"
    }
   ],
   "source": [
    "metabolic = model.versions[0]\n",
    "metabolic"
   ]
  },
  {
   "cell_type": "code",
   "execution_count": 59,
   "metadata": {},
   "outputs": [],
   "source": [
    "compartment = ccapi.Compartment(compartment_id = 1) # Linking to an existing Compartment\n",
    "metabolite  = ccapi.Metabolite(\"test\", compartment = compartment)\n",
    "\n",
    "metabolic.add_metabolite(metabolite)"
   ]
  },
  {
   "cell_type": "code",
   "execution_count": 60,
   "metadata": {},
   "outputs": [
    {
     "data": {
      "text/html": [
       "<table>\n",
       "    <tr>\n",
       "        <td>\n",
       "            <strong>\n",
       "                ID\n",
       "            </strong>\n",
       "        </td>\n",
       "        <td>\n",
       "            9\n",
       "        </td>\n",
       "    </tr>\n",
       "    <tr>\n",
       "        <td>\n",
       "            <strong>\n",
       "                Name\n",
       "            </strong>\n",
       "        </td>\n",
       "        <td>\n",
       "            Test\n",
       "        </td>\n",
       "    </tr>\n",
       "    <tr>\n",
       "        <td>\n",
       "            <strong>\n",
       "                Memory Address\n",
       "            </strong>\n",
       "        </td>\n",
       "        <td>\n",
       "            0x07f153f2e0240\n",
       "        </td>\n",
       "    </tr>\n",
       "    <tr>\n",
       "        <td>\n",
       "            <strong>\n",
       "                Number of Versions\n",
       "            </strong>\n",
       "        </td>\n",
       "        <td>\n",
       "            1\n",
       "        </td>\n",
       "    </tr>\n",
       "    <tr>\n",
       "        <td>\n",
       "            <strong>\n",
       "                Versions\n",
       "            </strong>\n",
       "        </td>\n",
       "        <td>\n",
       "            [&lt;ConstraintBasedModel 9 version 10 at 0x07f153f2e0278&gt;]\n",
       "        </td>\n",
       "    </tr>\n",
       "</table>"
      ],
      "text/plain": [
       "<Model 9 at 0x07f153f2e0240 name='Test'>"
      ]
     },
     "execution_count": 60,
     "metadata": {},
     "output_type": "execute_result"
    }
   ],
   "source": [
    "model.save3()"
   ]
  },
  {
   "cell_type": "code",
   "execution_count": null,
   "metadata": {},
   "outputs": [],
   "source": []
  }
 ],
 "metadata": {
  "kernelspec": {
   "display_name": "Python 3",
   "language": "python",
   "name": "python3"
  },
  "language_info": {
   "codemirror_mode": {
    "name": "ipython",
    "version": 3
   },
   "file_extension": ".py",
   "mimetype": "text/x-python",
   "name": "python",
   "nbconvert_exporter": "python",
   "pygments_lexer": "ipython3",
   "version": "3.6.9"
  }
 },
 "nbformat": 4,
 "nbformat_minor": 2
}
