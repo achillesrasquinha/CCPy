{
 "cells": [
  {
   "cell_type": "code",
   "execution_count": 19,
   "metadata": {},
   "outputs": [],
   "source": [
    "import ccapi\n",
    "\n",
    "config         = ccapi.Configuration()\n",
    "config.url     = \"http://localhost:5000\"\n",
    "# config.verbose = True"
   ]
  },
  {
   "cell_type": "markdown",
   "metadata": {},
   "source": [
    "### Inspecting a Constraint-Based Model"
   ]
  },
  {
   "cell_type": "markdown",
   "metadata": {},
   "source": [
    "To begin with, **ccapi** comes with some sample models for [Dehalococcoides]() model."
   ]
  },
  {
   "cell_type": "markdown",
   "metadata": {},
   "source": [
    "Begin by importing the ccapi module into your workspace."
   ]
  },
  {
   "cell_type": "code",
   "execution_count": 20,
   "metadata": {},
   "outputs": [],
   "source": [
    "import ccapi"
   ]
  },
  {
   "cell_type": "markdown",
   "metadata": {},
   "source": [
    "Now, let’s try creating a client object in order to interact with services provided by [Cell Collective](https://cellcollective.org)."
   ]
  },
  {
   "cell_type": "code",
   "execution_count": 21,
   "metadata": {},
   "outputs": [],
   "source": [
    "client = ccapi.Client()"
   ]
  },
  {
   "cell_type": "markdown",
   "metadata": {},
   "source": [
    "Authenticate your client using a ***password flow type authentication*** scheme.\n",
    "\n",
    "**NOTE**: *Before you can authenticate using ccapi, you must first register an application of the appropriate type on [Cell Collective](https://cellcollective.org). If you do not require a user context, it is read only.*"
   ]
  },
  {
   "cell_type": "code",
   "execution_count": 22,
   "metadata": {},
   "outputs": [],
   "source": [
    "client.auth(email = \"test@cellcollective.org\", password = \"test\")"
   ]
  },
  {
   "cell_type": "markdown",
   "metadata": {},
   "source": [
    "To load a test model, type:"
   ]
  },
  {
   "cell_type": "code",
   "execution_count": 27,
   "metadata": {},
   "outputs": [],
   "source": [
    "model = ccapi.load_model(\"dehalococcoides\", client = client)\n",
    "# model.save3()"
   ]
  },
  {
   "cell_type": "markdown",
   "metadata": {},
   "source": [
    "A `ccapi.Model` consists of various `ccapi.ModelVersion` objects that help you build various versions to a model."
   ]
  },
  {
   "cell_type": "code",
   "execution_count": 28,
   "metadata": {},
   "outputs": [
    {
     "data": {
      "text/html": [
       "\n",
       "                <table>\n",
       "                    <thead>\n",
       "                        <tr>\n",
       "                            <th>ID</th><th>Name</th><th>Number of Metabolites</th>\n",
       "                        </tr>\n",
       "                    </thead>\n",
       "                    <tbody>\n",
       "                        <tr><td>1</td><td></td><td>587</td></tr>\n",
       "                    </tbody>\n",
       "                </table>\n",
       "            "
      ],
      "text/plain": [
       "[<ConstraintBasedModel 1 version 1 at 0x07f109d9a1358>]"
      ]
     },
     "execution_count": 28,
     "metadata": {},
     "output_type": "execute_result"
    }
   ],
   "source": [
    "model.versions"
   ]
  },
  {
   "cell_type": "code",
   "execution_count": 29,
   "metadata": {},
   "outputs": [
    {
     "data": {
      "text/html": [
       "<table>\n",
       "    <tr>\n",
       "        <td>\n",
       "            <strong>\n",
       "                ID\n",
       "            </strong>\n",
       "        </td>\n",
       "        <td>\n",
       "            1\n",
       "        </td>\n",
       "    </tr>\n",
       "    <tr>\n",
       "        <td>\n",
       "            <strong>\n",
       "                Version\n",
       "            </strong>\n",
       "        </td>\n",
       "        <td>\n",
       "            1\n",
       "        </td>\n",
       "    </tr>\n",
       "    <tr>\n",
       "        <td>\n",
       "            <strong>\n",
       "                Name\n",
       "            </strong>\n",
       "        </td>\n",
       "        <td>\n",
       "            \n",
       "        </td>\n",
       "    </tr>\n",
       "    <tr>\n",
       "        <td>\n",
       "            <strong>\n",
       "                Memory Address\n",
       "            </strong>\n",
       "        </td>\n",
       "        <td>\n",
       "            0x07f109d9a1358\n",
       "        </td>\n",
       "    </tr>\n",
       "    <tr>\n",
       "        <td>\n",
       "            <strong>\n",
       "                Number of Metabolites\n",
       "            </strong>\n",
       "        </td>\n",
       "        <td>\n",
       "            587\n",
       "        </td>\n",
       "    </tr>\n",
       "    <tr>\n",
       "        <td>\n",
       "            <strong>\n",
       "                Metabolites\n",
       "            </strong>\n",
       "        </td>\n",
       "        <td>\n",
       "            M_10_Formyltetrahydrofolate_C20H21N7O7, M_1_2_Diacyl_sn_glycerol_3_phosphate_C5H5O8PR2, M_1_2_Diacylglycerol_C5H6O5R2, M_3_Phospho_D_glyceroyl_phosphate_C3H4O10P2, M_1_Aminopropan_2_ol_C3H10NO, M_D_1_Aminopropan_2_ol_O_phosphate_C3H9NO4P, M_1_Pyrroline_5_carboxylate_C5H6NO2, M_2_3_Dihydrodipicolinate_C7H5NO4, M__R__2_3_Dihydroxy_3_methylbutanoate_C5H9O4, M__R__2_3_Dihydroxy_3_methylpentanoate_C6H11O4, M__S__2_5_Amino_1__5_phospho_D_ribosyl_imidazole_4_carboxamidosuccinate_C13H15N4O12P, M_2_5_Diamin...\n",
       "        </td>\n",
       "    </tr>\n",
       "    <tr>\n",
       "        <td>\n",
       "            <strong>\n",
       "                Number of Reactions\n",
       "            </strong>\n",
       "        </td>\n",
       "        <td>\n",
       "            590\n",
       "        </td>\n",
       "    </tr>\n",
       "    <tr>\n",
       "        <td>\n",
       "            <strong>\n",
       "                Reactions\n",
       "            </strong>\n",
       "        </td>\n",
       "        <td>\n",
       "            EX_ac_b, EX_antim_b, EX_arsna_b, EX_arsni2_b, EX_cbl1_b, EX_cit_b, EX_cl_b, EX_co2_b, EX_cobalt2_b, EX_cu2_b, EX_dcb_b, EX_etl_b, EX_fe2_b, EX_gln_L_b, EX_glyb_b, EX_h2_b, EX_h2o_b, EX_h_b, EX_hcb_b, EX_ile_L_b, EX_k_b, EX_leu_L_b, EX_mg2_b, EX_mn2_b, EX_mobd_b, EX_n2_b, EX_nh4_b, EX_ni2_b, EX_pce_b, EX_pi_b, EX_pro_L_b, EX_so4_b, EX_tsul_b, EX_val_L_b, EX_zn2_b, R_Acetyl_CoAacyl_carrier_protein_S_acetyltransferase, R_4_aminobutyrate_transaminase, R_Adenosyl_cobainamide_GTP_transferase, R_acetyl_Co...\n",
       "        </td>\n",
       "    </tr>\n",
       "</table>"
      ],
      "text/plain": [
       "<ConstraintBasedModel 1 version 1 at 0x07f109d9a1358>"
      ]
     },
     "execution_count": 29,
     "metadata": {},
     "output_type": "execute_result"
    }
   ],
   "source": [
    "# get the default model version\n",
    "metabolic = model.default_version\n",
    "metabolic"
   ]
  },
  {
   "cell_type": "code",
   "execution_count": null,
   "metadata": {},
   "outputs": [],
   "source": []
  },
  {
   "cell_type": "code",
   "execution_count": null,
   "metadata": {},
   "outputs": [],
   "source": []
  }
 ],
 "metadata": {
  "kernelspec": {
   "display_name": "Python 3",
   "language": "python",
   "name": "python3"
  },
  "language_info": {
   "codemirror_mode": {
    "name": "ipython",
    "version": 3
   },
   "file_extension": ".py",
   "mimetype": "text/x-python",
   "name": "python",
   "nbconvert_exporter": "python",
   "pygments_lexer": "ipython3",
   "version": "3.6.9"
  }
 },
 "nbformat": 4,
 "nbformat_minor": 2
}
