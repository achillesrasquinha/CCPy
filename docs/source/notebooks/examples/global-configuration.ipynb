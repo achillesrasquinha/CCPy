{
 "cells": [
  {
   "cell_type": "markdown",
   "metadata": {},
   "source": [
    "### Global Configuration"
   ]
  },
  {
   "cell_type": "markdown",
   "metadata": {},
   "source": [
    "**ccapi** introduces a global configuration object. You can configure all settings which will be respected while you use **ccapi**.\n",
    "\n",
    "You can get a configuration object in the following way:"
   ]
  },
  {
   "cell_type": "code",
   "execution_count": 1,
   "metadata": {},
   "outputs": [],
   "source": [
    "import ccapi"
   ]
  },
  {
   "cell_type": "code",
   "execution_count": 2,
   "metadata": {},
   "outputs": [],
   "source": [
    "config = ccapi.Configuration()"
   ]
  },
  {
   "cell_type": "markdown",
   "metadata": {},
   "source": [
    "The configuration object is a [singleton](https://en.wikipedia.org/wiki/Singleton_pattern). That means only one instance can exist and it is respected everywhere in **ccapi**."
   ]
  },
  {
   "cell_type": "markdown",
   "metadata": {},
   "source": [
    "##### URL"
   ]
  },
  {
   "cell_type": "markdown",
   "metadata": {},
   "source": [
    "By default, the base URL points to [Cell Collective](https://cellcollective.org). You can however, change the same as follows:"
   ]
  },
  {
   "cell_type": "code",
   "execution_count": 3,
   "metadata": {},
   "outputs": [],
   "source": [
    "config.url = \"http://localhost:5000\""
   ]
  },
  {
   "cell_type": "markdown",
   "metadata": {},
   "source": [
    "Now, when you attempt to create a client instance, it would attempt to use the value assigned to `config.url`."
   ]
  },
  {
   "cell_type": "code",
   "execution_count": 4,
   "metadata": {
    "scrolled": true
   },
   "outputs": [
    {
     "data": {
      "text/plain": [
       "<Client url='http://localhost:5000'>"
      ]
     },
     "execution_count": 4,
     "metadata": {},
     "output_type": "execute_result"
    }
   ],
   "source": [
    "client = ccapi.Client()\n",
    "client"
   ]
  },
  {
   "cell_type": "markdown",
   "metadata": {},
   "source": [
    "Jupyter Notebook renders the `Configuration` object as follows:"
   ]
  },
  {
   "cell_type": "code",
   "execution_count": 5,
   "metadata": {},
   "outputs": [
    {
     "data": {
      "text/html": [
       "\n",
       "            <table>\n",
       "                \n",
       "                <tr>\n",
       "                    <td>\n",
       "                        <strong>\n",
       "                            display_max_cols\n",
       "                        </strong>\n",
       "                    </td>\n",
       "                    <td>\n",
       "                        20\n",
       "                    </td>\n",
       "                </tr>\n",
       "            \n",
       "                <tr>\n",
       "                    <td>\n",
       "                        <strong>\n",
       "                            display_max_rows\n",
       "                        </strong>\n",
       "                    </td>\n",
       "                    <td>\n",
       "                        15\n",
       "                    </td>\n",
       "                </tr>\n",
       "            \n",
       "                <tr>\n",
       "                    <td>\n",
       "                        <strong>\n",
       "                            ginsim_version\n",
       "                        </strong>\n",
       "                    </td>\n",
       "                    <td>\n",
       "                        2.4\n",
       "                    </td>\n",
       "                </tr>\n",
       "            \n",
       "                <tr>\n",
       "                    <td>\n",
       "                        <strong>\n",
       "                            max_api_resource_fetch\n",
       "                        </strong>\n",
       "                    </td>\n",
       "                    <td>\n",
       "                        5\n",
       "                    </td>\n",
       "                </tr>\n",
       "            \n",
       "                <tr>\n",
       "                    <td>\n",
       "                        <strong>\n",
       "                            max_chunk_download_bytes\n",
       "                        </strong>\n",
       "                    </td>\n",
       "                    <td>\n",
       "                        1024\n",
       "                    </td>\n",
       "                </tr>\n",
       "            \n",
       "                <tr>\n",
       "                    <td>\n",
       "                        <strong>\n",
       "                            model_domain_type\n",
       "                        </strong>\n",
       "                    </td>\n",
       "                    <td>\n",
       "                        {'value': 'research'}\n",
       "                    </td>\n",
       "                </tr>\n",
       "            \n",
       "                <tr>\n",
       "                    <td>\n",
       "                        <strong>\n",
       "                            model_name\n",
       "                        </strong>\n",
       "                    </td>\n",
       "                    <td>\n",
       "                        Unnamed Model\n",
       "                    </td>\n",
       "                </tr>\n",
       "            \n",
       "                <tr>\n",
       "                    <td>\n",
       "                        <strong>\n",
       "                            model_type\n",
       "                        </strong>\n",
       "                    </td>\n",
       "                    <td>\n",
       "                        {'value': 'boolean'}\n",
       "                    </td>\n",
       "                </tr>\n",
       "            \n",
       "                <tr>\n",
       "                    <td>\n",
       "                        <strong>\n",
       "                            url\n",
       "                        </strong>\n",
       "                    </td>\n",
       "                    <td>\n",
       "                        http://localhost:5000\n",
       "                    </td>\n",
       "                </tr>\n",
       "            \n",
       "                <tr>\n",
       "                    <td>\n",
       "                        <strong>\n",
       "                            user_agent\n",
       "                        </strong>\n",
       "                    </td>\n",
       "                    <td>\n",
       "                        Python CCAPI / 0.1.0\n",
       "                    </td>\n",
       "                </tr>\n",
       "            \n",
       "                <tr>\n",
       "                    <td>\n",
       "                        <strong>\n",
       "                            verbose\n",
       "                        </strong>\n",
       "                    </td>\n",
       "                    <td>\n",
       "                        False\n",
       "                    </td>\n",
       "                </tr>\n",
       "            \n",
       "            </table>\n",
       "        "
      ],
      "text/plain": [
       "<ccapi.core.config.Configuration at 0x7f975c5822e8>"
      ]
     },
     "execution_count": 5,
     "metadata": {},
     "output_type": "execute_result"
    }
   ],
   "source": [
    "config"
   ]
  }
 ],
 "metadata": {
  "file_extension": ".py",
  "kernelspec": {
   "display_name": "Python 3",
   "language": "python",
   "name": "python3"
  },
  "language_info": {
   "codemirror_mode": {
    "name": "ipython",
    "version": 3
   },
   "file_extension": ".py",
   "mimetype": "text/x-python",
   "name": "python",
   "nbconvert_exporter": "python",
   "pygments_lexer": "ipython3",
   "version": "3.6.9"
  },
  "mimetype": "text/x-python",
  "name": "python",
  "npconvert_exporter": "python",
  "pygments_lexer": "ipython3",
  "version": 3
 },
 "nbformat": 4,
 "nbformat_minor": 2
}
