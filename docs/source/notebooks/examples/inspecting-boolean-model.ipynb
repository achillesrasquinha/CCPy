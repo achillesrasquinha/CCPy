{
 "cells": [
  {
   "cell_type": "markdown",
   "metadata": {},
   "source": [
    "### Inspecting a Boolean-Based Model"
   ]
  },
  {
   "cell_type": "markdown",
   "metadata": {},
   "source": [
    "To begin with, **ccapi** comes with some sample models for *Lac Operon* and *Fibroblasts*."
   ]
  },
  {
   "cell_type": "markdown",
   "metadata": {},
   "source": [
    "Begin by importing the ccapi module into your workspace."
   ]
  },
  {
   "cell_type": "code",
   "execution_count": 1,
   "metadata": {},
   "outputs": [],
   "source": [
    "import ccapi"
   ]
  },
  {
   "cell_type": "markdown",
   "metadata": {},
   "source": [
    "Now, let’s try creating a client object in order to interact with services provided by [Cell Collective](https://cellcollective.org)."
   ]
  },
  {
   "cell_type": "code",
   "execution_count": 2,
   "metadata": {},
   "outputs": [],
   "source": [
    "client = ccapi.Client()"
   ]
  },
  {
   "cell_type": "markdown",
   "metadata": {},
   "source": [
    "Authenticate your client using a ***password flow type authentication*** scheme.\n",
    "\n",
    "**NOTE**: *Before you can authenticate using ccapi, you must first register an application of the appropriate type on [Cell Collective](https://cellcollective.org). If you do not require a user context, it is read only.*"
   ]
  },
  {
   "cell_type": "code",
   "execution_count": 3,
   "metadata": {},
   "outputs": [],
   "source": [
    "client.auth(email = \"test@cellcollective.org\", password = \"test\")"
   ]
  },
  {
   "cell_type": "markdown",
   "metadata": {},
   "source": [
    "To load a test model, type:"
   ]
  },
  {
   "cell_type": "code",
   "execution_count": 4,
   "metadata": {},
   "outputs": [
    {
     "data": {
      "text/html": [
       "<table>\n",
       "    <tr>\n",
       "        <td>\n",
       "            <strong>\n",
       "                ID\n",
       "            </strong>\n",
       "        </td>\n",
       "        <td>\n",
       "            90854\n",
       "        </td>\n",
       "    </tr>\n",
       "    <tr>\n",
       "        <td>\n",
       "            <strong>\n",
       "                Name\n",
       "            </strong>\n",
       "        </td>\n",
       "        <td>\n",
       "            Unnamed Model\n",
       "        </td>\n",
       "    </tr>\n",
       "    <tr>\n",
       "        <td>\n",
       "            <strong>\n",
       "                Memory Address\n",
       "            </strong>\n",
       "        </td>\n",
       "        <td>\n",
       "            0x07fd8f3598198\n",
       "        </td>\n",
       "    </tr>\n",
       "    <tr>\n",
       "        <td>\n",
       "            <strong>\n",
       "                Number of Versions\n",
       "            </strong>\n",
       "        </td>\n",
       "        <td>\n",
       "            1\n",
       "        </td>\n",
       "    </tr>\n",
       "    <tr>\n",
       "        <td>\n",
       "            <strong>\n",
       "                Versions\n",
       "            </strong>\n",
       "        </td>\n",
       "        <td>\n",
       "            [&lt;BooleanModel 90854 at 0x07fd8f3598208&gt;]\n",
       "        </td>\n",
       "    </tr>\n",
       "</table>"
      ],
      "text/plain": [
       "<Model 90854 at 0x07fd8f3598198 name='Unnamed Model'>"
      ]
     },
     "execution_count": 4,
     "metadata": {},
     "output_type": "execute_result"
    }
   ],
   "source": [
    "model = ccapi.load_model(\"fibroblasts\", client = client)\n",
    "model.save()"
   ]
  },
  {
   "cell_type": "markdown",
   "metadata": {},
   "source": [
    "A `ccapi.Model` consists of various `ccapi.ModelVersion` objects that help you build various versions to a model."
   ]
  },
  {
   "cell_type": "code",
   "execution_count": 5,
   "metadata": {},
   "outputs": [
    {
     "data": {
      "text/html": [
       "\n",
       "                <table>\n",
       "                    <thead>\n",
       "                        <tr>\n",
       "                            <th>ID</th><th>Name</th>\n",
       "                        </tr>\n",
       "                    </thead>\n",
       "                    <tbody>\n",
       "                        <tr><td>90854</td><td></td></tr>\n",
       "                    </tbody>\n",
       "                </table>\n",
       "            "
      ],
      "text/plain": [
       "[<BooleanModel 90854 at 0x07fd8f3598208>]"
      ]
     },
     "execution_count": 5,
     "metadata": {},
     "output_type": "execute_result"
    }
   ],
   "source": [
    "model.versions"
   ]
  },
  {
   "cell_type": "code",
   "execution_count": 6,
   "metadata": {},
   "outputs": [
    {
     "data": {
      "text/html": [
       "<table>\n",
       "    <tr>\n",
       "        <td>\n",
       "            <strong>\n",
       "                ID\n",
       "            </strong>\n",
       "        </td>\n",
       "        <td>\n",
       "            90854\n",
       "        </td>\n",
       "    </tr>\n",
       "    <tr>\n",
       "        <td>\n",
       "            <strong>\n",
       "                Version\n",
       "            </strong>\n",
       "        </td>\n",
       "        <td>\n",
       "            1\n",
       "        </td>\n",
       "    </tr>\n",
       "    <tr>\n",
       "        <td>\n",
       "            <strong>\n",
       "                Name\n",
       "            </strong>\n",
       "        </td>\n",
       "        <td>\n",
       "            \n",
       "        </td>\n",
       "    </tr>\n",
       "    <tr>\n",
       "        <td>\n",
       "            <strong>\n",
       "                Memory Address\n",
       "            </strong>\n",
       "        </td>\n",
       "        <td>\n",
       "            0x07fd8f3598208\n",
       "        </td>\n",
       "    </tr>\n",
       "    <tr>\n",
       "        <td>\n",
       "            <strong>\n",
       "                Number of Components\n",
       "            </strong>\n",
       "        </td>\n",
       "        <td>\n",
       "            139\n",
       "        </td>\n",
       "    </tr>\n",
       "    <tr>\n",
       "        <td>\n",
       "            <strong>\n",
       "                Components\n",
       "            </strong>\n",
       "        </td>\n",
       "        <td>\n",
       "            ExtPump, alpha_1213L, alpha_iL, alpha_sL, alpha_qL, IL1_TNF, ECM, Stress, EGF, Palpha_iR, Cbp, EGFR, PIP2_45, TAK1, Ga_1213, Ras, alpha_qR, ARF, PTPPEST, Talin, p38, Raf, Akt, PLC_g, Mekk4, PLD, p115RhoGEF, Graf, AC, TAO_12, PKC_primed, ASK1, PAK, IP3, DAG, Raf_Loc, Erk, Tiam, PIP2_34, RhoK, Cas, PTPa, Crk, MKK3, Shc, SHP2, Mekk2, cAMP, Sos, Gbg_1213, Raf_Rest, PI4K, PKC, alpha_sR, Csk, Sek1, MLK1, PDE4, PLA2, Ral, RasGRF_GRP, AND_34, PTP1b, DOCK180, NIK, Pix_Cool, B_Parvin, RKIP, WASP, MKK6, Cdc42, MKK7, PIP3_345, GRK, MLK3, Actin, Fak, Ca, B_Arrestin, Gbg_q, alpha_1213R, CaM, Arp_23, Gas, Gbg_i, Palpha_qR, RGS, p120RasGAP, Mekk1, PDK1, PA, Trafs, PKA, RalGDS, SAPK, Gab1, IP3R1, AA, PI3K, p90RSK, PLC_B, p190RhoGAP, Grb2, MLCP, RalBP1, Mekk3, PTEN, PIP_4, Myosin, Gai, Palpha_sR, ILK, Integrins, Mek, CaMKK, Vinc, Nck, IL1_TNFR, RhoGDI, MKPs, MLK2, Rac, DGK, PI5K, alpha_iR, Src, Palpha_1213R, Tab_12, Tpl2, Gaq, Rho, MLCK, PP2A, CaMK, Rap1, Raf_DeP, GCK, Trx, Gbg_s\n",
       "        </td>\n",
       "    </tr>\n",
       "</table>"
      ],
      "text/plain": [
       "<BooleanModel 90854 at 0x07fd8f3598208>"
      ]
     },
     "execution_count": 6,
     "metadata": {},
     "output_type": "execute_result"
    }
   ],
   "source": [
    "# get the default model version\n",
    "boolean = model.default_version\n",
    "boolean"
   ]
  },
  {
   "cell_type": "markdown",
   "metadata": {},
   "source": [
    "#### Components"
   ]
  },
  {
   "cell_type": "markdown",
   "metadata": {},
   "source": [
    "#### Internal Components"
   ]
  },
  {
   "cell_type": "code",
   "execution_count": 7,
   "metadata": {
    "scrolled": true
   },
   "outputs": [
    {
     "data": {
      "text/html": [
       "\n",
       "                <table>\n",
       "                    <thead>\n",
       "                        <tr>\n",
       "                            <th>ID</th><th>Name</th><th>Number of Positive Regulators</th><th>Number of Negative Regulators</th>\n",
       "                        </tr>\n",
       "                    </thead>\n",
       "                    <tbody>\n",
       "                        <tr><td>1857361</td><td>Palpha_iR</td><td>1</td><td>0</td></tr><tr><td>1857362</td><td>Cbp</td><td>1</td><td>0</td></tr><tr><td>1857363</td><td>EGFR</td><td>3</td><td>0</td></tr><tr><td>1857364</td><td>PIP2_45</td><td>3</td><td>0</td></tr><tr><td>1857365</td><td>TAK1</td><td>1</td><td>0</td></tr><tr><td>1857366</td><td>Ga_1213</td><td>2</td><td>0</td></tr><tr><td>1857367</td><td>Ras</td><td>3</td><td>0</td></tr><tr><td>...</td><td>...</td><td>...</td><td>...</td></tr><tr><td>1857485</td><td>CaMK</td><td>1</td><td>0</td></tr><tr><td>1857486</td><td>Rap1</td><td>1</td><td>0</td></tr><tr><td>1857487</td><td>Raf_DeP</td><td>2</td><td>0</td></tr><tr><td>1857488</td><td>GCK</td><td>1</td><td>0</td></tr><tr><td>1857489</td><td>Trx</td><td>2</td><td>0</td></tr><tr><td>1857490</td><td>Gbg_s</td><td>2</td><td>0</td></tr>\n",
       "                    </tbody>\n",
       "                </table>\n",
       "            "
      ],
      "text/plain": [
       "[<InternalComponent 1857361 at 0x07fd8f3598438 name='Palpha_iR'>,\n",
       " <InternalComponent 1857362 at 0x07fd8f3598470 name='Cbp'>,\n",
       " <InternalComponent 1857363 at 0x07fd8f35984a8 name='EGFR'>,\n",
       " <InternalComponent 1857364 at 0x07fd8f35984e0 name='PIP2_45'>,\n",
       " <InternalComponent 1857365 at 0x07fd8f3598518 name='TAK1'>,\n",
       " <InternalComponent 1857366 at 0x07fd8f3598550 name='Ga_1213'>,\n",
       " <InternalComponent 1857367 at 0x07fd8f3598588 name='Ras'>,\n",
       " <InternalComponent 1857368 at 0x07fd8f35985c0 name='alpha_qR'>,\n",
       " <InternalComponent 1857369 at 0x07fd8f35985f8 name='ARF'>,\n",
       " <InternalComponent 1857370 at 0x07fd8f3598630 name='PTPPEST'>,\n",
       " <InternalComponent 1857371 at 0x07fd8f3598668 name='Talin'>,\n",
       " <InternalComponent 1857372 at 0x07fd8f35986a0 name='p38'>,\n",
       " <InternalComponent 1857373 at 0x07fd8f35986d8 name='Raf'>,\n",
       " <InternalComponent 1857374 at 0x07fd8f3598710 name='Akt'>,\n",
       " <InternalComponent 1857375 at 0x07fd8f3598748 name='PLC_g'>,\n",
       " <InternalComponent 1857376 at 0x07fd8f3598780 name='Mekk4'>,\n",
       " <InternalComponent 1857377 at 0x07fd8f35987b8 name='PLD'>,\n",
       " <InternalComponent 1857378 at 0x07fd8f35987f0 name='p115RhoGEF'>,\n",
       " <InternalComponent 1857379 at 0x07fd8f3598828 name='Graf'>,\n",
       " <InternalComponent 1857380 at 0x07fd8f3598860 name='AC'>,\n",
       " <InternalComponent 1857381 at 0x07fd8f3598898 name='TAO_12'>,\n",
       " <InternalComponent 1857382 at 0x07fd8f35988d0 name='PKC_primed'>,\n",
       " <InternalComponent 1857383 at 0x07fd8f3598908 name='ASK1'>,\n",
       " <InternalComponent 1857384 at 0x07fd8f3598940 name='PAK'>,\n",
       " <InternalComponent 1857385 at 0x07fd8f3598978 name='IP3'>,\n",
       " <InternalComponent 1857386 at 0x07fd8f35989b0 name='DAG'>,\n",
       " <InternalComponent 1857387 at 0x07fd8f35989e8 name='Raf_Loc'>,\n",
       " <InternalComponent 1857388 at 0x07fd8f3598a20 name='Erk'>,\n",
       " <InternalComponent 1857389 at 0x07fd8f3598a58 name='Tiam'>,\n",
       " <InternalComponent 1857390 at 0x07fd8f3598a90 name='PIP2_34'>,\n",
       " <InternalComponent 1857391 at 0x07fd8f3598ac8 name='RhoK'>,\n",
       " <InternalComponent 1857392 at 0x07fd8f3598b00 name='Cas'>,\n",
       " <InternalComponent 1857393 at 0x07fd8f3598b38 name='PTPa'>,\n",
       " <InternalComponent 1857394 at 0x07fd8f3598b70 name='Crk'>,\n",
       " <InternalComponent 1857395 at 0x07fd8f3598ba8 name='MKK3'>,\n",
       " <InternalComponent 1857396 at 0x07fd8f3598be0 name='Shc'>,\n",
       " <InternalComponent 1857397 at 0x07fd8f3598c18 name='SHP2'>,\n",
       " <InternalComponent 1857398 at 0x07fd8f3598c50 name='Mekk2'>,\n",
       " <InternalComponent 1857399 at 0x07fd8f3598c88 name='cAMP'>,\n",
       " <InternalComponent 1857400 at 0x07fd8f3598cc0 name='Sos'>,\n",
       " <InternalComponent 1857401 at 0x07fd8f3598cf8 name='Gbg_1213'>,\n",
       " <InternalComponent 1857402 at 0x07fd8f3598d30 name='Raf_Rest'>,\n",
       " <InternalComponent 1857403 at 0x07fd8f3598d68 name='PI4K'>,\n",
       " <InternalComponent 1857404 at 0x07fd8f3598da0 name='PKC'>,\n",
       " <InternalComponent 1857405 at 0x07fd8f3598dd8 name='alpha_sR'>,\n",
       " <InternalComponent 1857406 at 0x07fd8f3598e10 name='Csk'>,\n",
       " <InternalComponent 1857407 at 0x07fd8f3598e48 name='Sek1'>,\n",
       " <InternalComponent 1857408 at 0x07fd8f3598e80 name='MLK1'>,\n",
       " <InternalComponent 1857409 at 0x07fd8f3598eb8 name='PDE4'>,\n",
       " <InternalComponent 1857410 at 0x07fd8f3598ef0 name='PLA2'>,\n",
       " <InternalComponent 1857411 at 0x07fd8f3598f28 name='Ral'>,\n",
       " <InternalComponent 1857412 at 0x07fd8f3598f60 name='RasGRF_GRP'>,\n",
       " <InternalComponent 1857413 at 0x07fd8f3598f98 name='AND_34'>,\n",
       " <InternalComponent 1857414 at 0x07fd8f3598fd0 name='PTP1b'>,\n",
       " <InternalComponent 1857415 at 0x07fd8f35b2048 name='DOCK180'>,\n",
       " <InternalComponent 1857416 at 0x07fd8f35b2080 name='NIK'>,\n",
       " <InternalComponent 1857417 at 0x07fd8f35b20b8 name='Pix_Cool'>,\n",
       " <InternalComponent 1857418 at 0x07fd8f35b20f0 name='B_Parvin'>,\n",
       " <InternalComponent 1857419 at 0x07fd8f35b2128 name='RKIP'>,\n",
       " <InternalComponent 1857420 at 0x07fd8f35b2160 name='WASP'>,\n",
       " <InternalComponent 1857421 at 0x07fd8f35b2198 name='MKK6'>,\n",
       " <InternalComponent 1857422 at 0x07fd8f35b21d0 name='Cdc42'>,\n",
       " <InternalComponent 1857423 at 0x07fd8f35b2208 name='MKK7'>,\n",
       " <InternalComponent 1857424 at 0x07fd8f35b2240 name='PIP3_345'>,\n",
       " <InternalComponent 1857425 at 0x07fd8f35b2278 name='GRK'>,\n",
       " <InternalComponent 1857426 at 0x07fd8f35b22b0 name='MLK3'>,\n",
       " <InternalComponent 1857427 at 0x07fd8f35b22e8 name='Actin'>,\n",
       " <InternalComponent 1857428 at 0x07fd8f35b2320 name='Fak'>,\n",
       " <InternalComponent 1857429 at 0x07fd8f35b2358 name='Ca'>,\n",
       " <InternalComponent 1857430 at 0x07fd8f35b2390 name='B_Arrestin'>,\n",
       " <InternalComponent 1857431 at 0x07fd8f35b23c8 name='Gbg_q'>,\n",
       " <InternalComponent 1857432 at 0x07fd8f35b2400 name='alpha_1213R'>,\n",
       " <InternalComponent 1857433 at 0x07fd8f35b2438 name='CaM'>,\n",
       " <InternalComponent 1857434 at 0x07fd8f35b2470 name='Arp_23'>,\n",
       " <InternalComponent 1857435 at 0x07fd8f35b24a8 name='Gas'>,\n",
       " <InternalComponent 1857436 at 0x07fd8f35b24e0 name='Gbg_i'>,\n",
       " <InternalComponent 1857437 at 0x07fd8f35b2518 name='Palpha_qR'>,\n",
       " <InternalComponent 1857438 at 0x07fd8f35b2550 name='RGS'>,\n",
       " <InternalComponent 1857439 at 0x07fd8f35b2588 name='p120RasGAP'>,\n",
       " <InternalComponent 1857440 at 0x07fd8f35b25c0 name='Mekk1'>,\n",
       " <InternalComponent 1857441 at 0x07fd8f35b25f8 name='PDK1'>,\n",
       " <InternalComponent 1857442 at 0x07fd8f35b2630 name='PA'>,\n",
       " <InternalComponent 1857443 at 0x07fd8f35b2668 name='Trafs'>,\n",
       " <InternalComponent 1857444 at 0x07fd8f35b26a0 name='PKA'>,\n",
       " <InternalComponent 1857445 at 0x07fd8f35b26d8 name='RalGDS'>,\n",
       " <InternalComponent 1857446 at 0x07fd8f35b2710 name='SAPK'>,\n",
       " <InternalComponent 1857447 at 0x07fd8f35b2748 name='Gab1'>,\n",
       " <InternalComponent 1857448 at 0x07fd8f35b2780 name='IP3R1'>,\n",
       " <InternalComponent 1857449 at 0x07fd8f35b27b8 name='AA'>,\n",
       " <InternalComponent 1857450 at 0x07fd8f35b27f0 name='PI3K'>,\n",
       " <InternalComponent 1857451 at 0x07fd8f35b2828 name='p90RSK'>,\n",
       " <InternalComponent 1857452 at 0x07fd8f35b2860 name='PLC_B'>,\n",
       " <InternalComponent 1857453 at 0x07fd8f35b2898 name='p190RhoGAP'>,\n",
       " <InternalComponent 1857454 at 0x07fd8f35b28d0 name='Grb2'>,\n",
       " <InternalComponent 1857455 at 0x07fd8f35b2908 name='MLCP'>,\n",
       " <InternalComponent 1857456 at 0x07fd8f35b2940 name='RalBP1'>,\n",
       " <InternalComponent 1857457 at 0x07fd8f35b2978 name='Mekk3'>,\n",
       " <InternalComponent 1857458 at 0x07fd8f35b29b0 name='PTEN'>,\n",
       " <InternalComponent 1857459 at 0x07fd8f35b29e8 name='PIP_4'>,\n",
       " <InternalComponent 1857460 at 0x07fd8f35b2a20 name='Myosin'>,\n",
       " <InternalComponent 1857461 at 0x07fd8f35b2a58 name='Gai'>,\n",
       " <InternalComponent 1857462 at 0x07fd8f35b2a90 name='Palpha_sR'>,\n",
       " <InternalComponent 1857463 at 0x07fd8f35b2ac8 name='ILK'>,\n",
       " <InternalComponent 1857464 at 0x07fd8f35b2b00 name='Integrins'>,\n",
       " <InternalComponent 1857465 at 0x07fd8f35b2b38 name='Mek'>,\n",
       " <InternalComponent 1857466 at 0x07fd8f35b2b70 name='CaMKK'>,\n",
       " <InternalComponent 1857467 at 0x07fd8f35b2ba8 name='Vinc'>,\n",
       " <InternalComponent 1857468 at 0x07fd8f35b2be0 name='Nck'>,\n",
       " <InternalComponent 1857469 at 0x07fd8f35b2c18 name='IL1_TNFR'>,\n",
       " <InternalComponent 1857470 at 0x07fd8f35b2c50 name='RhoGDI'>,\n",
       " <InternalComponent 1857471 at 0x07fd8f35b2c88 name='MKPs'>,\n",
       " <InternalComponent 1857472 at 0x07fd8f35b2cc0 name='MLK2'>,\n",
       " <InternalComponent 1857473 at 0x07fd8f35b2cf8 name='Rac'>,\n",
       " <InternalComponent 1857474 at 0x07fd8f35b2d30 name='DGK'>,\n",
       " <InternalComponent 1857475 at 0x07fd8f35b2d68 name='PI5K'>,\n",
       " <InternalComponent 1857476 at 0x07fd8f35b2da0 name='alpha_iR'>,\n",
       " <InternalComponent 1857477 at 0x07fd8f35b2dd8 name='Src'>,\n",
       " <InternalComponent 1857478 at 0x07fd8f35b2e10 name='Palpha_1213R'>,\n",
       " <InternalComponent 1857479 at 0x07fd8f35b2e48 name='Tab_12'>,\n",
       " <InternalComponent 1857480 at 0x07fd8f35b2e80 name='Tpl2'>,\n",
       " <InternalComponent 1857481 at 0x07fd8f35b2eb8 name='Gaq'>,\n",
       " <InternalComponent 1857482 at 0x07fd8f35b2ef0 name='Rho'>,\n",
       " <InternalComponent 1857483 at 0x07fd8f35b2f28 name='MLCK'>,\n",
       " <InternalComponent 1857484 at 0x07fd8f35b2f60 name='PP2A'>,\n",
       " <InternalComponent 1857485 at 0x07fd8f35b2f98 name='CaMK'>,\n",
       " <InternalComponent 1857486 at 0x07fd8f35b2fd0 name='Rap1'>,\n",
       " <InternalComponent 1857487 at 0x07fd8f3b5e048 name='Raf_DeP'>,\n",
       " <InternalComponent 1857488 at 0x07fd8f3b5e080 name='GCK'>,\n",
       " <InternalComponent 1857489 at 0x07fd8f3b5e0b8 name='Trx'>,\n",
       " <InternalComponent 1857490 at 0x07fd8f3b5e0f0 name='Gbg_s'>]"
      ]
     },
     "execution_count": 7,
     "metadata": {},
     "output_type": "execute_result"
    }
   ],
   "source": [
    "boolean.internal_components"
   ]
  },
  {
   "cell_type": "markdown",
   "metadata": {},
   "source": [
    "#### External Components"
   ]
  },
  {
   "cell_type": "code",
   "execution_count": 8,
   "metadata": {
    "scrolled": true
   },
   "outputs": [
    {
     "data": {
      "text/html": [
       "\n",
       "                <table>\n",
       "                    <thead>\n",
       "                        <tr>\n",
       "                            <th>ID</th><th>Name</th>\n",
       "                        </tr>\n",
       "                    </thead>\n",
       "                    <tbody>\n",
       "                        <tr><td>1857352</td><td>ExtPump</td></tr><tr><td>1857353</td><td>alpha_1213L</td></tr><tr><td>1857354</td><td>alpha_iL</td></tr><tr><td>1857355</td><td>alpha_sL</td></tr><tr><td>1857356</td><td>alpha_qL</td></tr><tr><td>1857357</td><td>IL1_TNF</td></tr><tr><td>1857358</td><td>ECM</td></tr><tr><td>1857359</td><td>Stress</td></tr><tr><td>1857360</td><td>EGF</td></tr>\n",
       "                    </tbody>\n",
       "                </table>\n",
       "            "
      ],
      "text/plain": [
       "[<ExternalComponent 1857352 at 0x07fd8f3598240 name='ExtPump'>,\n",
       " <ExternalComponent 1857353 at 0x07fd8f3598278 name='alpha_1213L'>,\n",
       " <ExternalComponent 1857354 at 0x07fd8f35982b0 name='alpha_iL'>,\n",
       " <ExternalComponent 1857355 at 0x07fd8f35982e8 name='alpha_sL'>,\n",
       " <ExternalComponent 1857356 at 0x07fd8f3598320 name='alpha_qL'>,\n",
       " <ExternalComponent 1857357 at 0x07fd8f3598358 name='IL1_TNF'>,\n",
       " <ExternalComponent 1857358 at 0x07fd8f3598390 name='ECM'>,\n",
       " <ExternalComponent 1857359 at 0x07fd8f35983c8 name='Stress'>,\n",
       " <ExternalComponent 1857360 at 0x07fd8f3598400 name='EGF'>]"
      ]
     },
     "execution_count": 8,
     "metadata": {},
     "output_type": "execute_result"
    }
   ],
   "source": [
    "boolean.external_components"
   ]
  },
  {
   "cell_type": "markdown",
   "metadata": {},
   "source": [
    "#### Regulators"
   ]
  },
  {
   "cell_type": "code",
   "execution_count": 9,
   "metadata": {},
   "outputs": [
    {
     "data": {
      "text/html": [
       "\n",
       "                <table>\n",
       "                    <thead>\n",
       "                        <tr>\n",
       "                            <th>ID</th><th>Name</th><th>Number of Conditions</th>\n",
       "                        </tr>\n",
       "                    </thead>\n",
       "                    <tbody>\n",
       "                        <tr><td>2549151</td><td></td><td>0</td></tr><tr><td>2549152</td><td></td><td>0</td></tr><tr><td>2549154</td><td></td><td>0</td></tr>\n",
       "                    </tbody>\n",
       "                </table>\n",
       "            "
      ],
      "text/plain": [
       "[<Regulator 2549151 at 0x07fd8f3a60ac8>,\n",
       " <Regulator 2549152 at 0x07fd8f3a60b38>,\n",
       " <Regulator 2549154 at 0x07fd8f3a60be0>]"
      ]
     },
     "execution_count": 9,
     "metadata": {},
     "output_type": "execute_result"
    }
   ],
   "source": [
    "Ras = boolean.internal_components.get_by_name(\"Ras\")\n",
    "Ras.regulators"
   ]
  },
  {
   "cell_type": "markdown",
   "metadata": {},
   "source": [
    "#### Conditions"
   ]
  },
  {
   "cell_type": "code",
   "execution_count": 10,
   "metadata": {},
   "outputs": [
    {
     "data": {
      "text/html": [
       "\n",
       "                <table>\n",
       "                    <thead>\n",
       "                        <tr>\n",
       "                            <th>ID</th><th>Name</th>\n",
       "                        </tr>\n",
       "                    </thead>\n",
       "                    <tbody>\n",
       "                        <tr><td>1009741</td><td></td></tr>\n",
       "                    </tbody>\n",
       "                </table>\n",
       "            "
      ],
      "text/plain": [
       "[<Condition 1009741 at 0x07fd8f3b4b470>]"
      ]
     },
     "execution_count": 10,
     "metadata": {},
     "output_type": "execute_result"
    }
   ],
   "source": [
    "Actin     = boolean.internal_components.get_by_name(\"Actin\")\n",
    "regulator = Actin.regulators[0]\n",
    "regulator.conditions"
   ]
  }
 ],
 "metadata": {
  "file_extension": ".py",
  "kernelspec": {
   "display_name": "Python 3",
   "language": "python",
   "name": "python3"
  },
  "language_info": {
   "codemirror_mode": {
    "name": "ipython",
    "version": 3
   },
   "file_extension": ".py",
   "mimetype": "text/x-python",
   "name": "python",
   "nbconvert_exporter": "python",
   "pygments_lexer": "ipython3",
   "version": "3.6.9"
  },
  "mimetype": "text/x-python",
  "name": "python",
  "npconvert_exporter": "python",
  "pygments_lexer": "ipython3",
  "version": 3
 },
 "nbformat": 4,
 "nbformat_minor": 2
}
