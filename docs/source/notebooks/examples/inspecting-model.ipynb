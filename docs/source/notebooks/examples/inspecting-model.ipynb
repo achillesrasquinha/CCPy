{
 "cells": [
  {
   "cell_type": "markdown",
   "metadata": {},
   "source": [
    "### Inspecting a Model"
   ]
  },
  {
   "cell_type": "markdown",
   "metadata": {},
   "source": [
    "To begin with, **ccapi** comes with some sample models for *Lac Operon* and *Fibroblasts*."
   ]
  },
  {
   "cell_type": "markdown",
   "metadata": {},
   "source": [
    "Begin by importing the ccapi module into your workspace."
   ]
  },
  {
   "cell_type": "code",
   "execution_count": 1,
   "metadata": {},
   "outputs": [],
   "source": [
    "import ccapi"
   ]
  },
  {
   "cell_type": "markdown",
   "metadata": {},
   "source": [
    "Now, let’s try creating a client object in order to interact with services provided by [Cell Collective](https://cellcollective.org)."
   ]
  },
  {
   "cell_type": "code",
   "execution_count": 2,
   "metadata": {},
   "outputs": [],
   "source": [
    "client = ccapi.Client()"
   ]
  },
  {
   "cell_type": "markdown",
   "metadata": {},
   "source": [
    "Authenticate your client using a ***password flow type authentication*** scheme.\n",
    "\n",
    "**NOTE**: *Before you can authenticate using ccapi, you must first register an application of the appropriate type on [Cell Collective](https://cellcollective.org). If you do not require a user context, it is read only.*"
   ]
  },
  {
   "cell_type": "code",
   "execution_count": 3,
   "metadata": {},
   "outputs": [],
   "source": [
    "client.auth(email = \"test@cellcollective.org\", password = \"test\")"
   ]
  },
  {
   "cell_type": "markdown",
   "metadata": {},
   "source": [
    "To load a test model, type:"
   ]
  },
  {
   "cell_type": "code",
   "execution_count": 4,
   "metadata": {},
   "outputs": [
    {
     "data": {
      "text/html": [
       "<table>\n",
       "    <tr>\n",
       "        <td>\n",
       "            <strong>\n",
       "                ID\n",
       "            </strong>\n",
       "        </td>\n",
       "        <td>\n",
       "            89823\n",
       "        </td>\n",
       "    </tr>\n",
       "    <tr>\n",
       "        <td>\n",
       "            <strong>\n",
       "                Name\n",
       "            </strong>\n",
       "        </td>\n",
       "        <td>\n",
       "            Unnamed Model\n",
       "        </td>\n",
       "    </tr>\n",
       "    <tr>\n",
       "        <td>\n",
       "            <strong>\n",
       "                Memory Address\n",
       "            </strong>\n",
       "        </td>\n",
       "        <td>\n",
       "            0x07f84ada38588\n",
       "        </td>\n",
       "    </tr>\n",
       "    <tr>\n",
       "        <td>\n",
       "            <strong>\n",
       "                Number of Versions\n",
       "            </strong>\n",
       "        </td>\n",
       "        <td>\n",
       "            1\n",
       "        </td>\n",
       "    </tr>\n",
       "    <tr>\n",
       "        <td>\n",
       "            <strong>\n",
       "                Versions\n",
       "            </strong>\n",
       "        </td>\n",
       "        <td>\n",
       "            [&lt;BooleanModel 89823 at 0x07f84ada385f8&gt;]\n",
       "        </td>\n",
       "    </tr>\n",
       "</table>"
      ],
      "text/plain": [
       "<Model 89823 at 0x07f84ada38588 name='Unnamed Model'>"
      ]
     },
     "execution_count": 4,
     "metadata": {},
     "output_type": "execute_result"
    }
   ],
   "source": [
    "model = ccapi.load_model(\"fibroblasts\", client = client)\n",
    "model.save()"
   ]
  },
  {
   "cell_type": "markdown",
   "metadata": {},
   "source": [
    "A `ccapi.Model` consists of various `ccapi.ModelVersion` objects that help you build various versions to a model."
   ]
  },
  {
   "cell_type": "code",
   "execution_count": 5,
   "metadata": {},
   "outputs": [
    {
     "data": {
      "text/html": [
       "\n",
       "            <table>\n",
       "                <thead>\n",
       "                    <tr>\n",
       "                        <th>ID</th><th>Name</th>\n",
       "                    </tr>\n",
       "                </thead>\n",
       "                <tbody>\n",
       "                    <tr><td>89823</td><td></td></tr>\n",
       "                </tbody>\n",
       "            </table>\n",
       "        "
      ],
      "text/plain": [
       "[<BooleanModel 89823 at 0x07f84ada385f8>]"
      ]
     },
     "execution_count": 5,
     "metadata": {},
     "output_type": "execute_result"
    }
   ],
   "source": [
    "model.versions"
   ]
  },
  {
   "cell_type": "code",
   "execution_count": 6,
   "metadata": {},
   "outputs": [
    {
     "data": {
      "text/html": [
       "<table>\n",
       "    <tr>\n",
       "        <td>\n",
       "            <strong>\n",
       "                ID\n",
       "            </strong>\n",
       "        </td>\n",
       "        <td>\n",
       "            89823\n",
       "        </td>\n",
       "    </tr>\n",
       "    <tr>\n",
       "        <td>\n",
       "            <strong>\n",
       "                Version\n",
       "            </strong>\n",
       "        </td>\n",
       "        <td>\n",
       "            1\n",
       "        </td>\n",
       "    </tr>\n",
       "    <tr>\n",
       "        <td>\n",
       "            <strong>\n",
       "                Name\n",
       "            </strong>\n",
       "        </td>\n",
       "        <td>\n",
       "            \n",
       "        </td>\n",
       "    </tr>\n",
       "    <tr>\n",
       "        <td>\n",
       "            <strong>\n",
       "                Memory Address\n",
       "            </strong>\n",
       "        </td>\n",
       "        <td>\n",
       "            0x07f84ada385f8\n",
       "        </td>\n",
       "    </tr>\n",
       "    <tr>\n",
       "        <td>\n",
       "            <strong>\n",
       "                Number of Components\n",
       "            </strong>\n",
       "        </td>\n",
       "        <td>\n",
       "            139\n",
       "        </td>\n",
       "    </tr>\n",
       "    <tr>\n",
       "        <td>\n",
       "            <strong>\n",
       "                Components\n",
       "            </strong>\n",
       "        </td>\n",
       "        <td>\n",
       "            ExtPump, alpha_1213L, alpha_iL, alpha_sL, alpha_qL, IL1_TNF, ECM, Stress, EGF, Palpha_iR, Cbp, EGFR, PIP2_45, TAK1, Ga_1213, Ras, alpha_qR, ARF, PTPPEST, Talin, p38, Raf, Akt, PLC_g, Mekk4, PLD, p115RhoGEF, Graf, AC, TAO_12, PKC_primed, ASK1, PAK, IP3, DAG, Raf_Loc, Erk, Tiam, PIP2_34, RhoK, Cas, PTPa, Crk, MKK3, Shc, SHP2, Mekk2, cAMP, Sos, Gbg_1213, Raf_Rest, PI4K, PKC, alpha_sR, Csk, Sek1, MLK1, PDE4, PLA2, Ral, RasGRF_GRP, AND_34, PTP1b, DOCK180, NIK, Pix_Cool, B_Parvin, RKIP, WASP, MKK6, Cdc42, MKK7, PIP3_345, GRK, MLK3, Actin, Fak, Ca, B_Arrestin, Gbg_q, alpha_1213R, CaM, Arp_23, Gas, Gbg_i, Palpha_qR, RGS, p120RasGAP, Mekk1, PDK1, PA, Trafs, PKA, RalGDS, SAPK, Gab1, IP3R1, AA, PI3K, p90RSK, PLC_B, p190RhoGAP, Grb2, MLCP, RalBP1, Mekk3, PTEN, PIP_4, Myosin, Gai, Palpha_sR, ILK, Integrins, Mek, CaMKK, Vinc, Nck, IL1_TNFR, RhoGDI, MKPs, MLK2, Rac, DGK, PI5K, alpha_iR, Src, Palpha_1213R, Tab_12, Tpl2, Gaq, Rho, MLCK, PP2A, CaMK, Rap1, Raf_DeP, GCK, Trx, Gbg_s\n",
       "        </td>\n",
       "    </tr>\n",
       "</table>"
      ],
      "text/plain": [
       "<BooleanModel 89823 at 0x07f84ada385f8>"
      ]
     },
     "execution_count": 6,
     "metadata": {},
     "output_type": "execute_result"
    }
   ],
   "source": [
    "# get the default model version\n",
    "boolean = model.versions[0]\n",
    "boolean"
   ]
  },
  {
   "cell_type": "markdown",
   "metadata": {},
   "source": [
    "#### Components"
   ]
  },
  {
   "cell_type": "markdown",
   "metadata": {},
   "source": [
    "#### Internal Components"
   ]
  },
  {
   "cell_type": "code",
   "execution_count": 7,
   "metadata": {},
   "outputs": [
    {
     "data": {
      "text/html": [
       "\n",
       "            <table>\n",
       "                <thead>\n",
       "                    <tr>\n",
       "                        <th>ID</th><th>Name</th><th>Number of Positive Regulators</th><th>Number of Negative Regulators</th>\n",
       "                    </tr>\n",
       "                </thead>\n",
       "                <tbody>\n",
       "                    <tr><td>1831562</td><td>Palpha_iR</td><td>0</td><td>0</td></tr><tr><td>1831563</td><td>Cbp</td><td>0</td><td>0</td></tr><tr><td>1831564</td><td>EGFR</td><td>0</td><td>0</td></tr><tr><td>1831565</td><td>PIP2_45</td><td>0</td><td>0</td></tr><tr><td>1831566</td><td>TAK1</td><td>0</td><td>0</td></tr><tr><td>1831567</td><td>Ga_1213</td><td>0</td><td>0</td></tr><tr><td>1831568</td><td>Ras</td><td>0</td><td>0</td></tr><tr><td>...</td><td>...</td><td>...</td><td>...</td></tr><tr><td>1831686</td><td>CaMK</td><td>0</td><td>0</td></tr><tr><td>1831687</td><td>Rap1</td><td>0</td><td>0</td></tr><tr><td>1831688</td><td>Raf_DeP</td><td>0</td><td>0</td></tr><tr><td>1831689</td><td>GCK</td><td>0</td><td>0</td></tr><tr><td>1831690</td><td>Trx</td><td>0</td><td>0</td></tr><tr><td>1831691</td><td>Gbg_s</td><td>0</td><td>0</td></tr>\n",
       "                </tbody>\n",
       "            </table>\n",
       "        "
      ],
      "text/plain": [
       "[<InternalComponent 1831562 at 0x07f84ada38828 name='Palpha_iR'>,\n",
       " <InternalComponent 1831563 at 0x07f84ada38860 name='Cbp'>,\n",
       " <InternalComponent 1831564 at 0x07f84ada38898 name='EGFR'>,\n",
       " <InternalComponent 1831565 at 0x07f84ada388d0 name='PIP2_45'>,\n",
       " <InternalComponent 1831566 at 0x07f84ada38908 name='TAK1'>,\n",
       " <InternalComponent 1831567 at 0x07f84ada38940 name='Ga_1213'>,\n",
       " <InternalComponent 1831568 at 0x07f84ada38978 name='Ras'>,\n",
       " <InternalComponent 1831569 at 0x07f84ada389b0 name='alpha_qR'>,\n",
       " <InternalComponent 1831570 at 0x07f84ada389e8 name='ARF'>,\n",
       " <InternalComponent 1831571 at 0x07f84ada38a20 name='PTPPEST'>,\n",
       " <InternalComponent 1831572 at 0x07f84ada38a58 name='Talin'>,\n",
       " <InternalComponent 1831573 at 0x07f84ada38a90 name='p38'>,\n",
       " <InternalComponent 1831574 at 0x07f84ada38ac8 name='Raf'>,\n",
       " <InternalComponent 1831575 at 0x07f84ada38b00 name='Akt'>,\n",
       " <InternalComponent 1831576 at 0x07f84ada38b38 name='PLC_g'>,\n",
       " <InternalComponent 1831577 at 0x07f84ada38b70 name='Mekk4'>,\n",
       " <InternalComponent 1831578 at 0x07f84ada38ba8 name='PLD'>,\n",
       " <InternalComponent 1831579 at 0x07f84ada38be0 name='p115RhoGEF'>,\n",
       " <InternalComponent 1831580 at 0x07f84ada38c18 name='Graf'>,\n",
       " <InternalComponent 1831581 at 0x07f84ada38c50 name='AC'>,\n",
       " <InternalComponent 1831582 at 0x07f84ada38c88 name='TAO_12'>,\n",
       " <InternalComponent 1831583 at 0x07f84ada38cc0 name='PKC_primed'>,\n",
       " <InternalComponent 1831584 at 0x07f84ada38cf8 name='ASK1'>,\n",
       " <InternalComponent 1831585 at 0x07f84ada38d30 name='PAK'>,\n",
       " <InternalComponent 1831586 at 0x07f84ada38d68 name='IP3'>,\n",
       " <InternalComponent 1831587 at 0x07f84ada38da0 name='DAG'>,\n",
       " <InternalComponent 1831588 at 0x07f84ada38dd8 name='Raf_Loc'>,\n",
       " <InternalComponent 1831589 at 0x07f84ada38e10 name='Erk'>,\n",
       " <InternalComponent 1831590 at 0x07f84ada38e48 name='Tiam'>,\n",
       " <InternalComponent 1831591 at 0x07f84ada38e80 name='PIP2_34'>,\n",
       " <InternalComponent 1831592 at 0x07f84ada38eb8 name='RhoK'>,\n",
       " <InternalComponent 1831593 at 0x07f84ada38ef0 name='Cas'>,\n",
       " <InternalComponent 1831594 at 0x07f84ada38f28 name='PTPa'>,\n",
       " <InternalComponent 1831595 at 0x07f84ada38f60 name='Crk'>,\n",
       " <InternalComponent 1831596 at 0x07f84ada38f98 name='MKK3'>,\n",
       " <InternalComponent 1831597 at 0x07f84ada38fd0 name='Shc'>,\n",
       " <InternalComponent 1831598 at 0x07f84adf8c048 name='SHP2'>,\n",
       " <InternalComponent 1831599 at 0x07f84adf8c080 name='Mekk2'>,\n",
       " <InternalComponent 1831600 at 0x07f84adf8c0b8 name='cAMP'>,\n",
       " <InternalComponent 1831601 at 0x07f84adf8c0f0 name='Sos'>,\n",
       " <InternalComponent 1831602 at 0x07f84adf8c128 name='Gbg_1213'>,\n",
       " <InternalComponent 1831603 at 0x07f84adf8c160 name='Raf_Rest'>,\n",
       " <InternalComponent 1831604 at 0x07f84adf8c198 name='PI4K'>,\n",
       " <InternalComponent 1831605 at 0x07f84adf8c1d0 name='PKC'>,\n",
       " <InternalComponent 1831606 at 0x07f84adf8c208 name='alpha_sR'>,\n",
       " <InternalComponent 1831607 at 0x07f84adf8c240 name='Csk'>,\n",
       " <InternalComponent 1831608 at 0x07f84adf8c278 name='Sek1'>,\n",
       " <InternalComponent 1831609 at 0x07f84adf8c2b0 name='MLK1'>,\n",
       " <InternalComponent 1831610 at 0x07f84adf8c2e8 name='PDE4'>,\n",
       " <InternalComponent 1831611 at 0x07f84adf8c320 name='PLA2'>,\n",
       " <InternalComponent 1831612 at 0x07f84adf8c358 name='Ral'>,\n",
       " <InternalComponent 1831613 at 0x07f84adf8c390 name='RasGRF_GRP'>,\n",
       " <InternalComponent 1831614 at 0x07f84adf8c3c8 name='AND_34'>,\n",
       " <InternalComponent 1831615 at 0x07f84adf8c400 name='PTP1b'>,\n",
       " <InternalComponent 1831616 at 0x07f84adf8c438 name='DOCK180'>,\n",
       " <InternalComponent 1831617 at 0x07f84adf8c470 name='NIK'>,\n",
       " <InternalComponent 1831618 at 0x07f84adf8c4a8 name='Pix_Cool'>,\n",
       " <InternalComponent 1831619 at 0x07f84adf8c4e0 name='B_Parvin'>,\n",
       " <InternalComponent 1831620 at 0x07f84adf8c518 name='RKIP'>,\n",
       " <InternalComponent 1831621 at 0x07f84adf8c550 name='WASP'>,\n",
       " <InternalComponent 1831622 at 0x07f84adf8c588 name='MKK6'>,\n",
       " <InternalComponent 1831623 at 0x07f84adf8c5c0 name='Cdc42'>,\n",
       " <InternalComponent 1831624 at 0x07f84adf8c5f8 name='MKK7'>,\n",
       " <InternalComponent 1831625 at 0x07f84adf8c630 name='PIP3_345'>,\n",
       " <InternalComponent 1831626 at 0x07f84adf8c668 name='GRK'>,\n",
       " <InternalComponent 1831627 at 0x07f84adf8c6a0 name='MLK3'>,\n",
       " <InternalComponent 1831628 at 0x07f84adf8c6d8 name='Actin'>,\n",
       " <InternalComponent 1831629 at 0x07f84adf8c710 name='Fak'>,\n",
       " <InternalComponent 1831630 at 0x07f84adf8c748 name='Ca'>,\n",
       " <InternalComponent 1831631 at 0x07f84adf8c780 name='B_Arrestin'>,\n",
       " <InternalComponent 1831632 at 0x07f84adf8c7b8 name='Gbg_q'>,\n",
       " <InternalComponent 1831633 at 0x07f84adf8c7f0 name='alpha_1213R'>,\n",
       " <InternalComponent 1831634 at 0x07f84adf8c828 name='CaM'>,\n",
       " <InternalComponent 1831635 at 0x07f84adf8c860 name='Arp_23'>,\n",
       " <InternalComponent 1831636 at 0x07f84adf8c898 name='Gas'>,\n",
       " <InternalComponent 1831637 at 0x07f84adf8c8d0 name='Gbg_i'>,\n",
       " <InternalComponent 1831638 at 0x07f84adf8c908 name='Palpha_qR'>,\n",
       " <InternalComponent 1831639 at 0x07f84adf8c940 name='RGS'>,\n",
       " <InternalComponent 1831640 at 0x07f84adf8c978 name='p120RasGAP'>,\n",
       " <InternalComponent 1831641 at 0x07f84adf8c9b0 name='Mekk1'>,\n",
       " <InternalComponent 1831642 at 0x07f84adf8c9e8 name='PDK1'>,\n",
       " <InternalComponent 1831643 at 0x07f84adf8ca20 name='PA'>,\n",
       " <InternalComponent 1831644 at 0x07f84adf8ca58 name='Trafs'>,\n",
       " <InternalComponent 1831645 at 0x07f84adf8ca90 name='PKA'>,\n",
       " <InternalComponent 1831646 at 0x07f84adf8cac8 name='RalGDS'>,\n",
       " <InternalComponent 1831647 at 0x07f84adf8cb00 name='SAPK'>,\n",
       " <InternalComponent 1831648 at 0x07f84adf8cb38 name='Gab1'>,\n",
       " <InternalComponent 1831649 at 0x07f84adf8cb70 name='IP3R1'>,\n",
       " <InternalComponent 1831650 at 0x07f84adf8cba8 name='AA'>,\n",
       " <InternalComponent 1831651 at 0x07f84adf8cbe0 name='PI3K'>,\n",
       " <InternalComponent 1831652 at 0x07f84adf8cc18 name='p90RSK'>,\n",
       " <InternalComponent 1831653 at 0x07f84adf8cc50 name='PLC_B'>,\n",
       " <InternalComponent 1831654 at 0x07f84adf8cc88 name='p190RhoGAP'>,\n",
       " <InternalComponent 1831655 at 0x07f84adf8ccc0 name='Grb2'>,\n",
       " <InternalComponent 1831656 at 0x07f84adf8ccf8 name='MLCP'>,\n",
       " <InternalComponent 1831657 at 0x07f84adf8cd30 name='RalBP1'>,\n",
       " <InternalComponent 1831658 at 0x07f84adf8cd68 name='Mekk3'>,\n",
       " <InternalComponent 1831659 at 0x07f84adf8cda0 name='PTEN'>,\n",
       " <InternalComponent 1831660 at 0x07f84adf8cdd8 name='PIP_4'>,\n",
       " <InternalComponent 1831661 at 0x07f84adf8ce10 name='Myosin'>,\n",
       " <InternalComponent 1831662 at 0x07f84adf8ce48 name='Gai'>,\n",
       " <InternalComponent 1831663 at 0x07f84adf8ce80 name='Palpha_sR'>,\n",
       " <InternalComponent 1831664 at 0x07f84adf8ceb8 name='ILK'>,\n",
       " <InternalComponent 1831665 at 0x07f84adf8cef0 name='Integrins'>,\n",
       " <InternalComponent 1831666 at 0x07f84adf8cf28 name='Mek'>,\n",
       " <InternalComponent 1831667 at 0x07f84adf8cf60 name='CaMKK'>,\n",
       " <InternalComponent 1831668 at 0x07f84adf8cf98 name='Vinc'>,\n",
       " <InternalComponent 1831669 at 0x07f84adf8cfd0 name='Nck'>,\n",
       " <InternalComponent 1831670 at 0x07f84adf9a048 name='IL1_TNFR'>,\n",
       " <InternalComponent 1831671 at 0x07f84adf9a080 name='RhoGDI'>,\n",
       " <InternalComponent 1831672 at 0x07f84adf9a0b8 name='MKPs'>,\n",
       " <InternalComponent 1831673 at 0x07f84adf9a0f0 name='MLK2'>,\n",
       " <InternalComponent 1831674 at 0x07f84adf9a128 name='Rac'>,\n",
       " <InternalComponent 1831675 at 0x07f84adf9a160 name='DGK'>,\n",
       " <InternalComponent 1831676 at 0x07f84adf9a198 name='PI5K'>,\n",
       " <InternalComponent 1831677 at 0x07f84adf9a1d0 name='alpha_iR'>,\n",
       " <InternalComponent 1831678 at 0x07f84adf9a208 name='Src'>,\n",
       " <InternalComponent 1831679 at 0x07f84adf9a240 name='Palpha_1213R'>,\n",
       " <InternalComponent 1831680 at 0x07f84adf9a278 name='Tab_12'>,\n",
       " <InternalComponent 1831681 at 0x07f84adf9a2b0 name='Tpl2'>,\n",
       " <InternalComponent 1831682 at 0x07f84adf9a2e8 name='Gaq'>,\n",
       " <InternalComponent 1831683 at 0x07f84adf9a320 name='Rho'>,\n",
       " <InternalComponent 1831684 at 0x07f84adf9a358 name='MLCK'>,\n",
       " <InternalComponent 1831685 at 0x07f84adf9a390 name='PP2A'>,\n",
       " <InternalComponent 1831686 at 0x07f84adf9a3c8 name='CaMK'>,\n",
       " <InternalComponent 1831687 at 0x07f84adf9a400 name='Rap1'>,\n",
       " <InternalComponent 1831688 at 0x07f84adf9a438 name='Raf_DeP'>,\n",
       " <InternalComponent 1831689 at 0x07f84adf9a470 name='GCK'>,\n",
       " <InternalComponent 1831690 at 0x07f84adf9a4a8 name='Trx'>,\n",
       " <InternalComponent 1831691 at 0x07f84adf9a4e0 name='Gbg_s'>]"
      ]
     },
     "execution_count": 7,
     "metadata": {},
     "output_type": "execute_result"
    }
   ],
   "source": [
    "boolean.internal_components"
   ]
  },
  {
   "cell_type": "markdown",
   "metadata": {},
   "source": [
    "#### External Components"
   ]
  },
  {
   "cell_type": "code",
   "execution_count": 8,
   "metadata": {},
   "outputs": [],
   "source": [
    "# boolean.internal_components.regulators"
   ]
  },
  {
   "cell_type": "code",
   "execution_count": null,
   "metadata": {},
   "outputs": [],
   "source": []
  },
  {
   "cell_type": "code",
   "execution_count": 9,
   "metadata": {},
   "outputs": [
    {
     "data": {
      "text/html": [
       "\n",
       "            <table>\n",
       "                <thead>\n",
       "                    <tr>\n",
       "                        <th>ID</th><th>Name</th>\n",
       "                    </tr>\n",
       "                </thead>\n",
       "                <tbody>\n",
       "                    <tr><td>1831553</td><td>ExtPump</td></tr><tr><td>1831554</td><td>alpha_1213L</td></tr><tr><td>1831555</td><td>alpha_iL</td></tr><tr><td>1831556</td><td>alpha_sL</td></tr><tr><td>1831557</td><td>alpha_qL</td></tr><tr><td>1831558</td><td>IL1_TNF</td></tr><tr><td>1831559</td><td>ECM</td></tr><tr><td>1831560</td><td>Stress</td></tr><tr><td>1831561</td><td>EGF</td></tr>\n",
       "                </tbody>\n",
       "            </table>\n",
       "        "
      ],
      "text/plain": [
       "[<ExternalComponent 1831553 at 0x07f84ada38630 name='ExtPump'>,\n",
       " <ExternalComponent 1831554 at 0x07f84ada38668 name='alpha_1213L'>,\n",
       " <ExternalComponent 1831555 at 0x07f84ada386a0 name='alpha_iL'>,\n",
       " <ExternalComponent 1831556 at 0x07f84ada386d8 name='alpha_sL'>,\n",
       " <ExternalComponent 1831557 at 0x07f84ada38710 name='alpha_qL'>,\n",
       " <ExternalComponent 1831558 at 0x07f84ada38748 name='IL1_TNF'>,\n",
       " <ExternalComponent 1831559 at 0x07f84ada38780 name='ECM'>,\n",
       " <ExternalComponent 1831560 at 0x07f84ada387b8 name='Stress'>,\n",
       " <ExternalComponent 1831561 at 0x07f84ada387f0 name='EGF'>]"
      ]
     },
     "execution_count": 9,
     "metadata": {},
     "output_type": "execute_result"
    }
   ],
   "source": [
    "boolean.external_components"
   ]
  }
 ],
 "metadata": {
  "file_extension": ".py",
  "kernelspec": {
   "display_name": "Python 3",
   "language": "python",
   "name": "python3"
  },
  "language_info": {
   "codemirror_mode": {
    "name": "ipython",
    "version": 3
   },
   "file_extension": ".py",
   "mimetype": "text/x-python",
   "name": "python",
   "nbconvert_exporter": "python",
   "pygments_lexer": "ipython3",
   "version": "3.7.3"
  },
  "mimetype": "text/x-python",
  "name": "python",
  "npconvert_exporter": "python",
  "pygments_lexer": "ipython3",
  "version": 3
 },
 "nbformat": 4,
 "nbformat_minor": 2
}
