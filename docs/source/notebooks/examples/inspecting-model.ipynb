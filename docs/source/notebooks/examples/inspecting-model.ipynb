{
 "cells": [
  {
   "cell_type": "markdown",
   "metadata": {},
   "source": [
    "### Inspecting a Model"
   ]
  },
  {
   "cell_type": "markdown",
   "metadata": {},
   "source": [
    "To begin with, **ccapi** comes with some sample models for *Lac Operon* and *Fibroblasts*."
   ]
  },
  {
   "cell_type": "markdown",
   "metadata": {},
   "source": [
    "Begin by importing the ccapi module into your workspace."
   ]
  },
  {
   "cell_type": "code",
   "execution_count": 1,
   "metadata": {},
   "outputs": [],
   "source": [
    "import ccapi"
   ]
  },
  {
   "cell_type": "markdown",
   "metadata": {},
   "source": [
    "Now, let’s try creating a client object in order to interact with services provided by [Cell Collective](https://cellcollective.org)."
   ]
  },
  {
   "cell_type": "code",
   "execution_count": 2,
   "metadata": {},
   "outputs": [],
   "source": [
    "client = ccapi.Client()"
   ]
  },
  {
   "cell_type": "markdown",
   "metadata": {},
   "source": [
    "Authenticate your client using a ***password flow type authentication*** scheme.\n",
    "\n",
    "**NOTE**: *Before you can authenticate using ccapi, you must first register an application of the appropriate type on [Cell Collective](https://cellcollective.org). If you do not require a user context, it is read only.*"
   ]
  },
  {
   "cell_type": "code",
   "execution_count": 3,
   "metadata": {},
   "outputs": [],
   "source": [
    "client.auth(email = \"test@cellcollective.org\", password = \"test\")"
   ]
  },
  {
   "cell_type": "markdown",
   "metadata": {},
   "source": [
    "To load a test model, type:"
   ]
  },
  {
   "cell_type": "code",
   "execution_count": 4,
   "metadata": {},
   "outputs": [
    {
     "data": {
      "text/html": [
       "<table>\n",
       "    <tr>\n",
       "        <td>\n",
       "            <strong>\n",
       "                ID\n",
       "            </strong>\n",
       "        </td>\n",
       "        <td>\n",
       "            90144\n",
       "        </td>\n",
       "    </tr>\n",
       "    <tr>\n",
       "        <td>\n",
       "            <strong>\n",
       "                Name\n",
       "            </strong>\n",
       "        </td>\n",
       "        <td>\n",
       "            Unnamed Model\n",
       "        </td>\n",
       "    </tr>\n",
       "    <tr>\n",
       "        <td>\n",
       "            <strong>\n",
       "                Memory Address\n",
       "            </strong>\n",
       "        </td>\n",
       "        <td>\n",
       "            0x07ff1f55f2780\n",
       "        </td>\n",
       "    </tr>\n",
       "    <tr>\n",
       "        <td>\n",
       "            <strong>\n",
       "                Number of Versions\n",
       "            </strong>\n",
       "        </td>\n",
       "        <td>\n",
       "            1\n",
       "        </td>\n",
       "    </tr>\n",
       "    <tr>\n",
       "        <td>\n",
       "            <strong>\n",
       "                Versions\n",
       "            </strong>\n",
       "        </td>\n",
       "        <td>\n",
       "            [&lt;BooleanModel 90144 at 0x07ff1f55f27f0&gt;]\n",
       "        </td>\n",
       "    </tr>\n",
       "</table>"
      ],
      "text/plain": [
       "<Model 90144 at 0x07ff1f55f2780 name='Unnamed Model'>"
      ]
     },
     "execution_count": 4,
     "metadata": {},
     "output_type": "execute_result"
    }
   ],
   "source": [
    "model = ccapi.load_model(\"fibroblasts\", client = client)\n",
    "model.save()"
   ]
  },
  {
   "cell_type": "markdown",
   "metadata": {},
   "source": [
    "A `ccapi.Model` consists of various `ccapi.ModelVersion` objects that help you build various versions to a model."
   ]
  },
  {
   "cell_type": "code",
   "execution_count": 5,
   "metadata": {},
   "outputs": [
    {
     "data": {
      "text/html": [
       "\n",
       "                <table>\n",
       "                    <thead>\n",
       "                        <tr>\n",
       "                            <th>ID</th><th>Name</th>\n",
       "                        </tr>\n",
       "                    </thead>\n",
       "                    <tbody>\n",
       "                        <tr><td>90144</td><td></td></tr>\n",
       "                    </tbody>\n",
       "                </table>\n",
       "            "
      ],
      "text/plain": [
       "[<BooleanModel 90144 at 0x07ff1f55f27f0>]"
      ]
     },
     "execution_count": 5,
     "metadata": {},
     "output_type": "execute_result"
    }
   ],
   "source": [
    "model.versions"
   ]
  },
  {
   "cell_type": "code",
   "execution_count": 6,
   "metadata": {},
   "outputs": [
    {
     "data": {
      "text/html": [
       "<table>\n",
       "    <tr>\n",
       "        <td>\n",
       "            <strong>\n",
       "                ID\n",
       "            </strong>\n",
       "        </td>\n",
       "        <td>\n",
       "            90144\n",
       "        </td>\n",
       "    </tr>\n",
       "    <tr>\n",
       "        <td>\n",
       "            <strong>\n",
       "                Version\n",
       "            </strong>\n",
       "        </td>\n",
       "        <td>\n",
       "            1\n",
       "        </td>\n",
       "    </tr>\n",
       "    <tr>\n",
       "        <td>\n",
       "            <strong>\n",
       "                Name\n",
       "            </strong>\n",
       "        </td>\n",
       "        <td>\n",
       "            \n",
       "        </td>\n",
       "    </tr>\n",
       "    <tr>\n",
       "        <td>\n",
       "            <strong>\n",
       "                Memory Address\n",
       "            </strong>\n",
       "        </td>\n",
       "        <td>\n",
       "            0x07ff1f55f27f0\n",
       "        </td>\n",
       "    </tr>\n",
       "    <tr>\n",
       "        <td>\n",
       "            <strong>\n",
       "                Number of Components\n",
       "            </strong>\n",
       "        </td>\n",
       "        <td>\n",
       "            139\n",
       "        </td>\n",
       "    </tr>\n",
       "    <tr>\n",
       "        <td>\n",
       "            <strong>\n",
       "                Components\n",
       "            </strong>\n",
       "        </td>\n",
       "        <td>\n",
       "            ExtPump, alpha_1213L, alpha_iL, alpha_sL, alpha_qL, IL1_TNF, ECM, Stress, EGF, Palpha_iR, Cbp, EGFR, PIP2_45, TAK1, Ga_1213, Ras, alpha_qR, ARF, PTPPEST, Talin, p38, Raf, Akt, PLC_g, Mekk4, PLD, p115RhoGEF, Graf, AC, TAO_12, PKC_primed, ASK1, PAK, IP3, DAG, Raf_Loc, Erk, Tiam, PIP2_34, RhoK, Cas, PTPa, Crk, MKK3, Shc, SHP2, Mekk2, cAMP, Sos, Gbg_1213, Raf_Rest, PI4K, PKC, alpha_sR, Csk, Sek1, MLK1, PDE4, PLA2, Ral, RasGRF_GRP, AND_34, PTP1b, DOCK180, NIK, Pix_Cool, B_Parvin, RKIP, WASP, MKK6, Cdc42, MKK7, PIP3_345, GRK, MLK3, Actin, Fak, Ca, B_Arrestin, Gbg_q, alpha_1213R, CaM, Arp_23, Gas, Gbg_i, Palpha_qR, RGS, p120RasGAP, Mekk1, PDK1, PA, Trafs, PKA, RalGDS, SAPK, Gab1, IP3R1, AA, PI3K, p90RSK, PLC_B, p190RhoGAP, Grb2, MLCP, RalBP1, Mekk3, PTEN, PIP_4, Myosin, Gai, Palpha_sR, ILK, Integrins, Mek, CaMKK, Vinc, Nck, IL1_TNFR, RhoGDI, MKPs, MLK2, Rac, DGK, PI5K, alpha_iR, Src, Palpha_1213R, Tab_12, Tpl2, Gaq, Rho, MLCK, PP2A, CaMK, Rap1, Raf_DeP, GCK, Trx, Gbg_s\n",
       "        </td>\n",
       "    </tr>\n",
       "</table>"
      ],
      "text/plain": [
       "<BooleanModel 90144 at 0x07ff1f55f27f0>"
      ]
     },
     "execution_count": 6,
     "metadata": {},
     "output_type": "execute_result"
    }
   ],
   "source": [
    "# get the default model version\n",
    "boolean = model.versions[0]\n",
    "boolean"
   ]
  },
  {
   "cell_type": "markdown",
   "metadata": {},
   "source": [
    "#### Components"
   ]
  },
  {
   "cell_type": "markdown",
   "metadata": {},
   "source": [
    "#### Internal Components"
   ]
  },
  {
   "cell_type": "code",
   "execution_count": 7,
   "metadata": {
    "scrolled": true
   },
   "outputs": [
    {
     "data": {
      "text/html": [
       "\n",
       "                <table>\n",
       "                    <thead>\n",
       "                        <tr>\n",
       "                            <th>ID</th><th>Name</th><th>Number of Positive Regulators</th><th>Number of Negative Regulators</th>\n",
       "                        </tr>\n",
       "                    </thead>\n",
       "                    <tbody>\n",
       "                        <tr><td>1840326</td><td>Palpha_iR</td><td>1</td><td>0</td></tr><tr><td>1840327</td><td>Cbp</td><td>1</td><td>0</td></tr><tr><td>1840328</td><td>EGFR</td><td>3</td><td>0</td></tr><tr><td>1840329</td><td>PIP2_45</td><td>3</td><td>0</td></tr><tr><td>1840330</td><td>TAK1</td><td>1</td><td>0</td></tr><tr><td>1840331</td><td>Ga_1213</td><td>2</td><td>0</td></tr><tr><td>1840332</td><td>Ras</td><td>3</td><td>0</td></tr><tr><td>...</td><td>...</td><td>...</td><td>...</td></tr><tr><td>1840450</td><td>CaMK</td><td>1</td><td>0</td></tr><tr><td>1840451</td><td>Rap1</td><td>1</td><td>0</td></tr><tr><td>1840452</td><td>Raf_DeP</td><td>2</td><td>0</td></tr><tr><td>1840453</td><td>GCK</td><td>1</td><td>0</td></tr><tr><td>1840454</td><td>Trx</td><td>2</td><td>0</td></tr><tr><td>1840455</td><td>Gbg_s</td><td>2</td><td>0</td></tr>\n",
       "                    </tbody>\n",
       "                </table>\n",
       "            "
      ],
      "text/plain": [
       "[<InternalComponent 1840326 at 0x07ff1f55f2a20 name='Palpha_iR'>,\n",
       " <InternalComponent 1840327 at 0x07ff1f55f2a58 name='Cbp'>,\n",
       " <InternalComponent 1840328 at 0x07ff1f55f2a90 name='EGFR'>,\n",
       " <InternalComponent 1840329 at 0x07ff1f55f2ac8 name='PIP2_45'>,\n",
       " <InternalComponent 1840330 at 0x07ff1f55f2b00 name='TAK1'>,\n",
       " <InternalComponent 1840331 at 0x07ff1f55f2b38 name='Ga_1213'>,\n",
       " <InternalComponent 1840332 at 0x07ff1f55f2b70 name='Ras'>,\n",
       " <InternalComponent 1840333 at 0x07ff1f55f2ba8 name='alpha_qR'>,\n",
       " <InternalComponent 1840334 at 0x07ff1f55f2be0 name='ARF'>,\n",
       " <InternalComponent 1840335 at 0x07ff1f55f2c18 name='PTPPEST'>,\n",
       " <InternalComponent 1840336 at 0x07ff1f55f2c50 name='Talin'>,\n",
       " <InternalComponent 1840337 at 0x07ff1f55f2c88 name='p38'>,\n",
       " <InternalComponent 1840338 at 0x07ff1f55f2cc0 name='Raf'>,\n",
       " <InternalComponent 1840339 at 0x07ff1f55f2cf8 name='Akt'>,\n",
       " <InternalComponent 1840340 at 0x07ff1f55f2d30 name='PLC_g'>,\n",
       " <InternalComponent 1840341 at 0x07ff1f55f2d68 name='Mekk4'>,\n",
       " <InternalComponent 1840342 at 0x07ff1f55f2da0 name='PLD'>,\n",
       " <InternalComponent 1840343 at 0x07ff1f55f2dd8 name='p115RhoGEF'>,\n",
       " <InternalComponent 1840344 at 0x07ff1f55f2e10 name='Graf'>,\n",
       " <InternalComponent 1840345 at 0x07ff1f55f2e48 name='AC'>,\n",
       " <InternalComponent 1840346 at 0x07ff1f55f2e80 name='TAO_12'>,\n",
       " <InternalComponent 1840347 at 0x07ff1f55f2eb8 name='PKC_primed'>,\n",
       " <InternalComponent 1840348 at 0x07ff1f55f2ef0 name='ASK1'>,\n",
       " <InternalComponent 1840349 at 0x07ff1f55f2f28 name='PAK'>,\n",
       " <InternalComponent 1840350 at 0x07ff1f55f2f60 name='IP3'>,\n",
       " <InternalComponent 1840351 at 0x07ff1f55f2f98 name='DAG'>,\n",
       " <InternalComponent 1840352 at 0x07ff1f55f2fd0 name='Raf_Loc'>,\n",
       " <InternalComponent 1840353 at 0x07ff1f55bc048 name='Erk'>,\n",
       " <InternalComponent 1840354 at 0x07ff1f55bc080 name='Tiam'>,\n",
       " <InternalComponent 1840355 at 0x07ff1f55bc0b8 name='PIP2_34'>,\n",
       " <InternalComponent 1840356 at 0x07ff1f55bc0f0 name='RhoK'>,\n",
       " <InternalComponent 1840357 at 0x07ff1f55bc128 name='Cas'>,\n",
       " <InternalComponent 1840358 at 0x07ff1f55bc160 name='PTPa'>,\n",
       " <InternalComponent 1840359 at 0x07ff1f55bc198 name='Crk'>,\n",
       " <InternalComponent 1840360 at 0x07ff1f55bc1d0 name='MKK3'>,\n",
       " <InternalComponent 1840361 at 0x07ff1f55bc208 name='Shc'>,\n",
       " <InternalComponent 1840362 at 0x07ff1f55bc240 name='SHP2'>,\n",
       " <InternalComponent 1840363 at 0x07ff1f55bc278 name='Mekk2'>,\n",
       " <InternalComponent 1840364 at 0x07ff1f55bc2b0 name='cAMP'>,\n",
       " <InternalComponent 1840365 at 0x07ff1f55bc2e8 name='Sos'>,\n",
       " <InternalComponent 1840366 at 0x07ff1f55bc320 name='Gbg_1213'>,\n",
       " <InternalComponent 1840367 at 0x07ff1f55bc358 name='Raf_Rest'>,\n",
       " <InternalComponent 1840368 at 0x07ff1f55bc390 name='PI4K'>,\n",
       " <InternalComponent 1840369 at 0x07ff1f55bc3c8 name='PKC'>,\n",
       " <InternalComponent 1840370 at 0x07ff1f55bc400 name='alpha_sR'>,\n",
       " <InternalComponent 1840371 at 0x07ff1f55bc438 name='Csk'>,\n",
       " <InternalComponent 1840372 at 0x07ff1f55bc470 name='Sek1'>,\n",
       " <InternalComponent 1840373 at 0x07ff1f55bc4a8 name='MLK1'>,\n",
       " <InternalComponent 1840374 at 0x07ff1f55bc4e0 name='PDE4'>,\n",
       " <InternalComponent 1840375 at 0x07ff1f55bc518 name='PLA2'>,\n",
       " <InternalComponent 1840376 at 0x07ff1f55bc550 name='Ral'>,\n",
       " <InternalComponent 1840377 at 0x07ff1f55bc588 name='RasGRF_GRP'>,\n",
       " <InternalComponent 1840378 at 0x07ff1f55bc5c0 name='AND_34'>,\n",
       " <InternalComponent 1840379 at 0x07ff1f55bc5f8 name='PTP1b'>,\n",
       " <InternalComponent 1840380 at 0x07ff1f55bc630 name='DOCK180'>,\n",
       " <InternalComponent 1840381 at 0x07ff1f55bc668 name='NIK'>,\n",
       " <InternalComponent 1840382 at 0x07ff1f55bc6a0 name='Pix_Cool'>,\n",
       " <InternalComponent 1840383 at 0x07ff1f55bc6d8 name='B_Parvin'>,\n",
       " <InternalComponent 1840384 at 0x07ff1f55bc710 name='RKIP'>,\n",
       " <InternalComponent 1840385 at 0x07ff1f55bc748 name='WASP'>,\n",
       " <InternalComponent 1840386 at 0x07ff1f55bc780 name='MKK6'>,\n",
       " <InternalComponent 1840387 at 0x07ff1f55bc7b8 name='Cdc42'>,\n",
       " <InternalComponent 1840388 at 0x07ff1f55bc7f0 name='MKK7'>,\n",
       " <InternalComponent 1840389 at 0x07ff1f55bc828 name='PIP3_345'>,\n",
       " <InternalComponent 1840390 at 0x07ff1f55bc860 name='GRK'>,\n",
       " <InternalComponent 1840391 at 0x07ff1f55bc898 name='MLK3'>,\n",
       " <InternalComponent 1840392 at 0x07ff1f55bc8d0 name='Actin'>,\n",
       " <InternalComponent 1840393 at 0x07ff1f55bc908 name='Fak'>,\n",
       " <InternalComponent 1840394 at 0x07ff1f55bc940 name='Ca'>,\n",
       " <InternalComponent 1840395 at 0x07ff1f55bc978 name='B_Arrestin'>,\n",
       " <InternalComponent 1840396 at 0x07ff1f55bc9b0 name='Gbg_q'>,\n",
       " <InternalComponent 1840397 at 0x07ff1f55bc9e8 name='alpha_1213R'>,\n",
       " <InternalComponent 1840398 at 0x07ff1f55bca20 name='CaM'>,\n",
       " <InternalComponent 1840399 at 0x07ff1f55bca58 name='Arp_23'>,\n",
       " <InternalComponent 1840400 at 0x07ff1f55bca90 name='Gas'>,\n",
       " <InternalComponent 1840401 at 0x07ff1f55bcac8 name='Gbg_i'>,\n",
       " <InternalComponent 1840402 at 0x07ff1f55bcb00 name='Palpha_qR'>,\n",
       " <InternalComponent 1840403 at 0x07ff1f55bcb38 name='RGS'>,\n",
       " <InternalComponent 1840404 at 0x07ff1f55bcb70 name='p120RasGAP'>,\n",
       " <InternalComponent 1840405 at 0x07ff1f55bcba8 name='Mekk1'>,\n",
       " <InternalComponent 1840406 at 0x07ff1f55bcbe0 name='PDK1'>,\n",
       " <InternalComponent 1840407 at 0x07ff1f55bcc18 name='PA'>,\n",
       " <InternalComponent 1840408 at 0x07ff1f55bcc50 name='Trafs'>,\n",
       " <InternalComponent 1840409 at 0x07ff1f55bcc88 name='PKA'>,\n",
       " <InternalComponent 1840410 at 0x07ff1f55bccc0 name='RalGDS'>,\n",
       " <InternalComponent 1840411 at 0x07ff1f55bccf8 name='SAPK'>,\n",
       " <InternalComponent 1840412 at 0x07ff1f55bcd30 name='Gab1'>,\n",
       " <InternalComponent 1840413 at 0x07ff1f55bcd68 name='IP3R1'>,\n",
       " <InternalComponent 1840414 at 0x07ff1f55bcda0 name='AA'>,\n",
       " <InternalComponent 1840415 at 0x07ff1f55bcdd8 name='PI3K'>,\n",
       " <InternalComponent 1840416 at 0x07ff1f55bce10 name='p90RSK'>,\n",
       " <InternalComponent 1840417 at 0x07ff1f55bce48 name='PLC_B'>,\n",
       " <InternalComponent 1840418 at 0x07ff1f55bce80 name='p190RhoGAP'>,\n",
       " <InternalComponent 1840419 at 0x07ff1f55bceb8 name='Grb2'>,\n",
       " <InternalComponent 1840420 at 0x07ff1f55bcef0 name='MLCP'>,\n",
       " <InternalComponent 1840421 at 0x07ff1f55bcf28 name='RalBP1'>,\n",
       " <InternalComponent 1840422 at 0x07ff1f55bcf60 name='Mekk3'>,\n",
       " <InternalComponent 1840423 at 0x07ff1f55bcf98 name='PTEN'>,\n",
       " <InternalComponent 1840424 at 0x07ff1f55bcfd0 name='PIP_4'>,\n",
       " <InternalComponent 1840425 at 0x07ff1f55ca048 name='Myosin'>,\n",
       " <InternalComponent 1840426 at 0x07ff1f55ca080 name='Gai'>,\n",
       " <InternalComponent 1840427 at 0x07ff1f55ca0b8 name='Palpha_sR'>,\n",
       " <InternalComponent 1840428 at 0x07ff1f55ca0f0 name='ILK'>,\n",
       " <InternalComponent 1840429 at 0x07ff1f55ca128 name='Integrins'>,\n",
       " <InternalComponent 1840430 at 0x07ff1f55ca160 name='Mek'>,\n",
       " <InternalComponent 1840431 at 0x07ff1f55ca198 name='CaMKK'>,\n",
       " <InternalComponent 1840432 at 0x07ff1f55ca1d0 name='Vinc'>,\n",
       " <InternalComponent 1840433 at 0x07ff1f55ca208 name='Nck'>,\n",
       " <InternalComponent 1840434 at 0x07ff1f55ca240 name='IL1_TNFR'>,\n",
       " <InternalComponent 1840435 at 0x07ff1f55ca278 name='RhoGDI'>,\n",
       " <InternalComponent 1840436 at 0x07ff1f55ca2b0 name='MKPs'>,\n",
       " <InternalComponent 1840437 at 0x07ff1f55ca2e8 name='MLK2'>,\n",
       " <InternalComponent 1840438 at 0x07ff1f55ca320 name='Rac'>,\n",
       " <InternalComponent 1840439 at 0x07ff1f55ca358 name='DGK'>,\n",
       " <InternalComponent 1840440 at 0x07ff1f55ca390 name='PI5K'>,\n",
       " <InternalComponent 1840441 at 0x07ff1f55ca3c8 name='alpha_iR'>,\n",
       " <InternalComponent 1840442 at 0x07ff1f55ca400 name='Src'>,\n",
       " <InternalComponent 1840443 at 0x07ff1f55ca438 name='Palpha_1213R'>,\n",
       " <InternalComponent 1840444 at 0x07ff1f55ca470 name='Tab_12'>,\n",
       " <InternalComponent 1840445 at 0x07ff1f55ca4a8 name='Tpl2'>,\n",
       " <InternalComponent 1840446 at 0x07ff1f55ca4e0 name='Gaq'>,\n",
       " <InternalComponent 1840447 at 0x07ff1f55ca518 name='Rho'>,\n",
       " <InternalComponent 1840448 at 0x07ff1f55ca550 name='MLCK'>,\n",
       " <InternalComponent 1840449 at 0x07ff1f55ca588 name='PP2A'>,\n",
       " <InternalComponent 1840450 at 0x07ff1f55ca5c0 name='CaMK'>,\n",
       " <InternalComponent 1840451 at 0x07ff1f55ca5f8 name='Rap1'>,\n",
       " <InternalComponent 1840452 at 0x07ff1f55ca630 name='Raf_DeP'>,\n",
       " <InternalComponent 1840453 at 0x07ff1f55ca668 name='GCK'>,\n",
       " <InternalComponent 1840454 at 0x07ff1f55ca6a0 name='Trx'>,\n",
       " <InternalComponent 1840455 at 0x07ff1f55ca6d8 name='Gbg_s'>]"
      ]
     },
     "execution_count": 7,
     "metadata": {},
     "output_type": "execute_result"
    }
   ],
   "source": [
    "boolean.internal_components"
   ]
  },
  {
   "cell_type": "markdown",
   "metadata": {},
   "source": [
    "#### External Components"
   ]
  },
  {
   "cell_type": "code",
   "execution_count": 8,
   "metadata": {
    "scrolled": true
   },
   "outputs": [
    {
     "data": {
      "text/html": [
       "\n",
       "                <table>\n",
       "                    <thead>\n",
       "                        <tr>\n",
       "                            <th>ID</th><th>Name</th>\n",
       "                        </tr>\n",
       "                    </thead>\n",
       "                    <tbody>\n",
       "                        <tr><td>1840317</td><td>ExtPump</td></tr><tr><td>1840318</td><td>alpha_1213L</td></tr><tr><td>1840319</td><td>alpha_iL</td></tr><tr><td>1840320</td><td>alpha_sL</td></tr><tr><td>1840321</td><td>alpha_qL</td></tr><tr><td>1840322</td><td>IL1_TNF</td></tr><tr><td>1840323</td><td>ECM</td></tr><tr><td>1840324</td><td>Stress</td></tr><tr><td>1840325</td><td>EGF</td></tr>\n",
       "                    </tbody>\n",
       "                </table>\n",
       "            "
      ],
      "text/plain": [
       "[<ExternalComponent 1840317 at 0x07ff1f55f2828 name='ExtPump'>,\n",
       " <ExternalComponent 1840318 at 0x07ff1f55f2860 name='alpha_1213L'>,\n",
       " <ExternalComponent 1840319 at 0x07ff1f55f2898 name='alpha_iL'>,\n",
       " <ExternalComponent 1840320 at 0x07ff1f55f28d0 name='alpha_sL'>,\n",
       " <ExternalComponent 1840321 at 0x07ff1f55f2908 name='alpha_qL'>,\n",
       " <ExternalComponent 1840322 at 0x07ff1f55f2940 name='IL1_TNF'>,\n",
       " <ExternalComponent 1840323 at 0x07ff1f55f2978 name='ECM'>,\n",
       " <ExternalComponent 1840324 at 0x07ff1f55f29b0 name='Stress'>,\n",
       " <ExternalComponent 1840325 at 0x07ff1f55f29e8 name='EGF'>]"
      ]
     },
     "execution_count": 8,
     "metadata": {},
     "output_type": "execute_result"
    }
   ],
   "source": [
    "boolean.external_components"
   ]
  },
  {
   "cell_type": "markdown",
   "metadata": {},
   "source": [
    "#### Regulators"
   ]
  },
  {
   "cell_type": "code",
   "execution_count": 9,
   "metadata": {},
   "outputs": [
    {
     "data": {
      "text/html": [
       "\n",
       "                <table>\n",
       "                    <thead>\n",
       "                        <tr>\n",
       "                            <th>ID</th><th>Name</th><th>Number of Conditions</th>\n",
       "                        </tr>\n",
       "                    </thead>\n",
       "                    <tbody>\n",
       "                        <tr><td>2522118</td><td></td><td>0</td></tr><tr><td>2522119</td><td></td><td>0</td></tr><tr><td>2522121</td><td></td><td>0</td></tr>\n",
       "                    </tbody>\n",
       "                </table>\n",
       "            "
      ],
      "text/plain": [
       "[<Regulator 2522118 at 0x07ff1f5b3b0f0>,\n",
       " <Regulator 2522119 at 0x07ff1f5b3b160>,\n",
       " <Regulator 2522121 at 0x07ff1f5b3b208>]"
      ]
     },
     "execution_count": 9,
     "metadata": {},
     "output_type": "execute_result"
    }
   ],
   "source": [
    "Ras = boolean.internal_components.get_by_name(\"Ras\")\n",
    "Ras.regulators"
   ]
  },
  {
   "cell_type": "markdown",
   "metadata": {},
   "source": [
    "#### Conditions"
   ]
  },
  {
   "cell_type": "code",
   "execution_count": 14,
   "metadata": {},
   "outputs": [
    {
     "data": {
      "text/html": [
       "\n",
       "                <table>\n",
       "                    <thead>\n",
       "                        <tr>\n",
       "                            <th>ID</th><th>Name</th>\n",
       "                        </tr>\n",
       "                    </thead>\n",
       "                    <tbody>\n",
       "                        <tr><td>989964</td><td></td></tr>\n",
       "                    </tbody>\n",
       "                </table>\n",
       "            "
      ],
      "text/plain": [
       "[<Condition 989964 at 0x07ff1f5b92a58>]"
      ]
     },
     "execution_count": 14,
     "metadata": {},
     "output_type": "execute_result"
    }
   ],
   "source": [
    "Actin     = boolean.internal_components.get_by_name(\"Actin\")\n",
    "regulator = Actin.regulators[0]\n",
    "regulator.conditions"
   ]
  },
  {
   "cell_type": "code",
   "execution_count": null,
   "metadata": {},
   "outputs": [],
   "source": []
  }
 ],
 "metadata": {
  "file_extension": ".py",
  "kernelspec": {
   "display_name": "Python 3",
   "language": "python",
   "name": "python3"
  },
  "language_info": {
   "codemirror_mode": {
    "name": "ipython",
    "version": 3
   },
   "file_extension": ".py",
   "mimetype": "text/x-python",
   "name": "python",
   "nbconvert_exporter": "python",
   "pygments_lexer": "ipython3",
   "version": "3.6.8"
  },
  "mimetype": "text/x-python",
  "name": "python",
  "npconvert_exporter": "python",
  "pygments_lexer": "ipython3",
  "version": 3
 },
 "nbformat": 4,
 "nbformat_minor": 2
}
