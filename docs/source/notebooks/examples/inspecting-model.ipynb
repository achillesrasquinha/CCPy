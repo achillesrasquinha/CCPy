{
 "cells": [
  {
   "cell_type": "markdown",
   "metadata": {},
   "source": [
    "### Inspecting a Model"
   ]
  },
  {
   "cell_type": "markdown",
   "metadata": {},
   "source": [
    "To begin with, **ccapi** comes with some sample models for *Lac Operon* and *Fibroblasts*."
   ]
  },
  {
   "cell_type": "markdown",
   "metadata": {},
   "source": [
    "Begin by importing the ccapi module into your workspace."
   ]
  },
  {
   "cell_type": "code",
   "execution_count": 1,
   "metadata": {},
   "outputs": [],
   "source": [
    "import ccapi"
   ]
  },
  {
   "cell_type": "markdown",
   "metadata": {},
   "source": [
    "Now, let’s try creating a client object in order to interact with services provided by [Cell Collective](https://cellcollective.org)."
   ]
  },
  {
   "cell_type": "code",
   "execution_count": 2,
   "metadata": {},
   "outputs": [],
   "source": [
    "client = ccapi.Client()"
   ]
  },
  {
   "cell_type": "markdown",
   "metadata": {},
   "source": [
    "Authenticate your client using a ***password flow type authentication*** scheme.\n",
    "\n",
    "**NOTE**: *Before you can authenticate using ccapi, you must first register an application of the appropriate type on [Cell Collective](https://cellcollective.org). If you do not require a user context, it is read only.*"
   ]
  },
  {
   "cell_type": "code",
   "execution_count": 3,
   "metadata": {},
   "outputs": [],
   "source": [
    "client.auth(email = \"test@cellcollective.org\", password = \"test\")"
   ]
  },
  {
   "cell_type": "markdown",
   "metadata": {},
   "source": [
    "To load a test model, type:"
   ]
  },
  {
   "cell_type": "code",
   "execution_count": 4,
   "metadata": {},
   "outputs": [
    {
     "data": {
      "text/html": [
       "<table>\n",
       "    <tr>\n",
       "        <td>\n",
       "            <strong>\n",
       "                ID\n",
       "            </strong>\n",
       "        </td>\n",
       "        <td>\n",
       "            90798\n",
       "        </td>\n",
       "    </tr>\n",
       "    <tr>\n",
       "        <td>\n",
       "            <strong>\n",
       "                Name\n",
       "            </strong>\n",
       "        </td>\n",
       "        <td>\n",
       "            Unnamed Model\n",
       "        </td>\n",
       "    </tr>\n",
       "    <tr>\n",
       "        <td>\n",
       "            <strong>\n",
       "                Memory Address\n",
       "            </strong>\n",
       "        </td>\n",
       "        <td>\n",
       "            0x010f28d1d0\n",
       "        </td>\n",
       "    </tr>\n",
       "    <tr>\n",
       "        <td>\n",
       "            <strong>\n",
       "                Number of Versions\n",
       "            </strong>\n",
       "        </td>\n",
       "        <td>\n",
       "            1\n",
       "        </td>\n",
       "    </tr>\n",
       "    <tr>\n",
       "        <td>\n",
       "            <strong>\n",
       "                Versions\n",
       "            </strong>\n",
       "        </td>\n",
       "        <td>\n",
       "            [&lt;BooleanModel 90798 at 0x010f28d310&gt;]\n",
       "        </td>\n",
       "    </tr>\n",
       "</table>"
      ],
      "text/plain": [
       "<Model 90798 at 0x010f28d1d0 name='Unnamed Model'>"
      ]
     },
     "execution_count": 4,
     "metadata": {},
     "output_type": "execute_result"
    }
   ],
   "source": [
    "model = ccapi.load_model(\"fibroblasts\", client = client)\n",
    "model.save()"
   ]
  },
  {
   "cell_type": "markdown",
   "metadata": {},
   "source": [
    "A `ccapi.Model` consists of various `ccapi.ModelVersion` objects that help you build various versions to a model."
   ]
  },
  {
   "cell_type": "code",
   "execution_count": 5,
   "metadata": {},
   "outputs": [
    {
     "data": {
      "text/html": [
       "\n",
       "                <table>\n",
       "                    <thead>\n",
       "                        <tr>\n",
       "                            <th>ID</th><th>Name</th>\n",
       "                        </tr>\n",
       "                    </thead>\n",
       "                    <tbody>\n",
       "                        <tr><td>90798</td><td></td></tr>\n",
       "                    </tbody>\n",
       "                </table>\n",
       "            "
      ],
      "text/plain": [
       "[<BooleanModel 90798 at 0x010f28d310>]"
      ]
     },
     "execution_count": 5,
     "metadata": {},
     "output_type": "execute_result"
    }
   ],
   "source": [
    "model.versions"
   ]
  },
  {
   "cell_type": "code",
   "execution_count": 6,
   "metadata": {},
   "outputs": [
    {
     "data": {
      "text/html": [
       "<table>\n",
       "    <tr>\n",
       "        <td>\n",
       "            <strong>\n",
       "                ID\n",
       "            </strong>\n",
       "        </td>\n",
       "        <td>\n",
       "            90798\n",
       "        </td>\n",
       "    </tr>\n",
       "    <tr>\n",
       "        <td>\n",
       "            <strong>\n",
       "                Version\n",
       "            </strong>\n",
       "        </td>\n",
       "        <td>\n",
       "            1\n",
       "        </td>\n",
       "    </tr>\n",
       "    <tr>\n",
       "        <td>\n",
       "            <strong>\n",
       "                Name\n",
       "            </strong>\n",
       "        </td>\n",
       "        <td>\n",
       "            \n",
       "        </td>\n",
       "    </tr>\n",
       "    <tr>\n",
       "        <td>\n",
       "            <strong>\n",
       "                Memory Address\n",
       "            </strong>\n",
       "        </td>\n",
       "        <td>\n",
       "            0x010f28d310\n",
       "        </td>\n",
       "    </tr>\n",
       "    <tr>\n",
       "        <td>\n",
       "            <strong>\n",
       "                Number of Components\n",
       "            </strong>\n",
       "        </td>\n",
       "        <td>\n",
       "            139\n",
       "        </td>\n",
       "    </tr>\n",
       "    <tr>\n",
       "        <td>\n",
       "            <strong>\n",
       "                Components\n",
       "            </strong>\n",
       "        </td>\n",
       "        <td>\n",
       "            ExtPump, alpha_1213L, alpha_iL, alpha_sL, alpha_qL, IL1_TNF, ECM, Stress, EGF, Palpha_iR, Cbp, EGFR, PIP2_45, TAK1, Ga_1213, Ras, alpha_qR, ARF, PTPPEST, Talin, p38, Raf, Akt, PLC_g, Mekk4, PLD, p115RhoGEF, Graf, AC, TAO_12, PKC_primed, ASK1, PAK, IP3, DAG, Raf_Loc, Erk, Tiam, PIP2_34, RhoK, Cas, PTPa, Crk, MKK3, Shc, SHP2, Mekk2, cAMP, Sos, Gbg_1213, Raf_Rest, PI4K, PKC, alpha_sR, Csk, Sek1, MLK1, PDE4, PLA2, Ral, RasGRF_GRP, AND_34, PTP1b, DOCK180, NIK, Pix_Cool, B_Parvin, RKIP, WASP, MKK6, Cdc42, MKK7, PIP3_345, GRK, MLK3, Actin, Fak, Ca, B_Arrestin, Gbg_q, alpha_1213R, CaM, Arp_23, Gas, Gbg_i, Palpha_qR, RGS, p120RasGAP, Mekk1, PDK1, PA, Trafs, PKA, RalGDS, SAPK, Gab1, IP3R1, AA, PI3K, p90RSK, PLC_B, p190RhoGAP, Grb2, MLCP, RalBP1, Mekk3, PTEN, PIP_4, Myosin, Gai, Palpha_sR, ILK, Integrins, Mek, CaMKK, Vinc, Nck, IL1_TNFR, RhoGDI, MKPs, MLK2, Rac, DGK, PI5K, alpha_iR, Src, Palpha_1213R, Tab_12, Tpl2, Gaq, Rho, MLCK, PP2A, CaMK, Rap1, Raf_DeP, GCK, Trx, Gbg_s\n",
       "        </td>\n",
       "    </tr>\n",
       "</table>"
      ],
      "text/plain": [
       "<BooleanModel 90798 at 0x010f28d310>"
      ]
     },
     "execution_count": 6,
     "metadata": {},
     "output_type": "execute_result"
    }
   ],
   "source": [
    "# get the default model version\n",
    "boolean = model.versions[0]\n",
    "boolean"
   ]
  },
  {
   "cell_type": "markdown",
   "metadata": {},
   "source": [
    "#### Components"
   ]
  },
  {
   "cell_type": "markdown",
   "metadata": {},
   "source": [
    "#### Internal Components"
   ]
  },
  {
   "cell_type": "code",
   "execution_count": 7,
   "metadata": {
    "scrolled": true
   },
   "outputs": [
    {
     "data": {
      "text/html": [
       "\n",
       "                <table>\n",
       "                    <thead>\n",
       "                        <tr>\n",
       "                            <th>ID</th><th>Name</th><th>Number of Positive Regulators</th><th>Number of Negative Regulators</th>\n",
       "                        </tr>\n",
       "                    </thead>\n",
       "                    <tbody>\n",
       "                        <tr><td>1853847</td><td>Palpha_iR</td><td>1</td><td>0</td></tr><tr><td>1853848</td><td>Cbp</td><td>1</td><td>0</td></tr><tr><td>1853849</td><td>EGFR</td><td>3</td><td>0</td></tr><tr><td>1853850</td><td>PIP2_45</td><td>3</td><td>0</td></tr><tr><td>1853851</td><td>TAK1</td><td>1</td><td>0</td></tr><tr><td>1853852</td><td>Ga_1213</td><td>2</td><td>0</td></tr><tr><td>1853853</td><td>Ras</td><td>3</td><td>0</td></tr><tr><td>...</td><td>...</td><td>...</td><td>...</td></tr><tr><td>1853971</td><td>CaMK</td><td>1</td><td>0</td></tr><tr><td>1853972</td><td>Rap1</td><td>1</td><td>0</td></tr><tr><td>1853973</td><td>Raf_DeP</td><td>2</td><td>0</td></tr><tr><td>1853974</td><td>GCK</td><td>1</td><td>0</td></tr><tr><td>1853975</td><td>Trx</td><td>2</td><td>0</td></tr><tr><td>1853976</td><td>Gbg_s</td><td>2</td><td>0</td></tr>\n",
       "                    </tbody>\n",
       "                </table>\n",
       "            "
      ],
      "text/plain": [
       "[<InternalComponent 1853847 at 0x010f28d450 name='Palpha_iR'>,\n",
       " <InternalComponent 1853848 at 0x010f28d590 name='Cbp'>,\n",
       " <InternalComponent 1853849 at 0x010f28d5d0 name='EGFR'>,\n",
       " <InternalComponent 1853850 at 0x010f28d610 name='PIP2_45'>,\n",
       " <InternalComponent 1853851 at 0x010f28d650 name='TAK1'>,\n",
       " <InternalComponent 1853852 at 0x010f28d690 name='Ga_1213'>,\n",
       " <InternalComponent 1853853 at 0x010f28d6d0 name='Ras'>,\n",
       " <InternalComponent 1853854 at 0x010f28d710 name='alpha_qR'>,\n",
       " <InternalComponent 1853855 at 0x010f28d750 name='ARF'>,\n",
       " <InternalComponent 1853856 at 0x010f28d790 name='PTPPEST'>,\n",
       " <InternalComponent 1853857 at 0x010f28d7d0 name='Talin'>,\n",
       " <InternalComponent 1853858 at 0x010f28d810 name='p38'>,\n",
       " <InternalComponent 1853859 at 0x010f28d850 name='Raf'>,\n",
       " <InternalComponent 1853860 at 0x010f28d890 name='Akt'>,\n",
       " <InternalComponent 1853861 at 0x010f28d8d0 name='PLC_g'>,\n",
       " <InternalComponent 1853862 at 0x010f28d910 name='Mekk4'>,\n",
       " <InternalComponent 1853863 at 0x010f28d950 name='PLD'>,\n",
       " <InternalComponent 1853864 at 0x010f28d990 name='p115RhoGEF'>,\n",
       " <InternalComponent 1853865 at 0x010f28d9d0 name='Graf'>,\n",
       " <InternalComponent 1853866 at 0x010f28da10 name='AC'>,\n",
       " <InternalComponent 1853867 at 0x010f28da50 name='TAO_12'>,\n",
       " <InternalComponent 1853868 at 0x010f28da90 name='PKC_primed'>,\n",
       " <InternalComponent 1853869 at 0x010f28dad0 name='ASK1'>,\n",
       " <InternalComponent 1853870 at 0x010f28db10 name='PAK'>,\n",
       " <InternalComponent 1853871 at 0x010f28db50 name='IP3'>,\n",
       " <InternalComponent 1853872 at 0x010f28db90 name='DAG'>,\n",
       " <InternalComponent 1853873 at 0x010f28dbd0 name='Raf_Loc'>,\n",
       " <InternalComponent 1853874 at 0x010f28dc10 name='Erk'>,\n",
       " <InternalComponent 1853875 at 0x010f28dc50 name='Tiam'>,\n",
       " <InternalComponent 1853876 at 0x010f28dc90 name='PIP2_34'>,\n",
       " <InternalComponent 1853877 at 0x010f28dcd0 name='RhoK'>,\n",
       " <InternalComponent 1853878 at 0x010f28dd10 name='Cas'>,\n",
       " <InternalComponent 1853879 at 0x010f28dd50 name='PTPa'>,\n",
       " <InternalComponent 1853880 at 0x010f28dd90 name='Crk'>,\n",
       " <InternalComponent 1853881 at 0x010f28ddd0 name='MKK3'>,\n",
       " <InternalComponent 1853882 at 0x010f28de10 name='Shc'>,\n",
       " <InternalComponent 1853883 at 0x010f28de50 name='SHP2'>,\n",
       " <InternalComponent 1853884 at 0x010f28de90 name='Mekk2'>,\n",
       " <InternalComponent 1853885 at 0x010f28ded0 name='cAMP'>,\n",
       " <InternalComponent 1853886 at 0x010f28df10 name='Sos'>,\n",
       " <InternalComponent 1853887 at 0x010f28df50 name='Gbg_1213'>,\n",
       " <InternalComponent 1853888 at 0x010f28df90 name='Raf_Rest'>,\n",
       " <InternalComponent 1853889 at 0x010f28dfd0 name='PI4K'>,\n",
       " <InternalComponent 1853890 at 0x010f29b050 name='PKC'>,\n",
       " <InternalComponent 1853891 at 0x010f29b090 name='alpha_sR'>,\n",
       " <InternalComponent 1853892 at 0x010f29b0d0 name='Csk'>,\n",
       " <InternalComponent 1853893 at 0x010f29b110 name='Sek1'>,\n",
       " <InternalComponent 1853894 at 0x010f29b150 name='MLK1'>,\n",
       " <InternalComponent 1853895 at 0x010f29b190 name='PDE4'>,\n",
       " <InternalComponent 1853896 at 0x010f29b1d0 name='PLA2'>,\n",
       " <InternalComponent 1853897 at 0x010f29b210 name='Ral'>,\n",
       " <InternalComponent 1853898 at 0x010f29b250 name='RasGRF_GRP'>,\n",
       " <InternalComponent 1853899 at 0x010f29b290 name='AND_34'>,\n",
       " <InternalComponent 1853900 at 0x010f29b2d0 name='PTP1b'>,\n",
       " <InternalComponent 1853901 at 0x010f29b310 name='DOCK180'>,\n",
       " <InternalComponent 1853902 at 0x010f29b350 name='NIK'>,\n",
       " <InternalComponent 1853903 at 0x010f29b390 name='Pix_Cool'>,\n",
       " <InternalComponent 1853904 at 0x010f29b3d0 name='B_Parvin'>,\n",
       " <InternalComponent 1853905 at 0x010f29b410 name='RKIP'>,\n",
       " <InternalComponent 1853906 at 0x010f29b450 name='WASP'>,\n",
       " <InternalComponent 1853907 at 0x010f29b490 name='MKK6'>,\n",
       " <InternalComponent 1853908 at 0x010f29b4d0 name='Cdc42'>,\n",
       " <InternalComponent 1853909 at 0x010f29b510 name='MKK7'>,\n",
       " <InternalComponent 1853910 at 0x010f29b550 name='PIP3_345'>,\n",
       " <InternalComponent 1853911 at 0x010f29b590 name='GRK'>,\n",
       " <InternalComponent 1853912 at 0x010f29b5d0 name='MLK3'>,\n",
       " <InternalComponent 1853913 at 0x010f29b610 name='Actin'>,\n",
       " <InternalComponent 1853914 at 0x010f29b650 name='Fak'>,\n",
       " <InternalComponent 1853915 at 0x010f29b690 name='Ca'>,\n",
       " <InternalComponent 1853916 at 0x010f29b6d0 name='B_Arrestin'>,\n",
       " <InternalComponent 1853917 at 0x010f29b710 name='Gbg_q'>,\n",
       " <InternalComponent 1853918 at 0x010f29b750 name='alpha_1213R'>,\n",
       " <InternalComponent 1853919 at 0x010f29b790 name='CaM'>,\n",
       " <InternalComponent 1853920 at 0x010f29b7d0 name='Arp_23'>,\n",
       " <InternalComponent 1853921 at 0x010f29b810 name='Gas'>,\n",
       " <InternalComponent 1853922 at 0x010f29b850 name='Gbg_i'>,\n",
       " <InternalComponent 1853923 at 0x010f29b890 name='Palpha_qR'>,\n",
       " <InternalComponent 1853924 at 0x010f29b8d0 name='RGS'>,\n",
       " <InternalComponent 1853925 at 0x010f29b910 name='p120RasGAP'>,\n",
       " <InternalComponent 1853926 at 0x010f29b950 name='Mekk1'>,\n",
       " <InternalComponent 1853927 at 0x010f29b990 name='PDK1'>,\n",
       " <InternalComponent 1853928 at 0x010f29b9d0 name='PA'>,\n",
       " <InternalComponent 1853929 at 0x010f29ba10 name='Trafs'>,\n",
       " <InternalComponent 1853930 at 0x010f29ba50 name='PKA'>,\n",
       " <InternalComponent 1853931 at 0x010f29ba90 name='RalGDS'>,\n",
       " <InternalComponent 1853932 at 0x010f29bad0 name='SAPK'>,\n",
       " <InternalComponent 1853933 at 0x010f29bb10 name='Gab1'>,\n",
       " <InternalComponent 1853934 at 0x010f29bb50 name='IP3R1'>,\n",
       " <InternalComponent 1853935 at 0x010f29bb90 name='AA'>,\n",
       " <InternalComponent 1853936 at 0x010f29bbd0 name='PI3K'>,\n",
       " <InternalComponent 1853937 at 0x010f29bc10 name='p90RSK'>,\n",
       " <InternalComponent 1853938 at 0x010f29bc50 name='PLC_B'>,\n",
       " <InternalComponent 1853939 at 0x010f29bc90 name='p190RhoGAP'>,\n",
       " <InternalComponent 1853940 at 0x010f29bcd0 name='Grb2'>,\n",
       " <InternalComponent 1853941 at 0x010f29bd10 name='MLCP'>,\n",
       " <InternalComponent 1853942 at 0x010f29bd50 name='RalBP1'>,\n",
       " <InternalComponent 1853943 at 0x010f29bd90 name='Mekk3'>,\n",
       " <InternalComponent 1853944 at 0x010f29bdd0 name='PTEN'>,\n",
       " <InternalComponent 1853945 at 0x010f29be10 name='PIP_4'>,\n",
       " <InternalComponent 1853946 at 0x010f29be50 name='Myosin'>,\n",
       " <InternalComponent 1853947 at 0x010f29be90 name='Gai'>,\n",
       " <InternalComponent 1853948 at 0x010f29bed0 name='Palpha_sR'>,\n",
       " <InternalComponent 1853949 at 0x010f29bf10 name='ILK'>,\n",
       " <InternalComponent 1853950 at 0x010f29bf50 name='Integrins'>,\n",
       " <InternalComponent 1853951 at 0x010f29bf90 name='Mek'>,\n",
       " <InternalComponent 1853952 at 0x010f29bfd0 name='CaMKK'>,\n",
       " <InternalComponent 1853953 at 0x010f2a9050 name='Vinc'>,\n",
       " <InternalComponent 1853954 at 0x010f2a9090 name='Nck'>,\n",
       " <InternalComponent 1853955 at 0x010f2a90d0 name='IL1_TNFR'>,\n",
       " <InternalComponent 1853956 at 0x010f2a9110 name='RhoGDI'>,\n",
       " <InternalComponent 1853957 at 0x010f2a9150 name='MKPs'>,\n",
       " <InternalComponent 1853958 at 0x010f2a9190 name='MLK2'>,\n",
       " <InternalComponent 1853959 at 0x010f2a91d0 name='Rac'>,\n",
       " <InternalComponent 1853960 at 0x010f2a9210 name='DGK'>,\n",
       " <InternalComponent 1853961 at 0x010f2a9250 name='PI5K'>,\n",
       " <InternalComponent 1853962 at 0x010f2a9290 name='alpha_iR'>,\n",
       " <InternalComponent 1853963 at 0x010f2a92d0 name='Src'>,\n",
       " <InternalComponent 1853964 at 0x010f2a9310 name='Palpha_1213R'>,\n",
       " <InternalComponent 1853965 at 0x010f2a9350 name='Tab_12'>,\n",
       " <InternalComponent 1853966 at 0x010f2a9390 name='Tpl2'>,\n",
       " <InternalComponent 1853967 at 0x010f2a93d0 name='Gaq'>,\n",
       " <InternalComponent 1853968 at 0x010f2a9410 name='Rho'>,\n",
       " <InternalComponent 1853969 at 0x010f2a9450 name='MLCK'>,\n",
       " <InternalComponent 1853970 at 0x010f2a9490 name='PP2A'>,\n",
       " <InternalComponent 1853971 at 0x010f2a94d0 name='CaMK'>,\n",
       " <InternalComponent 1853972 at 0x010f2a9510 name='Rap1'>,\n",
       " <InternalComponent 1853973 at 0x010f2a9550 name='Raf_DeP'>,\n",
       " <InternalComponent 1853974 at 0x010f2a9590 name='GCK'>,\n",
       " <InternalComponent 1853975 at 0x010f2a95d0 name='Trx'>,\n",
       " <InternalComponent 1853976 at 0x010f2a9610 name='Gbg_s'>]"
      ]
     },
     "execution_count": 7,
     "metadata": {},
     "output_type": "execute_result"
    }
   ],
   "source": [
    "boolean.internal_components"
   ]
  },
  {
   "cell_type": "markdown",
   "metadata": {},
   "source": [
    "#### External Components"
   ]
  },
  {
   "cell_type": "code",
   "execution_count": 8,
   "metadata": {
    "scrolled": true
   },
   "outputs": [
    {
     "data": {
      "text/html": [
       "\n",
       "                <table>\n",
       "                    <thead>\n",
       "                        <tr>\n",
       "                            <th>ID</th><th>Name</th>\n",
       "                        </tr>\n",
       "                    </thead>\n",
       "                    <tbody>\n",
       "                        <tr><td>1853838</td><td>ExtPump</td></tr><tr><td>1853839</td><td>alpha_1213L</td></tr><tr><td>1853840</td><td>alpha_iL</td></tr><tr><td>1853841</td><td>alpha_sL</td></tr><tr><td>1853842</td><td>alpha_qL</td></tr><tr><td>1853843</td><td>IL1_TNF</td></tr><tr><td>1853844</td><td>ECM</td></tr><tr><td>1853845</td><td>Stress</td></tr><tr><td>1853846</td><td>EGF</td></tr>\n",
       "                    </tbody>\n",
       "                </table>\n",
       "            "
      ],
      "text/plain": [
       "[<ExternalComponent 1853838 at 0x010f28d350 name='ExtPump'>,\n",
       " <ExternalComponent 1853839 at 0x010d6ee9d0 name='alpha_1213L'>,\n",
       " <ExternalComponent 1853840 at 0x010f28d390 name='alpha_iL'>,\n",
       " <ExternalComponent 1853841 at 0x010f28d3d0 name='alpha_sL'>,\n",
       " <ExternalComponent 1853842 at 0x010f28d410 name='alpha_qL'>,\n",
       " <ExternalComponent 1853843 at 0x010f28d490 name='IL1_TNF'>,\n",
       " <ExternalComponent 1853844 at 0x010f28d4d0 name='ECM'>,\n",
       " <ExternalComponent 1853845 at 0x010f28d510 name='Stress'>,\n",
       " <ExternalComponent 1853846 at 0x010f28d550 name='EGF'>]"
      ]
     },
     "execution_count": 8,
     "metadata": {},
     "output_type": "execute_result"
    }
   ],
   "source": [
    "boolean.external_components"
   ]
  },
  {
   "cell_type": "markdown",
   "metadata": {},
   "source": [
    "#### Regulators"
   ]
  },
  {
   "cell_type": "code",
   "execution_count": 9,
   "metadata": {},
   "outputs": [
    {
     "data": {
      "text/html": [
       "\n",
       "                <table>\n",
       "                    <thead>\n",
       "                        <tr>\n",
       "                            <th>ID</th><th>Name</th><th>Number of Conditions</th>\n",
       "                        </tr>\n",
       "                    </thead>\n",
       "                    <tbody>\n",
       "                        <tr><td>2542820</td><td></td><td>0</td></tr><tr><td>2542821</td><td></td><td>0</td></tr><tr><td>2542823</td><td></td><td>0</td></tr>\n",
       "                    </tbody>\n",
       "                </table>\n",
       "            "
      ],
      "text/plain": [
       "[<Regulator 2542820 at 0x010f3d09d0>,\n",
       " <Regulator 2542821 at 0x010f3d0ad0>,\n",
       " <Regulator 2542823 at 0x010f3d0c10>]"
      ]
     },
     "execution_count": 9,
     "metadata": {},
     "output_type": "execute_result"
    }
   ],
   "source": [
    "Ras = boolean.internal_components.get_by_name(\"Ras\")\n",
    "Ras.regulators"
   ]
  },
  {
   "cell_type": "markdown",
   "metadata": {},
   "source": [
    "#### Conditions"
   ]
  },
  {
   "cell_type": "code",
   "execution_count": 10,
   "metadata": {},
   "outputs": [
    {
     "data": {
      "text/html": [
       "\n",
       "                <table>\n",
       "                    <thead>\n",
       "                        <tr>\n",
       "                            <th>ID</th><th>Name</th>\n",
       "                        </tr>\n",
       "                    </thead>\n",
       "                    <tbody>\n",
       "                        <tr><td>1004781</td><td></td></tr>\n",
       "                    </tbody>\n",
       "                </table>\n",
       "            "
      ],
      "text/plain": [
       "[<Condition 1004781 at 0x010f32a350>]"
      ]
     },
     "execution_count": 10,
     "metadata": {},
     "output_type": "execute_result"
    }
   ],
   "source": [
    "Actin     = boolean.internal_components.get_by_name(\"Actin\")\n",
    "regulator = Actin.regulators[0]\n",
    "regulator.conditions"
   ]
  },
  {
   "cell_type": "code",
   "execution_count": null,
   "metadata": {},
   "outputs": [],
   "source": []
  }
 ],
 "metadata": {
  "file_extension": ".py",
  "kernelspec": {
   "display_name": "Python 3",
   "language": "python",
   "name": "python3"
  },
  "language_info": {
   "codemirror_mode": {
    "name": "ipython",
    "version": 3
   },
   "file_extension": ".py",
   "mimetype": "text/x-python",
   "name": "python",
   "nbconvert_exporter": "python",
   "pygments_lexer": "ipython3",
   "version": "3.7.5"
  },
  "mimetype": "text/x-python",
  "name": "python",
  "npconvert_exporter": "python",
  "pygments_lexer": "ipython3",
  "version": 3
 },
 "nbformat": 4,
 "nbformat_minor": 2
}
