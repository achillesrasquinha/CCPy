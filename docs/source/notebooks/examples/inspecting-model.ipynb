{
 "cells": [
  {
   "cell_type": "markdown",
   "metadata": {},
   "source": [
    "### Inspecting a Model"
   ]
  },
  {
   "cell_type": "markdown",
   "metadata": {},
   "source": [
    "To begin with, **ccapi** comes with some sample models for *Lac Operon* and *Fibroblasts*."
   ]
  },
  {
   "cell_type": "markdown",
   "metadata": {},
   "source": [
    "Begin by importing the ccapi module into your workspace."
   ]
  },
  {
   "cell_type": "code",
   "execution_count": 1,
   "metadata": {},
   "outputs": [],
   "source": [
    "import ccapi"
   ]
  },
  {
   "cell_type": "markdown",
   "metadata": {},
   "source": [
    "Now, let’s try creating a client object in order to interact with services provided by [Cell Collective](https://cellcollective.org)."
   ]
  },
  {
   "cell_type": "code",
   "execution_count": 2,
   "metadata": {},
   "outputs": [],
   "source": [
    "client = ccapi.Client()"
   ]
  },
  {
   "cell_type": "markdown",
   "metadata": {},
   "source": [
    "Authenticate your client using a ***password flow type authentication*** scheme.\n",
    "\n",
    "**NOTE**: *Before you can authenticate using ccapi, you must first register an application of the appropriate type on [Cell Collective](https://cellcollective.org). If you do not require a user context, it is read only.*"
   ]
  },
  {
   "cell_type": "code",
   "execution_count": 3,
   "metadata": {},
   "outputs": [],
   "source": [
    "client.auth(email = \"test@cellcollective.org\", password = \"test\")"
   ]
  },
  {
   "cell_type": "markdown",
   "metadata": {},
   "source": [
    "To load a test model, type:"
   ]
  },
  {
   "cell_type": "code",
   "execution_count": 4,
   "metadata": {},
   "outputs": [
    {
     "data": {
      "text/html": [
       "<table>\n",
       "    <tr>\n",
       "        <td>\n",
       "            <strong>\n",
       "                ID\n",
       "            </strong>\n",
       "        </td>\n",
       "        <td>\n",
       "            90100\n",
       "        </td>\n",
       "    </tr>\n",
       "    <tr>\n",
       "        <td>\n",
       "            <strong>\n",
       "                Name\n",
       "            </strong>\n",
       "        </td>\n",
       "        <td>\n",
       "            Unnamed Model\n",
       "        </td>\n",
       "    </tr>\n",
       "    <tr>\n",
       "        <td>\n",
       "            <strong>\n",
       "                Memory Address\n",
       "            </strong>\n",
       "        </td>\n",
       "        <td>\n",
       "            0x07f4a7d9618d0\n",
       "        </td>\n",
       "    </tr>\n",
       "    <tr>\n",
       "        <td>\n",
       "            <strong>\n",
       "                Number of Versions\n",
       "            </strong>\n",
       "        </td>\n",
       "        <td>\n",
       "            1\n",
       "        </td>\n",
       "    </tr>\n",
       "    <tr>\n",
       "        <td>\n",
       "            <strong>\n",
       "                Versions\n",
       "            </strong>\n",
       "        </td>\n",
       "        <td>\n",
       "            [&lt;BooleanModel 90100 at 0x07f4a7d961940&gt;]\n",
       "        </td>\n",
       "    </tr>\n",
       "</table>"
      ],
      "text/plain": [
       "<Model 90100 at 0x07f4a7d9618d0 name='Unnamed Model'>"
      ]
     },
     "execution_count": 4,
     "metadata": {},
     "output_type": "execute_result"
    }
   ],
   "source": [
    "model = ccapi.load_model(\"fibroblasts\", client = client)\n",
    "model.save()"
   ]
  },
  {
   "cell_type": "markdown",
   "metadata": {},
   "source": [
    "A `ccapi.Model` consists of various `ccapi.ModelVersion` objects that help you build various versions to a model."
   ]
  },
  {
   "cell_type": "code",
   "execution_count": 5,
   "metadata": {},
   "outputs": [
    {
     "data": {
      "text/html": [
       "\n",
       "                <table>\n",
       "                    <thead>\n",
       "                        <tr>\n",
       "                            <th>ID</th><th>Name</th>\n",
       "                        </tr>\n",
       "                    </thead>\n",
       "                    <tbody>\n",
       "                        <tr><td>90100</td><td></td></tr>\n",
       "                    </tbody>\n",
       "                </table>\n",
       "            "
      ],
      "text/plain": [
       "[<BooleanModel 90100 at 0x07f4a7d961940>]"
      ]
     },
     "execution_count": 5,
     "metadata": {},
     "output_type": "execute_result"
    }
   ],
   "source": [
    "model.versions"
   ]
  },
  {
   "cell_type": "code",
   "execution_count": 6,
   "metadata": {},
   "outputs": [
    {
     "data": {
      "text/html": [
       "<table>\n",
       "    <tr>\n",
       "        <td>\n",
       "            <strong>\n",
       "                ID\n",
       "            </strong>\n",
       "        </td>\n",
       "        <td>\n",
       "            90100\n",
       "        </td>\n",
       "    </tr>\n",
       "    <tr>\n",
       "        <td>\n",
       "            <strong>\n",
       "                Version\n",
       "            </strong>\n",
       "        </td>\n",
       "        <td>\n",
       "            1\n",
       "        </td>\n",
       "    </tr>\n",
       "    <tr>\n",
       "        <td>\n",
       "            <strong>\n",
       "                Name\n",
       "            </strong>\n",
       "        </td>\n",
       "        <td>\n",
       "            \n",
       "        </td>\n",
       "    </tr>\n",
       "    <tr>\n",
       "        <td>\n",
       "            <strong>\n",
       "                Memory Address\n",
       "            </strong>\n",
       "        </td>\n",
       "        <td>\n",
       "            0x07f4a7d961940\n",
       "        </td>\n",
       "    </tr>\n",
       "    <tr>\n",
       "        <td>\n",
       "            <strong>\n",
       "                Number of Components\n",
       "            </strong>\n",
       "        </td>\n",
       "        <td>\n",
       "            139\n",
       "        </td>\n",
       "    </tr>\n",
       "    <tr>\n",
       "        <td>\n",
       "            <strong>\n",
       "                Components\n",
       "            </strong>\n",
       "        </td>\n",
       "        <td>\n",
       "            ExtPump, alpha_1213L, alpha_iL, alpha_sL, alpha_qL, IL1_TNF, ECM, Stress, EGF, Palpha_iR, Cbp, EGFR, PIP2_45, TAK1, Ga_1213, Ras, alpha_qR, ARF, PTPPEST, Talin, p38, Raf, Akt, PLC_g, Mekk4, PLD, p115RhoGEF, Graf, AC, TAO_12, PKC_primed, ASK1, PAK, IP3, DAG, Raf_Loc, Erk, Tiam, PIP2_34, RhoK, Cas, PTPa, Crk, MKK3, Shc, SHP2, Mekk2, cAMP, Sos, Gbg_1213, Raf_Rest, PI4K, PKC, alpha_sR, Csk, Sek1, MLK1, PDE4, PLA2, Ral, RasGRF_GRP, AND_34, PTP1b, DOCK180, NIK, Pix_Cool, B_Parvin, RKIP, WASP, MKK6, Cdc42, MKK7, PIP3_345, GRK, MLK3, Actin, Fak, Ca, B_Arrestin, Gbg_q, alpha_1213R, CaM, Arp_23, Gas, Gbg_i, Palpha_qR, RGS, p120RasGAP, Mekk1, PDK1, PA, Trafs, PKA, RalGDS, SAPK, Gab1, IP3R1, AA, PI3K, p90RSK, PLC_B, p190RhoGAP, Grb2, MLCP, RalBP1, Mekk3, PTEN, PIP_4, Myosin, Gai, Palpha_sR, ILK, Integrins, Mek, CaMKK, Vinc, Nck, IL1_TNFR, RhoGDI, MKPs, MLK2, Rac, DGK, PI5K, alpha_iR, Src, Palpha_1213R, Tab_12, Tpl2, Gaq, Rho, MLCK, PP2A, CaMK, Rap1, Raf_DeP, GCK, Trx, Gbg_s\n",
       "        </td>\n",
       "    </tr>\n",
       "</table>"
      ],
      "text/plain": [
       "<BooleanModel 90100 at 0x07f4a7d961940>"
      ]
     },
     "execution_count": 6,
     "metadata": {},
     "output_type": "execute_result"
    }
   ],
   "source": [
    "# get the default model version\n",
    "boolean = model.versions[0]\n",
    "boolean"
   ]
  },
  {
   "cell_type": "markdown",
   "metadata": {},
   "source": [
    "#### Components"
   ]
  },
  {
   "cell_type": "markdown",
   "metadata": {},
   "source": [
    "#### Internal Components"
   ]
  },
  {
   "cell_type": "code",
   "execution_count": 7,
   "metadata": {
    "scrolled": true
   },
   "outputs": [
    {
     "data": {
      "text/html": [
       "\n",
       "                <table>\n",
       "                    <thead>\n",
       "                        <tr>\n",
       "                            <th>ID</th><th>Name</th><th>Number of Positive Regulators</th><th>Number of Negative Regulators</th>\n",
       "                        </tr>\n",
       "                    </thead>\n",
       "                    <tbody>\n",
       "                        <tr><td>1838826</td><td>Palpha_iR</td><td>1</td><td>0</td></tr><tr><td>1838827</td><td>Cbp</td><td>1</td><td>0</td></tr><tr><td>1838828</td><td>EGFR</td><td>3</td><td>0</td></tr><tr><td>1838829</td><td>PIP2_45</td><td>3</td><td>0</td></tr><tr><td>1838830</td><td>TAK1</td><td>1</td><td>0</td></tr><tr><td>1838831</td><td>Ga_1213</td><td>2</td><td>0</td></tr><tr><td>1838832</td><td>Ras</td><td>3</td><td>0</td></tr><tr><td>...</td><td>...</td><td>...</td><td>...</td></tr><tr><td>1838950</td><td>CaMK</td><td>1</td><td>0</td></tr><tr><td>1838951</td><td>Rap1</td><td>1</td><td>0</td></tr><tr><td>1838952</td><td>Raf_DeP</td><td>2</td><td>0</td></tr><tr><td>1838953</td><td>GCK</td><td>1</td><td>0</td></tr><tr><td>1838954</td><td>Trx</td><td>2</td><td>0</td></tr><tr><td>1838955</td><td>Gbg_s</td><td>2</td><td>0</td></tr>\n",
       "                    </tbody>\n",
       "                </table>\n",
       "            "
      ],
      "text/plain": [
       "[<InternalComponent 1838826 at 0x07f4a7d961b70 name='Palpha_iR'>,\n",
       " <InternalComponent 1838827 at 0x07f4a7d961ba8 name='Cbp'>,\n",
       " <InternalComponent 1838828 at 0x07f4a7d961be0 name='EGFR'>,\n",
       " <InternalComponent 1838829 at 0x07f4a7d961c18 name='PIP2_45'>,\n",
       " <InternalComponent 1838830 at 0x07f4a7d961c50 name='TAK1'>,\n",
       " <InternalComponent 1838831 at 0x07f4a7d961c88 name='Ga_1213'>,\n",
       " <InternalComponent 1838832 at 0x07f4a7d961cc0 name='Ras'>,\n",
       " <InternalComponent 1838833 at 0x07f4a7d961cf8 name='alpha_qR'>,\n",
       " <InternalComponent 1838834 at 0x07f4a7d961d30 name='ARF'>,\n",
       " <InternalComponent 1838835 at 0x07f4a7d961d68 name='PTPPEST'>,\n",
       " <InternalComponent 1838836 at 0x07f4a7d961da0 name='Talin'>,\n",
       " <InternalComponent 1838837 at 0x07f4a7d961dd8 name='p38'>,\n",
       " <InternalComponent 1838838 at 0x07f4a7d961e10 name='Raf'>,\n",
       " <InternalComponent 1838839 at 0x07f4a7d961e48 name='Akt'>,\n",
       " <InternalComponent 1838840 at 0x07f4a7d961e80 name='PLC_g'>,\n",
       " <InternalComponent 1838841 at 0x07f4a7d961eb8 name='Mekk4'>,\n",
       " <InternalComponent 1838842 at 0x07f4a7d961ef0 name='PLD'>,\n",
       " <InternalComponent 1838843 at 0x07f4a7d961f28 name='p115RhoGEF'>,\n",
       " <InternalComponent 1838844 at 0x07f4a7d961f60 name='Graf'>,\n",
       " <InternalComponent 1838845 at 0x07f4a7d961f98 name='AC'>,\n",
       " <InternalComponent 1838846 at 0x07f4a7d961fd0 name='TAO_12'>,\n",
       " <InternalComponent 1838847 at 0x07f4a7d8b0048 name='PKC_primed'>,\n",
       " <InternalComponent 1838848 at 0x07f4a7d8b0080 name='ASK1'>,\n",
       " <InternalComponent 1838849 at 0x07f4a7d8b00b8 name='PAK'>,\n",
       " <InternalComponent 1838850 at 0x07f4a7d8b00f0 name='IP3'>,\n",
       " <InternalComponent 1838851 at 0x07f4a7d8b0128 name='DAG'>,\n",
       " <InternalComponent 1838852 at 0x07f4a7d8b0160 name='Raf_Loc'>,\n",
       " <InternalComponent 1838853 at 0x07f4a7d8b0198 name='Erk'>,\n",
       " <InternalComponent 1838854 at 0x07f4a7d8b01d0 name='Tiam'>,\n",
       " <InternalComponent 1838855 at 0x07f4a7d8b0208 name='PIP2_34'>,\n",
       " <InternalComponent 1838856 at 0x07f4a7d8b0240 name='RhoK'>,\n",
       " <InternalComponent 1838857 at 0x07f4a7d8b0278 name='Cas'>,\n",
       " <InternalComponent 1838858 at 0x07f4a7d8b02b0 name='PTPa'>,\n",
       " <InternalComponent 1838859 at 0x07f4a7d8b02e8 name='Crk'>,\n",
       " <InternalComponent 1838860 at 0x07f4a7d8b0320 name='MKK3'>,\n",
       " <InternalComponent 1838861 at 0x07f4a7d8b0358 name='Shc'>,\n",
       " <InternalComponent 1838862 at 0x07f4a7d8b0390 name='SHP2'>,\n",
       " <InternalComponent 1838863 at 0x07f4a7d8b03c8 name='Mekk2'>,\n",
       " <InternalComponent 1838864 at 0x07f4a7d8b0400 name='cAMP'>,\n",
       " <InternalComponent 1838865 at 0x07f4a7d8b0438 name='Sos'>,\n",
       " <InternalComponent 1838866 at 0x07f4a7d8b0470 name='Gbg_1213'>,\n",
       " <InternalComponent 1838867 at 0x07f4a7d8b04a8 name='Raf_Rest'>,\n",
       " <InternalComponent 1838868 at 0x07f4a7d8b04e0 name='PI4K'>,\n",
       " <InternalComponent 1838869 at 0x07f4a7d8b0518 name='PKC'>,\n",
       " <InternalComponent 1838870 at 0x07f4a7d8b0550 name='alpha_sR'>,\n",
       " <InternalComponent 1838871 at 0x07f4a7d8b0588 name='Csk'>,\n",
       " <InternalComponent 1838872 at 0x07f4a7d8b05c0 name='Sek1'>,\n",
       " <InternalComponent 1838873 at 0x07f4a7d8b05f8 name='MLK1'>,\n",
       " <InternalComponent 1838874 at 0x07f4a7d8b0630 name='PDE4'>,\n",
       " <InternalComponent 1838875 at 0x07f4a7d8b0668 name='PLA2'>,\n",
       " <InternalComponent 1838876 at 0x07f4a7d8b06a0 name='Ral'>,\n",
       " <InternalComponent 1838877 at 0x07f4a7d8b06d8 name='RasGRF_GRP'>,\n",
       " <InternalComponent 1838878 at 0x07f4a7d8b0710 name='AND_34'>,\n",
       " <InternalComponent 1838879 at 0x07f4a7d8b0748 name='PTP1b'>,\n",
       " <InternalComponent 1838880 at 0x07f4a7d8b0780 name='DOCK180'>,\n",
       " <InternalComponent 1838881 at 0x07f4a7d8b07b8 name='NIK'>,\n",
       " <InternalComponent 1838882 at 0x07f4a7d8b07f0 name='Pix_Cool'>,\n",
       " <InternalComponent 1838883 at 0x07f4a7d8b0828 name='B_Parvin'>,\n",
       " <InternalComponent 1838884 at 0x07f4a7d8b0860 name='RKIP'>,\n",
       " <InternalComponent 1838885 at 0x07f4a7d8b0898 name='WASP'>,\n",
       " <InternalComponent 1838886 at 0x07f4a7d8b08d0 name='MKK6'>,\n",
       " <InternalComponent 1838887 at 0x07f4a7d8b0908 name='Cdc42'>,\n",
       " <InternalComponent 1838888 at 0x07f4a7d8b0940 name='MKK7'>,\n",
       " <InternalComponent 1838889 at 0x07f4a7d8b0978 name='PIP3_345'>,\n",
       " <InternalComponent 1838890 at 0x07f4a7d8b09b0 name='GRK'>,\n",
       " <InternalComponent 1838891 at 0x07f4a7d8b09e8 name='MLK3'>,\n",
       " <InternalComponent 1838892 at 0x07f4a7d8b0a20 name='Actin'>,\n",
       " <InternalComponent 1838893 at 0x07f4a7d8b0a58 name='Fak'>,\n",
       " <InternalComponent 1838894 at 0x07f4a7d8b0a90 name='Ca'>,\n",
       " <InternalComponent 1838895 at 0x07f4a7d8b0ac8 name='B_Arrestin'>,\n",
       " <InternalComponent 1838896 at 0x07f4a7d8b0b00 name='Gbg_q'>,\n",
       " <InternalComponent 1838897 at 0x07f4a7d8b0b38 name='alpha_1213R'>,\n",
       " <InternalComponent 1838898 at 0x07f4a7d8b0b70 name='CaM'>,\n",
       " <InternalComponent 1838899 at 0x07f4a7d8b0ba8 name='Arp_23'>,\n",
       " <InternalComponent 1838900 at 0x07f4a7d8b0be0 name='Gas'>,\n",
       " <InternalComponent 1838901 at 0x07f4a7d8b0c18 name='Gbg_i'>,\n",
       " <InternalComponent 1838902 at 0x07f4a7d8b0c50 name='Palpha_qR'>,\n",
       " <InternalComponent 1838903 at 0x07f4a7d8b0c88 name='RGS'>,\n",
       " <InternalComponent 1838904 at 0x07f4a7d8b0cc0 name='p120RasGAP'>,\n",
       " <InternalComponent 1838905 at 0x07f4a7d8b0cf8 name='Mekk1'>,\n",
       " <InternalComponent 1838906 at 0x07f4a7d8b0d30 name='PDK1'>,\n",
       " <InternalComponent 1838907 at 0x07f4a7d8b0d68 name='PA'>,\n",
       " <InternalComponent 1838908 at 0x07f4a7d8b0da0 name='Trafs'>,\n",
       " <InternalComponent 1838909 at 0x07f4a7d8b0dd8 name='PKA'>,\n",
       " <InternalComponent 1838910 at 0x07f4a7d8b0e10 name='RalGDS'>,\n",
       " <InternalComponent 1838911 at 0x07f4a7d8b0e48 name='SAPK'>,\n",
       " <InternalComponent 1838912 at 0x07f4a7d8b0e80 name='Gab1'>,\n",
       " <InternalComponent 1838913 at 0x07f4a7d8b0eb8 name='IP3R1'>,\n",
       " <InternalComponent 1838914 at 0x07f4a7d8b0ef0 name='AA'>,\n",
       " <InternalComponent 1838915 at 0x07f4a7d8b0f28 name='PI3K'>,\n",
       " <InternalComponent 1838916 at 0x07f4a7d8b0f60 name='p90RSK'>,\n",
       " <InternalComponent 1838917 at 0x07f4a7d8b0f98 name='PLC_B'>,\n",
       " <InternalComponent 1838918 at 0x07f4a7d8b0fd0 name='p190RhoGAP'>,\n",
       " <InternalComponent 1838919 at 0x07f4a7d8bf048 name='Grb2'>,\n",
       " <InternalComponent 1838920 at 0x07f4a7d8bf080 name='MLCP'>,\n",
       " <InternalComponent 1838921 at 0x07f4a7d8bf0b8 name='RalBP1'>,\n",
       " <InternalComponent 1838922 at 0x07f4a7d8bf0f0 name='Mekk3'>,\n",
       " <InternalComponent 1838923 at 0x07f4a7d8bf128 name='PTEN'>,\n",
       " <InternalComponent 1838924 at 0x07f4a7d8bf160 name='PIP_4'>,\n",
       " <InternalComponent 1838925 at 0x07f4a7d8bf198 name='Myosin'>,\n",
       " <InternalComponent 1838926 at 0x07f4a7d8bf1d0 name='Gai'>,\n",
       " <InternalComponent 1838927 at 0x07f4a7d8bf208 name='Palpha_sR'>,\n",
       " <InternalComponent 1838928 at 0x07f4a7d8bf240 name='ILK'>,\n",
       " <InternalComponent 1838929 at 0x07f4a7d8bf278 name='Integrins'>,\n",
       " <InternalComponent 1838930 at 0x07f4a7d8bf2b0 name='Mek'>,\n",
       " <InternalComponent 1838931 at 0x07f4a7d8bf2e8 name='CaMKK'>,\n",
       " <InternalComponent 1838932 at 0x07f4a7d8bf320 name='Vinc'>,\n",
       " <InternalComponent 1838933 at 0x07f4a7d8bf358 name='Nck'>,\n",
       " <InternalComponent 1838934 at 0x07f4a7d8bf390 name='IL1_TNFR'>,\n",
       " <InternalComponent 1838935 at 0x07f4a7d8bf3c8 name='RhoGDI'>,\n",
       " <InternalComponent 1838936 at 0x07f4a7d8bf400 name='MKPs'>,\n",
       " <InternalComponent 1838937 at 0x07f4a7d8bf438 name='MLK2'>,\n",
       " <InternalComponent 1838938 at 0x07f4a7d8bf470 name='Rac'>,\n",
       " <InternalComponent 1838939 at 0x07f4a7d8bf4a8 name='DGK'>,\n",
       " <InternalComponent 1838940 at 0x07f4a7d8bf4e0 name='PI5K'>,\n",
       " <InternalComponent 1838941 at 0x07f4a7d8bf518 name='alpha_iR'>,\n",
       " <InternalComponent 1838942 at 0x07f4a7d8bf550 name='Src'>,\n",
       " <InternalComponent 1838943 at 0x07f4a7d8bf588 name='Palpha_1213R'>,\n",
       " <InternalComponent 1838944 at 0x07f4a7d8bf5c0 name='Tab_12'>,\n",
       " <InternalComponent 1838945 at 0x07f4a7d8bf5f8 name='Tpl2'>,\n",
       " <InternalComponent 1838946 at 0x07f4a7d8bf630 name='Gaq'>,\n",
       " <InternalComponent 1838947 at 0x07f4a7d8bf668 name='Rho'>,\n",
       " <InternalComponent 1838948 at 0x07f4a7d8bf6a0 name='MLCK'>,\n",
       " <InternalComponent 1838949 at 0x07f4a7d8bf6d8 name='PP2A'>,\n",
       " <InternalComponent 1838950 at 0x07f4a7d8bf710 name='CaMK'>,\n",
       " <InternalComponent 1838951 at 0x07f4a7d8bf748 name='Rap1'>,\n",
       " <InternalComponent 1838952 at 0x07f4a7d8bf780 name='Raf_DeP'>,\n",
       " <InternalComponent 1838953 at 0x07f4a7d8bf7b8 name='GCK'>,\n",
       " <InternalComponent 1838954 at 0x07f4a7d8bf7f0 name='Trx'>,\n",
       " <InternalComponent 1838955 at 0x07f4a7d8bf828 name='Gbg_s'>]"
      ]
     },
     "execution_count": 7,
     "metadata": {},
     "output_type": "execute_result"
    }
   ],
   "source": [
    "boolean.internal_components"
   ]
  },
  {
   "cell_type": "markdown",
   "metadata": {},
   "source": [
    "#### External Components"
   ]
  },
  {
   "cell_type": "code",
   "execution_count": 8,
   "metadata": {
    "scrolled": true
   },
   "outputs": [
    {
     "data": {
      "text/html": [
       "\n",
       "                <table>\n",
       "                    <thead>\n",
       "                        <tr>\n",
       "                            <th>ID</th><th>Name</th>\n",
       "                        </tr>\n",
       "                    </thead>\n",
       "                    <tbody>\n",
       "                        <tr><td>1838817</td><td>ExtPump</td></tr><tr><td>1838818</td><td>alpha_1213L</td></tr><tr><td>1838819</td><td>alpha_iL</td></tr><tr><td>1838820</td><td>alpha_sL</td></tr><tr><td>1838821</td><td>alpha_qL</td></tr><tr><td>1838822</td><td>IL1_TNF</td></tr><tr><td>1838823</td><td>ECM</td></tr><tr><td>1838824</td><td>Stress</td></tr><tr><td>1838825</td><td>EGF</td></tr>\n",
       "                    </tbody>\n",
       "                </table>\n",
       "            "
      ],
      "text/plain": [
       "[<ExternalComponent 1838817 at 0x07f4a7d961978 name='ExtPump'>,\n",
       " <ExternalComponent 1838818 at 0x07f4a7d9619b0 name='alpha_1213L'>,\n",
       " <ExternalComponent 1838819 at 0x07f4a7d9619e8 name='alpha_iL'>,\n",
       " <ExternalComponent 1838820 at 0x07f4a7d961a20 name='alpha_sL'>,\n",
       " <ExternalComponent 1838821 at 0x07f4a7d961a58 name='alpha_qL'>,\n",
       " <ExternalComponent 1838822 at 0x07f4a7d961a90 name='IL1_TNF'>,\n",
       " <ExternalComponent 1838823 at 0x07f4a7d961ac8 name='ECM'>,\n",
       " <ExternalComponent 1838824 at 0x07f4a7d961b00 name='Stress'>,\n",
       " <ExternalComponent 1838825 at 0x07f4a7d961b38 name='EGF'>]"
      ]
     },
     "execution_count": 8,
     "metadata": {},
     "output_type": "execute_result"
    }
   ],
   "source": [
    "boolean.external_components"
   ]
  },
  {
   "cell_type": "markdown",
   "metadata": {},
   "source": [
    "#### Regulators"
   ]
  },
  {
   "cell_type": "code",
   "execution_count": 9,
   "metadata": {},
   "outputs": [
    {
     "data": {
      "text/html": [
       "\n",
       "                <table>\n",
       "                    <thead>\n",
       "                        <tr>\n",
       "                            <th>ID</th><th>Name</th><th>Number of Conditions</th>\n",
       "                        </tr>\n",
       "                    </thead>\n",
       "                    <tbody>\n",
       "                        <tr><td>2519283</td><td></td><td>0</td></tr><tr><td>2519284</td><td></td><td>0</td></tr><tr><td>2519286</td><td></td><td>0</td></tr>\n",
       "                    </tbody>\n",
       "                </table>\n",
       "            "
      ],
      "text/plain": [
       "[<Regulator 2519283 at 0x07f4a7ded42e8>,\n",
       " <Regulator 2519284 at 0x07f4a7ded4320>,\n",
       " <Regulator 2519286 at 0x07f4a7ded4390>]"
      ]
     },
     "execution_count": 9,
     "metadata": {},
     "output_type": "execute_result"
    }
   ],
   "source": [
    "Ras = boolean.internal_components.get_by_name(\"Ras\")\n",
    "Ras.regulators"
   ]
  }
 ],
 "metadata": {
  "file_extension": ".py",
  "kernelspec": {
   "display_name": "Python 3",
   "language": "python",
   "name": "python3"
  },
  "language_info": {
   "codemirror_mode": {
    "name": "ipython",
    "version": 3
   },
   "file_extension": ".py",
   "mimetype": "text/x-python",
   "name": "python",
   "nbconvert_exporter": "python",
   "pygments_lexer": "ipython3",
   "version": "3.7.3"
  },
  "mimetype": "text/x-python",
  "name": "python",
  "npconvert_exporter": "python",
  "pygments_lexer": "ipython3",
  "version": 3
 },
 "nbformat": 4,
 "nbformat_minor": 2
}
