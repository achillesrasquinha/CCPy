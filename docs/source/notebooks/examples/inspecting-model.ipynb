{
 "cells": [
  {
   "cell_type": "markdown",
   "metadata": {},
   "source": [
    "### Inspecting a Model"
   ]
  },
  {
   "cell_type": "markdown",
   "metadata": {},
   "source": [
    "To begin with, **ccapi** comes with some sample models for *Lac Operon* and *Fibroblasts*."
   ]
  },
  {
   "cell_type": "markdown",
   "metadata": {},
   "source": [
    "Begin by importing the ccapi module into your workspace."
   ]
  },
  {
   "cell_type": "code",
   "execution_count": 1,
   "metadata": {},
   "outputs": [],
   "source": [
    "import ccapi"
   ]
  },
  {
   "cell_type": "markdown",
   "metadata": {},
   "source": [
    "Now, let’s try creating a client object in order to interact with services provided by [Cell Collective](https://cellcollective.org)."
   ]
  },
  {
   "cell_type": "code",
   "execution_count": 2,
   "metadata": {},
   "outputs": [],
   "source": [
    "client = ccapi.Client()"
   ]
  },
  {
   "cell_type": "markdown",
   "metadata": {},
   "source": [
    "Authenticate your client using a ***password flow type authentication*** scheme.\n",
    "\n",
    "**NOTE**: *Before you can authenticate using ccapi, you must first register an application of the appropriate type on [Cell Collective](https://cellcollective.org). If you do not require a user context, it is read only.*"
   ]
  },
  {
   "cell_type": "code",
   "execution_count": 3,
   "metadata": {},
   "outputs": [],
   "source": [
    "client.auth(email = \"test@cellcollective.org\", password = \"test\")"
   ]
  },
  {
   "cell_type": "markdown",
   "metadata": {},
   "source": [
    "To load a test model, type:"
   ]
  },
  {
   "cell_type": "code",
   "execution_count": 4,
   "metadata": {},
   "outputs": [
    {
     "name": "stdout",
     "output_type": "stream",
     "text": [
      "1\n"
     ]
    }
   ],
   "source": [
    "model = ccapi.load_model(\"fibroblasts\")\n",
    "# model.save()"
   ]
  },
  {
   "cell_type": "markdown",
   "metadata": {},
   "source": [
    "A `ccapi.Model` consists of various `ccapi.ModelVersion` objects that help you build various versions to a model."
   ]
  },
  {
   "cell_type": "code",
   "execution_count": 5,
   "metadata": {},
   "outputs": [
    {
     "data": {
      "text/html": [
       "\n",
       "            <table>\n",
       "                <thead>\n",
       "                    <tr>\n",
       "                        <th>ID</th><th>Name</th>\n",
       "                    </tr>\n",
       "                </thead>\n",
       "                <tbody>\n",
       "                    <tr><td>-14422</td><td></td></tr>\n",
       "                </tbody>\n",
       "            </table>\n",
       "        "
      ],
      "text/plain": [
       "[<BooleanModel -14422 at 0x0111f95090>]"
      ]
     },
     "execution_count": 5,
     "metadata": {},
     "output_type": "execute_result"
    }
   ],
   "source": [
    "model.versions"
   ]
  },
  {
   "cell_type": "code",
   "execution_count": 6,
   "metadata": {},
   "outputs": [
    {
     "data": {
      "text/html": [
       "<table>\n",
       "    <tr>\n",
       "        <td>\n",
       "            <strong>\n",
       "                ID\n",
       "            </strong>\n",
       "        </td>\n",
       "        <td>\n",
       "            -14422\n",
       "        </td>\n",
       "    </tr>\n",
       "    <tr>\n",
       "        <td>\n",
       "            <strong>\n",
       "                Version\n",
       "            </strong>\n",
       "        </td>\n",
       "        <td>\n",
       "            1\n",
       "        </td>\n",
       "    </tr>\n",
       "    <tr>\n",
       "        <td>\n",
       "            <strong>\n",
       "                Name\n",
       "            </strong>\n",
       "        </td>\n",
       "        <td>\n",
       "            \n",
       "        </td>\n",
       "    </tr>\n",
       "    <tr>\n",
       "        <td>\n",
       "            <strong>\n",
       "                Memory Address\n",
       "            </strong>\n",
       "        </td>\n",
       "        <td>\n",
       "            0x0111f95090\n",
       "        </td>\n",
       "    </tr>\n",
       "    <tr>\n",
       "        <td>\n",
       "            <strong>\n",
       "                Number of Components\n",
       "            </strong>\n",
       "        </td>\n",
       "        <td>\n",
       "            139\n",
       "        </td>\n",
       "    </tr>\n",
       "    <tr>\n",
       "        <td>\n",
       "            <strong>\n",
       "                Components\n",
       "            </strong>\n",
       "        </td>\n",
       "        <td>\n",
       "            ExtPump, alpha_1213L, alpha_iL, alpha_sL, alpha_qL, IL1_TNF, ECM, Stress, EGF, Palpha_iR, Cbp, EGFR, PIP2_45, TAK1, Ga_1213, Ras, alpha_qR, ARF, PTPPEST, Talin, p38, Raf, Akt, PLC_g, Mekk4, PLD, p115RhoGEF, Graf, AC, TAO_12, PKC_primed, ASK1, PAK, IP3, DAG, Raf_Loc, Erk, Tiam, PIP2_34, RhoK, Cas, PTPa, Crk, MKK3, Shc, SHP2, Mekk2, cAMP, Sos, Gbg_1213, Raf_Rest, PI4K, PKC, alpha_sR, Csk, Sek1, MLK1, PDE4, PLA2, Ral, RasGRF_GRP, AND_34, PTP1b, DOCK180, NIK, Pix_Cool, B_Parvin, RKIP, WASP, MKK6, Cdc42, MKK7, PIP3_345, GRK, MLK3, Actin, Fak, Ca, B_Arrestin, Gbg_q, alpha_1213R, CaM, Arp_23, Gas, Gbg_i, Palpha_qR, RGS, p120RasGAP, Mekk1, PDK1, PA, Trafs, PKA, RalGDS, SAPK, Gab1, IP3R1, AA, PI3K, p90RSK, PLC_B, p190RhoGAP, Grb2, MLCP, RalBP1, Mekk3, PTEN, PIP_4, Myosin, Gai, Palpha_sR, ILK, Integrins, Mek, CaMKK, Vinc, Nck, IL1_TNFR, RhoGDI, MKPs, MLK2, Rac, DGK, PI5K, alpha_iR, Src, Palpha_1213R, Tab_12, Tpl2, Gaq, Rho, MLCK, PP2A, CaMK, Rap1, Raf_DeP, GCK, Trx, Gbg_s\n",
       "        </td>\n",
       "    </tr>\n",
       "</table>"
      ],
      "text/plain": [
       "<BooleanModel -14422 at 0x0111f95090>"
      ]
     },
     "execution_count": 6,
     "metadata": {},
     "output_type": "execute_result"
    }
   ],
   "source": [
    "# get the default model version\n",
    "boolean = model.versions[0]\n",
    "boolean"
   ]
  },
  {
   "cell_type": "markdown",
   "metadata": {},
   "source": [
    "#### Components"
   ]
  },
  {
   "cell_type": "markdown",
   "metadata": {},
   "source": [
    "#### Internal Components"
   ]
  },
  {
   "cell_type": "code",
   "execution_count": 7,
   "metadata": {},
   "outputs": [
    {
     "data": {
      "text/html": [
       "\n",
       "            <table>\n",
       "                <thead>\n",
       "                    <tr>\n",
       "                        <th>ID</th><th>Name</th><th>Number of Positive Regulators</th><th>Number of Negative Regulators</th>\n",
       "                    </tr>\n",
       "                </thead>\n",
       "                <tbody>\n",
       "                    <tr><td>-11</td><td>Palpha_iR</td><td>0</td><td>0</td></tr><tr><td>-12</td><td>Cbp</td><td>0</td><td>0</td></tr><tr><td>-14</td><td>EGFR</td><td>0</td><td>0</td></tr><tr><td>-16</td><td>PIP2_45</td><td>0</td><td>0</td></tr><tr><td>-18</td><td>TAK1</td><td>0</td><td>0</td></tr><tr><td>-20</td><td>Ga_1213</td><td>0</td><td>0</td></tr><tr><td>-21</td><td>Ras</td><td>0</td><td>0</td></tr><tr><td>...</td><td>...</td><td>...</td><td>...</td></tr><tr><td>-242</td><td>CaMK</td><td>0</td><td>0</td></tr><tr><td>-244</td><td>Rap1</td><td>0</td><td>0</td></tr><tr><td>-246</td><td>Raf_DeP</td><td>0</td><td>0</td></tr><tr><td>-247</td><td>GCK</td><td>0</td><td>0</td></tr><tr><td>-249</td><td>Trx</td><td>0</td><td>0</td></tr><tr><td>-251</td><td>Gbg_s</td><td>0</td><td>0</td></tr>\n",
       "                </tbody>\n",
       "            </table>\n",
       "        "
      ],
      "text/plain": [
       "[<InternalComponent -11 at 0x0111f95210 name='Palpha_iR'>,\n",
       " <InternalComponent -12 at 0x0111f95350 name='Cbp'>,\n",
       " <InternalComponent -14 at 0x0111f95390 name='EGFR'>,\n",
       " <InternalComponent -16 at 0x0111f953d0 name='PIP2_45'>,\n",
       " <InternalComponent -18 at 0x0111f95410 name='TAK1'>,\n",
       " <InternalComponent -20 at 0x0111f95450 name='Ga_1213'>,\n",
       " <InternalComponent -21 at 0x0111f95490 name='Ras'>,\n",
       " <InternalComponent -23 at 0x0111f954d0 name='alpha_qR'>,\n",
       " <InternalComponent -25 at 0x0111f95510 name='ARF'>,\n",
       " <InternalComponent -27 at 0x0111f95550 name='PTPPEST'>,\n",
       " <InternalComponent -29 at 0x0111f95590 name='Talin'>,\n",
       " <InternalComponent -31 at 0x0111f955d0 name='p38'>,\n",
       " <InternalComponent -32 at 0x0111f95610 name='Raf'>,\n",
       " <InternalComponent -34 at 0x0111f95650 name='Akt'>,\n",
       " <InternalComponent -36 at 0x0111f95690 name='PLC_g'>,\n",
       " <InternalComponent -38 at 0x0111f956d0 name='Mekk4'>,\n",
       " <InternalComponent -40 at 0x0111f95710 name='PLD'>,\n",
       " <InternalComponent -42 at 0x0111f95750 name='p115RhoGEF'>,\n",
       " <InternalComponent -43 at 0x0111f95790 name='Graf'>,\n",
       " <InternalComponent -45 at 0x0111f957d0 name='AC'>,\n",
       " <InternalComponent -47 at 0x0111f95810 name='TAO_12'>,\n",
       " <InternalComponent -49 at 0x0111f95850 name='PKC_primed'>,\n",
       " <InternalComponent -50 at 0x0111f95890 name='ASK1'>,\n",
       " <InternalComponent -51 at 0x0111f958d0 name='PAK'>,\n",
       " <InternalComponent -53 at 0x0111f95910 name='IP3'>,\n",
       " <InternalComponent -55 at 0x0111f95950 name='DAG'>,\n",
       " <InternalComponent -57 at 0x0111f95990 name='Raf_Loc'>,\n",
       " <InternalComponent -58 at 0x0111f959d0 name='Erk'>,\n",
       " <InternalComponent -60 at 0x0111f95a10 name='Tiam'>,\n",
       " <InternalComponent -62 at 0x0111f95a50 name='PIP2_34'>,\n",
       " <InternalComponent -64 at 0x0111f95a90 name='RhoK'>,\n",
       " <InternalComponent -66 at 0x0111f95ad0 name='Cas'>,\n",
       " <InternalComponent -68 at 0x0111f95b10 name='PTPa'>,\n",
       " <InternalComponent -69 at 0x0111f95b50 name='Crk'>,\n",
       " <InternalComponent -71 at 0x0111f95b90 name='MKK3'>,\n",
       " <InternalComponent -73 at 0x0111f95bd0 name='Shc'>,\n",
       " <InternalComponent -75 at 0x0111f95c10 name='SHP2'>,\n",
       " <InternalComponent -77 at 0x0111f95c50 name='Mekk2'>,\n",
       " <InternalComponent -79 at 0x0111f95c90 name='cAMP'>,\n",
       " <InternalComponent -81 at 0x0111f95cd0 name='Sos'>,\n",
       " <InternalComponent -83 at 0x0111f95d10 name='Gbg_1213'>,\n",
       " <InternalComponent -85 at 0x0111f95d50 name='Raf_Rest'>,\n",
       " <InternalComponent -86 at 0x0111f95d90 name='PI4K'>,\n",
       " <InternalComponent -88 at 0x0111f95dd0 name='PKC'>,\n",
       " <InternalComponent -90 at 0x0111f95e10 name='alpha_sR'>,\n",
       " <InternalComponent -92 at 0x0111f95e50 name='Csk'>,\n",
       " <InternalComponent -94 at 0x0111f95e90 name='Sek1'>,\n",
       " <InternalComponent -96 at 0x0111f95ed0 name='MLK1'>,\n",
       " <InternalComponent -98 at 0x0111f95f10 name='PDE4'>,\n",
       " <InternalComponent -100 at 0x0111f95f50 name='PLA2'>,\n",
       " <InternalComponent -102 at 0x0111f95f90 name='Ral'>,\n",
       " <InternalComponent -104 at 0x0111f95fd0 name='RasGRF_GRP'>,\n",
       " <InternalComponent -106 at 0x0111fa3050 name='AND_34'>,\n",
       " <InternalComponent -108 at 0x0111fa3090 name='PTP1b'>,\n",
       " <InternalComponent -110 at 0x0111fa30d0 name='DOCK180'>,\n",
       " <InternalComponent -112 at 0x0111fa3110 name='NIK'>,\n",
       " <InternalComponent -113 at 0x0111fa3150 name='Pix_Cool'>,\n",
       " <InternalComponent -115 at 0x0111fa3190 name='B_Parvin'>,\n",
       " <InternalComponent -117 at 0x0111fa31d0 name='RKIP'>,\n",
       " <InternalComponent -119 at 0x0111fa3210 name='WASP'>,\n",
       " <InternalComponent -121 at 0x0111fa3250 name='MKK6'>,\n",
       " <InternalComponent -123 at 0x0111fa3290 name='Cdc42'>,\n",
       " <InternalComponent -125 at 0x0111fa32d0 name='MKK7'>,\n",
       " <InternalComponent -127 at 0x0111fa3310 name='PIP3_345'>,\n",
       " <InternalComponent -129 at 0x0111fa3350 name='GRK'>,\n",
       " <InternalComponent -131 at 0x0111fa3390 name='MLK3'>,\n",
       " <InternalComponent -133 at 0x0111fa33d0 name='Actin'>,\n",
       " <InternalComponent -135 at 0x0111fa3410 name='Fak'>,\n",
       " <InternalComponent -137 at 0x0111fa3450 name='Ca'>,\n",
       " <InternalComponent -139 at 0x0111fa3490 name='B_Arrestin'>,\n",
       " <InternalComponent -141 at 0x0111fa34d0 name='Gbg_q'>,\n",
       " <InternalComponent -143 at 0x0111fa3510 name='alpha_1213R'>,\n",
       " <InternalComponent -145 at 0x0111fa3550 name='CaM'>,\n",
       " <InternalComponent -147 at 0x0111fa3590 name='Arp_23'>,\n",
       " <InternalComponent -149 at 0x0111fa35d0 name='Gas'>,\n",
       " <InternalComponent -151 at 0x0111fa3610 name='Gbg_i'>,\n",
       " <InternalComponent -153 at 0x0111fa3650 name='Palpha_qR'>,\n",
       " <InternalComponent -154 at 0x0111fa3690 name='RGS'>,\n",
       " <InternalComponent -156 at 0x0111fa36d0 name='p120RasGAP'>,\n",
       " <InternalComponent -157 at 0x0111fa3710 name='Mekk1'>,\n",
       " <InternalComponent -159 at 0x0111fa3750 name='PDK1'>,\n",
       " <InternalComponent -161 at 0x0111fa3790 name='PA'>,\n",
       " <InternalComponent -163 at 0x0111fa37d0 name='Trafs'>,\n",
       " <InternalComponent -165 at 0x0111fa3810 name='PKA'>,\n",
       " <InternalComponent -167 at 0x0111fa3850 name='RalGDS'>,\n",
       " <InternalComponent -169 at 0x0111fa3890 name='SAPK'>,\n",
       " <InternalComponent -171 at 0x0111fa38d0 name='Gab1'>,\n",
       " <InternalComponent -173 at 0x0111fa3910 name='IP3R1'>,\n",
       " <InternalComponent -175 at 0x0111fa3950 name='AA'>,\n",
       " <InternalComponent -177 at 0x0111fa3990 name='PI3K'>,\n",
       " <InternalComponent -179 at 0x0111fa39d0 name='p90RSK'>,\n",
       " <InternalComponent -180 at 0x0111fa3a10 name='PLC_B'>,\n",
       " <InternalComponent -182 at 0x0111fa3a50 name='p190RhoGAP'>,\n",
       " <InternalComponent -183 at 0x0111fa3a90 name='Grb2'>,\n",
       " <InternalComponent -185 at 0x0111fa3ad0 name='MLCP'>,\n",
       " <InternalComponent -187 at 0x0111fa3b10 name='RalBP1'>,\n",
       " <InternalComponent -189 at 0x0111fa3b50 name='Mekk3'>,\n",
       " <InternalComponent -191 at 0x0111fa3b90 name='PTEN'>,\n",
       " <InternalComponent -193 at 0x0111fa3bd0 name='PIP_4'>,\n",
       " <InternalComponent -195 at 0x0111fa3c10 name='Myosin'>,\n",
       " <InternalComponent -197 at 0x0111fa3c50 name='Gai'>,\n",
       " <InternalComponent -199 at 0x0111fa3c90 name='Palpha_sR'>,\n",
       " <InternalComponent -200 at 0x0111fa3cd0 name='ILK'>,\n",
       " <InternalComponent -202 at 0x0111fa3d10 name='Integrins'>,\n",
       " <InternalComponent -204 at 0x0111fa3d50 name='Mek'>,\n",
       " <InternalComponent -206 at 0x0111fa3d90 name='CaMKK'>,\n",
       " <InternalComponent -207 at 0x0111fa3dd0 name='Vinc'>,\n",
       " <InternalComponent -209 at 0x0111fa3e10 name='Nck'>,\n",
       " <InternalComponent -211 at 0x0111fa3e50 name='IL1_TNFR'>,\n",
       " <InternalComponent -213 at 0x0111fa3e90 name='RhoGDI'>,\n",
       " <InternalComponent -215 at 0x0111fa3ed0 name='MKPs'>,\n",
       " <InternalComponent -217 at 0x0111fa3f10 name='MLK2'>,\n",
       " <InternalComponent -219 at 0x0111fa3f50 name='Rac'>,\n",
       " <InternalComponent -221 at 0x0111fa3f90 name='DGK'>,\n",
       " <InternalComponent -223 at 0x0111fa3fd0 name='PI5K'>,\n",
       " <InternalComponent -225 at 0x0111fb1050 name='alpha_iR'>,\n",
       " <InternalComponent -227 at 0x0111fb1090 name='Src'>,\n",
       " <InternalComponent -229 at 0x0111fb10d0 name='Palpha_1213R'>,\n",
       " <InternalComponent -230 at 0x0111fb1110 name='Tab_12'>,\n",
       " <InternalComponent -232 at 0x0111fb1150 name='Tpl2'>,\n",
       " <InternalComponent -234 at 0x0111fb1190 name='Gaq'>,\n",
       " <InternalComponent -236 at 0x0111fb11d0 name='Rho'>,\n",
       " <InternalComponent -238 at 0x0111fb1210 name='MLCK'>,\n",
       " <InternalComponent -240 at 0x0111fb1250 name='PP2A'>,\n",
       " <InternalComponent -242 at 0x0111fb1290 name='CaMK'>,\n",
       " <InternalComponent -244 at 0x0111fb12d0 name='Rap1'>,\n",
       " <InternalComponent -246 at 0x0111fb1310 name='Raf_DeP'>,\n",
       " <InternalComponent -247 at 0x0111fb1350 name='GCK'>,\n",
       " <InternalComponent -249 at 0x0111fb1390 name='Trx'>,\n",
       " <InternalComponent -251 at 0x0111fb13d0 name='Gbg_s'>]"
      ]
     },
     "execution_count": 7,
     "metadata": {},
     "output_type": "execute_result"
    }
   ],
   "source": [
    "boolean.internal_components"
   ]
  },
  {
   "cell_type": "markdown",
   "metadata": {},
   "source": [
    "#### External Components"
   ]
  },
  {
   "cell_type": "code",
   "execution_count": 8,
   "metadata": {},
   "outputs": [],
   "source": [
    "# boolean.internal_components.regulators"
   ]
  },
  {
   "cell_type": "code",
   "execution_count": null,
   "metadata": {},
   "outputs": [],
   "source": []
  },
  {
   "cell_type": "code",
   "execution_count": 9,
   "metadata": {},
   "outputs": [
    {
     "data": {
      "text/html": [
       "\n",
       "            <table>\n",
       "                <thead>\n",
       "                    <tr>\n",
       "                        <th>ID</th><th>Name</th>\n",
       "                    </tr>\n",
       "                </thead>\n",
       "                <tbody>\n",
       "                    <tr><td>-2</td><td>ExtPump</td></tr><tr><td>-3</td><td>alpha_1213L</td></tr><tr><td>-4</td><td>alpha_iL</td></tr><tr><td>-5</td><td>alpha_sL</td></tr><tr><td>-6</td><td>alpha_qL</td></tr><tr><td>-7</td><td>IL1_TNF</td></tr><tr><td>-8</td><td>ECM</td></tr><tr><td>-9</td><td>Stress</td></tr><tr><td>-10</td><td>EGF</td></tr>\n",
       "                </tbody>\n",
       "            </table>\n",
       "        "
      ],
      "text/plain": [
       "[<ExternalComponent -2 at 0x0111f950d0 name='ExtPump'>,\n",
       " <ExternalComponent -3 at 0x0111f95110 name='alpha_1213L'>,\n",
       " <ExternalComponent -4 at 0x0111f95150 name='alpha_iL'>,\n",
       " <ExternalComponent -5 at 0x0111f95190 name='alpha_sL'>,\n",
       " <ExternalComponent -6 at 0x0111f951d0 name='alpha_qL'>,\n",
       " <ExternalComponent -7 at 0x0111f95250 name='IL1_TNF'>,\n",
       " <ExternalComponent -8 at 0x0111f95290 name='ECM'>,\n",
       " <ExternalComponent -9 at 0x0111f952d0 name='Stress'>,\n",
       " <ExternalComponent -10 at 0x0111f95310 name='EGF'>]"
      ]
     },
     "execution_count": 9,
     "metadata": {},
     "output_type": "execute_result"
    }
   ],
   "source": [
    "boolean.external_components"
   ]
  }
 ],
 "metadata": {
  "file_extension": ".py",
  "kernelspec": {
   "display_name": "Python 3",
   "language": "python",
   "name": "python3"
  },
  "language_info": {
   "codemirror_mode": {
    "name": "ipython",
    "version": 3
   },
   "file_extension": ".py",
   "mimetype": "text/x-python",
   "name": "python",
   "nbconvert_exporter": "python",
   "pygments_lexer": "ipython3",
   "version": "3.7.5"
  },
  "mimetype": "text/x-python",
  "name": "python",
  "npconvert_exporter": "python",
  "pygments_lexer": "ipython3",
  "version": 3
 },
 "nbformat": 4,
 "nbformat_minor": 2
}
