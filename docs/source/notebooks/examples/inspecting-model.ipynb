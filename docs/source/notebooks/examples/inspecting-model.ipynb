{
 "cells": [
  {
   "cell_type": "markdown",
   "metadata": {},
   "source": [
    "### Inspecting a Model"
   ]
  },
  {
   "cell_type": "markdown",
   "execution_count": null,
   "metadata": {},
   "outputs": [],
   "source": [
    "To begin with, **ccapi** comes with some sample models for *Lac Operon* and *Fibroblasts*."
   ]
  },
  {
   "cell_type": "markdown",
   "metadata": {},
   "source": [
    "Begin by importing the ccapi module into your workspace."
   ]
  },
  {
   "cell_type": "code",
   "execution_count": 2,
   "metadata": {},
   "outputs": [],
   "source": [
    "import ccapi"
   ]
  },
  {
   "cell_type": "markdown",
   "metadata": {},
   "source": [
    "Now, let’s try creating a client object in order to interact with services provided by [Cell Collective](https://cellcollective.org)."
   ]
  },
  {
   "cell_type": "code",
   "execution_count": 3,
   "metadata": {},
   "outputs": [],
   "source": [
    "client = ccapi.Client()"
   ]
  },
  {
   "cell_type": "markdown",
   "metadata": {},
   "source": [
    "Authenticate your client using a ***password flow type authentication*** scheme.\n",
    "\n",
    "**NOTE**: *Before you can authenticate using ccapi, you must first register an application of the appropriate type on [Cell Collective](https://cellcollective.org). If you do not require a user context, it is read only.*"
   ]
  },
  {
   "cell_type": "code",
   "execution_count": 4,
   "metadata": {},
   "outputs": [],
   "source": [
    "client.auth(email = \"test@cellcollective.org\", password = \"test\")"
   ]
  },
  {
   "cell_type": "markdown",
   "execution_count": null,
   "metadata": {},
   "outputs": [],
   "source": [
    "To load a test model, type:"
   ]
  },
  {
   "cell_type": "code",
   "execution_count": 5,
   "metadata": {},
   "outputs": [],
   "source": [
    "model = ccapi.load_model(\"fibroblasts\")\n",
    "# model.save()"
   ]
  },
  {
   "cell_type": "markdown",
   "metadata": {},
   "source": [
    "A `ccapi.Model` consists of various `ccapi.ModelVersion` objects that help you build various versions to a model."
   ]
  },
  {
   "cell_type": "code",
   "execution_count": 7,
   "metadata": {},
   "outputs": [
    {
     "data": {
      "text/html": "\n            <table>\n                <thead>\n                    <tr>\n                        <th>ID</th><th>Name</th>\n                    </tr>\n                </thead>\n                <tbody>\n                    <tr><td>-29011</td><td></td></tr>\n                </tbody>\n            </table>\n        ",
      "text/plain": "[<BooleanModel -29011 at 0x07f7c1cd392e8>]"
     },
     "execution_count": 7,
     "metadata": {},
     "output_type": "execute_result"
    }
   ],
   "source": [
    "model.versions"
   ]
  },
  {
   "cell_type": "code",
   "execution_count": 8,
   "metadata": {},
   "outputs": [
    {
     "data": {
      "text/html": "<table>\n    <tr>\n        <td>\n            <strong>\n                ID\n            </strong>\n        </td>\n        <td>\n            -29011\n        </td>\n    </tr>\n    <tr>\n        <td>\n            <strong>\n                Version\n            </strong>\n        </td>\n        <td>\n            1\n        </td>\n    </tr>\n    <tr>\n        <td>\n            <strong>\n                Name\n            </strong>\n        </td>\n        <td>\n            \n        </td>\n    </tr>\n    <tr>\n        <td>\n            <strong>\n                Memory Address\n            </strong>\n        </td>\n        <td>\n            0x07f7c1cd392e8\n        </td>\n    </tr>\n    <tr>\n        <td>\n            <strong>\n                Number of Components\n            </strong>\n        </td>\n        <td>\n            321\n        </td>\n    </tr>\n    <tr>\n        <td>\n            <strong>\n                Components\n            </strong>\n        </td>\n        <td>\n            IPARP, TRAF1gene, Viral_Bacterial_CpG, NFKB2p52_NFKB2p52nucleus, PMAIPgene, CASP7nucleus, DFFA, IRF3_IRF5cytoplasm, BCL2A1, SOCS3, RELB, SOCS1, FADD, TNFRSF17, RELA_p65, Virus, TLR9_MYD88_TRAF6_IRF5, EP300, CASP7cytoplasm, TNF_TNFRSF1B, RIPK3, TNF_TNFRSF1A, BCL2_BAX, TNF_TNFRSF1B_TRAF2, IRF5_IRF7cytoplasm, DIABLOmitochondria, BAG4_TNFRSF1A, RIPK1gene, IFIT1gene, TNFSF13B_TNFRSF17_TRAF5, DIABLOcytoplasm, TLR9_MYD88_IRAK1_IRAK4_TRAF6, SP100gene, TNFSF10gene, TLR3_TICAM1_TICAM2_RIPK1_RIPK3, Fragmented_DNAcytoplasm, ATF2, IL12Bgene, IRAK4, IL1Bgene, CHUK_CHUK, IFNB1gene, BIRC3gene, CYCScytoplasm, TLR7_MYD88_IRAK1_IRAK4, TLR1_TLR2, FASLGgene, PRKRA, TRAF6, TLR5_MYD88_IRAK1_IRAK4, IRF3_IRF7cytoplasm, TRAF5, CFLAR, TRAF3, PTPN2, TNFSF10_TNFSF10B, IRF1_IRF1_Activator, LPS, TLR3_TICAM1_TICAM2_TRAF6, BIRC4cytoplasm, CASP6nucleus, TRADD, TNFSF10, IKBKE, TLR1_TLR2_TIRAP_MYD88_IRAK2_IRAK1_IRAK4, CFLARgene, IKBKB, IKBKG, APAF1_CYCS, CIITAgene, IRF1cytoplasm, IRF2gene, TP53nucleus, Mitochondrial_Activator, TLR1_TLR2_TIRAP_MYD88_IRAK2_IRAK1_IRAK4_TRAF6, PDCD8nucleus, Apoptosome, FASLG, CASP4, IFNGR, OAS1gene, CASP9, IRF3_IRF7nucleus, CASP8, EIF2AK2gene, BCL2L1mitochondria, IFNGR2, CASP1, CHUK, CASP2, IRAK2, IFNGR1, CASP3cytoplasm, IRAK1, CXCL10gene, MDM2gene, IFNAR1, PRKCD, IFNAR2, TYK2, RELA_NFKB1_Activator, TNFSF13B, TLR3_TLR3, APAF1gene, TLR3_TICAM1_TICAM2_RIPK1, IDFFA, CASP3nucleus, IRF3_IRF3cytoplasm, PRKCZ, CCL5gene, Inactive_DNA_Repair, TNF, TLR7_MYD88_IRAK1_IRAK4_TRAF6, TLR5_MYD88_IRAK1_IRAK4_TRAF6, IFNA_IFNA, TAP1gene, BCL3_NFKB2p52_NFKB2p52, IFR5gene, TNFSF10_TNFSF10B_FADD, ISGF3cytoplasm, TNFRSF1B, TNFRSF1A, TLR9_TLR9, FASLG_FAS, NFKB1_p50, CASP6cytoplasm, BCL2L1_BAD, CXCL11gene, IRF3_IRF5nucleus, PTP, IRF7_IRF7nucleus, TRAF2gene, STAT1_STAT2, ICAM1gene, NFKB2p100_RELBcytoplasm, NFKBIA_RELAp65_NFKB1p50, BAD, IRF1_IRF1nucleus, IRF9, Triacyl_Lipopeptides, IRF5, CASP10, BAX, IER3gene, IRF8, IRF7, IRF2, TLR4_TICAM1_TICAM2, CBP, JAK1, IRF3, JAK2, FAF1, IRF4, HTRA2cytoplasm, APAF1, STAT1gene, ILIB_IL1R1_MYD88_IRAK1_IRAK4, HIST2H4gene, HTRA2mitochondria, ProCASP10, TLR7_TLR7, BCL2A1gene, BAK1, MAP3K7, TLR9_MYD88_IRAK1_IRAK4, IFNA, MYD88, Ub, IFNG, TLR2_TLR6, SOD2gene, BAK1gene, IRF7_IRF7cytoplasm, FAS, IRF5_IRF7nucleus, TLR5_TLR5, CD40, Proteasome, BBC3gene, NFKB2p52_RELBcytoplasm, CD40_CD40LG, IFNB1_IFNB1, IFNB1, Fragmented_DNAnucleus, EIF2S1, CD40LG, STAT1_STAT1nucleus_p1, IFNAR, IFNAgene, STAT1_STAT1nucleus_p2, PDCD8mitochondria, CKII, Inactivation_of_Protein_Synthesis, TRAF2cytoplasm, NFKB2p52_NFKB2p52cytoplasm, CD40_CD40LG_TRAF3, cGAS2, MAP3K7IP1, Apoptosis, IL1R1, TNF_IKBKG_Complex, ILIB_IL1R1, NFKBIA, IRF5_IRF5cytoplasm, HSPA1A, ProCASP8, MAP3K7IP2, tBID, ILIB_IL1R1_MYD88_IRAK1_IRAK4_TRAF6, PDCD8_HSPA1A, ProCASP2, ProCASP1, ProCASP4, ProCASP3, ProCASP7, ProCASP6, G1P3gene, CASP3_Activator, Bacteria, ENDOGcytoplasm, CREBBP, NOS2Agene, GAS2, ENDOGnucleus, RELAp65_NFBK1p50nucleus, IRF3_IRF3nucleus, GBP1gene, TLR2_TLR6_TOLLIP_MYD88_IRAK1_IRAK4_TRAF6, NFKB2p100_NFKB2p100_Ub, PSMB9gene, IKBKG_CHUK_IKBKB, DNA, FASLG_FAS_FADD_FAF1_DAXX_CFLAR, TNFSF10_TNFRSF10A_FADD, IL15gene, ILIB, PKA, cLMNA, IFIT2gene, TOLLIP, CASP6_Activator, SPI1, ENDOGmitochondria, NFKB2p52_RELBnucleus, DAXX, PKC, CASP3gene, TLR2_TLR6_TOLLIP_MYD88_IRAK1_IRAK4, TNFRSF10Bgene, PARP, DNA_Fragmentation, BAG4, CYCSmytochondria, TICAM1, CYBBgene, TICAM2, G1P2gene, TNF_TNFRSF1A_FADD_TRADD, TLR3_TICAM1_TICAM2, ssRNA, Diacyl_Lipopeptides, TNF_BAG4_TNFRSF1A, NFKB2p100_RELB_Ub, CASP7_Activator, IRF1_IRF1cytoplasm, TNFRSF10A, Cell_Shrinkage, PDCD8cytoplasm, RIPK1, TNFRSF10B, STAT1_STAT1_IRF9cytoplasm, MAP3K7IP1_MAP3K7IP2_MAP3K7, HLA_Bgene, RELAp65_NFKB1p50cytoplasm, MAP3K14, PRKRAgene, TLR7_MYD88_TRAF6_IRF5, TNFSF10_TNFRSF10A, NFKB2p100_NFKB2p100cytoplasm, BID, TP53cytoplasm, STAT1_STAT1_IRF9nucleus, EIF2AK2_PRKRA, TNF_TNFRSF1A_FADD_TRADD_TRAF2_RIPK1, EIF2AK2cytoplasm, PLSCR1gene, STAT1_STAT1cytoplasm, IRF2_Activator, BCL3, BCL2, TLR9_MYD88_TRAF6, Flagellin, LMNA, NFKB2p100, STAT1, IRF1gene, BIRC2, External_Activator, dsRNA, STAT2, IKBKE_TBK1, RPS6KA5, BIRC4gene, BCL2L1gene, TLR3_TICAM1_TICAM2_TBK1, FASLG_FAS_FADD_FAF1_DAXX, TNFSF13B_TNFRSF17, CXCL9gene, ISGF3nucleus, IRF5_IRF5nucleus, TIRAP, TBK1, TLR3, TLR2, FASgene, TLR4, TLR6, TLR5, TLR9, TLR7\n        </td>\n    </tr>\n</table>",
      "text/plain": "<BooleanModel -29011 at 0x07f7c1cd392e8>"
     },
     "execution_count": 8,
     "metadata": {},
     "output_type": "execute_result"
    }
   ],
   "source": [
    "# get the default model version\n",
    "boolean = model.versions[0]\n",
    "boolean"
   ]
  },
  {
   "cell_type": "markdown",
   "metadata": {},
   "source": [
    "#### Components"
   ]
  },
  {
   "cell_type": "markdown",
   "metadata": {},
   "source": [
    "#### Internal Components"
   ]
  },
  {
   "cell_type": "code",
   "execution_count": 9,
   "metadata": {},
   "outputs": [
    {
     "data": {
      "text/html": "\n            <table>\n                <thead>\n                    <tr>\n                        <th>ID</th><th>Name</th><th>Number of Positive Regulators</th><th>Number of Negative Regulators</th>\n                    </tr>\n                </thead>\n                <tbody>\n                    <tr><td>77825</td><td>IPARP</td><td>0</td><td>0</td></tr><tr><td>77824</td><td>TRAF1gene</td><td>0</td><td>0</td></tr><tr><td>77827</td><td>Viral_Bacterial_CpG</td><td>0</td><td>0</td></tr><tr><td>77826</td><td>NFKB2p52_NFKB2p52nucleus</td><td>0</td><td>0</td></tr><tr><td>77829</td><td>PMAIPgene</td><td>0</td><td>0</td></tr><tr><td>77828</td><td>CASP7nucleus</td><td>0</td><td>0</td></tr><tr><td>77831</td><td>DFFA</td><td>0</td><td>0</td></tr><tr><td>...</td><td>...</td><td>...</td><td>...</td></tr><tr><td>77819</td><td>FASgene</td><td>0</td><td>0</td></tr><tr><td>77818</td><td>TLR4</td><td>0</td><td>0</td></tr><tr><td>77821</td><td>TLR6</td><td>0</td><td>0</td></tr><tr><td>77820</td><td>TLR5</td><td>0</td><td>0</td></tr><tr><td>77823</td><td>TLR9</td><td>0</td><td>0</td></tr><tr><td>77822</td><td>TLR7</td><td>0</td><td>0</td></tr>\n                </tbody>\n            </table>\n        ",
      "text/plain": "f7c1cd395c0 name='IPARP'>,\n <InternalComponent 77824 at 0x07f7c1cd39320 name='TRAF1gene'>,\n <InternalComponent 77827 at 0x07f7c1cd39400 name='Viral_Bacterial_CpG'>,\n <InternalComponent 77826 at 0x07f7c1cd39470 name='NFKB2p52_NFKB2p52nucleus'>,\n <InternalComponent 77829 at 0x07f7c1cd39208 name='PMAIPgene'>,\n <InternalComponent 77828 at 0x07f7c1cd393c8 name='CASP7nucleus'>,\n <InternalComponent 77831 at 0x07f7c1cd39518 name='DFFA'>,\n <InternalComponent 77830 at 0x07f7c1cd39048 name='IRF3_IRF5cytoplasm'>,\n <InternalComponent 77833 at 0x07f7c1cd39630 name='BCL2A1'>,\n <InternalComponent 77832 at 0x07f7c1cd39240 name='SOCS3'>,\n <InternalComponent 77835 at 0x07f7c1cd39588 name='RELB'>,\n <InternalComponent 77834 at 0x07f7c1cd395f8 name='SOCS1'>,\n <InternalComponent 77837 at 0x07f7c1cd390f0 name='FADD'>,\n <InternalComponent 77836 at 0x07f7c1cd391d0 name='TNFRSF17'>,\n <InternalComponent 77839 at 0x07f7c1cac4518 name='RELA_p65'>,\n <InternalComponent 77841 at 0x07f7c1cac4550 name='TLR9_MYD88_TRAF6_IRF5'>,\n <InternalComponent 77840 at 0x07f7c1cac45f8 name='EP300'>,\n <InternalComponent 77843 at 0x07f7c1cac4588 name='CASP7cytoplasm'>,\n <InternalComponent 77842 at 0x07f7c1cac4748 name='TNF_TNFRSF1B'>,\n <InternalComponent 77845 at 0x07f7c1cac45c0 name='RIPK3'>,\n <InternalComponent 77844 at 0x07f7c1cac44e0 name='TNF_TNFRSF1A'>,\n <InternalComponent 77847 at 0x07f7c1cac46d8 name='BCL2_BAX'>,\n <InternalComponent 77846 at 0x07f7c1cac46a0 name='TNF_TNFRSF1B_TRAF2'>,\n <InternalComponent 77849 at 0x07f7c1cac4630 name='IRF5_IRF7cytoplasm'>,\n <InternalComponent 77848 at 0x07f7c1cac44a8 name='DIABLOmitochondria'>,\n <InternalComponent 77851 at 0x07f7c1cac4780 name='BAG4_TNFRSF1A'>,\n <InternalComponent 77850 at 0x07f7c1cd24dd8 name='RIPK1gene'>,\n <InternalComponent 77853 at 0x07f7c1cd24f28 name='IFIT1gene'>,\n <InternalComponent 77852 at 0x07f7c1cd24e80 name='TNFSF13B_TNFRSF17_TRAF5'>,\n <InternalComponent 77855 at 0x07f7c1cd24fd0 name='DIABLOcytoplasm'>,\n <InternalComponent 77854 at 0x07f7c1c92bc88 name='TLR9_MYD88_IRAK1_IRAK4_TRAF6'>,\n <InternalComponent 77857 at 0x07f7c1c92bc50 name='SP100gene'>,\n <InternalComponent 77856 at 0x07f7c1c92bc18 name='TNFSF10gene'>,\n <InternalComponent 77859 at 0x07f7c1c92bbe0 name='TLR3_TICAM1_TICAM2_RIPK1_RIPK3'>,\n <InternalComponent 77858 at 0x07f7c1c92bba8 name='Fragmented_DNAcytoplasm'>,\n <InternalComponent 77861 at 0x07f7c1c92b5f8 name='ATF2'>,\n <InternalComponent 77860 at 0x07f7c1c92b320 name='IL12Bgene'>,\n <InternalComponent 77863 at 0x07f7c1c92bb70 name='IRAK4'>,\n <InternalComponent 77862 at 0x07f7c1c92bb38 name='IL1Bgene'>,\n <InternalComponent 77865 at 0x07f7c1c92b748 name='CHUK_CHUK'>,\n <InternalComponent 77864 at 0x07f7c1c92bb00 name='IFNB1gene'>,\n <InternalComponent 77867 at 0x07f7c1c92b518 name='BIRC3gene'>,\n <InternalComponent 77866 at 0x07f7c1c92b358 name='CYCScytoplasm'>,\n <InternalComponent 77869 at 0x07f7c1c92be10 name='TLR7_MYD88_IRAK1_IRAK4'>,\n <InternalComponent 77868 at 0x07f7c1c92bfd0 name='TLR1_TLR2'>,\n <InternalComponent 77871 at 0x07f7c1c92bf98 name='FASLGgene'>,\n <InternalComponent 77870 at 0x07f7c1c92bf60 name='PRKRA'>,\n <InternalComponent 77873 at 0x07f7c1c92bef0 name='TRAF6'>,\n <InternalComponent 77872 at 0x07f7c1c92beb8 name='TLR5_MYD88_IRAK1_IRAK4'>,\n <InternalComponent 77875 at 0x07f7c1c92bf28 name='IRF3_IRF7cytoplasm'>,\n <InternalComponent 77874 at 0x07f7c1c92be80 name='TRAF5'>,\n <InternalComponent 77877 at 0x07f7c1c92bda0 name='CFLAR'>,\n <InternalComponent 77876 at 0x07f7c1c92bd68 name='TRAF3'>,\n <InternalComponent 77879 at 0x07f7c1c92be48 name='PTPN2'>,\n <InternalComponent 77878 at 0x07f7c1c92bdd8 name='TNFSF10_TNFSF10B'>,\n <InternalComponent 77880 at 0x07f7c1c92b4a8 name='LPS'>,\n <InternalComponent 77883 at 0x07f7c1c92b470 name='TLR3_TICAM1_TICAM2_TRAF6'>,\n <InternalComponent 77882 at 0x07f7c1c92b438 name='BIRC4cytoplasm'>,\n <InternalComponent 77885 at 0x07f7c1c92b400 name='CASP6nucleus'>,\n <InternalComponent 77884 at 0x07f7c1c92b5c0 name='TRADD'>,\n <InternalComponent 77886 at 0x07f7c1c92b7b8 name='IKBKE'>,\n <InternalComponent 77889 at 0x07f7c1c92b780 name='TLR1_TLR2_TIRAP_MYD88_IRAK2_IRAK1...'>,\n <InternalComponent 77888 at 0x07f7c1c92bac8 name='CFLARgene'>,\n <InternalComponent 77891 at 0x07f7c1c92b630 name='IKBKB'>,\n <InternalComponent 77890 at 0x07f7c1c92ba90 name='IKBKG'>,\n <InternalComponent 77893 at 0x07f7c1c92b390 name='APAF1_CYCS'>,\n <InternalComponent 77892 at 0x07f7c1c92b710 name='CIITAgene'>,\n <InternalComponent 77895 at 0x07f7c1c92b6d8 name='IRF1cytoplasm'>,\n <InternalComponent 77894 at 0x07f7c1c92bcf8 name='IRF2gene'>,\n <InternalComponent 77897 at 0x07f7c1c92b6a0 name='TP53nucleus'>,\n <InternalComponent 77899 at 0x07f7c1c92ba58 name='TLR1_TLR2_TIRAP_MYD88_IRAK2_IRAK1...'>,\n <InternalComponent 77898 at 0x07f7c1c92ba20 name='PDCD8nucleus'>,\n <InternalComponent 77901 at 0x07f7c1c92b7f0 name='Apoptosome'>,\n <InternalComponent 77903 at 0x07f7c1c92bcc0 name='CASP4'>,\n <InternalComponent 77902 at 0x07f7c1c93f0b8 name='IFNGR'>,\n <InternalComponent 77905 at 0x07f7c1c93f0f0 name='OAS1gene'>,\n <InternalComponent 77904 at 0x07f7c1c93f128 name='CASP9'>,\n <InternalComponent 77907 at 0x07f7c1c93f160 name='IRF3_IRF7nucleus'>,\n <InternalComponent 77906 at 0x07f7c1c93f198 name='CASP8'>,\n <InternalComponent 77909 at 0x07f7c1c93f1d0 name='EIF2AK2gene'>,\n <InternalComponent 77908 at 0x07f7c1c93f208 name='BCL2L1mitochondria'>,\n <InternalComponent 77911 at 0x07f7c1c93f240 name='IFNGR2'>,\n <InternalComponent 77910 at 0x07f7c1c93f278 name='CASP1'>,\n <InternalComponent 77913 at 0x07f7c1c93f2b0 name='CHUK'>,\n <InternalComponent 77912 at 0x07f7c1c93f2e8 name='CASP2'>,\n <InternalComponent 77915 at 0x07f7c1c93f320 name='IRAK2'>,\n <InternalComponent 77914 at 0x07f7c1c93f358 name='IFNGR1'>,\n <InternalComponent 77917 at 0x07f7c1c93f390 name='CASP3cytoplasm'>,\n <InternalComponent 77916 at 0x07f7c1c93f3c8 name='IRAK1'>,\n <InternalComponent 77919 at 0x07f7c1c93f400 name='CXCL10gene'>,\n <InternalComponent 77918 at 0x07f7c1c93f438 name='MDM2gene'>,\n <InternalComponent 77921 at 0x07f7c1c93f470 name='IFNAR1'>,\n <InternalComponent 77920 at 0x07f7c1c93f4a8 name='PRKCD'>,\n <InternalComponent 77923 at 0x07f7c1c93f4e0 name='IFNAR2'>,\n <InternalComponent 77922 at 0x07f7c1c93f518 name='TYK2'>,\n <InternalComponent 77927 at 0x07f7c1c93f5c0 name='TLR3_TLR3'>,\n <InternalComponent 77926 at 0x07f7c1c93f5f8 name='APAF1gene'>,\n <InternalComponent 77929 at 0x07f7c1c93f630 name='TLR3_TICAM1_TICAM2_RIPK1'>,\n <InternalComponent 77928 at 0x07f7c1c93f668 name='IDFFA'>,\n <InternalComponent 77931 at 0x07f7c1c93f6a0 name='CASP3nucleus'>,\n <InternalComponent 77930 at 0x07f7c1c93f6d8 name='IRF3_IRF3cytoplasm'>,\n <InternalComponent 77933 at 0x07f7c1c93f710 name='PRKCZ'>,\n <InternalComponent 77932 at 0x07f7c1c93f748 name='CCL5gene'>,\n <InternalComponent 77935 at 0x07f7c1c93f780 name='Inactive_DNA_Repair'>,\n <InternalComponent 77937 at 0x07f7c1c93f7f0 name='TLR7_MYD88_IRAK1_IRAK4_TRAF6'>,\n <InternalComponent 77936 at 0x07f7c1c93f828 name='TLR5_MYD88_IRAK1_IRAK4_TRAF6'>,\n <InternalComponent 77939 at 0x07f7c1c93f860 name='IFNA_IFNA'>,\n <InternalComponent 77938 at 0x07f7c1c93f898 name='TAP1gene'>,\n <InternalComponent 77941 at 0x07f7c1c93f8d0 name='BCL3_NFKB2p52_NFKB2p52'>,\n <InternalComponent 77940 at 0x07f7c1c93f908 name='IFR5gene'>,\n <InternalComponent 77943 at 0x07f7c1c93f940 name='TNFSF10_TNFSF10B_FADD'>,\n <InternalComponent 77942 at 0x07f7c1c93f978 name='ISGF3cytoplasm'>,\n <InternalComponent 77945 at 0x07f7c1c93f9b0 name='TNFRSF1B'>,\n <InternalComponent 77944 at 0x07f7c1c93f9e8 name='TNFRSF1A'>,\n <InternalComponent 77947 at 0x07f7c1c93fa20 name='TLR9_TLR9'>,\n <InternalComponent 77946 at 0x07f7c1c93fa58 name='FASLG_FAS'>,\n <InternalComponent 77949 at 0x07f7c1c93fa90 name='NFKB1_p50'>,\n <InternalComponent 77948 at 0x07f7c1c93fac8 name='CASP6cytoplasm'>,\n <InternalComponent 77951 at 0x07f7c1c93fb00 name='BCL2L1_BAD'>,\n <InternalComponent 77950 at 0x07f7c1c93fb38 name='CXCL11gene'>,\n <InternalComponent 77953 at 0x07f7c1c93fb70 name='IRF3_IRF5nucleus'>,\n <InternalComponent 77952 at 0x07f7c1c93fba8 name='PTP'>,\n <InternalComponent 77955 at 0x07f7c1c93fbe0 name='IRF7_IRF7nucleus'>,\n <InternalComponent 77954 at 0x07f7c1c93fc18 name='TRAF2gene'>,\n <InternalComponent 77957 at 0x07f7c1c93fc50 name='STAT1_STAT2'>,\n <InternalComponent 77956 at 0x07f7c1c93fc88 name='ICAM1gene'>,\n <InternalComponent 77959 at 0x07f7c1c93fcc0 name='NFKB2p100_RELBcytoplasm'>,\n <InternalComponent 77958 at 0x07f7c1c93fcf8 name='NFKBIA_RELAp65_NFKB1p50'>,\n <InternalComponent 77961 at 0x07f7c1c93fd30 name='BAD'>,\n <InternalComponent 77960 at 0x07f7c1c93fd68 name='IRF1_IRF1nucleus'>,\n <InternalComponent 77963 at 0x07f7c1c93fda0 name='IRF9'>,\n <InternalComponent 77962 at 0x07f7c1c93fdd8 name='Triacyl_Lipopeptides'>,\n <InternalComponent 77965 at 0x07f7c1c93fe10 name='IRF5'>,\n <InternalComponent 77964 at 0x07f7c1c93fe48 name='CASP10'>,\n <InternalComponent 77967 at 0x07f7c1c93fe80 name='BAX'>,\n <InternalComponent 77966 at 0x07f7c1c93f048 name='IER3gene'>,\n <InternalComponent 77969 at 0x07f7c1c93feb8 name='IRF8'>,\n <InternalComponent 77968 at 0x07f7c1c93fef0 name='IRF7'>,\n <InternalComponent 77971 at 0x07f7c1c93ff28 name='IRF2'>,\n <InternalComponent 77970 at 0x07f7c1c93ff60 name='TLR4_TICAM1_TICAM2'>,\n <InternalComponent 77973 at 0x07f7c1c93ff98 name='CBP'>,\n <InternalComponent 77972 at 0x07f7c1c93ffd0 name='JAK1'>,\n <InternalComponent 77975 at 0x07f7c1c93f080 name='IRF3'>,\n <InternalComponent 77974 at 0x07f7c1c94c048 name='JAK2'>,\n <InternalComponent 77977 at 0x07f7c1c94c0b8 name='FAF1'>,\n <InternalComponent 77976 at 0x07f7c1c94c0f0 name='IRF4'>,\n <InternalComponent 77979 at 0x07f7c1c94c128 name='HTRA2cytoplasm'>,\n <InternalComponent 77978 at 0x07f7c1c94c160 name='APAF1'>,\n <InternalComponent 77980 at 0x07f7c1c94c1d0 name='STAT1gene'>,\n <InternalComponent 77661 at 0x07f7c1c94c208 name='ILIB_IL1R1_MYD88_IRAK1_IRAK4'>,\n <InternalComponent 77660 at 0x07f7c1c94c240 name='HIST2H4gene'>,\n <InternalComponent 77663 at 0x07f7c1c94c278 name='HTRA2mitochondria'>,\n <InternalComponent 77662 at 0x07f7c1c94c2b0 name='ProCASP10'>,\n <InternalComponent 77665 at 0x07f7c1c94c2e8 name='TLR7_TLR7'>,\n <InternalComponent 77664 at 0x07f7c1c94c320 name='BCL2A1gene'>,\n <InternalComponent 77667 at 0x07f7c1c94c358 name='BAK1'>,\n <InternalComponent 77666 at 0x07f7c1c94c390 name='MAP3K7'>,\n <InternalComponent 77669 at 0x07f7c1c94c3c8 name='TLR9_MYD88_IRAK1_IRAK4'>,\n <InternalComponent 77671 at 0x07f7c1c94c438 name='MYD88'>,\n <InternalComponent 77670 at 0x07f7c1c94c470 name='Ub'>,\n <InternalComponent 77672 at 0x07f7c1c94c4e0 name='TLR2_TLR6'>,\n <InternalComponent 77675 at 0x07f7c1c94c518 name='SOD2gene'>,\n <InternalComponent 77674 at 0x07f7c1c94c550 name='BAK1gene'>,\n <InternalComponent 77677 at 0x07f7c1c94c588 name='IRF7_IRF7cytoplasm'>,\n <InternalComponent 77676 at 0x07f7c1c94c5c0 name='FAS'>,\n <InternalComponent 77679 at 0x07f7c1c94c5f8 name='IRF5_IRF7nucleus'>,\n <InternalComponent 77678 at 0x07f7c1c94c630 name='TLR5_TLR5'>,\n <InternalComponent 77681 at 0x07f7c1c94c668 name='CD40'>,\n <InternalComponent 77680 at 0x07f7c1c94c6a0 name='Proteasome'>,\n <InternalComponent 77683 at 0x07f7c1c94c6d8 name='BBC3gene'>,\n <InternalComponent 77682 at 0x07f7c1c94c710 name='NFKB2p52_RELBcytoplasm'>,\n <InternalComponent 77685 at 0x07f7c1c94c748 name='CD40_CD40LG'>,\n <InternalComponent 77684 at 0x07f7c1c94c780 name='IFNB1_IFNB1'>,\n <InternalComponent 77686 at 0x07f7c1c94c7f0 name='Fragmented_DNAnucleus'>,\n <InternalComponent 77689 at 0x07f7c1c94c828 name='EIF2S1'>,\n <InternalComponent 77691 at 0x07f7c1c94c898 name='STAT1_STAT1nucleus_p1'>,\n <InternalComponent 77690 at 0x07f7c1c94c8d0 name='IFNAR'>,\n <InternalComponent 77693 at 0x07f7c1c94c908 name='IFNAgene'>,\n <InternalComponent 77692 at 0x07f7c1c94c940 name='STAT1_STAT1nucleus_p2'>,\n <InternalComponent 77695 at 0x07f7c1c94c978 name='PDCD8mitochondria'>,\n <InternalComponent 77694 at 0x07f7c1c94c9b0 name='CKII'>,\n <InternalComponent 77697 at 0x07f7c1c94c9e8 name='Inactivation_of_Protein_Synthesis'>,\n <InternalComponent 77696 at 0x07f7c1c94ca20 name='TRAF2cytoplasm'>,\n <InternalComponent 77699 at 0x07f7c1c94ca58 name='NFKB2p52_NFKB2p52cytoplasm'>,\n <InternalComponent 77698 at 0x07f7c1c94ca90 name='CD40_CD40LG_TRAF3'>,\n <InternalComponent 77701 at 0x07f7c1c94cac8 name='cGAS2'>,\n <InternalComponent 77700 at 0x07f7c1c94cb00 name='MAP3K7IP1'>,\n <InternalComponent 77703 at 0x07f7c1c94cb38 name='Apoptosis'>,\n <InternalComponent 77702 at 0x07f7c1c94cb70 name='IL1R1'>,\n <InternalComponent 77705 at 0x07f7c1c94cba8 name='TNF_IKBKG_Complex'>,\n <InternalComponent 77704 at 0x07f7c1c94cbe0 name='ILIB_IL1R1'>,\n <InternalComponent 77707 at 0x07f7c1c94cc18 name='NFKBIA'>,\n <InternalComponent 77706 at 0x07f7c1c94cc50 name='IRF5_IRF5cytoplasm'>,\n <InternalComponent 77709 at 0x07f7c1c94cc88 name='HSPA1A'>,\n <InternalComponent 77708 at 0x07f7c1c94ccc0 name='ProCASP8'>,\n <InternalComponent 77711 at 0x07f7c1c94ccf8 name='MAP3K7IP2'>,\n <InternalComponent 77710 at 0x07f7c1c94cd30 name='tBID'>,\n <InternalComponent 77713 at 0x07f7c1c94cd68 name='ILIB_IL1R1_MYD88_IRAK1_IRAK4_TRAF...'>,\n <InternalComponent 77712 at 0x07f7c1c94cda0 name='PDCD8_HSPA1A'>,\n <InternalComponent 77715 at 0x07f7c1c94cdd8 name='ProCASP2'>,\n <InternalComponent 77714 at 0x07f7c1c94ce10 name='ProCASP1'>,\n <InternalComponent 77717 at 0x07f7c1c94ce48 name='ProCASP4'>,\n <InternalComponent 77716 at 0x07f7c1c94ce80 name='ProCASP3'>,\n <InternalComponent 77719 at 0x07f7c1c94c080 name='ProCASP7'>,\n <InternalComponent 77718 at 0x07f7c1c94ceb8 name='ProCASP6'>,\n <InternalComponent 77721 at 0x07f7c1c94cef0 name='G1P3gene'>,\n <InternalComponent 77722 at 0x07f7c1c94cf98 name='ENDOGcytoplasm'>,\n <InternalComponent 77725 at 0x07f7c1c94cfd0 name='CREBBP'>,\n <InternalComponent 77724 at 0x07f7c1c94c198 name='NOS2Agene'>,\n <InternalComponent 77727 at 0x07f7c1c6230b8 name='GAS2'>,\n <InternalComponent 77726 at 0x07f7c1c6230f0 name='ENDOGnucleus'>,\n <InternalComponent 77729 at 0x07f7c1c623128 name='RELAp65_NFBK1p50nucleus'>,\n <InternalComponent 77728 at 0x07f7c1c623160 name='IRF3_IRF3nucleus'>,\n <InternalComponent 77731 at 0x07f7c1c623198 name='GBP1gene'>,\n <InternalComponent 77730 at 0x07f7c1c6231d0 name='TLR2_TLR6_TOLLIP_MYD88_IRAK1_IRAK...'>,\n <InternalComponent 77733 at 0x07f7c1c623208 name='NFKB2p100_NFKB2p100_Ub'>,\n <InternalComponent 77732 at 0x07f7c1c623240 name='PSMB9gene'>,\n <InternalComponent 77735 at 0x07f7c1c623278 name='IKBKG_CHUK_IKBKB'>,\n <InternalComponent 77734 at 0x07f7c1c6232b0 name='DNA'>,\n <InternalComponent 77737 at 0x07f7c1c6232e8 name='FASLG_FAS_FADD_FAF1_DAXX_CFLAR'>,\n <InternalComponent 77736 at 0x07f7c1c623320 name='TNFSF10_TNFRSF10A_FADD'>,\n <InternalComponent 77739 at 0x07f7c1c623358 name='IL15gene'>,\n <InternalComponent 77741 at 0x07f7c1c6233c8 name='PKA'>,\n <InternalComponent 77740 at 0x07f7c1c623400 name='cLMNA'>,\n <InternalComponent 77743 at 0x07f7c1c623438 name='IFIT2gene'>,\n <InternalComponent 77742 at 0x07f7c1c623470 name='TOLLIP'>,\n <InternalComponent 77744 at 0x07f7c1c6234e0 name='SPI1'>,\n <InternalComponent 77747 at 0x07f7c1c623518 name='ENDOGmitochondria'>,\n <InternalComponent 77746 at 0x07f7c1c623550 name='NFKB2p52_RELBnucleus'>,\n <InternalComponent 77749 at 0x07f7c1c623588 name='DAXX'>,\n <InternalComponent 77748 at 0x07f7c1c6235c0 name='PKC'>,\n <InternalComponent 77751 at 0x07f7c1c6235f8 name='CASP3gene'>,\n <InternalComponent 77750 at 0x07f7c1c623630 name='TLR2_TLR6_TOLLIP_MYD88_IRAK1_IRAK...'>,\n <InternalComponent 77753 at 0x07f7c1c623668 name='TNFRSF10Bgene'>,\n <InternalComponent 77752 at 0x07f7c1c6236a0 name='PARP'>,\n <InternalComponent 77755 at 0x07f7c1c6236d8 name='DNA_Fragmentation'>,\n <InternalComponent 77754 at 0x07f7c1c623710 name='BAG4'>,\n <InternalComponent 77757 at 0x07f7c1c623748 name='CYCSmytochondria'>,\n <InternalComponent 77756 at 0x07f7c1c623780 name='TICAM1'>,\n <InternalComponent 77759 at 0x07f7c1c6237b8 name='CYBBgene'>,\n <InternalComponent 77758 at 0x07f7c1c6237f0 name='TICAM2'>,\n <InternalComponent 77761 at 0x07f7c1c623828 name='G1P2gene'>,\n <InternalComponent 77760 at 0x07f7c1c623860 name='TNF_TNFRSF1A_FADD_TRADD'>,\n <InternalComponent 77763 at 0x07f7c1c623898 name='TLR3_TICAM1_TICAM2'>,\n <InternalComponent 77762 at 0x07f7c1c6238d0 name='ssRNA'>,\n <InternalComponent 77765 at 0x07f7c1c623908 name='Diacyl_Lipopeptides'>,\n <InternalComponent 77764 at 0x07f7c1c623940 name='TNF_BAG4_TNFRSF1A'>,\n <InternalComponent 77767 at 0x07f7c1c623978 name='NFKB2p100_RELB_Ub'>,\n <InternalComponent 77769 at 0x07f7c1c6239e8 name='IRF1_IRF1cytoplasm'>,\n <InternalComponent 77768 at 0x07f7c1c623a20 name='TNFRSF10A'>,\n <InternalComponent 77771 at 0x07f7c1c623a58 name='Cell_Shrinkage'>,\n <InternalComponent 77770 at 0x07f7c1c623a90 name='PDCD8cytoplasm'>,\n <InternalComponent 77773 at 0x07f7c1c623ac8 name='RIPK1'>,\n <InternalComponent 77772 at 0x07f7c1c623b00 name='TNFRSF10B'>,\n <InternalComponent 77775 at 0x07f7c1c623b38 name='STAT1_STAT1_IRF9cytoplasm'>,\n <InternalComponent 77774 at 0x07f7c1c623b70 name='MAP3K7IP1_MAP3K7IP2_MAP3K7'>,\n <InternalComponent 77777 at 0x07f7c1c623ba8 name='HLA_Bgene'>,\n <InternalComponent 77776 at 0x07f7c1c623be0 name='RELAp65_NFKB1p50cytoplasm'>,\n <InternalComponent 77779 at 0x07f7c1c623c18 name='MAP3K14'>,\n <InternalComponent 77778 at 0x07f7c1c623c50 name='PRKRAgene'>,\n <InternalComponent 77781 at 0x07f7c1c623c88 name='TLR7_MYD88_TRAF6_IRF5'>,\n <InternalComponent 77780 at 0x07f7c1c623cc0 name='TNFSF10_TNFRSF10A'>,\n <InternalComponent 77783 at 0x07f7c1c623cf8 name='NFKB2p100_NFKB2p100cytoplasm'>,\n <InternalComponent 77782 at 0x07f7c1c623d30 name='BID'>,\n <InternalComponent 77785 at 0x07f7c1c623d68 name='TP53cytoplasm'>,\n <InternalComponent 77784 at 0x07f7c1c623da0 name='STAT1_STAT1_IRF9nucleus'>,\n <InternalComponent 77787 at 0x07f7c1c623dd8 name='EIF2AK2_PRKRA'>,\n <InternalComponent 77786 at 0x07f7c1c623e10 name='TNF_TNFRSF1A_FADD_TRADD_TRAF2_RIP...'>,\n <InternalComponent 77789 at 0x07f7c1c623e48 name='EIF2AK2cytoplasm'>,\n <InternalComponent 77788 at 0x07f7c1c623e80 name='PLSCR1gene'>,\n <InternalComponent 77791 at 0x07f7c1c623048 name='STAT1_STAT1cytoplasm'>,\n <InternalComponent 77793 at 0x07f7c1c623ef0 name='BCL3'>,\n <InternalComponent 77792 at 0x07f7c1c623f28 name='BCL2'>,\n <InternalComponent 77795 at 0x07f7c1c623f60 name='TLR9_MYD88_TRAF6'>,\n <InternalComponent 77794 at 0x07f7c1c623f98 name='Flagellin'>,\n <InternalComponent 77797 at 0x07f7c1c623fd0 name='LMNA'>,\n <InternalComponent 77796 at 0x07f7c1c623080 name='NFKB2p100'>,\n <InternalComponent 77799 at 0x07f7c1c613fd0 name='STAT1'>,\n <InternalComponent 77798 at 0x07f7c1c613f60 name='IRF1gene'>,\n <InternalComponent 77801 at 0x07f7c1c613f28 name='BIRC2'>,\n <InternalComponent 77803 at 0x07f7c1c613e80 name='dsRNA'>,\n <InternalComponent 77802 at 0x07f7c1c613e48 name='STAT2'>,\n <InternalComponent 77805 at 0x07f7c1c613e10 name='IKBKE_TBK1'>,\n <InternalComponent 77804 at 0x07f7c1c613dd8 name='RPS6KA5'>,\n <InternalComponent 77807 at 0x07f7c1c613da0 name='BIRC4gene'>,\n <InternalComponent 77806 at 0x07f7c1c613d68 name='BCL2L1gene'>,\n <InternalComponent 77809 at 0x07f7c1c613d30 name='TLR3_TICAM1_TICAM2_TBK1'>,\n <InternalComponent 77808 at 0x07f7c1c613cf8 name='FASLG_FAS_FADD_FAF1_DAXX'>,\n <InternalComponent 77811 at 0x07f7c1c613cc0 name='TNFSF13B_TNFRSF17'>,\n <InternalComponent 77810 at 0x07f7c1c613c88 name='CXCL9gene'>,\n <InternalComponent 77813 at 0x07f7c1c613c50 name='ISGF3nucleus'>,\n <InternalComponent 77812 at 0x07f7c1c613c18 name='IRF5_IRF5nucleus'>,\n <InternalComponent 77815 at 0x07f7c1c613be0 name='TIRAP'>,\n <InternalComponent 77814 at 0x07f7c1c613ba8 name='TBK1'>,\n <InternalComponent 77817 at 0x07f7c1c613b70 name='TLR3'>,\n <InternalComponent 77816 at 0x07f7c1c613b38 name='TLR2'>,\n <InternalComponent 77819 at 0x07f7c1c613b00 name='FASgene'>,\n <InternalComponent 77818 at 0x07f7c1c613ac8 name='TLR4'>,\n <InternalComponent 77821 at 0x07f7c1c613a90 name='TLR6'>,\n <InternalComponent 77820 at 0x07f7c1c613a58 name='TLR5'>,\n <InternalComponent 77823 at 0x07f7c1c613a20 name='TLR9'>,\n <InternalComponent 77822 at 0x07f7c1c6139e8 name='TLR7'>]"
     },
     "execution_count": 9,
     "metadata": {},
     "output_type": "execute_result"
    }
   ],
   "source": [
    "boolean.internal_components"
   ]
  },
  {
   "cell_type": "markdown",
   "metadata": {},
   "source": [
    "#### External Components"
   ]
  },
  {
   "cell_type": "code",
   "execution_count": 10,
   "metadata": {},
   "outputs": [
    {
     "ename": "AttributeError",
     "evalue": "QueryList has no attribute or entry regulators",
     "output_type": "error",
     "traceback": [
      "\u001b[0;31m---------------------------------------------------------------------------\u001b[0m",
      "\u001b[0;31mKeyError\u001b[0m                                  Traceback (most recent call last)",
      "\u001b[0;32m/home/achilles/dev/hl/ccapi/src/ccapi/core/querylist.py\u001b[0m in \u001b[0;36m__getattr__\u001b[0;34m(self, attr)\u001b[0m\n\u001b[1;32m    450\u001b[0m         \u001b[0;32mtry\u001b[0m\u001b[0;34m:\u001b[0m\u001b[0;34m\u001b[0m\u001b[0;34m\u001b[0m\u001b[0m\n\u001b[0;32m--> 451\u001b[0;31m             \u001b[0;32mreturn\u001b[0m \u001b[0mQueryList\u001b[0m\u001b[0;34m.\u001b[0m\u001b[0mget_by_id\u001b[0m\u001b[0;34m(\u001b[0m\u001b[0mself\u001b[0m\u001b[0;34m,\u001b[0m \u001b[0mattr\u001b[0m\u001b[0;34m)\u001b[0m\u001b[0;34m\u001b[0m\u001b[0;34m\u001b[0m\u001b[0m\n\u001b[0m\u001b[1;32m    452\u001b[0m         \u001b[0;32mexcept\u001b[0m \u001b[0mKeyError\u001b[0m\u001b[0;34m:\u001b[0m\u001b[0;34m\u001b[0m\u001b[0;34m\u001b[0m\u001b[0m\n",
      "\u001b[0;32m/home/achilles/dev/hl/ccapi/src/ccapi/core/querylist.py\u001b[0m in \u001b[0;36mget_by_id\u001b[0;34m(self, id)\u001b[0m\n\u001b[1;32m     63\u001b[0m         \u001b[0;34m\"\"\"return the element with a matching id\"\"\"\u001b[0m\u001b[0;34m\u001b[0m\u001b[0;34m\u001b[0m\u001b[0m\n\u001b[0;32m---> 64\u001b[0;31m         \u001b[0;32mreturn\u001b[0m \u001b[0mlist\u001b[0m\u001b[0;34m.\u001b[0m\u001b[0m__getitem__\u001b[0m\u001b[0;34m(\u001b[0m\u001b[0mself\u001b[0m\u001b[0;34m,\u001b[0m \u001b[0mself\u001b[0m\u001b[0;34m.\u001b[0m\u001b[0m_dict\u001b[0m\u001b[0;34m[\u001b[0m\u001b[0mid\u001b[0m\u001b[0;34m]\u001b[0m\u001b[0;34m)\u001b[0m\u001b[0;34m\u001b[0m\u001b[0;34m\u001b[0m\u001b[0m\n\u001b[0m\u001b[1;32m     65\u001b[0m \u001b[0;34m\u001b[0m\u001b[0m\n",
      "\u001b[0;31mKeyError\u001b[0m: 'regulators'",
      "\nDuring handling of the above exception, another exception occurred:\n",
      "\u001b[0;31mAttributeError\u001b[0m                            Traceback (most recent call last)",
      "\u001b[0;32m<ipython-input-10-e41b682b0629>\u001b[0m in \u001b[0;36m<module>\u001b[0;34m()\u001b[0m\n\u001b[0;32m----> 1\u001b[0;31m \u001b[0mboolean\u001b[0m\u001b[0;34m.\u001b[0m\u001b[0minternal_components\u001b[0m\u001b[0;34m.\u001b[0m\u001b[0mregulators\u001b[0m\u001b[0;34m\u001b[0m\u001b[0;34m\u001b[0m\u001b[0m\n\u001b[0m",
      "\u001b[0;32m/home/achilles/dev/hl/ccapi/src/ccapi/core/querylist.py\u001b[0m in \u001b[0;36m__getattr__\u001b[0;34m(self, attr)\u001b[0m\n\u001b[1;32m    452\u001b[0m         \u001b[0;32mexcept\u001b[0m \u001b[0mKeyError\u001b[0m\u001b[0;34m:\u001b[0m\u001b[0;34m\u001b[0m\u001b[0;34m\u001b[0m\u001b[0m\n\u001b[1;32m    453\u001b[0m             raise AttributeError(\"QueryList has no attribute or entry %s\" %\n\u001b[0;32m--> 454\u001b[0;31m                                  attr)\n\u001b[0m\u001b[1;32m    455\u001b[0m \u001b[0;34m\u001b[0m\u001b[0m\n\u001b[1;32m    456\u001b[0m     \u001b[0;32mdef\u001b[0m \u001b[0m__dir__\u001b[0m\u001b[0;34m(\u001b[0m\u001b[0mself\u001b[0m\u001b[0;34m)\u001b[0m\u001b[0;34m:\u001b[0m\u001b[0;34m\u001b[0m\u001b[0;34m\u001b[0m\u001b[0m\n",
      "\u001b[0;31mAttributeError\u001b[0m: QueryList has no attribute or entry regulators"
     ]
    }
   ],
   "source": [
    "# boolean.internal_components.regulators"
   ]
  },
  {
   "cell_type": "code",
   "execution_count": null,
   "metadata": {},
   "outputs": [],
   "source": []
  },
  {
   "cell_type": "code",
   "execution_count": 9,
   "metadata": {},
   "outputs": [
    {
     "data": {
      "text/html": [
       "\n",
       "            <table>\n",
       "                <thead>\n",
       "                    <tr>\n",
       "                        <th>ID</th><th>Name</th>\n",
       "                    </tr>\n",
       "                </thead>\n",
       "                <tbody>\n",
       "                    <tr><td>77838</td><td>Virus</td></tr><tr><td>77881</td><td>IRF1_IRF1_Activator</td></tr><tr><td>77887</td><td>TNFSF10</td></tr><tr><td>77896</td><td>Mitochondrial_Activator</td></tr><tr><td>77900</td><td>FASLG</td></tr><tr><td>77925</td><td>RELA_NFKB1_Activator</td></tr><tr><td>77924</td><td>TNFSF13B</td></tr><tr><td>...</td><td>...</td></tr><tr><td>77723</td><td>Bacteria</td></tr><tr><td>77738</td><td>ILIB</td></tr><tr><td>77745</td><td>CASP6_Activator</td></tr><tr><td>77766</td><td>CASP7_Activator</td></tr><tr><td>77790</td><td>IRF2_Activator</td></tr><tr><td>77800</td><td>External_Activator</td></tr>\n",
       "                </tbody>\n",
       "            </table>\n",
       "        "
      ],
      "text/plain": [
       "[<ExternalComponent 77838 at 0x07f70f12fe940 name='Virus'>,\n",
       " <ExternalComponent 77881 at 0x07f70f10d2d68 name='IRF1_IRF1_Activator'>,\n",
       " <ExternalComponent 77887 at 0x07f70f10d2898 name='TNFSF10'>,\n",
       " <ExternalComponent 77896 at 0x07f70f10d2ba8 name='Mitochondrial_Activator'>,\n",
       " <ExternalComponent 77900 at 0x07f70f10d27f0 name='FASLG'>,\n",
       " <ExternalComponent 77925 at 0x07f70f113bd30 name='RELA_NFKB1_Activator'>,\n",
       " <ExternalComponent 77924 at 0x07f70f113beb8 name='TNFSF13B'>,\n",
       " <ExternalComponent 77934 at 0x07f70f10e0128 name='TNF'>,\n",
       " <ExternalComponent 77668 at 0x07f70f10e0d30 name='IFNA'>,\n",
       " <ExternalComponent 77673 at 0x07f70f10e0dd8 name='IFNG'>,\n",
       " <ExternalComponent 77687 at 0x07f70f10d9128 name='IFNB1'>,\n",
       " <ExternalComponent 77688 at 0x07f70f10d91d0 name='CD40LG'>,\n",
       " <ExternalComponent 77720 at 0x07f70f10d98d0 name='CASP3_Activator'>,\n",
       " <ExternalComponent 77723 at 0x07f70f10d9908 name='Bacteria'>,\n",
       " <ExternalComponent 77738 at 0x07f70f10d9cc0 name='ILIB'>,\n",
       " <ExternalComponent 77745 at 0x07f70f10d9dd8 name='CASP6_Activator'>,\n",
       " <ExternalComponent 77766 at 0x07f70f10fd320 name='CASP7_Activator'>,\n",
       " <ExternalComponent 77790 at 0x07f70f10fd860 name='IRF2_Activator'>,\n",
       " <ExternalComponent 77800 at 0x07f70f10fda90 name='External_Activator'>]"
      ]
     },
     "execution_count": 9,
     "metadata": {},
     "output_type": "execute_result"
    }
   ],
   "source": [
    "boolean.external_components"
   ]
  }
 ],
 "metadata": {
  "file_extension": ".py",
  "kernelspec": {
   "display_name": "Python 3",
   "language": "python",
   "name": "python3"
  },
  "language_info": {
   "codemirror_mode": {
    "name": "ipython",
    "version": 3
   },
   "file_extension": ".py",
   "mimetype": "text/x-python",
   "name": "python",
   "nbconvert_exporter": "python",
   "pygments_lexer": "ipython3",
   "version": "3.7.3"
  },
  "mimetype": "text/x-python",
  "name": "python",
  "npconvert_exporter": "python",
  "pygments_lexer": "ipython3",
  "version": 3
 },
 "nbformat": 4,
 "nbformat_minor": 2
}