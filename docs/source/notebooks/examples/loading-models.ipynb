{
 "cells": [
  {
   "cell_type": "markdown",
   "metadata": {},
   "source": [
    "### Loading Models\n",
    "\n",
    "Begin by importing the ccapi module into your workspace."
   ]
  },
  {
   "cell_type": "code",
   "execution_count": 1,
   "metadata": {},
   "outputs": [],
   "source": [
    "import ccapi"
   ]
  },
  {
   "cell_type": "markdown",
   "metadata": {},
   "source": [
    "Now, let’s try creating a client object in order to interact with services provided by [Cell Collective](https://cellcollective.org)."
   ]
  },
  {
   "cell_type": "code",
   "execution_count": 2,
   "metadata": {},
   "outputs": [],
   "source": [
    "client = ccapi.Client()"
   ]
  },
  {
   "cell_type": "markdown",
   "metadata": {},
   "source": [
    "Authenticate your client using a ***password flow type authentication*** scheme.\n",
    "\n",
    "**NOTE**: *Before you can authenticate using ccapi, you must first register an application of the appropriate type on [Cell Collective](https://cellcollective.org). If you do not require a user context, it is read only.*"
   ]
  },
  {
   "cell_type": "code",
   "execution_count": 3,
   "metadata": {},
   "outputs": [],
   "source": [
    "client.auth(email = \"test@cellcollective.org\", password = \"test\")"
   ]
  },
  {
   "cell_type": "markdown",
   "metadata": {},
   "source": [
    "Create a Base Model using ccapi and instantize it with an authenticated client."
   ]
  },
  {
   "cell_type": "markdown",
   "metadata": {},
   "source": [
    "In order to fetch models from **Cell Collective**, simply use the `get` (resource) function from the client object with the resource name as the parameter."
   ]
  },
  {
   "cell_type": "code",
   "execution_count": 4,
   "metadata": {},
   "outputs": [
    {
     "data": {
      "text/plain": [
       "[<Model 2309 at 0x07fcaf9738748 name='EGFR & ErbB Signaling'>,\n",
       " <Model 5128 at 0x07fcb00289320 name='Lac Operon'>,\n",
       " <Model 10248 at 0x07fcaf9738d68 name='Bacteriophages in Cheese Producti...'>,\n",
       " <Model 2314 at 0x07fcaf97387b8 name='IL-6 Signalling'>,\n",
       " <Model 16659 at 0x07fcaf9738eb8 name='Modeling Light Reactions and Dark...'>]"
      ]
     },
     "execution_count": 4,
     "metadata": {},
     "output_type": "execute_result"
    }
   ],
   "source": [
    "models = client.get(\"model\")\n",
    "models"
   ]
  },
  {
   "cell_type": "markdown",
   "metadata": {},
   "source": [
    "#### Querying through Models"
   ]
  },
  {
   "cell_type": "code",
   "execution_count": 5,
   "metadata": {},
   "outputs": [
    {
     "data": {
      "text/html": [
       "<table>\n",
       "    <tr>\n",
       "        <td>\n",
       "            <strong>\n",
       "                ID\n",
       "            </strong>\n",
       "        </td>\n",
       "        <td>\n",
       "            2314\n",
       "        </td>\n",
       "    </tr>\n",
       "    <tr>\n",
       "        <td>\n",
       "            <strong>\n",
       "                Name\n",
       "            </strong>\n",
       "        </td>\n",
       "        <td>\n",
       "            IL-6 Signalling\n",
       "        </td>\n",
       "    </tr>\n",
       "    <tr>\n",
       "        <td>\n",
       "            <strong>\n",
       "                Memory Address\n",
       "            </strong>\n",
       "        </td>\n",
       "        <td>\n",
       "            0x07fcaf97387b8\n",
       "        </td>\n",
       "    </tr>\n",
       "    <tr>\n",
       "        <td>\n",
       "            <strong>\n",
       "                Number of Versions\n",
       "            </strong>\n",
       "        </td>\n",
       "        <td>\n",
       "            1\n",
       "        </td>\n",
       "    </tr>\n",
       "    <tr>\n",
       "        <td>\n",
       "            <strong>\n",
       "                Versions\n",
       "            </strong>\n",
       "        </td>\n",
       "        <td>\n",
       "            [&lt;BooleanModel 2314 at 0x07fcaf9738b38&gt;]\n",
       "        </td>\n",
       "    </tr>\n",
       "</table>"
      ],
      "text/plain": [
       "<Model 2314 at 0x07fcaf97387b8 name='IL-6 Signalling'>"
      ]
     },
     "execution_count": 5,
     "metadata": {},
     "output_type": "execute_result"
    }
   ],
   "source": [
    "model = models.get_by_id(2314)\n",
    "model"
   ]
  },
  {
   "cell_type": "markdown",
   "metadata": {},
   "source": [
    "#### Paginating through Models\n",
    "\n",
    "By default, this will attempt to fetch you a maximum of 5 resources. In order You can paginate as follows:"
   ]
  },
  {
   "cell_type": "code",
   "execution_count": 6,
   "metadata": {},
   "outputs": [],
   "source": [
    "from ccapi.core.querylist import QueryList\n",
    "from ccapi.util.array     import flatten"
   ]
  },
  {
   "cell_type": "code",
   "execution_count": 7,
   "metadata": {
    "scrolled": true
   },
   "outputs": [
    {
     "data": {
      "text/plain": [
       "[<Model 16659 at 0x07fcaf8df5f98 name='Modeling Light Reactions and Dark...'>,\n",
       " <Model 1557 at 0x07fcaf97385c0 name='Signal Transduction in Fibroblast...'>,\n",
       " <Model 6678 at 0x07fcaf8df5710 name='CD4+ T cell Differentiation'>,\n",
       " <Model 2329 at 0x07fcaf8df5b38 name='Apoptosis Network'>,\n",
       " <Model 17433 at 0x07fcaf8df5828 name='Simulating the Behavior of Cellul...'>,\n",
       " <Model 8227 at 0x07fcaf97380b8 name='T-LGL Survival Network 2011 Reduc...'>,\n",
       " <Model 2084 at 0x07fcaf972eeb8 name='Death Receptor Signaling'>,\n",
       " <Model 2341 at 0x07fcaf9738c88 name='Body Segmentation in Drosophila 2...'>,\n",
       " <Model 36647 at 0x07fcaf972e7b8 name='Cell Cycle Regulation - Investiga...'>,\n",
       " <Model 36652 at 0x07fcaf972ee48 name='Cell Cycle Tumorigenesis - Invest...'>,\n",
       " <Model 1582 at 0x07fcaf9738518 name='Signaling in Macrophage Activatio...'>,\n",
       " <Model 7984 at 0x07fcaf972e320 name='MAPK Cancer Cell Fate Network'>,\n",
       " <Model 29742 at 0x07fcaf972ecf8 name='Regulation of Cellular Respiratio...'>,\n",
       " <Model 17416 at 0x07fcaf8dd06a0 name='Exploring the 5 Processes of Cell...'>,\n",
       " <Model 4932 at 0x07fcaf9738550 name='Stomatal Opening Model'>]"
      ]
     },
     "execution_count": 7,
     "metadata": {},
     "output_type": "execute_result"
    }
   ],
   "source": [
    "nmax   = ccapi.config.DEFAULT[\"MAX_API_RESOURCE_FETCH\"] # maximum number of resources that can be fetched.\n",
    "nsize  = 15                                             # maximum number of resources to be fetched.\n",
    "\n",
    "models = QueryList(flatten(map(lambda i: client.get(\"model\", since = (i + 1) * nmax), range(int(nsize / nmax)))))\n",
    "models"
   ]
  },
  {
   "cell_type": "markdown",
   "execution_count": null,
   "metadata": {},
   "outputs": [],
   "source": [
    "#### Searching Models"
   ]
  },
  {
   "cell_type": "code",
   "execution_count": null,
   "metadata": {},
   "outputs": [],
   "source": []
  }
 ],
 "metadata": {
  "kernelspec": {
   "display_name": "Python 3",
   "language": "python",
   "name": "python3"
  },
  "language_info": {
   "codemirror_mode": {
    "name": "ipython",
    "version": 3
   },
   "file_extension": ".py",
   "mimetype": "text/x-python",
   "name": "python",
   "nbconvert_exporter": "python",
   "pygments_lexer": "ipython3",
   "version": "3.7.3"
  }
 },
 "nbformat": 4,
 "nbformat_minor": 2
}