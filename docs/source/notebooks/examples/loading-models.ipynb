{
 "cells": [
  {
   "cell_type": "markdown",
   "metadata": {},
   "source": [
    "### Loading Models\n",
    "\n",
    "Begin by importing the ccapi module into your workspace."
   ]
  },
  {
   "cell_type": "code",
   "execution_count": 1,
   "metadata": {},
   "outputs": [],
   "source": [
    "import ccapi"
   ]
  },
  {
   "cell_type": "markdown",
   "metadata": {},
   "source": [
    "Now, let’s try creating a client object in order to interact with services provided by [Cell Collective](https://cellcollective.org)."
   ]
  },
  {
   "cell_type": "code",
   "execution_count": 2,
   "metadata": {},
   "outputs": [],
   "source": [
    "client = ccapi.Client()"
   ]
  },
  {
   "cell_type": "markdown",
   "metadata": {},
   "source": [
    "Authenticate your client using a ***password flow type authentication*** scheme.\n",
    "\n",
    "**NOTE**: *Before you can authenticate using ccapi, you must first register an application of the appropriate type on [Cell Collective](https://cellcollective.org). If you do not require a user context, it is read only.*"
   ]
  },
  {
   "cell_type": "code",
   "execution_count": 3,
   "metadata": {},
   "outputs": [],
   "source": [
    "client.auth(email = \"test@cellcollective.org\", password = \"test\")"
   ]
  },
  {
   "cell_type": "markdown",
   "metadata": {},
   "source": [
    "Create a Base Model using ccapi and instantize it with an authenticated client."
   ]
  },
  {
   "cell_type": "markdown",
   "metadata": {},
   "source": [
    "In order to fetch models from **Cell Collective**, simply use the `get` (resource) function from the client object with the resource name as the parameter."
   ]
  },
  {
   "cell_type": "code",
   "execution_count": 4,
   "metadata": {},
   "outputs": [
    {
     "data": {
      "text/html": [
       "\n",
       "            <table>\n",
       "                <thead>\n",
       "                    <tr>\n",
       "                        <th>ID</th><th>Name</th><th>Description</th><th>Tags</th><th>Author</th><th>Created</th><th>Updated (Biologic)</th><th>Updated (Knowledge Base)</th>\n",
       "                    </tr>\n",
       "                </thead>\n",
       "                <tbody>\n",
       "                    <tr><td>5128</td><td>Lac Operon</td><td>Our model includes the two main glucose control mecha...</td><td>bistability, lac operon, E. coli</td><td>Veliz-Cuba A and Stingler B.</td><td>2016-11-08 16:38:26</td><td>2016-12-19 21:58:31</td><td>2016-12-06 18:28:14</td></tr><tr><td>10248</td><td>Bacteriophages in Cheese Production - Single Vat 2 (I...</td><td>None</td><td></td><td>Audrey Crowther</td><td>2017-10-13 18:22:29</td><td>2018-11-15 02:20:09</td><td>2017-10-13 18:22:29</td></tr><tr><td>1557</td><td>Signal Transduction in Fibroblasts</td><td>This model represents a set of generic, commonly expr...</td><td>Signal transduction, Epidermal growth factor, EGFR, G...</td><td>None</td><td>2011-06-07 00:53:13</td><td>2016-01-22 13:08:46</td><td>2017-11-29 18:07:57</td></tr><tr><td>6678</td><td>CD4+ T cell Differentiation</td><td>The model includes 38 components and 96 biochemical i...</td><td>T helper cell, differentiation</td><td>None</td><td>2017-02-16 18:52:40</td><td>2018-04-12 21:18:24</td><td>2018-04-12 19:19:55</td></tr><tr><td>17433</td><td>Simulating the Behavior of Cellular Respiration</td><td>The purpose of this learning module is to explore the...</td><td></td><td>None</td><td>2018-09-14 21:16:12</td><td>2018-09-24 14:54:28</td><td>2018-09-14 21:16:12</td></tr>\n",
       "                </tbody>\n",
       "            </table>\n",
       "        "
      ],
      "text/plain": [
       "[<Model 5128 at 0x010e91c250 name='Lac Operon'>,\n",
       " <Model 10248 at 0x0111339d90 name='Bacteriophages in Cheese Producti...'>,\n",
       " <Model 1557 at 0x010e91c990 name='Signal Transduction in Fibroblast...'>,\n",
       " <Model 6678 at 0x0111339710 name='CD4+ T cell Differentiation'>,\n",
       " <Model 17433 at 0x010e91c590 name='Simulating the Behavior of Cellul...'>]"
      ]
     },
     "execution_count": 4,
     "metadata": {},
     "output_type": "execute_result"
    }
   ],
   "source": [
    "models = client.get(\"model\")\n",
    "models"
   ]
  },
  {
   "cell_type": "markdown",
   "metadata": {},
   "source": [
    "#### Paginating through Models\n",
    "\n",
    "By default, a `client.get` attempts to fetch you a maximum of 5 resources. In order You can paginate as follows:"
   ]
  },
  {
   "cell_type": "code",
   "execution_count": 5,
   "metadata": {},
   "outputs": [],
   "source": [
    "from ccapi.core.querylist import QueryList\n",
    "from ccapi.util.array     import flatten"
   ]
  },
  {
   "cell_type": "code",
   "execution_count": 6,
   "metadata": {},
   "outputs": [
    {
     "data": {
      "text/html": [
       "\n",
       "            <table>\n",
       "                <thead>\n",
       "                    <tr>\n",
       "                        <th>ID</th><th>Name</th><th>Description</th><th>Tags</th><th>Author</th><th>Created</th><th>Updated (Biologic)</th><th>Updated (Knowledge Base)</th>\n",
       "                    </tr>\n",
       "                </thead>\n",
       "                <tbody>\n",
       "                    <tr><td>17433</td><td>Simulating the Behavior of Cellular Respiration</td><td>The purpose of this learning module is to explore the...</td><td></td><td>None</td><td>2018-09-14 21:16:12</td><td>2018-09-24 14:54:28</td><td>2018-09-14 21:16:12</td></tr><tr><td>8227</td><td>T-LGL Survival Network 2011 Reduced Network</td><td>The blood cancer T cell large granular lymphocyte (T-...</td><td>T-LGL leukemia, SMAD, discrete dynamic model, nuclear...</td><td>A Saddatpour et. al.</td><td>2017-07-20 16:02:32</td><td>2017-07-20 21:59:45</td><td>2017-07-20 21:56:54</td></tr><tr><td>2084</td><td>Death Receptor Signaling</td><td>Cytokines such as TNF and FASL can trigger death or s...</td><td>death receptor, cell fate</td><td>L Calzone et. al.</td><td>2013-04-15 15:28:57</td><td>2016-01-22 13:08:46</td><td>None</td></tr><tr><td>1582</td><td>Signaling in Macrophage Activation</td><td> BACKGROUND: The complex yet flexible cellular respon...</td><td>Macrophage, signal transduction, interleukins</td><td>S Raza et. al.</td><td>2011-09-06 20:26:55</td><td>2016-01-22 13:08:46</td><td>None</td></tr><tr><td>29742</td><td>Regulation of Cellular Respiration: Investigation 1 G...</td><td>None</td><td></td><td>None</td><td>2018-11-07 22:54:47</td><td>2019-11-04 23:31:49</td><td>2018-11-07 22:54:47</td></tr><tr><td>17416</td><td>Exploring the 5 Processes of Cellular Respiration</td><td>None</td><td></td><td>None</td><td>2018-09-17 17:20:42</td><td>2018-10-09 17:30:55</td><td>2018-09-17 17:20:42</td></tr><tr><td>1607</td><td>Mammalian Cell Cycle</td><td>BACKGROUND: In breast cancer, overexpression of the t...</td><td>Cell Cycle, ErbB receptor</td><td>O Sahin et. al.</td><td>2011-10-19 15:49:22</td><td>2016-01-22 13:08:46</td><td>2018-06-07 16:22:45</td></tr><tr><td>2135</td><td>Yeast Apoptosis</td><td>Programmed cell death (PCD) is an essential cellular ...</td><td>PCD, yeast, Saccharomycese cerevisiae, apoptosis</td><td>L Kazemzadeh et. al.</td><td>2013-06-04 20:10:00</td><td>2018-04-19 03:38:10</td><td>2018-04-15 02:41:35</td></tr><tr><td>11863</td><td>Senescence Associated Secretory Phenotype</td><td>Cells and tissues are exposed to stress from numerous...</td><td>cell cycle, senescence, inflammation, IL-6, IL-8, DNA...</td><td>P Meyer et. al.</td><td>2017-12-11 16:41:38</td><td>2018-04-03 14:33:27</td><td>2018-04-03 14:32:09</td></tr><tr><td>2136</td><td>Cardiac development</td><td>Two types of distinct cardiac progenitor cell populat...</td><td>cardiac cell, first heart field,  second heart field,...</td><td>F Hermann</td><td>2013-06-06 10:52:12</td><td>2017-07-19 19:15:42</td><td>2017-07-19 19:23:23</td></tr><tr><td>4705</td><td>Septation Initiation Network</td><td>The Septation Initiation Network (SIN) controls cytok...</td><td>S. Pombe, fission yeast, Septation Initiation Network</td><td>A Chasapi et. al. </td><td>2016-07-21 23:05:02</td><td>2017-02-06 17:12:49</td><td>2017-02-02 19:53:50</td></tr><tr><td>4706</td><td>Predicting Variabilities in Cardiac Gene</td><td>Gene interactions in cells can be represented by gene...</td><td>Heart Field Development, cardiac gene expression, cel...</td><td>Grieb et. al.</td><td>2016-07-22 02:32:19</td><td>2017-02-13 19:39:00</td><td>2017-02-10 02:27:20</td></tr><tr><td>5731</td><td>Metabolic Interactions in the Gut Microbiome</td><td>We present a novel methodology to construct a Boolean...</td><td>clindamycin,  Clostridium difficile, infection, probi...</td><td>S Steinway et al. </td><td>2016-12-24 03:22:20</td><td>2017-04-10 16:26:34</td><td>2017-04-10 21:11:19</td></tr><tr><td>2663</td><td>Wg Pathway of Drosophila Signalling Pathways</td><td>A limited number of signalling pathways are involved ...</td><td></td><td>A Mbodj et. al.</td><td>2015-01-22 17:06:24</td><td>2016-01-22 13:08:46</td><td>None</td></tr><tr><td>2667</td><td>VEGF Pathway of Drosophila Signaling Pathway</td><td>A limited number of signalling pathways are involved ...</td><td>Drosophila, signal transduction</td><td>A Mbodj et. al.</td><td>2015-01-29 01:13:29</td><td>2016-01-22 13:08:46</td><td>None</td></tr>\n",
       "                </tbody>\n",
       "            </table>\n",
       "        "
      ],
      "text/plain": [
       "[<Model 17433 at 0x010e91c4d0 name='Simulating the Behavior of Cellul...'>,\n",
       " <Model 8227 at 0x010e909990 name='T-LGL Survival Network 2011 Reduc...'>,\n",
       " <Model 2084 at 0x010e91c790 name='Death Receptor Signaling'>,\n",
       " <Model 1582 at 0x011135ae10 name='Signaling in Macrophage Activatio...'>,\n",
       " <Model 29742 at 0x010e938f50 name='Regulation of Cellular Respiratio...'>,\n",
       " <Model 17416 at 0x010e91d550 name='Exploring the 5 Processes of Cell...'>,\n",
       " <Model 1607 at 0x010e9386d0 name='Mammalian Cell Cycle'>,\n",
       " <Model 2135 at 0x010e938f90 name='Yeast Apoptosis'>,\n",
       " <Model 11863 at 0x010e9388d0 name='Senescence Associated Secretory P...'>,\n",
       " <Model 2136 at 0x010e938450 name='Cardiac development'>,\n",
       " <Model 4705 at 0x010e91c150 name='Septation Initiation Network'>,\n",
       " <Model 4706 at 0x010e91cc90 name='Predicting Variabilities in Cardi...'>,\n",
       " <Model 5731 at 0x011135a510 name='Metabolic Interactions in the Gut...'>,\n",
       " <Model 2663 at 0x011135aa90 name='Wg Pathway of Drosophila Signalli...'>,\n",
       " <Model 2667 at 0x011135a8d0 name='VEGF Pathway of Drosophila Signal...'>]"
      ]
     },
     "execution_count": 6,
     "metadata": {},
     "output_type": "execute_result"
    }
   ],
   "source": [
    "nmax   = ccapi.config.DEFAULT[\"MAX_API_RESOURCE_FETCH\"] # maximum number of resources that can be fetched.\n",
    "nsize  = 15                                             # maximum number of resources to be fetched.\n",
    "\n",
    "models = QueryList(flatten(map(lambda i: client.get(\"model\", since = (i + 1) * nmax), range(int(nsize / nmax)))))\n",
    "models"
   ]
  },
  {
   "cell_type": "markdown",
   "execution_count": null,
   "metadata": {},
   "outputs": [],
   "source": [
    "#### Searching Models"
   ]
  },
  {
   "cell_type": "code",
   "execution_count": 7,
   "metadata": {},
   "outputs": [
    {
     "data": {
      "text/html": [
       "\n",
       "            <table>\n",
       "                <thead>\n",
       "                    <tr>\n",
       "                        <th>ID</th><th>Name</th><th>Description</th><th>Tags</th><th>Author</th><th>Created</th><th>Updated (Biologic)</th><th>Updated (Knowledge Base)</th>\n",
       "                    </tr>\n",
       "                </thead>\n",
       "                <tbody>\n",
       "                    <tr><td>2176</td><td>T-LGL Survival Network 2008</td><td>T cell large granular lymphocyte (T-LGL) leukemia fea...</td><td>T-LGL, T cell large granular lymphocyte, Cytotoxic T ...</td><td>R Zhang et. al.</td><td>2013-06-26 16:38:44</td><td>2017-05-15 21:34:31</td><td>None</td></tr><tr><td>3521</td><td>CD4 T cell signaling</td><td>Caveolin-1 (CAV1) is a vital scaffold protein heterog...</td><td></td><td>BD Conroy et. al.</td><td>2013-12-06 02:19:58</td><td>2016-01-22 13:08:46</td><td>None</td></tr><tr><td>2691</td><td>T-Cell Signaling 2006</td><td>Background Structural analysis of cellular interactio...</td><td>T-lymphocyte, T Cell Signaling, receptor,</td><td>S Klamt et. al.</td><td>2015-02-09 18:00:08</td><td>2016-01-22 13:08:46</td><td>None</td></tr><tr><td>2314</td><td>IL-6 Signalling</td><td>The pro-inflammatory cytokines interleukin 1 (IL-1) a...</td><td>IL-6, Interleukin, Inflammatory response</td><td>Ryll A et. al.</td><td>2014-01-11 06:01:02</td><td>2017-05-18 18:46:50</td><td>2017-05-18 19:36:14</td></tr><tr><td>11916</td><td>G2 Checkpoint Regulation and the FA/Breast Cancer Pat...</td><td>This module will explore how the G2 checkpoint is imp...</td><td></td><td>Audrey Crowther</td><td>2017-12-14 17:48:21</td><td>2018-05-07 03:57:35</td><td>2017-12-14 17:48:21</td></tr>\n",
       "                </tbody>\n",
       "            </table>\n",
       "        "
      ],
      "text/plain": [
       "[<Model 2176 at 0x010e925e10 name='T-LGL Survival Network 2008'>,\n",
       " <Model 3521 at 0x01112e3490 name='CD4 T cell signaling'>,\n",
       " <Model 2691 at 0x010e925210 name='T-Cell Signaling 2006'>,\n",
       " <Model 2314 at 0x010e925690 name='IL-6 Signalling'>,\n",
       " <Model 11916 at 0x010e920550 name='G2 Checkpoint Regulation and the ...'>]"
      ]
     },
     "execution_count": 7,
     "metadata": {},
     "output_type": "execute_result"
    }
   ],
   "source": [
    "models = client.search(\"model\", \"T Cell\")\n",
    "models"
   ]
  },
  {
   "cell_type": "markdown",
   "execution_count": null,
   "metadata": {},
   "outputs": [],
   "source": [
    "#### Querying through Models"
   ]
  },
  {
   "cell_type": "code",
   "execution_count": 8,
   "metadata": {},
   "outputs": [
    {
     "data": {
      "text/html": [
       "<table>\n",
       "    <tr>\n",
       "        <td>\n",
       "            <strong>\n",
       "                ID\n",
       "            </strong>\n",
       "        </td>\n",
       "        <td>\n",
       "            2176\n",
       "        </td>\n",
       "    </tr>\n",
       "    <tr>\n",
       "        <td>\n",
       "            <strong>\n",
       "                Name\n",
       "            </strong>\n",
       "        </td>\n",
       "        <td>\n",
       "            T-LGL Survival Network 2008\n",
       "        </td>\n",
       "    </tr>\n",
       "    <tr>\n",
       "        <td>\n",
       "            <strong>\n",
       "                Memory Address\n",
       "            </strong>\n",
       "        </td>\n",
       "        <td>\n",
       "            0x010e925e10\n",
       "        </td>\n",
       "    </tr>\n",
       "    <tr>\n",
       "        <td>\n",
       "            <strong>\n",
       "                Number of Versions\n",
       "            </strong>\n",
       "        </td>\n",
       "        <td>\n",
       "            1\n",
       "        </td>\n",
       "    </tr>\n",
       "    <tr>\n",
       "        <td>\n",
       "            <strong>\n",
       "                Versions\n",
       "            </strong>\n",
       "        </td>\n",
       "        <td>\n",
       "            [&lt;BooleanModel 2176 at 0x010e925f10&gt;]\n",
       "        </td>\n",
       "    </tr>\n",
       "</table>"
      ],
      "text/plain": [
       "<Model 2176 at 0x010e925e10 name='T-LGL Survival Network 2008'>"
      ]
     },
     "execution_count": 8,
     "metadata": {},
     "output_type": "execute_result"
    }
   ],
   "source": [
    "model = models.get_by_id(2176)\n",
    "model"
   ]
  }
 ],
 "metadata": {
  "kernelspec": {
   "display_name": "Python 3",
   "language": "python",
   "name": "python3"
  },
  "language_info": {
   "codemirror_mode": {
    "name": "ipython",
    "version": 3
   },
   "file_extension": ".py",
   "mimetype": "text/x-python",
   "name": "python",
   "nbconvert_exporter": "python",
   "pygments_lexer": "ipython3",
   "version": "3.7.5"
  }
 },
 "nbformat": 4,
 "nbformat_minor": 2
}
