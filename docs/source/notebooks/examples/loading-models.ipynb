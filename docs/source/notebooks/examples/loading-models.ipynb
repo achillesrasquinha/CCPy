{
 "cells": [
  {
   "cell_type": "markdown",
   "metadata": {},
   "source": [
    "### Loading Models"
   ]
  },
  {
   "cell_type": "markdown",
   "metadata": {},
   "source": [
    "In order to fetch models from **Cell Collective**, simply use the `client.get` (resource) function with the resource name as the parameter."
   ]
  },
  {
   "cell_type": "markdown",
   "metadata": {},
   "source": [
    "Begin by importing the ccapi module into your workspace."
   ]
  },
  {
   "cell_type": "code",
   "execution_count": 1,
   "metadata": {},
   "outputs": [],
   "source": [
    "import ccapi"
   ]
  },
  {
   "cell_type": "markdown",
   "metadata": {},
   "source": [
    "Now, let’s try creating a client object in order to interact with services provided by [Cell Collective](https://cellcollective.org)."
   ]
  },
  {
   "cell_type": "code",
   "execution_count": 2,
   "metadata": {},
   "outputs": [],
   "source": [
    "client = ccapi.Client()"
   ]
  },
  {
   "cell_type": "markdown",
   "metadata": {},
   "source": [
    "Authenticate your client using a ***password flow type authentication*** scheme.\n",
    "\n",
    "**NOTE**: *Before you can authenticate using ccapi, you must first register an application of the appropriate type on [Cell Collective](https://cellcollective.org). If you do not require a user context, it is read only.*"
   ]
  },
  {
   "cell_type": "code",
   "execution_count": 3,
   "metadata": {},
   "outputs": [],
   "source": [
    "client.auth(email = \"test@cellcollective.org\", password = \"test\")"
   ]
  },
  {
   "cell_type": "markdown",
   "metadata": {},
   "source": [
    "Create a Base Model using ccapi and instantize it with an authenticated client."
   ]
  },
  {
   "cell_type": "code",
   "execution_count": 4,
   "metadata": {},
   "outputs": [
    {
     "data": {
      "text/html": [
       "\n",
       "                <table>\n",
       "                    <thead>\n",
       "                        <tr>\n",
       "                            <th>ID</th><th>Name</th><th>Description</th><th>Tags</th><th>Author</th><th>Created</th><th>Updated (Biologic)</th><th>Updated (Knowledge Base)</th>\n",
       "                        </tr>\n",
       "                    </thead>\n",
       "                    <tbody>\n",
       "                        <tr><td>2309</td><td>EGFR & ErbB Signaling</td><td>The epidermal growth factor receptor (EGFR) signaling...</td><td>Epidermal growth factor, Mammalian, Rac, Cdc42, EGFR</td><td>R Samaga et. al.</td><td>2013-12-19 18:12:48</td><td>2018-04-15 09:15:58</td><td>2017-07-17 16:50:24</td></tr><tr><td>5128</td><td>Lac Operon</td><td>Our model includes the two main glucose control mecha...</td><td>bistability, lac operon, E. coli</td><td>Veliz-Cuba A and Stingler B.</td><td>2016-11-08 10:38:26</td><td>2016-12-19 15:58:31</td><td>2016-12-06 12:28:14</td></tr><tr><td>10248</td><td>Bacteriophages in Cheese Production - Single Vat 2 (I...</td><td></td><td></td><td>Audrey Crowther</td><td>2017-10-13 13:22:29</td><td>2018-11-14 20:20:09</td><td>2017-10-13 13:22:29</td></tr><tr><td>2314</td><td>IL-6 Signalling</td><td>The pro-inflammatory cytokines interleukin 1 (IL-1) a...</td><td>IL-6, Interleukin, Inflammatory response</td><td>Ryll A et. al.</td><td>2014-01-11 00:01:02</td><td>2017-05-18 13:46:50</td><td>2017-05-18 14:36:14</td></tr><tr><td>16659</td><td>Modeling Light Reactions and Dark Reactions in Photos...</td><td></td><td></td><td></td><td>2018-09-04 10:50:18</td><td>2018-10-18 15:09:36</td><td>2018-09-13 11:41:51</td></tr>\n",
       "                    </tbody>\n",
       "                </table>\n",
       "            "
      ],
      "text/plain": [
       "[<Model 2309 at 0x07f18f6954b70 name='EGFR & ErbB Signaling'>,\n",
       " <Model 5128 at 0x07f18f67c4898 name='Lac Operon'>,\n",
       " <Model 10248 at 0x07f18f67d3128 name='Bacteriophages in Cheese Producti...'>,\n",
       " <Model 2314 at 0x07f18f67d3438 name='IL-6 Signalling'>,\n",
       " <Model 16659 at 0x07f18f6777860 name='Modeling Light Reactions and Dark...'>]"
      ]
     },
     "execution_count": 4,
     "metadata": {},
     "output_type": "execute_result"
    }
   ],
   "source": [
    "models = client.get(\"model\")\n",
    "models"
   ]
  },
  {
   "cell_type": "markdown",
   "metadata": {},
   "source": [
    "#### Paginating through Models\n",
    "\n",
    "By default, a `client.get` attempts to fetch you a maximum of 5 resources. In order to fetch more resources, you can paginate as follows:"
   ]
  },
  {
   "cell_type": "code",
   "execution_count": 5,
   "metadata": {},
   "outputs": [
    {
     "data": {
      "text/html": [
       "\n",
       "                <table>\n",
       "                    <thead>\n",
       "                        <tr>\n",
       "                            <th>ID</th><th>Name</th><th>Description</th><th>Tags</th><th>Author</th><th>Created</th><th>Updated (Biologic)</th><th>Updated (Knowledge Base)</th>\n",
       "                        </tr>\n",
       "                    </thead>\n",
       "                    <tbody>\n",
       "                        <tr><td>1557</td><td>Signal Transduction in Fibroblasts</td><td>This model represents a set of generic, commonly expr...</td><td>Signal transduction, Epidermal growth factor, EGFR, G...</td><td></td><td>2011-06-06 19:53:13</td><td>2016-01-22 07:08:46</td><td>2017-11-29 12:07:57</td></tr><tr><td>6678</td><td>CD4+ T cell Differentiation</td><td>The model includes 38 components and 96 biochemical i...</td><td>T helper cell, differentiation</td><td></td><td>2017-02-16 12:52:40</td><td>2018-04-12 16:18:24</td><td>2018-04-12 14:19:55</td></tr><tr><td>2329</td><td>Apoptosis Network</td><td>To understand the design principles of the molecular ...</td><td>Cell apoptosis, Apoptotic, Programmed cell death, Sig...</td><td>Mai, Z  & Liu, H</td><td>2014-02-01 14:41:22</td><td>2017-10-13 16:16:10</td><td>2017-10-13 16:16:10</td></tr><tr><td>17433</td><td>Simulating the Behavior of Cellular Respiration</td><td>The purpose of this learning module is to explore the...</td><td></td><td></td><td>2018-09-14 16:16:12</td><td>2018-09-24 09:54:28</td><td>2018-09-14 16:16:12</td></tr><tr><td>8227</td><td>T-LGL Survival Network 2011 Reduced Network</td><td>The blood cancer T cell large granular lymphocyte (T-...</td><td>T-LGL leukemia, SMAD, discrete dynamic model, nuclear...</td><td>A Saddatpour et. al.</td><td>2017-07-20 11:02:32</td><td>2017-07-20 16:59:45</td><td>2017-07-20 16:56:54</td></tr><tr><td>2084</td><td>Death Receptor Signaling</td><td>Cytokines such as TNF and FASL can trigger death or s...</td><td>death receptor, cell fate</td><td>L Calzone et. al.</td><td>2013-04-15 10:28:57</td><td>2016-01-22 07:08:46</td><td></td></tr><tr><td>2341</td><td>Body Segmentation in Drosophila 2013</td><td>Drosophila melanogaster, body segmentation</td><td></td><td>M Marques-Pita & LM Rocha</td><td>2014-02-17 13:34:20</td><td>2017-07-19 12:29:55</td><td></td></tr><tr><td>36647</td><td>Cell Cycle Regulation - Investigation 1</td><td>This is a model of a cell and then (if that cell divi...</td><td></td><td></td><td>2019-02-14 09:24:56</td><td>2019-02-18 12:37:31</td><td>2019-02-14 09:24:56</td></tr><tr><td>36652</td><td>Cell Cycle Tumorigenesis - Investigation 2</td><td>This is a model of a cell and then (if that cell divi...</td><td></td><td></td><td>2019-02-14 11:51:42</td><td>2019-02-18 13:46:20</td><td>2019-02-14 11:51:42</td></tr><tr><td>1582</td><td>Signaling in Macrophage Activation</td><td> BACKGROUND: The complex yet flexible cellular respon...</td><td>Macrophage, signal transduction, interleukins</td><td>S Raza et. al.</td><td>2011-09-06 15:26:55</td><td>2016-01-22 07:08:46</td><td></td></tr><tr><td>7984</td><td>MAPK Cancer Cell Fate Network</td><td>The Mitogen-Activated Protein Kinase (MAPK) network c...</td><td>MAPK, cell fate, modeling, cancer, EGFR, FGFR3</td><td>L Grieco et. al.</td><td>2017-04-28 15:06:55</td><td>2017-07-25 20:06:24</td><td>2017-07-25 20:03:56</td></tr><tr><td>29742</td><td>Regulation of Cellular Respiration: Investigation 1 G...</td><td></td><td></td><td></td><td>2018-11-07 16:54:47</td><td>2019-11-04 17:31:49</td><td>2018-11-07 16:54:47</td></tr><tr><td>17416</td><td>Exploring the 5 Processes of Cellular Respiration</td><td></td><td></td><td></td><td>2018-09-17 12:20:42</td><td>2018-10-09 12:30:55</td><td>2018-09-17 12:20:42</td></tr><tr><td>4932</td><td>Stomatal Opening Model</td><td>Analyzing the long-term behaviors (attractors) of dyn...</td><td>Network model, Discrete dynamic model, Biological net...</td><td>Xiao Gan and Réka Albert</td><td>2016-10-01 13:20:49</td><td>2018-03-20 10:10:01</td><td>2018-03-20 10:09:33</td></tr><tr><td>1607</td><td>Mammalian Cell Cycle</td><td>BACKGROUND: In breast cancer, overexpression of the t...</td><td>Cell Cycle, ErbB receptor</td><td>O Sahin et. al.</td><td>2011-10-19 10:49:22</td><td>2016-01-22 07:08:46</td><td>2018-06-07 11:22:45</td></tr>\n",
       "                    </tbody>\n",
       "                </table>\n",
       "            "
      ],
      "text/plain": [
       "[<Model 1557 at 0x07f18f69e1e80 name='Signal Transduction in Fibroblast...'>,\n",
       " <Model 6678 at 0x07f18f5a5fb70 name='CD4+ T cell Differentiation'>,\n",
       " <Model 2329 at 0x07f18f5a799e8 name='Apoptosis Network'>,\n",
       " <Model 17433 at 0x07f18f5a073c8 name='Simulating the Behavior of Cellul...'>,\n",
       " <Model 8227 at 0x07f18f5a2d630 name='T-LGL Survival Network 2011 Reduc...'>,\n",
       " <Model 2084 at 0x07f18f5a392e8 name='Death Receptor Signaling'>,\n",
       " <Model 2341 at 0x07f18f59c3390 name='Body Segmentation in Drosophila 2...'>,\n",
       " <Model 36647 at 0x07f18f59c3e80 name='Cell Cycle Regulation - Investiga...'>,\n",
       " <Model 36652 at 0x07f18f59d1320 name='Cell Cycle Tumorigenesis - Invest...'>,\n",
       " <Model 1582 at 0x07f18f59b0d68 name='Signaling in Macrophage Activatio...'>,\n",
       " <Model 7984 at 0x07f18f58f5ef0 name='MAPK Cancer Cell Fate Network'>,\n",
       " <Model 29742 at 0x07f18f589aa58 name='Regulation of Cellular Respiratio...'>,\n",
       " <Model 17416 at 0x07f18f58a6898 name='Exploring the 5 Processes of Cell...'>,\n",
       " <Model 4932 at 0x07f18f585d860 name='Stomatal Opening Model'>,\n",
       " <Model 1607 at 0x07f18f57cfb70 name='Mammalian Cell Cycle'>]"
      ]
     },
     "execution_count": 5,
     "metadata": {},
     "output_type": "execute_result"
    }
   ],
   "source": [
    "models = client.get(\"model\", since = 6, size = 15)\n",
    "models"
   ]
  },
  {
   "cell_type": "markdown",
   "metadata": {},
   "source": [
    "#### Searching Models\n",
    "\n",
    "Use the `client.search` method with the resource name as the first parameter and the query as the second parameter. For instance, let's search for models with species `Cdc20` within it."
   ]
  },
  {
   "cell_type": "code",
   "execution_count": 6,
   "metadata": {},
   "outputs": [
    {
     "data": {
      "text/html": [
       "\n",
       "                <table>\n",
       "                    <thead>\n",
       "                        <tr>\n",
       "                            <th>ID</th><th>Name</th><th>Description</th><th>Tags</th><th>Author</th><th>Created</th><th>Updated (Biologic)</th><th>Updated (Knowledge Base)</th>\n",
       "                        </tr>\n",
       "                    </thead>\n",
       "                    <tbody>\n",
       "                        <tr><td>2404</td><td>Budding Yeast Cell Cycle</td><td>It has been suggested that irreducible sets of states...</td><td></td><td>RG Todd & T Helikar</td><td>2014-05-30 08:49:37</td><td>2016-01-22 07:08:46</td><td></td></tr><tr><td>2423</td><td>Budding Yeast Cell Cycle 2009</td><td>Abstract The budding yeast Saccharomyces cerevisiae i...</td><td></td><td>DJ Irons</td><td>2014-06-18 11:38:15</td><td>2016-03-29 23:24:54</td><td></td></tr><tr><td>2396</td><td>Mammalian Cell Cycle 2006</td><td>Motivation: To understand the behaviour of complex bi...</td><td>Mammalian, Cell cycle, Regulatory network</td><td>A Fauré et. al.</td><td>2014-05-13 18:38:11</td><td>2017-07-19 12:04:56</td><td>2016-03-29 09:14:55</td></tr>\n",
       "                    </tbody>\n",
       "                </table>\n",
       "            "
      ],
      "text/plain": [
       "[<Model 2404 at 0x07f18f6b63e10 name='Budding Yeast Cell Cycle'>,\n",
       " <Model 2423 at 0x07f18f6c5d8d0 name='Budding Yeast Cell Cycle 2009'>,\n",
       " <Model 2396 at 0x07f18f6c56a58 name='Mammalian Cell Cycle 2006'>]"
      ]
     },
     "execution_count": 6,
     "metadata": {},
     "output_type": "execute_result"
    }
   ],
   "source": [
    "models = client.search(\"model\", \"Cdc20\")\n",
    "models"
   ]
  },
  {
   "cell_type": "markdown",
   "metadata": {},
   "source": [
    "#### Querying through Models"
   ]
  },
  {
   "cell_type": "code",
   "execution_count": 7,
   "metadata": {},
   "outputs": [
    {
     "data": {
      "text/html": [
       "<table>\n",
       "    <tr>\n",
       "        <td>\n",
       "            <strong>\n",
       "                ID\n",
       "            </strong>\n",
       "        </td>\n",
       "        <td>\n",
       "            5128\n",
       "        </td>\n",
       "    </tr>\n",
       "    <tr>\n",
       "        <td>\n",
       "            <strong>\n",
       "                Name\n",
       "            </strong>\n",
       "        </td>\n",
       "        <td>\n",
       "            Lac Operon\n",
       "        </td>\n",
       "    </tr>\n",
       "    <tr>\n",
       "        <td>\n",
       "            <strong>\n",
       "                Memory Address\n",
       "            </strong>\n",
       "        </td>\n",
       "        <td>\n",
       "            0x07f18f5de8940\n",
       "        </td>\n",
       "    </tr>\n",
       "    <tr>\n",
       "        <td>\n",
       "            <strong>\n",
       "                Number of Versions\n",
       "            </strong>\n",
       "        </td>\n",
       "        <td>\n",
       "            1\n",
       "        </td>\n",
       "    </tr>\n",
       "    <tr>\n",
       "        <td>\n",
       "            <strong>\n",
       "                Versions\n",
       "            </strong>\n",
       "        </td>\n",
       "        <td>\n",
       "            [&lt;BooleanModel -22547 at 0x07f18f5de8b00&gt;]\n",
       "        </td>\n",
       "    </tr>\n",
       "</table>"
      ],
      "text/plain": [
       "<Model 5128 at 0x07f18f5de8940 name='Lac Operon'>"
      ]
     },
     "execution_count": 7,
     "metadata": {},
     "output_type": "execute_result"
    }
   ],
   "source": [
    "models = client.get(\"model\")\n",
    "model  = models.get_by_id(5128)\n",
    "model"
   ]
  }
 ],
 "metadata": {
  "kernelspec": {
   "display_name": "Python 3",
   "language": "python",
   "name": "python3"
  },
  "language_info": {
   "codemirror_mode": {
    "name": "ipython",
    "version": 3
   },
   "file_extension": ".py",
   "mimetype": "text/x-python",
   "name": "python",
   "nbconvert_exporter": "python",
   "pygments_lexer": "ipython3",
   "version": "3.6.9"
  }
 },
 "nbformat": 4,
 "nbformat_minor": 2
}