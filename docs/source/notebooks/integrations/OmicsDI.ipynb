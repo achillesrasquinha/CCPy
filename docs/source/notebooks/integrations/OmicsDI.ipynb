{
 "cells": [
  {
   "cell_type": "markdown",
   "metadata": {},
   "source": [
    "### OmicsDI"
   ]
  },
  {
   "cell_type": "markdown",
   "metadata": {},
   "source": [
    "This notebook helps you to generate an `omics.xml` file to integrate Cell Collective with [omics.org](omicsdi.org).\n",
    "\n",
    "Begin by importing the ccapi module into your workspace."
   ]
  },
  {
   "cell_type": "code",
   "execution_count": 1,
   "metadata": {},
   "outputs": [
    {
     "ename": "ModuleNotFoundError",
     "evalue": "No module named 'requests_cache.core'",
     "output_type": "error",
     "traceback": [
      "\u001b[0;31m---------------------------------------------------------------------------\u001b[0m",
      "\u001b[0;31mModuleNotFoundError\u001b[0m                       Traceback (most recent call last)",
      "\u001b[0;32m/var/folders/51/0w_3wxsx13s1kzbm_btb5bbw0000gn/T/ipykernel_94232/3496955858.py\u001b[0m in \u001b[0;36m<module>\u001b[0;34m\u001b[0m\n\u001b[0;32m----> 1\u001b[0;31m \u001b[0;32mimport\u001b[0m \u001b[0mccapi\u001b[0m\u001b[0;34m\u001b[0m\u001b[0;34m\u001b[0m\u001b[0m\n\u001b[0m\u001b[1;32m      2\u001b[0m \u001b[0;32mfrom\u001b[0m   \u001b[0mhtml\u001b[0m     \u001b[0;32mimport\u001b[0m \u001b[0mescape\u001b[0m\u001b[0;34m\u001b[0m\u001b[0;34m\u001b[0m\u001b[0m\n\u001b[1;32m      3\u001b[0m \u001b[0;32mfrom\u001b[0m   \u001b[0mlxml\u001b[0m     \u001b[0;32mimport\u001b[0m \u001b[0metree\u001b[0m\u001b[0;34m\u001b[0m\u001b[0;34m\u001b[0m\u001b[0m\n\u001b[1;32m      4\u001b[0m \u001b[0;32mfrom\u001b[0m   \u001b[0mdatetime\u001b[0m \u001b[0;32mimport\u001b[0m \u001b[0mdatetime\u001b[0m\u001b[0;34m\u001b[0m\u001b[0;34m\u001b[0m\u001b[0m\n\u001b[1;32m      5\u001b[0m \u001b[0;34m\u001b[0m\u001b[0m\n",
      "\u001b[0;32m~/dev/ccapi/src/ccapi/__init__.py\u001b[0m in \u001b[0;36m<module>\u001b[0;34m\u001b[0m\n\u001b[1;32m      8\u001b[0m     \u001b[0m__author__\u001b[0m\u001b[0;34m\u001b[0m\u001b[0;34m\u001b[0m\u001b[0m\n\u001b[1;32m      9\u001b[0m )\n\u001b[0;32m---> 10\u001b[0;31m \u001b[0;32mfrom\u001b[0m \u001b[0mccapi\u001b[0m\u001b[0;34m.\u001b[0m\u001b[0mapi\u001b[0m          \u001b[0;32mimport\u001b[0m \u001b[0mClient\u001b[0m\u001b[0;34m\u001b[0m\u001b[0;34m\u001b[0m\u001b[0m\n\u001b[0m\u001b[1;32m     11\u001b[0m \u001b[0;32mfrom\u001b[0m \u001b[0mccapi\u001b[0m\u001b[0;34m.\u001b[0m\u001b[0mconstant\u001b[0m     \u001b[0;32mimport\u001b[0m \u001b[0mMODELS\u001b[0m\u001b[0;34m\u001b[0m\u001b[0;34m\u001b[0m\u001b[0m\n\u001b[1;32m     12\u001b[0m \u001b[0;32mfrom\u001b[0m \u001b[0mccapi\u001b[0m\u001b[0;34m.\u001b[0m\u001b[0mmodel\u001b[0m        \u001b[0;32mimport\u001b[0m \u001b[0;34m*\u001b[0m\u001b[0;34m\u001b[0m\u001b[0;34m\u001b[0m\u001b[0m\n",
      "\u001b[0;32m~/dev/ccapi/src/ccapi/api/__init__.py\u001b[0m in \u001b[0;36m<module>\u001b[0;34m\u001b[0m\n\u001b[1;32m      1\u001b[0m \u001b[0;31m# imports - module imports\u001b[0m\u001b[0;34m\u001b[0m\u001b[0;34m\u001b[0m\u001b[0;34m\u001b[0m\u001b[0m\n\u001b[0;32m----> 2\u001b[0;31m \u001b[0;32mfrom\u001b[0m \u001b[0mccapi\u001b[0m\u001b[0;34m.\u001b[0m\u001b[0mapi\u001b[0m\u001b[0;34m.\u001b[0m\u001b[0mclient\u001b[0m \u001b[0;32mimport\u001b[0m \u001b[0mClient\u001b[0m\u001b[0;34m\u001b[0m\u001b[0;34m\u001b[0m\u001b[0m\n\u001b[0m",
      "\u001b[0;32m~/dev/ccapi/src/ccapi/api/client.py\u001b[0m in \u001b[0;36m<module>\u001b[0;34m\u001b[0m\n\u001b[1;32m     10\u001b[0m \u001b[0;34m\u001b[0m\u001b[0m\n\u001b[1;32m     11\u001b[0m \u001b[0;32mimport\u001b[0m \u001b[0mrequests\u001b[0m\u001b[0;34m\u001b[0m\u001b[0;34m\u001b[0m\u001b[0m\n\u001b[0;32m---> 12\u001b[0;31m \u001b[0;32mfrom\u001b[0m   \u001b[0mrequests_cache\u001b[0m\u001b[0;34m.\u001b[0m\u001b[0mcore\u001b[0m      \u001b[0;32mimport\u001b[0m \u001b[0mCachedSession\u001b[0m\u001b[0;34m\u001b[0m\u001b[0;34m\u001b[0m\u001b[0m\n\u001b[0m\u001b[1;32m     13\u001b[0m \u001b[0;32mimport\u001b[0m \u001b[0mgrequests\u001b[0m \u001b[0;32mas\u001b[0m \u001b[0mgreq\u001b[0m\u001b[0;34m\u001b[0m\u001b[0;34m\u001b[0m\u001b[0m\n\u001b[1;32m     14\u001b[0m \u001b[0;32mfrom\u001b[0m   \u001b[0mgrequests\u001b[0m                \u001b[0;32mimport\u001b[0m \u001b[0mAsyncRequest\u001b[0m\u001b[0;34m\u001b[0m\u001b[0;34m\u001b[0m\u001b[0m\n",
      "\u001b[0;31mModuleNotFoundError\u001b[0m: No module named 'requests_cache.core'"
     ]
    }
   ],
   "source": [
    "import ccapi\n",
    "from   html     import escape\n",
    "from   lxml     import etree\n",
    "from   datetime import datetime\n",
    "\n",
    "from   IPython.display import FileLink\n",
    "\n",
    "from   bpyutils.limits      import MAX_UNSIGNED_SHORT\n",
    "from   bpyutils.util.string import safe_decode\n",
    "from   bpyutils.util.array  import squash, flatten"
   ]
  },
  {
   "cell_type": "markdown",
   "metadata": {},
   "source": [
    "Now, let’s try creating a client object in order to interact with services provided by [Cell Collective](https://cellcollective.org)."
   ]
  },
  {
   "cell_type": "code",
   "execution_count": 2,
   "metadata": {},
   "outputs": [],
   "source": [
    "client = ccapi.Client(cache_timeout = 24 * 60 * 60)"
   ]
  },
  {
   "cell_type": "code",
   "execution_count": 3,
   "metadata": {},
   "outputs": [
    {
     "data": {
      "text/html": [
       "\n",
       "                <table>\n",
       "                    <thead>\n",
       "                        <tr>\n",
       "                            <th>ID</th><th>Name</th><th>Description</th><th>Tags</th><th>Author</th><th>Created</th><th>Updated (Biologic)</th><th>Updated (Knowledge Base)</th>\n",
       "                        </tr>\n",
       "                    </thead>\n",
       "                    <tbody>\n",
       "                        <tr><td>2309</td><td>EGFR & ErbB Signaling</td><td>The epidermal growth factor receptor (EGFR) signaling...</td><td>Epidermal growth factor, Mammalian, Rac, Cdc42, EGFR</td><td>R Samaga et. al.</td><td>2013-12-19 18:12:48</td><td>2018-04-15 09:15:58</td><td>2017-07-17 16:50:24</td></tr><tr><td>5128</td><td>Lac Operon</td><td>Our model includes the two main glucose control mecha...</td><td>bistability, lac operon, E. coli</td><td>Veliz-Cuba A and Stingler B.</td><td>2016-11-08 10:38:26</td><td>2016-12-19 15:58:31</td><td>2016-12-06 12:28:14</td></tr><tr><td>2314</td><td>IL-6 Signalling</td><td>The pro-inflammatory cytokines interleukin 1 (IL-1) a...</td><td>IL-6, Interleukin, Inflammatory response</td><td>Ryll A et. al.</td><td>2014-01-11 00:01:02</td><td>2017-05-18 13:46:50</td><td>2017-05-18 14:36:14</td></tr><tr><td>1557</td><td>Signal Transduction in Fibroblasts</td><td>This model represents a set of generic, commonly expr...</td><td>Signal transduction, Epidermal growth factor, EGFR, G...</td><td></td><td>2011-06-06 19:53:13</td><td>2016-01-22 07:08:46</td><td>2017-11-29 12:07:57</td></tr><tr><td>6678</td><td>CD4+ T cell Differentiation</td><td>The model includes 38 components and 96 biochemical i...</td><td>T helper cell, differentiation</td><td></td><td>2017-02-16 12:52:40</td><td>2018-04-12 16:18:24</td><td>2018-04-12 14:19:55</td></tr><tr><td>2329</td><td>Apoptosis Network</td><td>To understand the design principles of the molecular ...</td><td>Cell apoptosis, Apoptotic, Programmed cell death, Sig...</td><td>Mai, Z  & Liu, H</td><td>2014-02-01 14:41:22</td><td>2017-10-13 16:16:10</td><td>2017-10-13 16:16:10</td></tr><tr><td>8227</td><td>T-LGL Survival Network 2011 Reduced Network</td><td>The blood cancer T cell large granular lymphocyte (T-...</td><td>T-LGL leukemia, SMAD, discrete dynamic model, nuclear...</td><td>A Saddatpour et. al.</td><td>2017-07-20 11:02:32</td><td>2017-07-20 16:59:45</td><td>2017-07-20 16:56:54</td></tr><tr><td>...</td><td>...</td><td>...</td><td>...</td><td>...</td><td>...</td><td>...</td><td>...</td></tr><tr><td>2035</td><td>Cortical Area Development</td><td>The cerebral cortex is divided into many functionally...</td><td>Cortical Area, Development, Cerebral cortex, anterior...</td><td>CE Giacomantonio</td><td>2013-03-17 12:46:02</td><td>2016-01-22 07:08:46</td><td></td></tr><tr><td>7926</td><td>Iron acquisition and oxidative stress response in asp...</td><td>Aspergillus fumigatus is a ubiquitous airborne fungal...</td><td>Boolean network, Discrete dynamic model, Invasive asp...</td><td>M Brandon et al.</td><td>2017-04-24 10:44:42</td><td>2017-05-19 13:14:25</td><td>2017-05-19 13:14:06</td></tr><tr><td>4601</td><td>Colitis-associated colon cancer</td><td>This model looks at the development of colitis-associ...</td><td>Cancer, Cancer microenvironment, Computational biophy...</td><td>J Lu et. al.</td><td>2016-06-17 10:33:38</td><td>2017-01-30 13:44:46</td><td>2017-01-26 15:08:56</td></tr><tr><td>8186</td><td>Lymphoid and myeloid cell specification and transdiff...</td><td>Blood cells are derived from a common set of hematopo...</td><td>Gene network, Dynamical modeling, Hematopoiesis, Cell...</td><td>S. Collombet et al.</td><td>2017-06-16 14:30:46</td><td>2017-07-25 20:46:31</td><td>2017-07-21 12:45:13</td></tr><tr><td>5884</td><td>Tumour Cell Invasion and Migration</td><td>Understanding the etiology of metastasis is very impo...</td><td>tumour development, metastasis, cell invasionepitheli...</td><td>Cohen et al. </td><td>2017-02-01 12:35:02</td><td>2017-04-20 11:12:04</td><td>2017-04-28 14:44:10</td></tr><tr><td>36604</td><td>Signaling Pathway for Butanol Production in Clostridi...</td><td></td><td></td><td></td><td>2019-03-21 08:45:31</td><td>2019-04-03 08:30:36</td><td>2019-03-21 08:45:31</td></tr>\n",
       "                    </tbody>\n",
       "                </table>\n",
       "            "
      ],
      "text/plain": [
       "[<Model 2309 at 0x0109de3dd0 name='EGFR & ErbB Signaling'>,\n",
       " <Model 5128 at 0x010d6244d0 name='Lac Operon'>,\n",
       " <Model 2314 at 0x010d761f90 name='IL-6 Signalling'>,\n",
       " <Model 1557 at 0x010d76af90 name='Signal Transduction in Fibroblast...'>,\n",
       " <Model 6678 at 0x010d797ed0 name='CD4+ T cell Differentiation'>,\n",
       " <Model 2329 at 0x010d8c7d50 name='Apoptosis Network'>,\n",
       " <Model 8227 at 0x010d8db550 name='T-LGL Survival Network 2011 Reduc...'>,\n",
       " <Model 2084 at 0x010d8ed490 name='Death Receptor Signaling'>,\n",
       " <Model 2341 at 0x010d8f3e50 name='Body Segmentation in Drosophila 2...'>,\n",
       " <Model 1582 at 0x010d8c7d10 name='Signaling in Macrophage Activatio...'>,\n",
       " <Model 7984 at 0x010d908f50 name='MAPK Cancer Cell Fate Network'>,\n",
       " <Model 4932 at 0x010d9dddd0 name='Stomatal Opening Model'>,\n",
       " <Model 1607 at 0x010d9ff990 name='Mammalian Cell Cycle'>,\n",
       " <Model 4942 at 0x010da7c750 name='Pro-inflammatory Tumor Microenvir...'>,\n",
       " <Model 2901 at 0x010da87710 name='T cell differentiation'>,\n",
       " <Model 2135 at 0x010da9d610 name='Yeast Apoptosis'>,\n",
       " <Model 11863 at 0x010daa3bd0 name='Senescence Associated Secretory P...'>,\n",
       " <Model 2136 at 0x010dadd950 name='Cardiac development'>,\n",
       " <Model 2394 at 0x010daff590 name='B cell differentiation'>,\n",
       " <Model 2396 at 0x010db06dd0 name='Mammalian Cell Cycle 2006'>,\n",
       " <Model 4705 at 0x010db18850 name='Septation Initiation Network'>,\n",
       " <Model 4706 at 0x010db20e90 name='Predicting Variabilities in Cardi...'>,\n",
       " <Model 5731 at 0x010db33f50 name='Metabolic Interactions in the Gut...'>,\n",
       " <Model 2404 at 0x010db47750 name='Budding Yeast Cell Cycle'>,\n",
       " <Model 2407 at 0x010db4da10 name='T-LGL Survival Network 2011'>,\n",
       " <Model 2663 at 0x010db63650 name='Wg Pathway of Drosophila Signalli...'>,\n",
       " <Model 2667 at 0x010dbaa350 name='VEGF Pathway of Drosophila Signal...'>,\n",
       " <Model 2668 at 0x010dbae550 name='Toll Pathway of Drosophila Signal...'>,\n",
       " <Model 2669 at 0x010dbae590 name='Processing of Spz Network from th...'>,\n",
       " <Model 8558 at 0x010dbb5290 name='Inflammatory Bowel Disease (IBD) ...'>,\n",
       " <Model 8048 at 0x010dbbdf50 name='Treatment of Castration-Resistant...'>,\n",
       " <Model 2161 at 0x010e41b250 name='Guard Cell Abscisic Acid Signalin...'>,\n",
       " <Model 2423 at 0x010e42a790 name='Budding Yeast Cell Cycle 2009'>,\n",
       " <Model 2681 at 0x010e446b10 name='Cell Cycle Transcription by Coupl...'>,\n",
       " <Model 2171 at 0x010e459a90 name='T Cell Receptor Signaling'>,\n",
       " <Model 2172 at 0x010e461890 name='Cholesterol Regulatory Pathway'>,\n",
       " <Model 2176 at 0x010e4a4650 name='T-LGL Survival Network 2008'>,\n",
       " <Model 2691 at 0x010e4b24d0 name='T-Cell Signaling 2006'>,\n",
       " <Model 2697 at 0x010e4f8310 name='BT474 Breast Cell Line Long-term ...'>,\n",
       " <Model 2698 at 0x010e505750 name='HCC1954 Breast Cell Line Long-ter...'>,\n",
       " <Model 2699 at 0x010e51c410 name='BT474 Breast Cell Line Short-term...'>,\n",
       " <Model 2700 at 0x010e533110 name='HCC1954 Breast Cell Line Short-te...'>,\n",
       " <Model 2701 at 0x010e537f90 name='SKBR3 Breast Cell Line Short-term...'>,\n",
       " <Model 2703 at 0x010e547dd0 name='SKBR3 Breast Cell Line Long-term ...'>,\n",
       " <Model 8080 at 0x010e555890 name='Lymphopoiesis Regulatory Network'>,\n",
       " <Model 3481 at 0x010e570d10 name='Influenza A Virus Replication Cyc...'>,\n",
       " <Model 2202 at 0x010e5b25d0 name='Neurotransmitter Signaling Pathwa...'>,\n",
       " <Model 5025 at 0x010e61c210 name='CD4+ T Cell Differentiation and P...'>,\n",
       " <Model 3491 at 0x010e621210 name='TOL Regulatory Network'>,\n",
       " <Model 3492 at 0x010e62da10 name='Bordetella bronchiseptica'>,\n",
       " <Model 3493 at 0x010e63d590 name='Trichostrongylus retortaeformis'>,\n",
       " <Model 2214 at 0x010e65e410 name='IL-1 Signaling'>,\n",
       " <Model 2215 at 0x010e671890 name='Differentiation of T lymphocytes'>,\n",
       " <Model 4775 at 0x010e6c85d0 name='PC12 Cell Differentiation'>,\n",
       " <Model 4779 at 0x010e6e4890 name='Human Gonadal Sex Determination'>,\n",
       " <Model 4783 at 0x010e705f90 name=' IGVH mutations in chronic lympho...'>,\n",
       " <Model 1969 at 0x010e721a50 name='HGF Signaling in Keratinocytes'>,\n",
       " <Model 2738 at 0x010e75f890 name='HIV-1 interactions with T Cell Si...'>,\n",
       " <Model 3506 at 0x010e785950 name='HH Pathway of Drosophila Signalin...'>,\n",
       " <Model 3509 at 0x010e80eb90 name='B bronchiseptica and T retortaefo...'>,\n",
       " <Model 3510 at 0x010e817d50 name='FGF pathway of Drosophila Signall...'>,\n",
       " <Model 4790 at 0x010e83cbd0 name='Fanconi anemia and checkpoint rec...'>,\n",
       " <Model 3511 at 0x010e845f90 name='Glucose Repression Signaling 2009'>,\n",
       " <Model 3512 at 0x010e85c490 name='Oxidative Stress Pathway'>,\n",
       " <Model 3521 at 0x010e885690 name='CD4 T cell signaling'>,\n",
       " <Model 4837 at 0x010e88cad0 name='Arabidopsis thaliana Cell Cycle'>,\n",
       " <Model 6885 at 0x010e91dbd0 name='Regulation of the L-arabinose ope...'>,\n",
       " <Model 7916 at 0x010e935ed0 name='Aurora Kinase A in Neuroblastoma'>,\n",
       " <Model 1776 at 0x010e93bb10 name='ErbB (1-4) Receptor Signaling'>,\n",
       " <Model 1778 at 0x010e94b450 name='FA BRCA pathway'>,\n",
       " <Model 4850 at 0x010eb3a2d0 name=' Bortezomib Responses in U266 Hum...'>,\n",
       " <Model 2035 at 0x010eb48f90 name='Cortical Area Development'>,\n",
       " <Model 7926 at 0x010eb651d0 name='Iron acquisition and oxidative st...'>,\n",
       " <Model 4601 at 0x010eb65cd0 name='Colitis-associated colon cancer'>,\n",
       " <Model 8186 at 0x010eb73510 name='Lymphoid and myeloid cell specifi...'>,\n",
       " <Model 5884 at 0x010eba04d0 name='Tumour Cell Invasion and Migratio...'>,\n",
       " <Model 36604 at 0x010ebb2f90 name='Signaling Pathway for Butanol Pro...'>]"
      ]
     },
     "execution_count": 3,
     "metadata": {},
     "output_type": "execute_result"
    }
   ],
   "source": [
    "models = client.get(\"model\", size = MAX_UNSIGNED_SHORT, filters = { \"domain\": \"research\" })\n",
    "models"
   ]
  },
  {
   "cell_type": "markdown",
   "metadata": {},
   "source": [
    "### OmicsDI XML Format"
   ]
  },
  {
   "cell_type": "code",
   "execution_count": 4,
   "metadata": {},
   "outputs": [],
   "source": [
    "def format_datetime(datetime):\n",
    "    return datetime.strftime(\"%Y-%m-%d\")\n",
    "\n",
    "def get_updated_date(model):\n",
    "    if model.updated[\"biologic\"] and model.updated[\"knowledge\"]:\n",
    "        return model.updated[\"biologic\"] if model.updated[\"biologic\"] > model.updated[\"knowledge\"] \\\n",
    "            else model.updated[\"knowledge\"]\n",
    "    \n",
    "    return model.updated[\"biologic\"] if model.updated[\"biologic\"] else model.updated[\"knowledge\"]\n",
    "\n",
    "def get_entry(model):\n",
    "    entries = [ ]\n",
    "    \n",
    "    for version in model.versions:\n",
    "        entry = f\"\"\"\\\n",
    "            <entry id=\"{model.id}\">\n",
    "                <name>{escape(model.name)}</name>\n",
    "                <description>{escape(model.description or \"\")}</description>\n",
    "                <dates>\n",
    "                    <date type=\"created\" value=\"{format_datetime(version.created)}\"/>\n",
    "                    <date type=\"last_modified\" value=\"{get_updated_date(model)}\"/>\n",
    "                    <date type=\"submission\" value=\"{get_updated_date(model)}\"/>\n",
    "                    <date type=\"publication\" value=\"\"/>\n",
    "                </dates>\n",
    "                <additional_fields>\n",
    "                    <field name=\"submitter\">{escape(model.user.name or \"\")}</field>\n",
    "                    <field name=\"submitter_email\">{model.user.email or \"\"}</field>\n",
    "                    <field name=\"submitter_affiliation\">{escape(model.user.institution or \"\")}</field>\n",
    "                    <field name=\"repository\">Cell Collective</field>\n",
    "                    <field name=\"ModelFormat\">SBML</field>\n",
    "                    <field name=\"omics_type\">Models</field>\n",
    "                    <field name=\"full_dataset_link\">{escape(model.url)}</field>\n",
    "                    \n",
    "                    <field name=\"version_id\">{version.version}</field>\n",
    "                    <field name=\"version_name\">{escape(version.name or \"\")}</field>\n",
    "                    <field name=\"version_description\">{escape(version.description or \"\")}</field>\n",
    "                    <field name=\"version_url\">{escape(version.url)}</field>\n",
    "                    <field name=\"default_version\">{model.default_version.version}</field>\n",
    "                    <field name=\"model_created\">{model.created}</field>\n",
    "                    <field name=\"model_score\">{model.score}</field>\n",
    "                </additional_fields>\n",
    "            </entry>\\\n",
    "        \"\"\"\n",
    "        \n",
    "        entries.append(entry)\n",
    "        \n",
    "    return entries\n",
    "\n",
    "entries = \"\\n\".join(flatten(map(get_entry, models)))"
   ]
  },
  {
   "cell_type": "code",
   "execution_count": 5,
   "metadata": {},
   "outputs": [],
   "source": [
    "xml = etree.fromstring(f\"\"\"\n",
    "<database>\n",
    "    <name>Cell Collective</name>\n",
    "    <description>Interactive Modelling of Biological Networks</description>\n",
    "    <contact>support@cellcollective.org</contact>\n",
    "    <url>https://cellcollective.org</url>\n",
    "    <release>{client.version}</release>\n",
    "    <release_date></release_date>\n",
    "    <entry_count>{len(models)}</entry_count>\n",
    "    <entries>\n",
    "        {entries}\n",
    "    </entries>\n",
    "</database>\n",
    "\"\"\")"
   ]
  },
  {
   "cell_type": "code",
   "execution_count": 6,
   "metadata": {},
   "outputs": [
    {
     "data": {
      "text/html": [
       "<a href='_data/omics.xml' target='_blank'>_data/omics.xml</a><br>"
      ],
      "text/plain": [
       "/Users/achillesrasquinha/dev/ccapi/docs/source/notebooks/integrations/_data/omics.xml"
      ]
     },
     "execution_count": 6,
     "metadata": {},
     "output_type": "execute_result"
    }
   ],
   "source": [
    "with open(\"_data/omics.xml\", \"w\") as f:\n",
    "    f.write(safe_decode(etree.tostring(xml)))\n",
    "\n",
    "FileLink(\"_data/omics.xml\")"
   ]
  },
  {
   "cell_type": "code",
   "execution_count": null,
   "metadata": {},
   "outputs": [],
   "source": []
  }
 ],
 "metadata": {
  "kernelspec": {
   "display_name": "Python 3 (ipykernel)",
   "language": "python",
   "name": "python3"
  },
  "language_info": {
   "codemirror_mode": {
    "name": "ipython",
    "version": 3
   },
   "file_extension": ".py",
   "mimetype": "text/x-python",
   "name": "python",
   "nbconvert_exporter": "python",
   "pygments_lexer": "ipython3",
   "version": "3.9.5"
  }
 },
 "nbformat": 4,
 "nbformat_minor": 4
}
