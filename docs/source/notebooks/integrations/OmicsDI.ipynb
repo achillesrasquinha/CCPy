{
 "cells": [
  {
   "cell_type": "markdown",
   "metadata": {},
   "source": [
    "### OmicsDI"
   ]
  },
  {
   "cell_type": "markdown",
   "metadata": {},
   "source": [
    "This notebook helps you to generate an `omics.xml` file to integrate Cell Collective with [omics.org](omicsdi.org).\n",
    "\n",
    "Begin by importing the ccapi module into your workspace."
   ]
  },
  {
   "cell_type": "code",
   "execution_count": 1,
   "metadata": {},
   "outputs": [],
   "source": [
    "import ccapi\n",
    "from   html     import escape\n",
    "from   lxml     import etree\n",
    "from   datetime import datetime\n",
    "\n",
    "from   IPython.display import FileLink\n",
    "\n",
    "from   ccapi.limits      import MAX_UNSIGNED_SHORT\n",
    "from   ccapi.util.string import safe_decode\n",
    "from   ccapi.util.array  import squash, flatten"
   ]
  },
  {
   "cell_type": "markdown",
   "metadata": {},
   "source": [
    "Now, let’s try creating a client object in order to interact with services provided by [Cell Collective](https://cellcollective.org)."
   ]
  },
  {
   "cell_type": "code",
   "execution_count": 2,
   "metadata": {},
   "outputs": [],
   "source": [
    "client = ccapi.Client(cache_timeout = 24 * 60 * 60)"
   ]
  },
  {
   "cell_type": "code",
   "execution_count": 3,
   "metadata": {},
   "outputs": [
    {
     "data": {
      "text/html": [
       "\n",
       "                <table>\n",
       "                    <thead>\n",
       "                        <tr>\n",
       "                            <th>ID</th><th>Name</th><th>Description</th><th>Tags</th><th>Author</th><th>Created</th><th>Updated (Biologic)</th><th>Updated (Knowledge Base)</th>\n",
       "                        </tr>\n",
       "                    </thead>\n",
       "                    <tbody>\n",
       "                        <tr><td>2309</td><td>EGFR & ErbB Signaling</td><td>The epidermal growth factor receptor (EGFR) signaling...</td><td>Epidermal growth factor, Mammalian, Rac, Cdc42, EGFR</td><td>R Samaga et. al.</td><td>2013-12-19 18:12:48</td><td>2018-04-15 09:15:58</td><td>2017-07-17 16:50:24</td></tr><tr><td>5128</td><td>Lac Operon</td><td>Our model includes the two main glucose control mecha...</td><td>bistability, lac operon, E. coli</td><td>Veliz-Cuba A and Stingler B.</td><td>2016-11-08 10:38:26</td><td>2016-12-19 15:58:31</td><td>2016-12-06 12:28:14</td></tr><tr><td>2314</td><td>IL-6 Signalling</td><td>The pro-inflammatory cytokines interleukin 1 (IL-1) a...</td><td>IL-6, Interleukin, Inflammatory response</td><td>Ryll A et. al.</td><td>2014-01-11 00:01:02</td><td>2017-05-18 13:46:50</td><td>2017-05-18 14:36:14</td></tr><tr><td>1557</td><td>Signal Transduction in Fibroblasts</td><td>This model represents a set of generic, commonly expr...</td><td>Signal transduction, Epidermal growth factor, EGFR, G...</td><td></td><td>2011-06-06 19:53:13</td><td>2016-01-22 07:08:46</td><td>2017-11-29 12:07:57</td></tr><tr><td>6678</td><td>CD4+ T cell Differentiation</td><td>The model includes 38 components and 96 biochemical i...</td><td>T helper cell, differentiation</td><td></td><td>2017-02-16 12:52:40</td><td>2018-04-12 16:18:24</td><td>2018-04-12 14:19:55</td></tr><tr><td>2329</td><td>Apoptosis Network</td><td>To understand the design principles of the molecular ...</td><td>Cell apoptosis, Apoptotic, Programmed cell death, Sig...</td><td>Mai, Z  & Liu, H</td><td>2014-02-01 14:41:22</td><td>2017-10-13 16:16:10</td><td>2017-10-13 16:16:10</td></tr><tr><td>8227</td><td>T-LGL Survival Network 2011 Reduced Network</td><td>The blood cancer T cell large granular lymphocyte (T-...</td><td>T-LGL leukemia, SMAD, discrete dynamic model, nuclear...</td><td>A Saddatpour et. al.</td><td>2017-07-20 11:02:32</td><td>2017-07-20 16:59:45</td><td>2017-07-20 16:56:54</td></tr><tr><td>...</td><td>...</td><td>...</td><td>...</td><td>...</td><td>...</td><td>...</td><td>...</td></tr><tr><td>2035</td><td>Cortical Area Development</td><td>The cerebral cortex is divided into many functionally...</td><td>Cortical Area, Development, Cerebral cortex, anterior...</td><td>CE Giacomantonio</td><td>2013-03-17 12:46:02</td><td>2016-01-22 07:08:46</td><td></td></tr><tr><td>7926</td><td>Iron acquisition and oxidative stress response in asp...</td><td>Aspergillus fumigatus is a ubiquitous airborne fungal...</td><td>Boolean network, Discrete dynamic model, Invasive asp...</td><td>M Brandon et al.</td><td>2017-04-24 10:44:42</td><td>2017-05-19 13:14:25</td><td>2017-05-19 13:14:06</td></tr><tr><td>4601</td><td>Colitis-associated colon cancer</td><td>This model looks at the development of colitis-associ...</td><td>Cancer, Cancer microenvironment, Computational biophy...</td><td>J Lu et. al.</td><td>2016-06-17 10:33:38</td><td>2017-01-30 13:44:46</td><td>2017-01-26 15:08:56</td></tr><tr><td>8186</td><td>Lymphoid and myeloid cell specification and transdiff...</td><td>Blood cells are derived from a common set of hematopo...</td><td>Gene network, Dynamical modeling, Hematopoiesis, Cell...</td><td>S. Collombet et al.</td><td>2017-06-16 14:30:46</td><td>2017-07-25 20:46:31</td><td>2017-07-21 12:45:13</td></tr><tr><td>5884</td><td>Tumour Cell Invasion and Migration</td><td>Understanding the etiology of metastasis is very impo...</td><td>tumour development, metastasis, cell invasionepitheli...</td><td>Cohen et al. </td><td>2017-02-01 12:35:02</td><td>2017-04-20 11:12:04</td><td>2017-04-28 14:44:10</td></tr><tr><td>36604</td><td>Signaling Pathway for Butanol Production in Clostridi...</td><td></td><td></td><td></td><td>2019-03-21 08:45:31</td><td>2019-04-03 08:30:36</td><td>2019-03-21 08:45:31</td></tr>\n",
       "                    </tbody>\n",
       "                </table>\n",
       "            "
      ],
      "text/plain": [
       "[<Model 2309 at 0x0108155950 name='EGFR & ErbB Signaling'>,\n",
       " <Model 5128 at 0x0107c7cc10 name='Lac Operon'>,\n",
       " <Model 2314 at 0x0108b22f90 name='IL-6 Signalling'>,\n",
       " <Model 1557 at 0x0108b2ced0 name='Signal Transduction in Fibroblast...'>,\n",
       " <Model 6678 at 0x0108b5add0 name='CD4+ T cell Differentiation'>,\n",
       " <Model 2329 at 0x0108c89c50 name='Apoptosis Network'>,\n",
       " <Model 8227 at 0x0108c9c450 name='T-LGL Survival Network 2011 Reduc...'>,\n",
       " <Model 2084 at 0x0108caf390 name='Death Receptor Signaling'>,\n",
       " <Model 2341 at 0x0108cb6d10 name='Body Segmentation in Drosophila 2...'>,\n",
       " <Model 1582 at 0x0108c89c10 name='Signaling in Macrophage Activatio...'>,\n",
       " <Model 7984 at 0x0108ccbe50 name='MAPK Cancer Cell Fate Network'>,\n",
       " <Model 4932 at 0x0108d9fcd0 name='Stomatal Opening Model'>,\n",
       " <Model 1607 at 0x0108dc2890 name='Mammalian Cell Cycle'>,\n",
       " <Model 4942 at 0x0108e3e650 name='Pro-inflammatory Tumor Microenvir...'>,\n",
       " <Model 2901 at 0x0108e49610 name='T cell differentiation'>,\n",
       " <Model 2135 at 0x0108e60510 name='Yeast Apoptosis'>,\n",
       " <Model 11863 at 0x0108e66d50 name='Senescence Associated Secretory P...'>,\n",
       " <Model 2136 at 0x0108e9e850 name='Cardiac development'>,\n",
       " <Model 2394 at 0x0108ec1490 name='B cell differentiation'>,\n",
       " <Model 2396 at 0x0108ec7cd0 name='Mammalian Cell Cycle 2006'>,\n",
       " <Model 4705 at 0x0108ed9750 name='Septation Initiation Network'>,\n",
       " <Model 4706 at 0x0108ee2d90 name='Predicting Variabilities in Cardi...'>,\n",
       " <Model 5731 at 0x0108ef5e50 name='Metabolic Interactions in the Gut...'>,\n",
       " <Model 2404 at 0x0108f08650 name='Budding Yeast Cell Cycle'>,\n",
       " <Model 2407 at 0x0108f10910 name='T-LGL Survival Network 2011'>,\n",
       " <Model 2663 at 0x0108f26550 name='Wg Pathway of Drosophila Signalli...'>,\n",
       " <Model 2667 at 0x0108f62f90 name='VEGF Pathway of Drosophila Signal...'>,\n",
       " <Model 2668 at 0x0108f70450 name='Toll Pathway of Drosophila Signal...'>,\n",
       " <Model 2669 at 0x0108f70490 name='Processing of Spz Network from th...'>,\n",
       " <Model 8558 at 0x0108f77190 name='Inflammatory Bowel Disease (IBD) ...'>,\n",
       " <Model 8048 at 0x0108f80f90 name='Treatment of Castration-Resistant...'>,\n",
       " <Model 2161 at 0x01096e0f90 name='Guard Cell Abscisic Acid Signalin...'>,\n",
       " <Model 2423 at 0x01096f7690 name='Budding Yeast Cell Cycle 2009'>,\n",
       " <Model 2681 at 0x0109712a10 name='Cell Cycle Transcription by Coupl...'>,\n",
       " <Model 2171 at 0x0109726990 name='T Cell Receptor Signaling'>,\n",
       " <Model 2172 at 0x010972c790 name='Cholesterol Regulatory Pathway'>,\n",
       " <Model 2176 at 0x0109770550 name='T-LGL Survival Network 2008'>,\n",
       " <Model 2691 at 0x010977f3d0 name='T-Cell Signaling 2006'>,\n",
       " <Model 2697 at 0x01097c4210 name='BT474 Breast Cell Line Long-term ...'>,\n",
       " <Model 2698 at 0x01097d1650 name='HCC1954 Breast Cell Line Long-ter...'>,\n",
       " <Model 2699 at 0x01097e8310 name='BT474 Breast Cell Line Short-term...'>,\n",
       " <Model 2700 at 0x01097fe090 name='HCC1954 Breast Cell Line Short-te...'>,\n",
       " <Model 2701 at 0x0109804e90 name='SKBR3 Breast Cell Line Short-term...'>,\n",
       " <Model 2703 at 0x0109813cd0 name='SKBR3 Breast Cell Line Long-term ...'>,\n",
       " <Model 8080 at 0x0109822790 name='Lymphopoiesis Regulatory Network'>,\n",
       " <Model 3481 at 0x010983bc10 name='Influenza A Virus Replication Cyc...'>,\n",
       " <Model 2202 at 0x010987f4d0 name='Neurotransmitter Signaling Pathwa...'>,\n",
       " <Model 5025 at 0x01098def90 name='CD4+ T Cell Differentiation and P...'>,\n",
       " <Model 3491 at 0x01098e8f90 name='TOL Regulatory Network'>,\n",
       " <Model 3492 at 0x01098f9910 name='Bordetella bronchiseptica'>,\n",
       " <Model 3493 at 0x0109909490 name='Trichostrongylus retortaeformis'>,\n",
       " <Model 2214 at 0x010992a310 name='IL-1 Signaling'>,\n",
       " <Model 2215 at 0x010993c790 name='Differentiation of T lymphocytes'>,\n",
       " <Model 4775 at 0x01099944d0 name='PC12 Cell Differentiation'>,\n",
       " <Model 4779 at 0x01099af790 name='Human Gonadal Sex Determination'>,\n",
       " <Model 4783 at 0x01099d2ed0 name=' IGVH mutations in chronic lympho...'>,\n",
       " <Model 1969 at 0x01099ed950 name='HGF Signaling in Keratinocytes'>,\n",
       " <Model 2738 at 0x0109a2c790 name='HIV-1 interactions with T Cell Si...'>,\n",
       " <Model 3506 at 0x0109a51850 name='HH Pathway of Drosophila Signalin...'>,\n",
       " <Model 3509 at 0x0109adad50 name='B bronchiseptica and T retortaefo...'>,\n",
       " <Model 3510 at 0x0109ae2c50 name='FGF pathway of Drosophila Signall...'>,\n",
       " <Model 4790 at 0x0109b09ad0 name='Fanconi anemia and checkpoint rec...'>,\n",
       " <Model 3511 at 0x0109b10f90 name='Glucose Repression Signaling 2009'>,\n",
       " <Model 3512 at 0x0109b29390 name='Oxidative Stress Pathway'>,\n",
       " <Model 3521 at 0x0109b51590 name='CD4 T cell signaling'>,\n",
       " <Model 4837 at 0x0109b599d0 name='Arabidopsis thaliana Cell Cycle'>,\n",
       " <Model 6885 at 0x0109beaad0 name='Regulation of the L-arabinose ope...'>,\n",
       " <Model 7916 at 0x0109c00dd0 name='Aurora Kinase A in Neuroblastoma'>,\n",
       " <Model 1776 at 0x0109c06a10 name='ErbB (1-4) Receptor Signaling'>,\n",
       " <Model 1778 at 0x0109c18350 name='FA BRCA pathway'>,\n",
       " <Model 4850 at 0x0109e051d0 name=' Bortezomib Responses in U266 Hum...'>,\n",
       " <Model 2035 at 0x0109e14ed0 name='Cortical Area Development'>,\n",
       " <Model 7926 at 0x0109e320d0 name='Iron acquisition and oxidative st...'>,\n",
       " <Model 4601 at 0x0109e32bd0 name='Colitis-associated colon cancer'>,\n",
       " <Model 8186 at 0x0109e40410 name='Lymphoid and myeloid cell specifi...'>,\n",
       " <Model 5884 at 0x0109e6c3d0 name='Tumour Cell Invasion and Migratio...'>,\n",
       " <Model 36604 at 0x0109e7fed0 name='Signaling Pathway for Butanol Pro...'>]"
      ]
     },
     "execution_count": 3,
     "metadata": {},
     "output_type": "execute_result"
    }
   ],
   "source": [
    "models = client.get(\"model\", size = MAX_UNSIGNED_SHORT, filters = { \"domain\": \"research\" })\n",
    "models"
   ]
  },
  {
   "cell_type": "markdown",
   "metadata": {},
   "source": [
    "### OmicsDI XML Format"
   ]
  },
  {
   "cell_type": "code",
   "execution_count": null,
   "metadata": {},
   "outputs": [],
   "source": [
    "def format_datetime(datetime):\n",
    "    return datetime.strftime(\"%Y-%m-%d\")\n",
    "\n",
    "def get_updated_date(model):\n",
    "    if model.updated[\"biologic\"] and model.updated[\"knowledge\"]:\n",
    "        return model.updated[\"biologic\"] if model.updated[\"biologic\"] > model.updated[\"knowledge\"] \\\n",
    "            else model.updated[\"knowledge\"]\n",
    "    \n",
    "    return model.updated[\"biologic\"] if model.updated[\"biologic\"] else model.updated[\"knowledge\"]\n",
    "\n",
    "def get_entry(model):\n",
    "    entries = [ ]\n",
    "    \n",
    "    for version in model.versions:\n",
    "        entry = f\"\"\"\\\n",
    "            <entry id=\"{model.id}\">\n",
    "                <name>{escape(model.name)}</name>\n",
    "                <description>{escape(model.description or \"\")}</description>\n",
    "                <url>{escape(model.url)}</url>\n",
    "                <contact></contact>\n",
    "                <dates>\n",
    "                    <date type=\"created\" value=\"{format_datetime(version.created)}\"/>\n",
    "                    <date type=\"last_modified\" value=\"{get_updated_date(model)}\"/>\n",
    "                </dates>\n",
    "                <additional_fields>\n",
    "                    <field name=\"version_id\">{version.version}</field>\n",
    "                    <field name=\"version_name\">{escape(version.name or \"\")}</field>\n",
    "                    <field name=\"version_description\">{escape(version.description or \"\")}</field>\n",
    "                    <field name=\"version_url\">{escape(version.url)}</field>\n",
    "                    <field name=\"default_version\">{model.default_version.version}</field>\n",
    "                    <field name=\"model_created\">{model.created}</field>\n",
    "                    <field name=\"model_score\">{model.score}</field>\n",
    "                </additional_fields>\n",
    "            </entry>\\\n",
    "        \"\"\"\n",
    "        \n",
    "        entries.append(entry)\n",
    "        \n",
    "    return entries\n",
    "\n",
    "entries = \"\\n\".join(flatten(map(get_entry, models)))"
   ]
  },
  {
   "cell_type": "code",
   "execution_count": null,
   "metadata": {},
   "outputs": [],
   "source": [
    "xml = etree.fromstring(f\"\"\"\n",
    "<dataset>\n",
    "    <name>Cell Collective</name>\n",
    "    <description>Interactive Modelling of Biological Networks</description>\n",
    "    <contact>support@cellcollective.org</contact>\n",
    "    <url>https://cellcollective.org</url>\n",
    "    <release>{client.version}</release>\n",
    "    <release_date></release_date>\n",
    "    <entry_count>{len(models)}</entry_count>\n",
    "    <entries>\n",
    "        {entries}\n",
    "    </entries>\n",
    "</dataset>\n",
    "\"\"\")"
   ]
  },
  {
   "cell_type": "code",
   "execution_count": null,
   "metadata": {},
   "outputs": [],
   "source": [
    "with open(\"_data/omics.xml\", \"w\") as f:\n",
    "    f.write(safe_decode(etree.tostring(xml)))\n",
    "\n",
    "FileLink(\"_data/omics.xml\")"
   ]
  },
  {
   "cell_type": "code",
   "execution_count": null,
   "metadata": {},
   "outputs": [],
   "source": []
  }
 ],
 "metadata": {
  "kernelspec": {
   "display_name": "Python 3",
   "language": "python",
   "name": "python3"
  },
  "language_info": {
   "codemirror_mode": {
    "name": "ipython",
    "version": 3
   },
   "file_extension": ".py",
   "mimetype": "text/x-python",
   "name": "python",
   "nbconvert_exporter": "python",
   "pygments_lexer": "ipython3",
   "version": "3.7.5"
  }
 },
 "nbformat": 4,
 "nbformat_minor": 4
}
