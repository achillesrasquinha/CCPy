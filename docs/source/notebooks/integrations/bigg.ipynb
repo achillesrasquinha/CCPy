{
 "cells": [
  {
   "cell_type": "code",
   "execution_count": 20,
   "metadata": {},
   "outputs": [],
   "source": [
    "import ccapi\n",
    "\n",
    "config         = ccapi.Configuration()\n",
    "config.url     = \"http://localhost:5000\"\n",
    "# config.verbose = True"
   ]
  },
  {
   "cell_type": "markdown",
   "metadata": {},
   "source": [
    "### BiGG Models"
   ]
  },
  {
   "cell_type": "code",
   "execution_count": 21,
   "metadata": {},
   "outputs": [],
   "source": [
    "from ccapi.services import BiGGModels as BiGG\n",
    "from ccapi._compat  import iterkeys"
   ]
  },
  {
   "cell_type": "code",
   "execution_count": 22,
   "metadata": {},
   "outputs": [
    {
     "name": "stderr",
     "output_type": "stream",
     "text": [
      "2020-01-29 09:36:11,642 | INFO | Dispatching a GET request to URL: http://bigg.ucsd.edu/api/v2/database_version with Arguments - {}\n"
     ]
    }
   ],
   "source": [
    "bigg    = BiGG()"
   ]
  },
  {
   "cell_type": "code",
   "execution_count": 23,
   "metadata": {},
   "outputs": [
    {
     "name": "stderr",
     "output_type": "stream",
     "text": [
      "2020-01-29 09:36:12,855 | INFO | Dispatching a GET request to URL: http://bigg.ucsd.edu/api/v2/models with Arguments - {}\n"
     ]
    }
   ],
   "source": [
    "results = bigg.get(\"model\")"
   ]
  },
  {
   "cell_type": "code",
   "execution_count": 24,
   "metadata": {},
   "outputs": [],
   "source": [
    "import ccapi"
   ]
  },
  {
   "cell_type": "code",
   "execution_count": 25,
   "metadata": {},
   "outputs": [
    {
     "name": "stderr",
     "output_type": "stream",
     "text": [
      "2020-01-29 09:36:19,704 | INFO | Dispatching a GET request to URL: http://localhost:5000/api/ping with Arguments - {}\n"
     ]
    }
   ],
   "source": [
    "client = ccapi.Client()"
   ]
  },
  {
   "cell_type": "code",
   "execution_count": 28,
   "metadata": {},
   "outputs": [
    {
     "name": "stderr",
     "output_type": "stream",
     "text": [
      "2020-01-29 09:37:36,594 | INFO | Dispatching a GET request to URL: http://bigg.ucsd.edu/static/models/e_coli_core.json with Arguments - {}\n"
     ]
    }
   ],
   "source": [
    "path   = bigg.download(\"e_coli_core\", location = \"_data\")"
   ]
  },
  {
   "cell_type": "code",
   "execution_count": 31,
   "metadata": {},
   "outputs": [
    {
     "name": "stderr",
     "output_type": "stream",
     "text": [
      "2020-01-29 09:38:15,697 | INFO | Dispatching a POST request to URL: http://localhost:5000/api/model/import with Arguments - {'data': {'type': 'metabolic'}, 'files': [('file', <_io.BufferedReader name='_data/e_coli_core.json'>)]}\n"
     ]
    }
   ],
   "source": [
    "model  = client.read(path, type = \"metabolic\")"
   ]
  },
  {
   "cell_type": "code",
   "execution_count": 32,
   "metadata": {},
   "outputs": [
    {
     "name": "stderr",
     "output_type": "stream",
     "text": [
      "2020-01-29 09:45:50,076 | INFO | Searching for templates within directories: ['/home/achilles/dev/ccapi/src/ccapi/data/templates']\n"
     ]
    },
    {
     "data": {
      "text/html": [
       "<table>\n",
       "    <tr>\n",
       "        <td>\n",
       "            <strong>\n",
       "                ID\n",
       "            </strong>\n",
       "        </td>\n",
       "        <td>\n",
       "            5\n",
       "        </td>\n",
       "    </tr>\n",
       "    <tr>\n",
       "        <td>\n",
       "            <strong>\n",
       "                Name\n",
       "            </strong>\n",
       "        </td>\n",
       "        <td>\n",
       "            \n",
       "        </td>\n",
       "    </tr>\n",
       "    <tr>\n",
       "        <td>\n",
       "            <strong>\n",
       "                Memory Address\n",
       "            </strong>\n",
       "        </td>\n",
       "        <td>\n",
       "            0x07f54bef63400\n",
       "        </td>\n",
       "    </tr>\n",
       "    <tr>\n",
       "        <td>\n",
       "            <strong>\n",
       "                Number of Versions\n",
       "            </strong>\n",
       "        </td>\n",
       "        <td>\n",
       "            1\n",
       "        </td>\n",
       "    </tr>\n",
       "    <tr>\n",
       "        <td>\n",
       "            <strong>\n",
       "                Versions\n",
       "            </strong>\n",
       "        </td>\n",
       "        <td>\n",
       "            [&lt;ConstraintBasedModel 5 version 6 at 0x07f54bef634a8&gt;]\n",
       "        </td>\n",
       "    </tr>\n",
       "</table>"
      ],
      "text/plain": [
       "<Model 5 at 0x07f54bef63400>"
      ]
     },
     "execution_count": 32,
     "metadata": {},
     "output_type": "execute_result"
    }
   ],
   "source": [
    "model"
   ]
  },
  {
   "cell_type": "code",
   "execution_count": 33,
   "metadata": {},
   "outputs": [
    {
     "name": "stderr",
     "output_type": "stream",
     "text": [
      "2020-01-29 09:46:02,557 | INFO | Searching for templates within directories: ['/home/achilles/dev/ccapi/src/ccapi/data/templates']\n"
     ]
    },
    {
     "data": {
      "text/html": [
       "<table>\n",
       "    <tr>\n",
       "        <td>\n",
       "            <strong>\n",
       "                ID\n",
       "            </strong>\n",
       "        </td>\n",
       "        <td>\n",
       "            5\n",
       "        </td>\n",
       "    </tr>\n",
       "    <tr>\n",
       "        <td>\n",
       "            <strong>\n",
       "                Version\n",
       "            </strong>\n",
       "        </td>\n",
       "        <td>\n",
       "            6\n",
       "        </td>\n",
       "    </tr>\n",
       "    <tr>\n",
       "        <td>\n",
       "            <strong>\n",
       "                Name\n",
       "            </strong>\n",
       "        </td>\n",
       "        <td>\n",
       "            \n",
       "        </td>\n",
       "    </tr>\n",
       "    <tr>\n",
       "        <td>\n",
       "            <strong>\n",
       "                Memory Address\n",
       "            </strong>\n",
       "        </td>\n",
       "        <td>\n",
       "            0x07f54bef634a8\n",
       "        </td>\n",
       "    </tr>\n",
       "    <tr>\n",
       "        <td>\n",
       "            <strong>\n",
       "                Number of Metabolites\n",
       "            </strong>\n",
       "        </td>\n",
       "        <td>\n",
       "            72\n",
       "        </td>\n",
       "    </tr>\n",
       "    <tr>\n",
       "        <td>\n",
       "            <strong>\n",
       "                Metabolites\n",
       "            </strong>\n",
       "        </td>\n",
       "        <td>\n",
       "            D-Glucose, L-Glutamine, L-Glutamine, L-Glutamate, L-Glutamate, Glyoxylate, H2O H2O, H2O H2O, H+, H+, Isocitrate, D-Lactate, D-Lactate, L-Malate, L-Malate, Nicotinamide adenine dinucleotide, Nicotinamide adenine dinucleotide - reduced, Nicotinamide adenine dinucleotide phosphate, Nicotinamide adenine dinucleotide phosphate - reduced, Ammonium, 3-Phospho-D-glyceroyl phosphate, Ammonium, O2 O2, D-Glycerate 2-phosphate, O2 O2, 3-Phospho-D-glycerate, Oxaloacetate, Phosphoenolpyruvate, 6-Phospho-D-glucon...\n",
       "        </td>\n",
       "    </tr>\n",
       "    <tr>\n",
       "        <td>\n",
       "            <strong>\n",
       "                Number of Reactions\n",
       "            </strong>\n",
       "        </td>\n",
       "        <td>\n",
       "            95\n",
       "        </td>\n",
       "    </tr>\n",
       "    <tr>\n",
       "        <td>\n",
       "            <strong>\n",
       "                Reactions\n",
       "            </strong>\n",
       "        </td>\n",
       "        <td>\n",
       "            Phosphofructokinase, Pyruvate formate lyase, Glucose-6-phosphate isomerase, Phosphoglycerate kinase, 6-phosphogluconolactonase, Acetaldehyde dehydrogenase (acetylating), 2 oxoglutarate reversible transport via symport, Phosphoglycerate mutase, Phosphate reversible transport via symport, Alcohol dehydrogenase (ethanol), Acetaldehyde reversible transport, Acetate kinase, Phosphoenolpyruvate carboxylase, Aconitase (half-reaction A, Citrate hydro-lyase), Aconitase (half-reaction B, Isocitrate hydro-lya...\n",
       "        </td>\n",
       "    </tr>\n",
       "</table>"
      ],
      "text/plain": [
       "<ConstraintBasedModel 5 version 6 at 0x07f54bef634a8>"
      ]
     },
     "execution_count": 33,
     "metadata": {},
     "output_type": "execute_result"
    }
   ],
   "source": [
    "metabolic = model.versions[0]\n",
    "metabolic"
   ]
  },
  {
   "cell_type": "code",
   "execution_count": 34,
   "metadata": {},
   "outputs": [
    {
     "data": {
      "text/html": [
       "\n",
       "                <table>\n",
       "                    <thead>\n",
       "                        <tr>\n",
       "                            <th>ID</th><th>Name</th><th>Compartment</th><th>Formula</th><th>Charge</th>\n",
       "                        </tr>\n",
       "                    </thead>\n",
       "                    <tbody>\n",
       "                        <tr><td>607</td><td>D-Glucose</td><td>extracellular space</td><td>C6H12O6</td><td>0</td></tr><tr><td>608</td><td>L-Glutamine</td><td>cytosol</td><td>C5H10N2O3</td><td>0</td></tr><tr><td>609</td><td>L-Glutamine</td><td>extracellular space</td><td>C5H10N2O3</td><td>0</td></tr><tr><td>610</td><td>L-Glutamate</td><td>cytosol</td><td>C5H8NO4</td><td>-1</td></tr><tr><td>611</td><td>L-Glutamate</td><td>extracellular space</td><td>C5H8NO4</td><td>-1</td></tr><tr><td>612</td><td>Glyoxylate</td><td>cytosol</td><td>C2H1O3</td><td>-1</td></tr><tr><td>613</td><td>H2O H2O</td><td>cytosol</td><td>H2O</td><td>0</td></tr><tr><td>...</td><td>...</td><td>...</td><td>...</td><td>...</td></tr><tr><td>673</td><td>Formate</td><td>extracellular space</td><td>CH1O2</td><td>-1</td></tr><tr><td>674</td><td>D-Fructose</td><td>extracellular space</td><td>C6H12O6</td><td>0</td></tr><tr><td>675</td><td>Fumarate</td><td>cytosol</td><td>C4H2O4</td><td>-2</td></tr><tr><td>676</td><td>Fumarate</td><td>extracellular space</td><td>C4H2O4</td><td>-2</td></tr><tr><td>677</td><td>Glyceraldehyde 3-phosphate</td><td>cytosol</td><td>C3H5O6P</td><td>-2</td></tr><tr><td>678</td><td>D-Glucose 6-phosphate</td><td>cytosol</td><td>C6H11O9P</td><td>-2</td></tr>\n",
       "                    </tbody>\n",
       "                </table>\n",
       "            "
      ],
      "text/plain": [
       "[<Metabolite 607 at 0x07f54bef63588 name='D-Glucose'>,\n",
       " <Metabolite 608 at 0x07f54bef635c0 name='L-Glutamine'>,\n",
       " <Metabolite 609 at 0x07f54bef635f8 name='L-Glutamine'>,\n",
       " <Metabolite 610 at 0x07f54bef63630 name='L-Glutamate'>,\n",
       " <Metabolite 611 at 0x07f54bef63668 name='L-Glutamate'>,\n",
       " <Metabolite 612 at 0x07f54bef636a0 name='Glyoxylate'>,\n",
       " <Metabolite 613 at 0x07f54bef636d8 name='H2O H2O'>,\n",
       " <Metabolite 614 at 0x07f54bef63710 name='H2O H2O'>,\n",
       " <Metabolite 615 at 0x07f54bef63748 name='H+'>,\n",
       " <Metabolite 616 at 0x07f54bef63780 name='H+'>,\n",
       " <Metabolite 617 at 0x07f54bef637b8 name='Isocitrate'>,\n",
       " <Metabolite 618 at 0x07f54bef637f0 name='D-Lactate'>,\n",
       " <Metabolite 619 at 0x07f54bef63828 name='D-Lactate'>,\n",
       " <Metabolite 620 at 0x07f54bef63860 name='L-Malate'>,\n",
       " <Metabolite 621 at 0x07f54bef63898 name='L-Malate'>,\n",
       " <Metabolite 622 at 0x07f54bef638d0 name='Nicotinamide adenine dinucleotide'>,\n",
       " <Metabolite 623 at 0x07f54bef63908 name='Nicotinamide adenine dinucleotide...'>,\n",
       " <Metabolite 624 at 0x07f54bef63940 name='Nicotinamide adenine dinucleotide...'>,\n",
       " <Metabolite 625 at 0x07f54bef63978 name='Nicotinamide adenine dinucleotide...'>,\n",
       " <Metabolite 626 at 0x07f54bef639b0 name='Ammonium'>,\n",
       " <Metabolite 627 at 0x07f54bef639e8 name='3-Phospho-D-glyceroyl phosphate'>,\n",
       " <Metabolite 628 at 0x07f54bef63a20 name='Ammonium'>,\n",
       " <Metabolite 629 at 0x07f54bef63a58 name='O2 O2'>,\n",
       " <Metabolite 630 at 0x07f54bef63a90 name='D-Glycerate 2-phosphate'>,\n",
       " <Metabolite 631 at 0x07f54bef63ac8 name='O2 O2'>,\n",
       " <Metabolite 632 at 0x07f54bef63b00 name='3-Phospho-D-glycerate'>,\n",
       " <Metabolite 633 at 0x07f54bef63b38 name='Oxaloacetate'>,\n",
       " <Metabolite 634 at 0x07f54bef63b70 name='Phosphoenolpyruvate'>,\n",
       " <Metabolite 635 at 0x07f54bef63ba8 name='6-Phospho-D-gluconate'>,\n",
       " <Metabolite 636 at 0x07f54bef63be0 name='Phosphate'>,\n",
       " <Metabolite 637 at 0x07f54bef63c18 name='6-phospho-D-glucono-1,5-lactone'>,\n",
       " <Metabolite 638 at 0x07f54bef63c50 name='Phosphate'>,\n",
       " <Metabolite 639 at 0x07f54bef63c88 name='Acetate'>,\n",
       " <Metabolite 640 at 0x07f54bef63cc0 name='Pyruvate'>,\n",
       " <Metabolite 641 at 0x07f54bef63cf8 name='Pyruvate'>,\n",
       " <Metabolite 642 at 0x07f54bef63d30 name='Ubiquinone-8'>,\n",
       " <Metabolite 643 at 0x07f54bef63d68 name='Ubiquinol-8'>,\n",
       " <Metabolite 644 at 0x07f54bef63da0 name='Alpha-D-Ribose 5-phosphate'>,\n",
       " <Metabolite 645 at 0x07f54bef63dd8 name='D-Ribulose 5-phosphate'>,\n",
       " <Metabolite 646 at 0x07f54bef63e10 name='Acetate'>,\n",
       " <Metabolite 647 at 0x07f54bef63e48 name='Acetaldehyde'>,\n",
       " <Metabolite 648 at 0x07f54bef63e80 name='Sedoheptulose 7-phosphate'>,\n",
       " <Metabolite 649 at 0x07f54bef63eb8 name='Acetaldehyde'>,\n",
       " <Metabolite 650 at 0x07f54bef63ef0 name='Acetyl-CoA'>,\n",
       " <Metabolite 651 at 0x07f54bef63f28 name='Succinate'>,\n",
       " <Metabolite 652 at 0x07f54bef63f60 name='Succinate'>,\n",
       " <Metabolite 653 at 0x07f54bef63f98 name='Succinyl-CoA'>,\n",
       " <Metabolite 654 at 0x07f54bef63fd0 name='Cis-Aconitate'>,\n",
       " <Metabolite 655 at 0x07f54bef6a048 name='D-Xylulose 5-phosphate'>,\n",
       " <Metabolite 656 at 0x07f54bef6a080 name='Acetyl phosphate'>,\n",
       " <Metabolite 657 at 0x07f54bef6a0b8 name='ADP C10H12N5O10P2'>,\n",
       " <Metabolite 658 at 0x07f54bef6a0f0 name='2-Oxoglutarate'>,\n",
       " <Metabolite 659 at 0x07f54bef6a128 name='2-Oxoglutarate'>,\n",
       " <Metabolite 660 at 0x07f54bef6a160 name='AMP C10H12N5O7P'>,\n",
       " <Metabolite 661 at 0x07f54bef6a198 name='ATP C10H12N5O13P3'>,\n",
       " <Metabolite 662 at 0x07f54bef6a1d0 name='Citrate'>,\n",
       " <Metabolite 663 at 0x07f54bef6a208 name='CO2 CO2'>,\n",
       " <Metabolite 664 at 0x07f54bef6a240 name='CO2 CO2'>,\n",
       " <Metabolite 665 at 0x07f54bef6a278 name='Coenzyme A'>,\n",
       " <Metabolite 666 at 0x07f54bef6a2b0 name='Dihydroxyacetone phosphate'>,\n",
       " <Metabolite 667 at 0x07f54bef6a2e8 name='D-Erythrose 4-phosphate'>,\n",
       " <Metabolite 668 at 0x07f54bef6a320 name='Ethanol'>,\n",
       " <Metabolite 669 at 0x07f54bef6a358 name='Ethanol'>,\n",
       " <Metabolite 670 at 0x07f54bef6a390 name='D-Fructose 6-phosphate'>,\n",
       " <Metabolite 671 at 0x07f54bef6a3c8 name='D-Fructose 1,6-bisphosphate'>,\n",
       " <Metabolite 672 at 0x07f54bef6a400 name='Formate'>,\n",
       " <Metabolite 673 at 0x07f54bef6a438 name='Formate'>,\n",
       " <Metabolite 674 at 0x07f54bef6a470 name='D-Fructose'>,\n",
       " <Metabolite 675 at 0x07f54bef6a4a8 name='Fumarate'>,\n",
       " <Metabolite 676 at 0x07f54bef6a4e0 name='Fumarate'>,\n",
       " <Metabolite 677 at 0x07f54bef6a518 name='Glyceraldehyde 3-phosphate'>,\n",
       " <Metabolite 678 at 0x07f54bef6a550 name='D-Glucose 6-phosphate'>]"
      ]
     },
     "execution_count": 34,
     "metadata": {},
     "output_type": "execute_result"
    }
   ],
   "source": [
    "metabolic.metabolites"
   ]
  },
  {
   "cell_type": "code",
   "execution_count": 35,
   "metadata": {},
   "outputs": [
    {
     "data": {
      "text/html": [
       "\n",
       "                <table>\n",
       "                    <thead>\n",
       "                        <tr>\n",
       "                            <th>ID</th><th>Name</th><th>Number of Positive Regulators</th><th>Number of Negative Regulators</th><th>Subsystem</th><th>Lower Bound</th><th>Upper Bound</th>\n",
       "                        </tr>\n",
       "                    </thead>\n",
       "                    <tbody>\n",
       "                        <tr><td>594</td><td>Phosphofructokinase</td><td>0</td><td>0</td><td></td><td>0</td><td>1000</td></tr><tr><td>595</td><td>Pyruvate formate lyase</td><td>0</td><td>0</td><td></td><td>0</td><td>1000</td></tr><tr><td>596</td><td>Glucose-6-phosphate isomerase</td><td>0</td><td>0</td><td></td><td>-1000</td><td>1000</td></tr><tr><td>597</td><td>Phosphoglycerate kinase</td><td>0</td><td>0</td><td></td><td>-1000</td><td>1000</td></tr><tr><td>598</td><td>6-phosphogluconolactonase</td><td>0</td><td>0</td><td></td><td>0</td><td>1000</td></tr><tr><td>599</td><td>Acetaldehyde dehydrogenase (acetylating)</td><td>0</td><td>0</td><td></td><td>-1000</td><td>1000</td></tr><tr><td>600</td><td>2 oxoglutarate reversible transport via symport</td><td>0</td><td>0</td><td></td><td>-1000</td><td>1000</td></tr><tr><td>...</td><td>...</td><td>...</td><td>...</td><td>...</td><td>...</td><td>...</td></tr><tr><td>683</td><td>Malic enzyme (NADP)</td><td>0</td><td>0</td><td></td><td>0</td><td>1000</td></tr><tr><td>684</td><td>NADH dehydrogenase (ubiquinone-8 & 3 protons)</td><td>0</td><td>0</td><td></td><td>0</td><td>1000</td></tr><tr><td>685</td><td>NAD transhydrogenase</td><td>0</td><td>0</td><td></td><td>0</td><td>1000</td></tr><tr><td>686</td><td>Ammonia reversible transport</td><td>0</td><td>0</td><td></td><td>-1000</td><td>1000</td></tr><tr><td>687</td><td>O2 transport  diffusion </td><td>0</td><td>0</td><td></td><td>-1000</td><td>1000</td></tr><tr><td>688</td><td>Pyruvate dehydrogenase</td><td>0</td><td>0</td><td></td><td>0</td><td>1000</td></tr>\n",
       "                    </tbody>\n",
       "                </table>\n",
       "            "
      ],
      "text/plain": [
       "[<Reaction 594 at 0x07f54bef6a588 name='Phosphofructokinase'>,\n",
       " <Reaction 595 at 0x07f54bef6a5c0 name='Pyruvate formate lyase'>,\n",
       " <Reaction 596 at 0x07f54bef6a5f8 name='Glucose-6-phosphate isomerase'>,\n",
       " <Reaction 597 at 0x07f54bef6a630 name='Phosphoglycerate kinase'>,\n",
       " <Reaction 598 at 0x07f54bef6a668 name='6-phosphogluconolactonase'>,\n",
       " <Reaction 599 at 0x07f54bef6a6a0 name='Acetaldehyde dehydrogenase (acety...'>,\n",
       " <Reaction 600 at 0x07f54bef6a6d8 name='2 oxoglutarate reversible transpo...'>,\n",
       " <Reaction 601 at 0x07f54bef6a710 name='Phosphoglycerate mutase'>,\n",
       " <Reaction 602 at 0x07f54bef6a748 name='Phosphate reversible transport vi...'>,\n",
       " <Reaction 603 at 0x07f54bef6a780 name='Alcohol dehydrogenase (ethanol)'>,\n",
       " <Reaction 604 at 0x07f54bef6a7b8 name='Acetaldehyde reversible transport'>,\n",
       " <Reaction 605 at 0x07f54bef6a7f0 name='Acetate kinase'>,\n",
       " <Reaction 606 at 0x07f54bef6a828 name='Phosphoenolpyruvate carboxylase'>,\n",
       " <Reaction 607 at 0x07f54bef6a860 name='Aconitase (half-reaction A, Citra...'>,\n",
       " <Reaction 608 at 0x07f54bef6a898 name='Aconitase (half-reaction B, Isoci...'>,\n",
       " <Reaction 609 at 0x07f54bef6a8d0 name='ATP maintenance requirement'>,\n",
       " <Reaction 610 at 0x07f54bef6a908 name='Phosphoenolpyruvate carboxykinase'>,\n",
       " <Reaction 611 at 0x07f54bef6a940 name='Acetate reversible transport via ...'>,\n",
       " <Reaction 612 at 0x07f54bef6a978 name='Phosphoenolpyruvate synthase'>,\n",
       " <Reaction 613 at 0x07f54bef6a9b0 name='Adenylate kinase'>,\n",
       " <Reaction 614 at 0x07f54bef6a9e8 name='2-Oxogluterate dehydrogenase'>,\n",
       " <Reaction 615 at 0x07f54bef6aa20 name='ATP synthase (four protons for on...'>,\n",
       " <Reaction 616 at 0x07f54bef6aa58 name='Phosphotransacetylase'>,\n",
       " <Reaction 617 at 0x07f54bef6aa90 name='Pyruvate kinase'>,\n",
       " <Reaction 618 at 0x07f54bef6aac8 name='Biomass Objective Function with G...'>,\n",
       " <Reaction 619 at 0x07f54bef6ab00 name='Pyruvate transport in via proton ...'>,\n",
       " <Reaction 620 at 0x07f54bef6ab38 name='CO2 transporter via diffusion'>,\n",
       " <Reaction 621 at 0x07f54bef6ab70 name='Ribulose 5-phosphate 3-epimerase'>,\n",
       " <Reaction 622 at 0x07f54bef6aba8 name='Citrate synthase'>,\n",
       " <Reaction 623 at 0x07f54bef6abe0 name='Ribose-5-phosphate isomerase'>,\n",
       " <Reaction 624 at 0x07f54bef6ac18 name='Succinate transport via proton sy...'>,\n",
       " <Reaction 625 at 0x07f54bef6ac50 name='Cytochrome oxidase bd (ubiquinol-...'>,\n",
       " <Reaction 626 at 0x07f54bef6ac88 name='D lactate transport via proton sy...'>,\n",
       " <Reaction 627 at 0x07f54bef6acc0 name='Enolase'>,\n",
       " <Reaction 628 at 0x07f54bef6acf8 name='Succinate transport out via proto...'>,\n",
       " <Reaction 629 at 0x07f54bef6ad30 name='Ethanol reversible transport via ...'>,\n",
       " <Reaction 630 at 0x07f54bef6ad68 name='Succinate dehydrogenase (irrevers...'>,\n",
       " <Reaction 631 at 0x07f54bef6ada0 name='Succinyl-CoA synthetase (ADP-form...'>,\n",
       " <Reaction 632 at 0x07f54bef6add8 name='Transaldolase'>,\n",
       " <Reaction 633 at 0x07f54bef6ae10 name='NAD(P) transhydrogenase'>,\n",
       " <Reaction 634 at 0x07f54bef6ae48 name='Transketolase'>,\n",
       " <Reaction 635 at 0x07f54bef6ae80 name='Transketolase'>,\n",
       " <Reaction 636 at 0x07f54bef6aeb8 name='Triose-phosphate isomerase'>,\n",
       " <Reaction 637 at 0x07f54bef6aef0 name='Acetate exchange'>,\n",
       " <Reaction 638 at 0x07f54bef6af28 name='Acetaldehyde exchange'>,\n",
       " <Reaction 639 at 0x07f54bef6af60 name='2-Oxoglutarate exchange'>,\n",
       " <Reaction 640 at 0x07f54bef6af98 name='CO2 exchange'>,\n",
       " <Reaction 641 at 0x07f54bef6afd0 name='Ethanol exchange'>,\n",
       " <Reaction 642 at 0x07f54beefb048 name='Formate exchange'>,\n",
       " <Reaction 643 at 0x07f54beefb080 name='D-Fructose exchange'>,\n",
       " <Reaction 644 at 0x07f54beefb0b8 name='Fumarate exchange'>,\n",
       " <Reaction 645 at 0x07f54beefb0f0 name='D-Glucose exchange'>,\n",
       " <Reaction 646 at 0x07f54beefb128 name='L-Glutamine exchange'>,\n",
       " <Reaction 647 at 0x07f54beefb160 name='L-Glutamate exchange'>,\n",
       " <Reaction 648 at 0x07f54beefb198 name='H+ exchange'>,\n",
       " <Reaction 649 at 0x07f54beefb1d0 name='H2O exchange'>,\n",
       " <Reaction 650 at 0x07f54beefb208 name='D-lactate exchange'>,\n",
       " <Reaction 651 at 0x07f54beefb240 name='L-Malate exchange'>,\n",
       " <Reaction 652 at 0x07f54beefb278 name='Ammonia exchange'>,\n",
       " <Reaction 653 at 0x07f54beefb2b0 name='O2 exchange'>,\n",
       " <Reaction 654 at 0x07f54beefb2e8 name='Phosphate exchange'>,\n",
       " <Reaction 655 at 0x07f54beefb320 name='Pyruvate exchange'>,\n",
       " <Reaction 656 at 0x07f54beefb358 name='Succinate exchange'>,\n",
       " <Reaction 657 at 0x07f54beefb390 name='Fructose-bisphosphate aldolase'>,\n",
       " <Reaction 658 at 0x07f54beefb3c8 name='Fructose-bisphosphatase'>,\n",
       " <Reaction 659 at 0x07f54beefb400 name='Formate transport in via proton s...'>,\n",
       " <Reaction 660 at 0x07f54beefb438 name='Formate transport via diffusion'>,\n",
       " <Reaction 661 at 0x07f54beefb470 name='Fumarate reductase'>,\n",
       " <Reaction 662 at 0x07f54beefb4a8 name='Fructose transport via PEP:Pyr PT...'>,\n",
       " <Reaction 663 at 0x07f54beefb4e0 name='Fumarase'>,\n",
       " <Reaction 664 at 0x07f54beefb518 name='Fumarate transport via proton sym...'>,\n",
       " <Reaction 665 at 0x07f54beefb550 name='Glucose 6-phosphate dehydrogenase'>,\n",
       " <Reaction 666 at 0x07f54beefb588 name='Glyceraldehyde-3-phosphate dehydr...'>,\n",
       " <Reaction 667 at 0x07f54beefb5c0 name='D-glucose transport via PEP:Pyr P...'>,\n",
       " <Reaction 668 at 0x07f54beefb5f8 name='Glutamine synthetase'>,\n",
       " <Reaction 669 at 0x07f54beefb630 name='L-glutamine transport via ABC sys...'>,\n",
       " <Reaction 670 at 0x07f54beefb668 name='Glutamate dehydrogenase (NADP)'>,\n",
       " <Reaction 671 at 0x07f54beefb6a0 name='Glutaminase'>,\n",
       " <Reaction 672 at 0x07f54beefb6d8 name='Glutamate synthase (NADPH)'>,\n",
       " <Reaction 673 at 0x07f54beefb710 name='L glutamate transport via proton ...'>,\n",
       " <Reaction 674 at 0x07f54beefb748 name='Phosphogluconate dehydrogenase'>,\n",
       " <Reaction 675 at 0x07f54beefb780 name='H2O transport via diffusion'>,\n",
       " <Reaction 676 at 0x07f54beefb7b8 name='Isocitrate dehydrogenase (NADP)'>,\n",
       " <Reaction 677 at 0x07f54beefb7f0 name='Isocitrate lyase'>,\n",
       " <Reaction 678 at 0x07f54beefb828 name='D-lactate dehydrogenase'>,\n",
       " <Reaction 679 at 0x07f54beefb860 name='Malate synthase'>,\n",
       " <Reaction 680 at 0x07f54beefb898 name='Malate transport via proton sympo...'>,\n",
       " <Reaction 681 at 0x07f54beefb8d0 name='Malate dehydrogenase'>,\n",
       " <Reaction 682 at 0x07f54beefb908 name='Malic enzyme (NAD)'>,\n",
       " <Reaction 683 at 0x07f54beefb940 name='Malic enzyme (NADP)'>,\n",
       " <Reaction 684 at 0x07f54beefb978 name='NADH dehydrogenase (ubiquinone-8 ...'>,\n",
       " <Reaction 685 at 0x07f54beefb9b0 name='NAD transhydrogenase'>,\n",
       " <Reaction 686 at 0x07f54beefb9e8 name='Ammonia reversible transport'>,\n",
       " <Reaction 687 at 0x07f54beefba20 name='O2 transport  diffusion '>,\n",
       " <Reaction 688 at 0x07f54beefba58 name='Pyruvate dehydrogenase'>]"
      ]
     },
     "execution_count": 35,
     "metadata": {},
     "output_type": "execute_result"
    }
   ],
   "source": [
    "metabolic.reactions"
   ]
  }
 ],
 "metadata": {
  "kernelspec": {
   "display_name": "Python 3",
   "language": "python",
   "name": "python3"
  },
  "language_info": {
   "codemirror_mode": {
    "name": "ipython",
    "version": 3
   },
   "file_extension": ".py",
   "mimetype": "text/x-python",
   "name": "python",
   "nbconvert_exporter": "python",
   "pygments_lexer": "ipython3",
   "version": "3.6.9"
  }
 },
 "nbformat": 4,
 "nbformat_minor": 2
}
