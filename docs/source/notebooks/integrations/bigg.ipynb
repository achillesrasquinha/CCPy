{
 "cells": [
  {
   "cell_type": "code",
   "execution_count": null,
   "metadata": {},
   "outputs": [],
   "source": [
    "import ccapi\n",
    "\n",
    "config     = ccapi.Configuration()\n",
    "config.url = \"http://localhost:5000\"\n",
    "# config.url = \"http://cbm.cellcollective.org\""
   ]
  },
  {
   "cell_type": "markdown",
   "metadata": {},
   "source": [
    "## BiGGModels\n",
    "\n",
    "In this tutorial, we will attempt to import models from [BiGGModels](http://bigg.ucsd.edu) into your account on [Cell Collective](https://cellcollective.org).\n",
    "\n",
    "Begin by importing the ccapi module into your workspace."
   ]
  },
  {
   "cell_type": "code",
   "execution_count": null,
   "metadata": {},
   "outputs": [],
   "source": [
    "import ccapi"
   ]
  },
  {
   "cell_type": "markdown",
   "metadata": {},
   "source": [
    "Now, let’s try creating a client object in order to interact with services provided by [Cell Collective](https://cellcollective.org)."
   ]
  },
  {
   "cell_type": "code",
   "execution_count": null,
   "metadata": {},
   "outputs": [],
   "source": [
    "client = ccapi.Client()"
   ]
  },
  {
   "cell_type": "markdown",
   "metadata": {},
   "source": [
    "Authenticate your client using a ***password flow type authentication*** scheme.\n",
    "\n",
    "**NOTE**: *Before you can authenticate using ccapi, you must first register an application of the appropriate type on [Cell Collective](https://cellcollective.org). If you do not require a user context, it is read only.*"
   ]
  },
  {
   "cell_type": "code",
   "execution_count": null,
   "metadata": {},
   "outputs": [],
   "source": [
    "client.auth(email = \"test@cellcollective.org\", password = \"test@123\")"
   ]
  },
  {
   "cell_type": "markdown",
   "metadata": {},
   "source": [
    "Let's import the **[e_coli_core](http://bigg.ucsd.edu/models/e_coli_core)** from BiGGModels into Cell Collective.\n",
    "\n",
    "You can use the `read_id` routine from `ccapi.services.bigg` to import a model into [Cell Collective](https://cellcollective.org) using a [BiGGModels](http://bigg.ucsd.edu/) identifier."
   ]
  },
  {
   "cell_type": "code",
   "execution_count": null,
   "metadata": {},
   "outputs": [],
   "source": [
    "from ccapi.services.bigg import read_id"
   ]
  },
  {
   "cell_type": "markdown",
   "metadata": {},
   "source": [
    "Pass a valid `client` object and a valid BiGG Models ID."
   ]
  },
  {
   "cell_type": "code",
   "execution_count": null,
   "metadata": {},
   "outputs": [],
   "source": [
    "# model = read_id(client, \"e_coli_core\")\n",
    "# model"
   ]
  },
  {
   "cell_type": "code",
   "execution_count": null,
   "metadata": {},
   "outputs": [],
   "source": [
    "from tqdm import tqdm\n",
    "from ccapi.services.bigg import BiGGModels\n",
    "\n",
    "bigg   = BiGGModels()\n",
    "models = bigg.get(\"model\")\n",
    "models = [r[\"bigg_id\"] for r in models[\"results\"]]\n",
    "\n",
    "for model in tqdm(models):\n",
    "    try:\n",
    "        read_id(client, model)\n",
    "    except Exception:\n",
    "        print(\"Unable to import %s\" % model)"
   ]
  },
  {
   "cell_type": "code",
   "execution_count": null,
   "metadata": {},
   "outputs": [],
   "source": []
  }
 ],
 "metadata": {
  "kernelspec": {
   "display_name": "Python 3",
   "language": "python",
   "name": "python3"
  },
  "language_info": {
   "codemirror_mode": {
    "name": "ipython",
    "version": 3
   },
   "file_extension": ".py",
   "mimetype": "text/x-python",
   "name": "python",
   "nbconvert_exporter": "python",
   "pygments_lexer": "ipython3",
   "version": "3.7.6"
  }
 },
 "nbformat": 4,
 "nbformat_minor": 2
}
