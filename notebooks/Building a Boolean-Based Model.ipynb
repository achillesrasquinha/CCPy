{
 "cells": [
  {
   "cell_type": "markdown",
   "metadata": {},
   "source": [
    "### Building a Boolean-Based Model"
   ]
  },
  {
   "cell_type": "markdown",
   "metadata": {},
   "source": [
    "This simple example demonstrates how to create a boolean model, its components, regulators, conditions and sub-conditions."
   ]
  },
  {
   "cell_type": "code",
   "execution_count": 1,
   "metadata": {},
   "outputs": [],
   "source": [
    "import cc"
   ]
  },
  {
   "cell_type": "code",
   "execution_count": 3,
   "metadata": {},
   "outputs": [],
   "source": [
    "# create a boolean model\n",
    "boolean  = cc.BooleanModel()"
   ]
  },
  {
   "cell_type": "code",
   "execution_count": 4,
   "metadata": {},
   "outputs": [],
   "source": [
    "# create components\n",
    "COUP_TFI = cc.InternalComponent(\"COUP-TFI\")\n",
    "EMX2     = cc.InternalComponent(\"EMX2\")\n",
    "FGF8     = cc.InternalComponent(\"FGF8\")\n",
    "PAX6     = cc.InternalComponent(\"PAX6\")\n",
    "Sp8      = cc.InternalComponent(\"Sp8\")"
   ]
  },
  {
   "cell_type": "code",
   "execution_count": 5,
   "metadata": {},
   "outputs": [
    {
     "ename": "AttributeError",
     "evalue": "module 'cc' has no attribute 'IF_WHEN'",
     "output_type": "error",
     "traceback": [
      "\u001b[0;31m---------------------------------------------------------------------------\u001b[0m",
      "\u001b[0;31mAttributeError\u001b[0m                            Traceback (most recent call last)",
      "\u001b[0;32m<ipython-input-5-bacb8cd3ecd8>\u001b[0m in \u001b[0;36m<module>\u001b[0;34m()\u001b[0m\n\u001b[1;32m     13\u001b[0m     \u001b[0;31m# add conditions to regulators\u001b[0m\u001b[0;34m\u001b[0m\u001b[0;34m\u001b[0m\u001b[0;34m\u001b[0m\u001b[0m\n\u001b[1;32m     14\u001b[0m     cc.PositiveRegulator(FGF8, conditions = [\n\u001b[0;32m---> 15\u001b[0;31m         \u001b[0mcc\u001b[0m\u001b[0;34m.\u001b[0m\u001b[0mCondition\u001b[0m\u001b[0;34m(\u001b[0m\u001b[0mtype\u001b[0m \u001b[0;34m=\u001b[0m \u001b[0mcc\u001b[0m\u001b[0;34m.\u001b[0m\u001b[0mIF_WHEN\u001b[0m\u001b[0;34m,\u001b[0m \u001b[0mstate\u001b[0m \u001b[0;34m=\u001b[0m \u001b[0mcc\u001b[0m\u001b[0;34m.\u001b[0m\u001b[0mON\u001b[0m\u001b[0;34m,\u001b[0m \u001b[0mcomponents\u001b[0m \u001b[0;34m=\u001b[0m \u001b[0;34m[\u001b[0m\u001b[0mSp8\u001b[0m\u001b[0;34m]\u001b[0m\u001b[0;34m)\u001b[0m\u001b[0;34m\u001b[0m\u001b[0;34m\u001b[0m\u001b[0m\n\u001b[0m\u001b[1;32m     16\u001b[0m     ]),\n\u001b[1;32m     17\u001b[0m     \u001b[0mcc\u001b[0m\u001b[0;34m.\u001b[0m\u001b[0mNegativeRegulator\u001b[0m\u001b[0;34m(\u001b[0m\u001b[0mEMX2\u001b[0m\u001b[0;34m)\u001b[0m\u001b[0;34m\u001b[0m\u001b[0;34m\u001b[0m\u001b[0m\n",
      "\u001b[0;31mAttributeError\u001b[0m: module 'cc' has no attribute 'IF_WHEN'"
     ]
    }
   ],
   "source": [
    "# add regulators to components\n",
    "COUP_TFI.add_regulators(\n",
    "    cc.NegativeRegulator(Sp8),\n",
    "    cc.NegativeRegulator(FGF8)\n",
    ")\n",
    "EMX2.add_regulators(\n",
    "    cc.PositiveRegulator(COUP_TFI),\n",
    "    cc.NegativeRegulator(FGF8),\n",
    "    cc.NegativeRegulator(PAX6),\n",
    "    cc.NegativeRegulator(Sp8)\n",
    ")\n",
    "FGF8.add_regulators(\n",
    "    # add conditions to regulators\n",
    "    cc.PositiveRegulator(FGF8, conditions = [\n",
    "        cc.Condition(type = cc.IF_WHEN, state = cc.ON, components = [Sp8])\n",
    "    ]),\n",
    "    cc.NegativeRegulator(EMX2)\n",
    ")\n",
    "PAX6.add_regulators(\n",
    "    cc.PositiveRegulator(Sp8),\n",
    "    cc.NegativeRegulator(COUP_TFI)\n",
    ")"
   ]
  },
  {
   "cell_type": "code",
   "execution_count": 6,
   "metadata": {},
   "outputs": [],
   "source": [
    "# add components to model\n",
    "boolean.add_components(COUP_TFI, EMX2, FGF8, PAX6, Sp8)"
   ]
  },
  {
   "cell_type": "code",
   "execution_count": 6,
   "metadata": {},
   "outputs": [
    {
     "name": "stderr",
     "output_type": "stream",
     "text": [
      "2019-11-14 17:53:11,518 | INFO | Dispatching a GET request to URL: https://cellcollective.org/api/ping with Arguments - {}\n",
      "2019-11-14 17:53:11,765 | INFO | Dispatching a POST request to URL: https://cellcollective.org/_api/login with Arguments - {'data': {'username': 'test@cellcollective.org', 'password': 'test'}}\n",
      "2019-11-14 17:53:11,876 | INFO | Dispatching a GET request to URL: https://cellcollective.org/_api/user/getProfile with Arguments - {}\n",
      "2019-11-14 17:53:11,994 | INFO | Dispatching a POST request to URL: https://cellcollective.org/_api/model/save with Arguments - {'json': {'-6627702354333791407/-8369061912145858788': {'name': 'Cortical Area Development', 'type': 'research', 'userId': 10887, 'modelVersionMap': {-8369061912145858788: {'name': ''}}, 'speciesMap': {}, 'regulatorMap': {}}, '-6627702354333791407/-2530739748638909146': {'name': 'Cortical Area Development', 'type': 'research', 'userId': 10887, 'modelVersionMap': {-2530739748638909146: {'name': ''}}, 'speciesMap': {}, 'regulatorMap': {}}}}\n",
      "2019-11-14 17:53:12,074 | INFO | Searching for templates within directories: ['/Users/achilles/dev/hl/cc/cc/src/cc/data/templates']\n"
     ]
    },
    {
     "data": {
      "text/html": [],
      "text/plain": [
       "<Model -6627702354333791407 name='Cortical Area Development'>"
      ]
     },
     "execution_count": 6,
     "metadata": {},
     "output_type": "execute_result"
    }
   ],
   "source": [
    "client   = cc.Client()\n",
    "client.auth(email = \"test@cellcollective.org\", password = \"test\")\n",
    "\n",
    "model    = cc.Model(\"Cortical Area Development\", client = client)\n",
    "model.add_version(boolean)\n",
    "\n",
    "model.save()"
   ]
  },
  {
   "cell_type": "code",
   "execution_count": null,
   "metadata": {},
   "outputs": [],
   "source": []
  }
 ],
 "metadata": {
  "kernelspec": {
   "display_name": "Python 3",
   "language": "python",
   "name": "python3"
  },
  "language_info": {
   "codemirror_mode": {
    "name": "ipython",
    "version": 3
   },
   "file_extension": ".py",
   "mimetype": "text/x-python",
   "name": "python",
   "nbconvert_exporter": "python",
   "pygments_lexer": "ipython3",
   "version": "3.7.3"
  }
 },
 "nbformat": 4,
 "nbformat_minor": 2
}
