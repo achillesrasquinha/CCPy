{
 "cells": [
  {
   "cell_type": "markdown",
   "metadata": {},
   "source": [
    "### Building a Boolean-Based Model"
   ]
  },
  {
   "cell_type": "markdown",
   "metadata": {},
   "source": [
    "This simple example demonstrates how to create a boolean model, its components, regulators, conditions and sub-conditions."
   ]
  },
  {
   "cell_type": "code",
   "execution_count": 1,
   "metadata": {},
   "outputs": [],
   "source": [
    "import cc"
   ]
  },
  {
   "cell_type": "code",
   "execution_count": 2,
   "metadata": {},
   "outputs": [
    {
     "name": "stderr",
     "output_type": "stream",
     "text": "2019-11-20 18:29:12,877 | INFO | Dispatching a GET request to URL: https://cellcollective.org/api/ping with Arguments - {}\n2019-11-20 18:29:12,896 | INFO | Dispatching a POST request to URL: https://cellcollective.org/_api/login with Arguments - {'data': {'username': 'test@cellcollective.org', 'password': 'test'}}\n"
    }
   ],
   "source": [
    "client = cc.Client()\n",
    "client.auth(email = \"test@cellcollective.org\", password = \"test\")"
   ]
  },
  {
   "cell_type": "code",
   "execution_count": 8,
   "metadata": {},
   "outputs": [
    {
     "name": "stderr",
     "output_type": "stream",
     "text": "2019-11-20 18:46:10,388 | INFO | Searching for templates within directories: ['/home/achilles/dev/hl/CCPy/src/cc/data/templates']\n"
    },
    {
     "data": {
      "text/html": "<table>\n    <tr>\n        <td>\n            <strong>\n                ID\n            </strong>\n        </td>\n        <td>\n            -4164614299101517182\n        </td>\n    </tr>\n    <tr>\n        <td>\n            <strong>\n                Name\n            </strong>\n        </td>\n        <td>\n            Cortical Area Development\n        </td>\n    </tr>\n    <tr>\n        <td>\n            <strong>\n                Memory Address\n            </strong>\n        </td>\n        <td>\n            0x07f5e58a23080\n        </td>\n    </tr>\n    <tr>\n        <td>\n            <strong>\n                Number of Versions\n            </strong>\n        </td>\n        <td>\n            1\n        </td>\n    </tr>\n    <tr>\n        <td>\n            <strong>\n                Versions\n            </strong>\n        </td>\n        <td>\n            [<BooleanModel -889319847549849196>]\n        </td>\n    </tr>\n</table>",
      "text/plain": "<Model -4164614299101517182 name='Cortical Area Development'>"
     },
     "execution_count": 8,
     "metadata": {},
     "output_type": "execute_result"
    }
   ],
   "source": [
    "model = cc.Model(\"Cortical Area Development\", client = client)\n",
    "model"
   ]
  },
  {
   "cell_type": "code",
   "execution_count": 9,
   "metadata": {},
   "outputs": [
    {
     "name": "stderr",
     "output_type": "stream",
     "text": "2019-11-20 18:46:10,811 | INFO | Searching for templates within directories: ['/home/achilles/dev/hl/CCPy/src/cc/data/templates']\n"
    },
    {
     "data": {
      "text/html": "<table>\n    <tr>\n        <td>\n            <strong>\n                ID\n            </strong>\n        </td>\n        <td>\n            -889319847549849196\n        </td>\n    </tr>\n    <tr>\n        <td>\n            <strong>\n                Version\n            </strong>\n        </td>\n        <td>\n            -598638353361338235\n        </td>\n    </tr>\n    <tr>\n        <td>\n            <strong>\n                Name\n            </strong>\n        </td>\n        <td>\n            \n        </td>\n    </tr>\n    <tr>\n        <td>\n            <strong>\n                Memory Address\n            </strong>\n        </td>\n        <td>\n            0x07f5e58a23358\n        </td>\n    </tr>\n    <tr>\n        <td>\n            <strong>\n                Number of Components\n            </strong>\n        </td>\n        <td>\n            0\n        </td>\n    </tr>\n    <tr>\n        <td>\n            <strong>\n                Components\n            </strong>\n        </td>\n        <td>\n            \n        </td>\n    </tr>\n</table>",
      "text/plain": "<BooleanModel -889319847549849196>"
     },
     "execution_count": 9,
     "metadata": {},
     "output_type": "execute_result"
    }
   ],
   "source": [
    "# get the default model version\n",
    "boolean = model.versions[0]\n",
    "boolean"
   ]
  },
  {
   "cell_type": "code",
   "execution_count": 10,
   "metadata": {},
   "outputs": [
    {
     "name": "stderr",
     "output_type": "stream",
     "text": "2019-11-20 18:46:11,284 | INFO | Dispatching a GET request to URL: https://cellcollective.org/_api/user/getProfile with Arguments - {}\n2019-11-20 18:46:11,328 | INFO | Dispatching a POST request to URL: https://cellcollective.org/_api/model/save with Arguments - {'json': {'-4164614299101517182/-598638353361338235': {'name': 'Cortical Area Development', 'type': 'research', 'userId': 10887, 'modelVersionMap': {-598638353361338235: {'name': ''}}, 'speciesMap': {}, 'regulatorMap': {}}}}\n2019-11-20 18:46:11,349 | INFO | Searching for templates within directories: ['/home/achilles/dev/hl/CCPy/src/cc/data/templates']\n"
    },
    {
     "data": {
      "text/html": "<table>\n    <tr>\n        <td>\n            <strong>\n                ID\n            </strong>\n        </td>\n        <td>\n            80452\n        </td>\n    </tr>\n    <tr>\n        <td>\n            <strong>\n                Name\n            </strong>\n        </td>\n        <td>\n            Cortical Area Development\n        </td>\n    </tr>\n    <tr>\n        <td>\n            <strong>\n                Memory Address\n            </strong>\n        </td>\n        <td>\n            0x07f5e58a23080\n        </td>\n    </tr>\n    <tr>\n        <td>\n            <strong>\n                Number of Versions\n            </strong>\n        </td>\n        <td>\n            1\n        </td>\n    </tr>\n    <tr>\n        <td>\n            <strong>\n                Versions\n            </strong>\n        </td>\n        <td>\n            [<BooleanModel -889319847549849196>]\n        </td>\n    </tr>\n</table>",
      "text/plain": "<Model 80452 name='Cortical Area Development'>"
     },
     "execution_count": 10,
     "metadata": {},
     "output_type": "execute_result"
    }
   ],
   "source": [
    "model.save()"
   ]
  },
  {
   "cell_type": "code",
   "execution_count": 7,
   "metadata": {},
   "outputs": [],
   "source": [
    "# create components\n",
    "COUP_TFI = cc.InternalComponent(\"COUP-TFI\")\n",
    "EMX2     = cc.InternalComponent(\"EMX2\")\n",
    "FGF8     = cc.InternalComponent(\"FGF8\")\n",
    "PAX6     = cc.InternalComponent(\"PAX6\")\n",
    "Sp8      = cc.InternalComponent(\"Sp8\")"
   ]
  },
  {
   "cell_type": "code",
   "execution_count": 4,
   "metadata": {},
   "outputs": [
    {
     "ename": "TypeError",
     "evalue": "ID must be an integer.",
     "output_type": "error",
     "traceback": [
      "\u001b[0;31m---------------------------------------------------------------------------\u001b[0m",
      "\u001b[0;31mTypeError\u001b[0m                                 Traceback (most recent call last)",
      "\u001b[0;32m<ipython-input-4-a1037988428d>\u001b[0m in \u001b[0;36m<module>\u001b[0;34m()\u001b[0m\n\u001b[1;32m     14\u001b[0m     cc.PositiveRegulator(FGF8, conditions = [\n\u001b[1;32m     15\u001b[0m         cc.Condition(type = cc.ConditionType.IF_WHEN,\n\u001b[0;32m---> 16\u001b[0;31m             state = cc.ConditionState.ON, components = [Sp8])\n\u001b[0m\u001b[1;32m     17\u001b[0m     ]),\n\u001b[1;32m     18\u001b[0m     \u001b[0mcc\u001b[0m\u001b[0;34m.\u001b[0m\u001b[0mNegativeRegulator\u001b[0m\u001b[0;34m(\u001b[0m\u001b[0mEMX2\u001b[0m\u001b[0;34m)\u001b[0m\u001b[0;34m\u001b[0m\u001b[0;34m\u001b[0m\u001b[0m\n",
      "\u001b[0;32m/home/achilles/dev/hl/CCPy/src/cc/model/model/boolean/condition.py\u001b[0m in \u001b[0;36m__init__\u001b[0;34m(self, *args, **kwargs)\u001b[0m\n\u001b[1;32m      7\u001b[0m \u001b[0;32mclass\u001b[0m \u001b[0mCondition\u001b[0m\u001b[0;34m(\u001b[0m\u001b[0mResource\u001b[0m\u001b[0;34m,\u001b[0m \u001b[0mJupyterHTMLViewMixin\u001b[0m\u001b[0;34m)\u001b[0m\u001b[0;34m:\u001b[0m\u001b[0;34m\u001b[0m\u001b[0;34m\u001b[0m\u001b[0m\n\u001b[1;32m      8\u001b[0m     \u001b[0;32mdef\u001b[0m \u001b[0m__init__\u001b[0m\u001b[0;34m(\u001b[0m\u001b[0mself\u001b[0m\u001b[0;34m,\u001b[0m \u001b[0;34m*\u001b[0m\u001b[0margs\u001b[0m\u001b[0;34m,\u001b[0m \u001b[0;34m**\u001b[0m\u001b[0mkwargs\u001b[0m\u001b[0;34m)\u001b[0m\u001b[0;34m:\u001b[0m\u001b[0;34m\u001b[0m\u001b[0;34m\u001b[0m\u001b[0m\n\u001b[0;32m----> 9\u001b[0;31m         \u001b[0mself\u001b[0m\u001b[0;34m.\u001b[0m\u001b[0mid\u001b[0m                     \u001b[0;34m=\u001b[0m \u001b[0mkwargs\u001b[0m\u001b[0;34m.\u001b[0m\u001b[0mget\u001b[0m\u001b[0;34m(\u001b[0m\u001b[0;34m\"id\"\u001b[0m\u001b[0;34m)\u001b[0m\u001b[0;34m\u001b[0m\u001b[0;34m\u001b[0m\u001b[0m\n\u001b[0m\u001b[1;32m     10\u001b[0m         \u001b[0mself\u001b[0m\u001b[0;34m.\u001b[0m\u001b[0mstate\u001b[0m                  \u001b[0;34m=\u001b[0m \u001b[0mkwargs\u001b[0m\u001b[0;34m.\u001b[0m\u001b[0mget\u001b[0m\u001b[0;34m(\u001b[0m\u001b[0;34m\"state\"\u001b[0m\u001b[0;34m)\u001b[0m\u001b[0;34m\u001b[0m\u001b[0;34m\u001b[0m\u001b[0m\n\u001b[1;32m     11\u001b[0m         \u001b[0mself\u001b[0m\u001b[0;34m.\u001b[0m\u001b[0mtype\u001b[0m                   \u001b[0;34m=\u001b[0m \u001b[0mkwargs\u001b[0m\u001b[0;34m.\u001b[0m\u001b[0mget\u001b[0m\u001b[0;34m(\u001b[0m\u001b[0;34m\"type\"\u001b[0m\u001b[0;34m)\u001b[0m\u001b[0;34m\u001b[0m\u001b[0;34m\u001b[0m\u001b[0m\n",
      "\u001b[0;32m/home/achilles/dev/hl/CCPy/src/cc/model/resource.py\u001b[0m in \u001b[0;36mid\u001b[0;34m(self, value)\u001b[0m\n\u001b[1;32m     38\u001b[0m             \u001b[0;32mpass\u001b[0m\u001b[0;34m\u001b[0m\u001b[0;34m\u001b[0m\u001b[0m\n\u001b[1;32m     39\u001b[0m         \u001b[0;32melif\u001b[0m \u001b[0;32mnot\u001b[0m \u001b[0misinstance\u001b[0m\u001b[0;34m(\u001b[0m\u001b[0mvalue\u001b[0m\u001b[0;34m,\u001b[0m \u001b[0mint\u001b[0m\u001b[0;34m)\u001b[0m\u001b[0;34m:\u001b[0m\u001b[0;34m\u001b[0m\u001b[0;34m\u001b[0m\u001b[0m\n\u001b[0;32m---> 40\u001b[0;31m             \u001b[0;32mraise\u001b[0m \u001b[0mTypeError\u001b[0m\u001b[0;34m(\u001b[0m\u001b[0;34m\"ID must be an integer.\"\u001b[0m\u001b[0;34m)\u001b[0m\u001b[0;34m\u001b[0m\u001b[0;34m\u001b[0m\u001b[0m\n\u001b[0m\u001b[1;32m     41\u001b[0m         \u001b[0;32melse\u001b[0m\u001b[0;34m:\u001b[0m\u001b[0;34m\u001b[0m\u001b[0;34m\u001b[0m\u001b[0m\n\u001b[1;32m     42\u001b[0m             \u001b[0mself\u001b[0m\u001b[0;34m.\u001b[0m\u001b[0m_id\u001b[0m \u001b[0;34m=\u001b[0m \u001b[0mvalue\u001b[0m \u001b[0;32mor\u001b[0m \u001b[0mget_temporary_id\u001b[0m\u001b[0;34m(\u001b[0m\u001b[0;34m)\u001b[0m\u001b[0;34m\u001b[0m\u001b[0;34m\u001b[0m\u001b[0m\n",
      "\u001b[0;31mTypeError\u001b[0m: ID must be an integer."
     ]
    }
   ],
   "source": [
    "# add regulators to components\n",
    "COUP_TFI.add_regulators(\n",
    "    cc.NegativeRegulator(Sp8),\n",
    "    cc.NegativeRegulator(FGF8)\n",
    ")\n",
    "EMX2.add_regulators(\n",
    "    cc.PositiveRegulator(COUP_TFI),\n",
    "    cc.NegativeRegulator(FGF8),\n",
    "    cc.NegativeRegulator(PAX6),\n",
    "    cc.NegativeRegulator(Sp8)\n",
    ")\n",
    "FGF8.add_regulators(\n",
    "    # add conditions to regulators\n",
    "    cc.PositiveRegulator(FGF8, conditions = [\n",
    "        cc.Condition(type = cc.ConditionType.IF_WHEN,\n",
    "            state = cc.ConditionState.ON, components = [Sp8])\n",
    "    ]),\n",
    "    cc.NegativeRegulator(EMX2)\n",
    ")\n",
    "PAX6.add_regulators(\n",
    "    cc.PositiveRegulator(Sp8),\n",
    "    cc.NegativeRegulator(COUP_TFI)\n",
    ")"
   ]
  },
  {
   "cell_type": "code",
   "execution_count": 5,
   "metadata": {},
   "outputs": [],
   "source": [
    "# add components to model\n",
    "boolean.add_components(COUP_TFI, EMX2, FGF8, PAX6, Sp8)"
   ]
  },
  {
   "cell_type": "code",
   "execution_count": 7,
   "metadata": {},
   "outputs": [
    {
     "data": {
      "text/plain": "[<InternalComponent -7188645327514316425 name='COUP-TFI'>,\n <InternalComponent -8600088078894444110 name='EMX2'>,\n <InternalComponent -8448739916839505544 name='FGF8'>,\n <InternalComponent -8558945747022812656 name='PAX6'>,\n <InternalComponent -351545802213303062 name='Sp8'>]"
     },
     "execution_count": 7,
     "metadata": {},
     "output_type": "execute_result"
    }
   ],
   "source": [
    "boolean.components"
   ]
  },
  {
   "cell_type": "code",
   "execution_count": 3,
   "metadata": {},
   "outputs": [
    {
     "name": "stderr",
     "output_type": "stream",
     "text": "2019-11-20 17:18:50,531 | INFO | Dispatching a GET request to URL: https://cellcollective.org/api/ping with Arguments - {}\n2019-11-20 17:18:50,625 | INFO | Dispatching a POST request to URL: https://cellcollective.org/_api/login with Arguments - {'data': {'username': 'test@cellcollective.org', 'password': 'test'}}\n2019-11-20 17:18:50,665 | INFO | Dispatching a GET request to URL: https://cellcollective.org/_api/user/getProfile with Arguments - {}\n2019-11-20 17:18:50,696 | INFO | Dispatching a POST request to URL: https://cellcollective.org/_api/model/save with Arguments - {'json': {'-1771910547405153411/-5573542892102365422': {'name': 'Cortical Area Development', 'type': 'research', 'userId': 10887, 'modelVersionMap': {-5573542892102365422: {'name': ''}}, 'speciesMap': {}, 'regulatorMap': {}}, '-1771910547405153411/-2979962842821273790': {'name': 'Cortical Area Development', 'type': 'research', 'userId': 10887, 'modelVersionMap': {-2979962842821273790: {'name': ''}}, 'speciesMap': {}, 'regulatorMap': {}}}}\n2019-11-20 17:18:50,720 | INFO | Searching for templates within directories: ['/home/achilles/dev/hl/CCPy/src/cc/data/templates']\nb'{\"-1771910547405153411/-5573542892102365422\":{\"id\":80438,\"currentVersion\":1},\"-1771910547405153411/-2979962842821273790\":{\"id\":80439,\"currentVersion\":2}}'\n"
    },
    {
     "data": {
      "text/html": "",
      "text/plain": "<Model -1771910547405153411 name='Cortical Area Development'>"
     },
     "execution_count": 3,
     "metadata": {},
     "output_type": "execute_result"
    }
   ],
   "source": [
    "model.save()"
   ]
  },
  {
   "cell_type": "code",
   "execution_count": null,
   "metadata": {},
   "outputs": [],
   "source": []
  }
 ],
 "metadata": {
  "kernelspec": {
   "display_name": "Python 3",
   "language": "python",
   "name": "python3"
  },
  "language_info": {
   "codemirror_mode": {
    "name": "ipython",
    "version": 3
   },
   "file_extension": ".py",
   "mimetype": "text/x-python",
   "name": "python",
   "nbconvert_exporter": "python",
   "pygments_lexer": "ipython3",
   "version": "3.7.3"
  }
 },
 "nbformat": 4,
 "nbformat_minor": 2
}