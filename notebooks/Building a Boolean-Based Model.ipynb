{
 "cells": [
  {
   "cell_type": "markdown",
   "metadata": {},
   "source": [
    "### Building a Boolean-Based Model"
   ]
  },
  {
   "cell_type": "markdown",
   "metadata": {},
   "source": [
    "This simple example demonstrates how to create a boolean-based model, its components, regulators, conditions and sub-conditions."
   ]
  },
  {
   "cell_type": "markdown",
   "metadata": {},
   "source": [
    "We'll attempt to reconstruct the [Cortical Area Development](https://research.cellcollective.org/?dashboard=true#2035:1/cortical-area-development/1) authored by CE Giacomantonio."
   ]
  },
  {
   "cell_type": "markdown",
   "metadata": {},
   "source": [
    "![](data/images/cortical-area-development.png)"
   ]
  },
  {
   "cell_type": "markdown",
   "metadata": {},
   "source": [
    "Begin by importing the CCPy module into your workspace."
   ]
  },
  {
   "cell_type": "code",
   "execution_count": 16,
   "metadata": {},
   "outputs": [],
   "source": [
    "import cc"
   ]
  },
  {
   "cell_type": "markdown",
   "metadata": {},
   "source": [
    "Now, let’s try creating a client object in order to interact with services provided by [Cell Collective](https://cellcollective.org)."
   ]
  },
  {
   "cell_type": "code",
   "execution_count": 17,
   "metadata": {},
   "outputs": [],
   "source": [
    "client = cc.Client()"
   ]
  },
  {
   "cell_type": "markdown",
   "metadata": {},
   "source": [
    "Authenticate your client using a Password Flow type authentication scheme."
   ]
  },
  {
   "cell_type": "markdown",
   "metadata": {},
   "source": [
    "**NOTE**: *Before you can authenticate using CCPy, you must first register an application of the appropriate type on [Cell Collective](https://cellcollective.org). If you do not require a user context, it is read only.*"
   ]
  },
  {
   "cell_type": "code",
   "execution_count": 18,
   "metadata": {},
   "outputs": [],
   "source": [
    "client.auth(email = \"test@cellcollective.org\", password = \"test\")"
   ]
  },
  {
   "cell_type": "markdown",
   "metadata": {},
   "source": [
    "Create a Base Model using CCPy and instantize it with an authenticated client."
   ]
  },
  {
   "cell_type": "code",
   "execution_count": 19,
   "metadata": {},
   "outputs": [
    {
     "data": {
      "text/html": "<table>\n    <tr>\n        <td>\n            <strong>\n                ID\n            </strong>\n        </td>\n        <td>\n            80921\n        </td>\n    </tr>\n    <tr>\n        <td>\n            <strong>\n                Name\n            </strong>\n        </td>\n        <td>\n            Cortical Area Development\n        </td>\n    </tr>\n    <tr>\n        <td>\n            <strong>\n                Memory Address\n            </strong>\n        </td>\n        <td>\n            0x07efcc57ba860\n        </td>\n    </tr>\n    <tr>\n        <td>\n            <strong>\n                Number of Versions\n            </strong>\n        </td>\n        <td>\n            1\n        </td>\n    </tr>\n    <tr>\n        <td>\n            <strong>\n                Versions\n            </strong>\n        </td>\n        <td>\n            [&lt;BooleanModel 80921 at 0x07efcc57ba5f8&gt;]\n        </td>\n    </tr>\n</table>",
      "text/plain": "<Model 80921 at 0x07efcc57ba860 name='Cortical Area Development'>"
     },
     "execution_count": 19,
     "metadata": {},
     "output_type": "execute_result"
    }
   ],
   "source": [
    "model = cc.Model(\"Cortical Area Development\", client = client)\n",
    "model.save()"
   ]
  },
  {
   "cell_type": "markdown",
   "metadata": {},
   "source": [
    "A `cc.Model` consists of various `cc.ModelVersion` objects that help you build various versions to a model. By default, a `cc.Model` provides you a default model version of a boolean type. "
   ]
  },
  {
   "cell_type": "code",
   "execution_count": 20,
   "metadata": {},
   "outputs": [
    {
     "data": {
      "text/html": "<table>\n    <tr>\n        <td>\n            <strong>\n                ID\n            </strong>\n        </td>\n        <td>\n            80921\n        </td>\n    </tr>\n    <tr>\n        <td>\n            <strong>\n                Version\n            </strong>\n        </td>\n        <td>\n            1\n        </td>\n    </tr>\n    <tr>\n        <td>\n            <strong>\n                Name\n            </strong>\n        </td>\n        <td>\n            \n        </td>\n    </tr>\n    <tr>\n        <td>\n            <strong>\n                Memory Address\n            </strong>\n        </td>\n        <td>\n            0x07efcc57ba5f8\n        </td>\n    </tr>\n    <tr>\n        <td>\n            <strong>\n                Number of Components\n            </strong>\n        </td>\n        <td>\n            0\n        </td>\n    </tr>\n    <tr>\n        <td>\n            <strong>\n                Components\n            </strong>\n        </td>\n        <td>\n            \n        </td>\n    </tr>\n</table>",
      "text/plain": "<BooleanModel 80921 at 0x07efcc57ba5f8>"
     },
     "execution_count": 20,
     "metadata": {},
     "output_type": "execute_result"
    }
   ],
   "source": [
    "# get the default model version\n",
    "boolean = model.versions[0]\n",
    "boolean"
   ]
  },
  {
   "cell_type": "markdown",
   "metadata": {},
   "source": [
    "First, we need to create a list of component objects for this model."
   ]
  },
  {
   "cell_type": "code",
   "execution_count": 21,
   "metadata": {},
   "outputs": [],
   "source": [
    "# create components\n",
    "COUP_TFI = cc.InternalComponent(\"COUP-TFI\")\n",
    "EMX2     = cc.InternalComponent(\"EMX2\")\n",
    "FGF8     = cc.InternalComponent(\"FGF8\")\n",
    "PAX6     = cc.InternalComponent(\"PAX6\")\n",
    "Sp8      = cc.InternalComponent(\"Sp8\")"
   ]
  },
  {
   "cell_type": "markdown",
   "metadata": {},
   "source": [
    "Now let us add a list of components to our Boolean Model."
   ]
  },
  {
   "cell_type": "code",
   "execution_count": 22,
   "metadata": {},
   "outputs": [],
   "source": [
    "# add components to model\n",
    "boolean.add_components(COUP_TFI, EMX2, FGF8, PAX6, Sp8)"
   ]
  },
  {
   "cell_type": "markdown",
   "execution_count": null,
   "metadata": {},
   "outputs": [],
   "source": [
    "Ensure you save your model when you're done."
   ]
  },
  {
   "cell_type": "code",
   "execution_count": 23,
   "metadata": {},
   "outputs": [
    {
     "data": {
      "text/html": "<table>\n    <tr>\n        <td>\n            <strong>\n                ID\n            </strong>\n        </td>\n        <td>\n            80921\n        </td>\n    </tr>\n    <tr>\n        <td>\n            <strong>\n                Name\n            </strong>\n        </td>\n        <td>\n            Cortical Area Development\n        </td>\n    </tr>\n    <tr>\n        <td>\n            <strong>\n                Memory Address\n            </strong>\n        </td>\n        <td>\n            0x07efcc57ba860\n        </td>\n    </tr>\n    <tr>\n        <td>\n            <strong>\n                Number of Versions\n            </strong>\n        </td>\n        <td>\n            1\n        </td>\n    </tr>\n    <tr>\n        <td>\n            <strong>\n                Versions\n            </strong>\n        </td>\n        <td>\n            [&lt;BooleanModel 80921 at 0x07efcc57ba5f8&gt;]\n        </td>\n    </tr>\n</table>",
      "text/plain": "<Model 80921 at 0x07efcc57ba860 name='Cortical Area Development'>"
     },
     "execution_count": 23,
     "metadata": {},
     "output_type": "execute_result"
    }
   ],
   "source": [
    "model.save()"
   ]
  },
  {
   "cell_type": "code",
   "execution_count": 24,
   "metadata": {},
   "outputs": [
    {
     "data": {
      "text/plain": "[<InternalComponent 1736326 at 0x07efcc57c13c8 name='COUP-TFI'>,\n <InternalComponent 1736325 at 0x07efcc57c1390 name='EMX2'>,\n <InternalComponent 1736327 at 0x07efcc57c1400 name='FGF8'>,\n <InternalComponent 1736329 at 0x07efcc57c1438 name='PAX6'>,\n <InternalComponent 1736328 at 0x07efcc57c1470 name='Sp8'>]"
     },
     "execution_count": 24,
     "metadata": {},
     "output_type": "execute_result"
    }
   ],
   "source": [
    "boolean.components"
   ]
  },
  {
   "cell_type": "markdown",
   "execution_count": null,
   "metadata": {},
   "outputs": [],
   "source": [
    "Let's add a list of regulators to our components."
   ]
  },
  {
   "cell_type": "code",
   "execution_count": 10,
   "metadata": {},
   "outputs": [],
   "source": [
    "# add regulators to components\n",
    "COUP_TFI.add_regulators(\n",
    "    cc.NegativeRegulator(Sp8),\n",
    "    cc.NegativeRegulator(FGF8)\n",
    ")\n",
    "EMX2.add_regulators(\n",
    "    cc.PositiveRegulator(COUP_TFI),\n",
    "    cc.NegativeRegulator(FGF8),\n",
    "    cc.NegativeRegulator(PAX6),\n",
    "    cc.NegativeRegulator(Sp8)\n",
    ")\n",
    "FGF8.add_regulators(\n",
    "    # add conditions to regulators\n",
    "    cc.PositiveRegulator(FGF8, conditions = [\n",
    "        cc.Condition(components = Spa8)\n",
    "    ])\n",
    ")\n",
    "PAX6.add_regulators(\n",
    "    cc.PositiveRegulator(Sp8),\n",
    "    cc.NegativeRegulator(COUP_TFI)\n",
    ")"
   ]
  },
  {
   "cell_type": "code",
   "execution_count": 15,
   "metadata": {},
   "outputs": [
    {
     "data": {
      "text/html": "<table>\n    <tr>\n        <td>\n            <strong>\n                ID\n            </strong>\n        </td>\n        <td>\n            80914\n        </td>\n    </tr>\n    <tr>\n        <td>\n            <strong>\n                Name\n            </strong>\n        </td>\n        <td>\n            Cortical Area Development\n        </td>\n    </tr>\n    <tr>\n        <td>\n            <strong>\n                Memory Address\n            </strong>\n        </td>\n        <td>\n            0x07efcc6038390\n        </td>\n    </tr>\n    <tr>\n        <td>\n            <strong>\n                Number of Versions\n            </strong>\n        </td>\n        <td>\n            1\n        </td>\n    </tr>\n    <tr>\n        <td>\n            <strong>\n                Versions\n            </strong>\n        </td>\n        <td>\n            [&lt;BooleanModel 80914 at 0x07efcc6038160&gt;]\n        </td>\n    </tr>\n</table>",
      "text/plain": "<Model 80914 at 0x07efcc6038390 name='Cortical Area Development'>"
     },
     "execution_count": 15,
     "metadata": {},
     "output_type": "execute_result"
    }
   ],
   "source": [
    "model.save()"
   ]
  },
  {
   "cell_type": "code",
   "execution_count": null,
   "metadata": {},
   "outputs": [],
   "source": []
  }
 ],
 "metadata": {
  "kernelspec": {
   "display_name": "Python 3",
   "language": "python",
   "name": "python3"
  },
  "language_info": {
   "codemirror_mode": {
    "name": "ipython",
    "version": 3
   },
   "file_extension": ".py",
   "mimetype": "text/x-python",
   "name": "python",
   "nbconvert_exporter": "python",
   "pygments_lexer": "ipython3",
   "version": "3.7.3"
  }
 },
 "nbformat": 4,
 "nbformat_minor": 2
}