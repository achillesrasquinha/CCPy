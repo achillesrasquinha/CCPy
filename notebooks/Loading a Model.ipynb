{
 "cells": [
  {
   "cell_type": "code",
   "execution_count": 1,
   "metadata": {},
   "outputs": [],
   "source": [
    "import cc"
   ]
  },
  {
   "cell_type": "code",
   "execution_count": 2,
   "metadata": {},
   "outputs": [
    {
     "name": "stderr",
     "output_type": "stream",
     "text": [
      "2019-10-30 14:08:27,429 | INFO | Dispatching a GET Request to URL: https://cellcollective.org/api/ping with Arguments - {}\n"
     ]
    }
   ],
   "source": [
    "client = cc.Client()"
   ]
  },
  {
   "cell_type": "code",
   "execution_count": 3,
   "metadata": {},
   "outputs": [
    {
     "name": "stderr",
     "output_type": "stream",
     "text": [
      "2019-10-30 14:08:27,626 | INFO | Dispatching a POST Request to URL: https://cellcollective.org/_api/login with Arguments - {'data': {'username': 'test@cellcollective.org', 'password': 'test'}}\n"
     ]
    }
   ],
   "source": [
    "client.auth(email = \"test@cellcollective.org\", password = \"test\")"
   ]
  },
  {
   "cell_type": "code",
   "execution_count": 4,
   "metadata": {},
   "outputs": [
    {
     "name": "stderr",
     "output_type": "stream",
     "text": [
      "2019-10-30 14:08:27,707 | INFO | Dispatching a GET Request to URL: https://cellcollective.org/_api/model/get with Arguments - {'params': None}\n",
      "2019-10-30 14:08:29,943 | INFO | Dispatching a GET Request to URL: https://cellcollective.org/_api/user/lookupUsers with Arguments - {'params': [('id', 686)]}\n",
      "2019-10-30 14:08:30,018 | INFO | Dispatching a GET Request to URL: https://cellcollective.org/_api/model/get/2309 with Arguments - {'params': {'version': '1'}}\n",
      "2019-10-30 14:08:30,185 | INFO | Dispatching a GET Request to URL: https://cellcollective.org/_api/user/lookupUsers with Arguments - {'params': [('id', 70)]}\n",
      "2019-10-30 14:08:30,256 | INFO | Dispatching a GET Request to URL: https://cellcollective.org/_api/model/get/5128 with Arguments - {'params': {'version': '1'}}\n",
      "2019-10-30 14:08:30,321 | INFO | Dispatching a GET Request to URL: https://cellcollective.org/_api/user/lookupUsers with Arguments - {'params': [('id', 687)]}\n",
      "2019-10-30 14:08:30,397 | INFO | Dispatching a GET Request to URL: https://cellcollective.org/_api/model/get/10248 with Arguments - {'params': {'version': '1'}}\n",
      "2019-10-30 14:08:30,456 | INFO | Dispatching a GET Request to URL: https://cellcollective.org/_api/user/lookupUsers with Arguments - {'params': [('id', 686)]}\n",
      "2019-10-30 14:08:30,534 | INFO | Dispatching a GET Request to URL: https://cellcollective.org/_api/model/get/2314 with Arguments - {'params': {'version': '1'}}\n",
      "2019-10-30 14:08:30,680 | INFO | Dispatching a GET Request to URL: https://cellcollective.org/_api/user/lookupUsers with Arguments - {'params': [('id', 767)]}\n",
      "2019-10-30 14:08:30,754 | INFO | Dispatching a GET Request to URL: https://cellcollective.org/_api/model/get/16659 with Arguments - {'params': {'version': '1'}}\n",
      "2019-10-30 14:08:30,818 | INFO | Dispatching a GET Request to URL: https://cellcollective.org/_api/model/get/16659 with Arguments - {'params': {'version': '2'}}\n",
      "2019-10-30 14:08:30,881 | INFO | Dispatching a GET Request to URL: https://cellcollective.org/_api/model/get/16659 with Arguments - {'params': {'version': '3'}}\n",
      "2019-10-30 14:08:30,945 | INFO | Dispatching a GET Request to URL: https://cellcollective.org/_api/user/lookupUsers with Arguments - {'params': [('id', 767)]}\n"
     ]
    }
   ],
   "source": [
    "models = client.get(\"model\") "
   ]
  },
  {
   "cell_type": "code",
   "execution_count": 5,
   "metadata": {},
   "outputs": [
    {
     "data": {
      "text/plain": [
       "[<Model id=2309 name='EGFR & ErbB S...'>,\n",
       " <Model id=5128 name='Lac Operon'>,\n",
       " <Model id=10248 name='Bacteriophage...'>,\n",
       " <Model id=2314 name='IL-6 Signalli...'>,\n",
       " <Model id=16659 name='Modeling Ligh...'>]"
      ]
     },
     "execution_count": 5,
     "metadata": {},
     "output_type": "execute_result"
    }
   ],
   "source": [
    "models"
   ]
  }
 ],
 "metadata": {
  "file_extension": ".py",
  "kernelspec": {
   "display_name": "Python 3",
   "language": "python",
   "name": "python3"
  },
  "language_info": {
   "codemirror_mode": {
    "name": "ipython",
    "version": 3
   },
   "file_extension": ".py",
   "mimetype": "text/x-python",
   "name": "python",
   "nbconvert_exporter": "python",
   "pygments_lexer": "ipython3",
   "version": "3.7.4"
  },
  "mimetype": "text/x-python",
  "name": "python",
  "npconvert_exporter": "python",
  "pygments_lexer": "ipython3",
  "version": 3
 },
 "nbformat": 4,
 "nbformat_minor": 2
}
